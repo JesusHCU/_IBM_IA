{
 "cells": [
  {
   "cell_type": "markdown",
   "id": "2b25bc36-c476-45a0-99d5-32d4ea0cc374",
   "metadata": {},
   "source": [
    "#Python"
   ]
  },
  {
   "cell_type": "code",
   "execution_count": 4,
   "id": "d7b06aa5-e9e9-421d-b10e-70705728a303",
   "metadata": {},
   "outputs": [
    {
     "name": "stdout",
     "output_type": "stream",
     "text": [
      "Ejemplo de tipos de datos en Python:\n",
      "Número entero: 42\n",
      "Número flotante: 3.14\n",
      "Cadenas: Hola, mundo!\n",
      "Lista de números: [1, 2, 3, 4, 5]\n",
      "Lista de cadenas: ['manzana', 'banana', 'cereza']\n",
      "Diccionario: {'nombre': 'Juan', 'edad': 30, 'ciudad': 'Madrid'}\n",
      "¿Es mayor de edad? Sí\n",
      "Puntos en la tupla: (10, 20)\n",
      "Conjunto de frutas: {'banana', 'cereza', 'manzana'}\n",
      "Suma de la lista de números: 15\n"
     ]
    }
   ],
   "source": [
    "# Ejemplo del uso de diferentes tipos de datos en Python\n",
    "\n",
    "# 1. Números (enteros y flotantes)\n",
    "numero_entero = 42  # Un número entero\n",
    "numero_flotante = 3.14  # Un número flotante\n",
    "\n",
    "# 2. Cadenas de caracteres\n",
    "cadena = \"Hola, mundo!\"  # Una cadena de texto\n",
    "\n",
    "# 3. Listas\n",
    "lista_numeros = [1, 2, 3, 4, 5]  # Una lista de números\n",
    "lista_cadenas = [\"manzana\", \"banana\", \"cereza\"]  # Una lista de cadenas\n",
    "\n",
    "# 4. Diccionarios\n",
    "diccionario = {\n",
    "    \"nombre\": \"Juan\",\n",
    "    \"edad\": 30,\n",
    "    \"ciudad\": \"Madrid\"\n",
    "}  # Un diccionario que relaciona claves con valores\n",
    "\n",
    "# 5. Tipo booleano\n",
    "es_mayor_de_edad = True  # Un valor booleano que indica si alguien es mayor de edad\n",
    "\n",
    "# 6. Tuplas\n",
    "tupla_puntos = (10, 20)  # Una tupla que contiene coordenadas (x, y)\n",
    "\n",
    "# 7. Conjuntos\n",
    "conjunto_frutas = {\"manzana\", \"banana\", \"cereza\"}  # Un conjunto de frutas (sin duplicados)\n",
    "\n",
    "# Ejemplo de impresión formateada usando todos los tipos de datos\n",
    "print(f\"Ejemplo de tipos de datos en Python:\")\n",
    "print(f\"Número entero: {numero_entero}\")\n",
    "print(f\"Número flotante: {numero_flotante:.2f}\")  # Formato con 2 decimales\n",
    "print(f\"Cadenas: {cadena}\")\n",
    "print(f\"Lista de números: {lista_numeros}\")\n",
    "print(f\"Lista de cadenas: {lista_cadenas}\")\n",
    "print(f\"Diccionario: {diccionario}\")\n",
    "print(f\"¿Es mayor de edad? {'Sí' if es_mayor_de_edad else 'No'}\")\n",
    "print(f\"Puntos en la tupla: {tupla_puntos}\")\n",
    "print(f\"Conjunto de frutas: {conjunto_frutas}\")\n",
    "\n",
    "# Usando los datos en una operación\n",
    "suma_lista = sum(lista_numeros)  # Sumar todos los elementos de la lista\n",
    "print(f\"Suma de la lista de números: {suma_lista}\")"
   ]
  },
  {
   "cell_type": "code",
   "execution_count": null,
   "id": "55f77074-f45f-43e8-b576-78b72dc0ee73",
   "metadata": {},
   "outputs": [],
   "source": []
  },
  {
   "cell_type": "markdown",
   "id": "2f7777ef-5f90-4d15-978a-759d4571d26a",
   "metadata": {},
   "source": [
    "Comentarios sobre el código:\n",
    "\n",
    "Números: Se declaran dos variables, numero_entero (un entero) y numero_flotante (un flotante). Estos tipos son fundamentales en matemáticas y cálculos.\n",
    "Cadenas de caracteres: La variable cadena almacena un texto que puede ser utilizado para mostrar mensajes o realizar operaciones de texto.\n",
    "Listas: Se crean lista_numeros y lista_cadenas. Las listas son colecciones ordenadas y modificables que pueden contener elementos de diferentes tipos.\n",
    "Diccionarios: La variable diccionario asocia nombres a valores (por ejemplo, nombre, edad y ciudad). Los diccionarios son útiles para almacenar datos relacionados y acceder a ellos de manera eficiente a través de sus claves.\n",
    "Tipo booleano: es_mayor_de_edad almacena un valor booleano (True o False), que es útil para hacer decisiones en el código (por ejemplo, verificaciones de condición).\n",
    "Tuplas: tupla_puntos es una colección ordenada e inmutable (no se puede modificar) que puede almacenar coordenadas u otros valores relacionados.\n",
    "Conjuntos: conjunto_frutas almacena un grupo de elementos únicos (sin duplicados). Los conjuntos son útiles para operaciones de unión e intersección.\n",
    "Formato de impresión: La impresión formateada (f\"...\") permite una forma fácil de incluir variables en cadenas. En el caso del número flotante, se usa :.2f para mostrarlo con dos decimales.\n",
    "Operaciones sobre datos: Se muestra cómo usar la función sum() para calcular la suma de todos los elementos de la lista de números."
   ]
  },
  {
   "cell_type": "code",
   "execution_count": null,
   "id": "68a51762-9c1e-4e0d-87d7-5b1ea526890c",
   "metadata": {},
   "outputs": [],
   "source": []
  },
  {
   "cell_type": "markdown",
   "id": "4d8fadc0-94f4-41ac-99a8-cb4f80a6cbdb",
   "metadata": {},
   "source": [
    "#Conjuntos"
   ]
  },
  {
   "cell_type": "code",
   "execution_count": 11,
   "id": "aa177871-b7d8-44b5-9319-d0396af1b975",
   "metadata": {},
   "outputs": [],
   "source": [
    "conjunto = {1,2,3,3,4,7,5,7,5}"
   ]
  },
  {
   "cell_type": "code",
   "execution_count": 18,
   "id": "b7f3e738-a427-42d0-85cc-d095cbb3f2c5",
   "metadata": {},
   "outputs": [
    {
     "data": {
      "text/plain": [
       "{1, 2, 3, 4, 5}"
      ]
     },
     "execution_count": 18,
     "metadata": {},
     "output_type": "execute_result"
    }
   ],
   "source": [
    "conjunto #solo monstrara los elemetos eliminando los valores repetidos"
   ]
  },
  {
   "cell_type": "code",
   "execution_count": 10,
   "id": "eb36537e-1650-493e-aee9-f211bf9c94e8",
   "metadata": {},
   "outputs": [
    {
     "name": "stdout",
     "output_type": "stream",
     "text": [
      "Conjunto formado a partir de la lista: {1, 2, 3, 4, 5}\n",
      "Lista sin duplicados: [1, 2, 3, 4, 5]\n"
     ]
    }
   ],
   "source": [
    "# Formar conjuntos a partir de listas\n",
    "lista = [1, 1, 2, 2, 3, 4, 5, 5]  # Lista con elementos duplicados\n",
    "\n",
    "# Crear un conjunto a partir de la lista\n",
    "conjunto = set(lista)  # Eliminará los elementos duplicados\n",
    "# Un conjunto es una colección desordenada de elementos únicos.\n",
    "\n",
    "# Imprimir el conjunto resultante\n",
    "print(\"Conjunto formado a partir de la lista:\", conjunto)\n",
    "\n",
    "# Si necesitas convertir el conjunto de nuevo a una lista (opcional)\n",
    "lista_sin_duplicados = list(conjunto)  # Convertir el conjunto a lista\n",
    "print(\"Lista sin duplicados:\", lista_sin_duplicados)"
   ]
  },
  {
   "cell_type": "markdown",
   "id": "68369c95-a80e-4212-ab38-99d38524aff0",
   "metadata": {},
   "source": [
    "#Comentarios"
   ]
  },
  {
   "cell_type": "code",
   "execution_count": 48,
   "id": "0138117b-4d69-456e-83f2-37a3f6c5cdfd",
   "metadata": {},
   "outputs": [],
   "source": [
    "#Comentario Usos\n",
    "def sumar(numero1, numero2):\n",
    "    \"\"\"\n",
    "    Ejemplo de Comentario de la funcion Sumar\n",
    "    Esta funcion suma dos numeros\n",
    "    Ejemplo: sumar(2,3)\n",
    "    \"\"\"    \n",
    "    resultado = numero1 + numero2\n",
    "    return resultado"
   ]
  },
  {
   "cell_type": "code",
   "execution_count": 50,
   "id": "9c986bc5-7a56-469e-8dbd-8dd1709a705d",
   "metadata": {},
   "outputs": [
    {
     "data": {
      "text/plain": [
       "5"
      ]
     },
     "execution_count": 50,
     "metadata": {},
     "output_type": "execute_result"
    }
   ],
   "source": [
    "sumar(2,3)"
   ]
  },
  {
   "cell_type": "markdown",
   "id": "b94be846-d94a-45d3-aa8b-97dfb09a464e",
   "metadata": {},
   "source": [
    "#Funciones map()\n"
   ]
  },
  {
   "cell_type": "code",
   "execution_count": 54,
   "id": "5c9a94eb-a530-497e-8b0a-1c82cc5fba48",
   "metadata": {},
   "outputs": [],
   "source": [
    "def doble(numero1):\n",
    "    \"\"\"\n",
    "    Ejemplo de Comentario de la funcion Sumar\n",
    "    Esta funcion suma dos numeros\n",
    "    Ejemplo: sumar(2,3)\n",
    "    \"\"\"    \n",
    "    resultado = numero1 * 2\n",
    "    return resultado"
   ]
  },
  {
   "cell_type": "code",
   "execution_count": 93,
   "id": "cbffcc03-f0d4-4224-968d-956310e16203",
   "metadata": {},
   "outputs": [
    {
     "name": "stdout",
     "output_type": "stream",
     "text": [
      "[1, 1, 2, 2, 3, 4, 5, 5]\n",
      "[2, 2, 4, 4, 6, 8, 10, 10]\n"
     ]
    }
   ],
   "source": [
    "print(lista)\n",
    "print(list(map(doble, lista)))"
   ]
  },
  {
   "cell_type": "code",
   "execution_count": 95,
   "id": "e3bd8362-d067-4cf1-a8d1-5d67ae21c84f",
   "metadata": {},
   "outputs": [
    {
     "name": "stdout",
     "output_type": "stream",
     "text": [
      "[2, 2, 4, 4, 6, 8, 10, 10]\n"
     ]
    }
   ],
   "source": [
    "lista2 =list(map(doble, lista))\n",
    "print(lista2)"
   ]
  },
  {
   "cell_type": "markdown",
   "id": "761f41ff-0273-4e5d-8800-bd0762858336",
   "metadata": {},
   "source": [
    "Funciones Lambda"
   ]
  },
  {
   "cell_type": "code",
   "execution_count": 12,
   "id": "bc062257-d049-453a-8842-645cc7f840d0",
   "metadata": {},
   "outputs": [
    {
     "name": "stdout",
     "output_type": "stream",
     "text": [
      "Lista original: [1, 2, 3, 4, 5]\n",
      "Lista con dobles: [2, 4, 6, 8, 10]\n"
     ]
    }
   ],
   "source": [
    "# Definir una función que calcula el doble de un número\n",
    "def doble(numero1):\n",
    "    \"\"\"\n",
    "    Esta función toma un número como argumento y retorna el doble de ese número.\n",
    "    \n",
    "    :param numero1: Un número entero o flotante\n",
    "    :return: Doble del número proporcionado\n",
    "    \"\"\"\n",
    "    resultado = numero1 * 2  # Multiplica el número por 2\n",
    "    return resultado  # Retorna el resultado\n",
    "\n",
    "# Lista de números para los cuales se calculará el doble\n",
    "lista = [1, 2, 3, 4, 5]  # Lista original\n",
    "\n",
    "# Usar map para aplicar la función 'doble' a cada elemento de 'lista'\n",
    "lista2 = list(map(doble, lista))  # Convertir el resultado a una lista\n",
    "\n",
    "# Imprimir la nueva lista con los dobles\n",
    "print(\"Lista original:\", lista)\n",
    "print(\"Lista con dobles:\", lista2)"
   ]
  },
  {
   "cell_type": "code",
   "execution_count": 16,
   "id": "953e96c7-888d-4d9d-afad-40b1005c97d0",
   "metadata": {},
   "outputs": [
    {
     "name": "stdout",
     "output_type": "stream",
     "text": [
      "Lista original: [1, 2, 3, 4, 5]\n",
      "Lista con dobles: [2, 4, 6, 8, 10]\n"
     ]
    }
   ],
   "source": [
    "# Lista de números para los cuales se calculará el doble\n",
    "lista = [1, 2, 3, 4, 5]  # Lista original\n",
    "\n",
    "# Usar map con una función lambda para aplicar la operación de doblar a cada elemento de 'lista'\n",
    "lista2 = list(map(lambda numero: numero * 2, lista))  # Convertir el resultado a una lista\n",
    "\n",
    "# Imprimir la nueva lista con los dobles\n",
    "print(\"Lista original:\", lista)\n",
    "print(\"Lista con dobles:\", lista2)"
   ]
  },
  {
   "cell_type": "code",
   "execution_count": 105,
   "id": "6303de90-aca8-4fbc-b9ce-5063051ff0e2",
   "metadata": {},
   "outputs": [],
   "source": [
    "#Filtro"
   ]
  },
  {
   "cell_type": "code",
   "execution_count": 189,
   "id": "68459a20-2a9a-408f-9855-b5784eca3b58",
   "metadata": {},
   "outputs": [],
   "source": [
    "def pares(numero):\n",
    "    if(numero % 2 == 0):\n",
    "        print(\"Es Par\")\n",
    "        return numero\n",
    "    else:\n",
    "        print(\"No es Par\")"
   ]
  },
  {
   "cell_type": "code",
   "execution_count": 195,
   "id": "dbd68627-d038-4966-8660-84c22ad5f44e",
   "metadata": {},
   "outputs": [],
   "source": [
    "lista=[1,2,3,4,5]"
   ]
  },
  {
   "cell_type": "code",
   "execution_count": 197,
   "id": "21dd898c-d875-498a-8a57-4b3db0cd2314",
   "metadata": {},
   "outputs": [
    {
     "name": "stdout",
     "output_type": "stream",
     "text": [
      "No es Par\n",
      "Es Par\n",
      "No es Par\n",
      "Es Par\n",
      "No es Par\n"
     ]
    },
    {
     "data": {
      "text/plain": [
       "[2, 4]"
      ]
     },
     "execution_count": 197,
     "metadata": {},
     "output_type": "execute_result"
    }
   ],
   "source": [
    "lista_pares = list(filter(pares, lista))\n",
    "lista_pares"
   ]
  },
  {
   "cell_type": "code",
   "execution_count": 199,
   "id": "3fab1148-1622-48da-b5ca-8c11893b88cf",
   "metadata": {},
   "outputs": [],
   "source": [
    "#Filtro Con Lamdba"
   ]
  },
  {
   "cell_type": "code",
   "execution_count": 20,
   "id": "00536e0b-beed-4140-be02-207d7f1be7c3",
   "metadata": {},
   "outputs": [
    {
     "name": "stdout",
     "output_type": "stream",
     "text": [
      "Lista original: [1, 2, 3, 4, 5]\n",
      "Lista con dobles: [2, 4, 6, 8, 10]\n"
     ]
    }
   ],
   "source": [
    "# Lista de números para los cuales se calculará el doble\n",
    "lista = [1, 2, 3, 4, 5]  # Lista original\n",
    "\n",
    "# Usar map con una función lambda para aplicar la operación de doblar a cada elemento de 'lista'\n",
    "lista2 = list(map(lambda numero: numero * 2, lista))  # Convertir el resultado a una lista\n",
    "\n",
    "# Imprimir la nueva lista con los dobles\n",
    "print(\"Lista original:\", lista)\n",
    "print(\"Lista con dobles:\", lista2)"
   ]
  },
  {
   "cell_type": "code",
   "execution_count": 263,
   "id": "2e93dc36-b9b3-411f-93a0-52659880f39c",
   "metadata": {},
   "outputs": [],
   "source": [
    "#Ejercicio\n",
    "#dada una lista cuenta el numero de palabras que contiene\n",
    "frase = 'Hola, este es un curso basico de Python'"
   ]
  },
  {
   "cell_type": "code",
   "execution_count": 265,
   "id": "2e97c491-9d83-468d-b32f-1cce3fafea4d",
   "metadata": {},
   "outputs": [
    {
     "name": "stdout",
     "output_type": "stream",
     "text": [
      "El numero de caracteres es 8\n"
     ]
    }
   ],
   "source": [
    "#Solucion 1\n",
    "vacio = \" \"\n",
    "contador = 1\n",
    "for caracter in frase:\n",
    "        if(caracter == \" \"):\n",
    "            contador +=1\n",
    "print(\"El numero de caracteres es {}\".format(contador))"
   ]
  },
  {
   "cell_type": "code",
   "execution_count": 267,
   "id": "caeeb054-e37d-4a86-a1f3-ae2ba0979c31",
   "metadata": {},
   "outputs": [
    {
     "name": "stdout",
     "output_type": "stream",
     "text": [
      "El numero de palabras es 8\n"
     ]
    }
   ],
   "source": [
    "#Solucion 2\n",
    "palabras = frase.split()\n",
    "num_pal=len(palabras)\n",
    "print(\"El numero de palabras es {}\".format(num_pal))"
   ]
  },
  {
   "cell_type": "code",
   "execution_count": 269,
   "id": "0897fd7c-13e7-4929-97c4-d74a048bbbb3",
   "metadata": {},
   "outputs": [
    {
     "name": "stdout",
     "output_type": "stream",
     "text": [
      "El numero de caracteres es 8\n"
     ]
    }
   ],
   "source": [
    "#Solucion 3\n",
    "vacio = \" \"\n",
    "contador = 0\n",
    "palabras = frase.split()\n",
    "for caracter in palabras:\n",
    "        contador += 1\n",
    "print(\"El numero de caracteres es {}\".format(contador))"
   ]
  },
  {
   "cell_type": "code",
   "execution_count": 271,
   "id": "32c7fc29-2515-4956-8f11-7eb528e946cf",
   "metadata": {},
   "outputs": [
    {
     "name": "stdout",
     "output_type": "stream",
     "text": [
      "El numero de caracteres es 39\n"
     ]
    }
   ],
   "source": [
    "#Solucion 4\n",
    "vacio = \" \"\n",
    "contador = 0\n",
    "for caracter in frase:\n",
    "        contador += 1\n",
    "print(\"El numero de caracteres es {}\".format(contador))"
   ]
  },
  {
   "cell_type": "code",
   "execution_count": 303,
   "id": "0667312f-c373-47b0-b798-1a7c4f9f06e7",
   "metadata": {},
   "outputs": [],
   "source": [
    "#Ejercicio dada una lista de elementos queremos que elimines los repetidos Tips Conjuntos\n",
    "lista_fruta=[\"Manzana\", \"Pera\", \"Platano\",\"Pera\", \"Platano\", \"Melocoton\", \"uva\", \"Melocoton\"]"
   ]
  },
  {
   "cell_type": "code",
   "execution_count": 305,
   "id": "cb458f03-4c4a-4af3-9558-67558097627c",
   "metadata": {},
   "outputs": [],
   "source": [
    "conjunto_fruta = set(lista_fruta)"
   ]
  },
  {
   "cell_type": "code",
   "execution_count": 307,
   "id": "d54ebcbe-5eeb-4e7a-ad1f-deab57982a3e",
   "metadata": {},
   "outputs": [],
   "source": [
    "lista_fruta2 = []\n",
    "for fruta in conjunto_fruta:\n",
    "    lista_fruta2.append(fruta)"
   ]
  },
  {
   "cell_type": "code",
   "execution_count": 323,
   "id": "0e599cdf-ba1d-499f-a571-cf9c741667c9",
   "metadata": {},
   "outputs": [
    {
     "name": "stdout",
     "output_type": "stream",
     "text": [
      "Lista inicial ['Manzana', 'Pera', 'Platano', 'Pera', 'Platano', 'Melocoton', 'uva', 'Melocoton']\n",
      "Conjunto creado {'uva', 'Manzana', 'Pera', 'Platano', 'Melocoton'}\n",
      "Lista creada desde el conjunto ['uva', 'Manzana', 'Pera', 'Platano', 'Melocoton']\n"
     ]
    }
   ],
   "source": [
    "print(\"Lista inicial {}\".format(lista_fruta))\n",
    "print(\"Conjunto creado {}\".format(conjunto_fruta))\n",
    "print(\"Lista creada desde el conjunto {}\".format(lista_fruta2))"
   ]
  },
  {
   "cell_type": "code",
   "execution_count": null,
   "id": "96eb2684-349d-4ed9-8eb8-862fcf426871",
   "metadata": {},
   "outputs": [],
   "source": [
    "#Ejercicio crea una funcion para obtener el modulo (n%2), crea una lista con map aplicando la funcion a una lista dada"
   ]
  },
  {
   "cell_type": "code",
   "execution_count": 341,
   "id": "ee068b0a-ff34-4333-8afb-371094464641",
   "metadata": {},
   "outputs": [],
   "source": [
    "lista=[12,15,43,52,78,90]\n",
    "def dividir_dos(numero):\n",
    "    resultado=numero/2\n",
    "    return (resultado)    "
   ]
  },
  {
   "cell_type": "code",
   "execution_count": 343,
   "id": "1d7cdbf3-ba72-4f8f-95ba-1e46ef2e4ff9",
   "metadata": {},
   "outputs": [
    {
     "data": {
      "text/plain": [
       "4.0"
      ]
     },
     "execution_count": 343,
     "metadata": {},
     "output_type": "execute_result"
    }
   ],
   "source": [
    "dividir_dos(8)"
   ]
  },
  {
   "cell_type": "code",
   "execution_count": 345,
   "id": "f75f1efe-86ee-4aff-b9d4-4574d1855657",
   "metadata": {},
   "outputs": [
    {
     "data": {
      "text/plain": [
       "6.5"
      ]
     },
     "execution_count": 345,
     "metadata": {},
     "output_type": "execute_result"
    }
   ],
   "source": [
    "dividir_dos(13)"
   ]
  },
  {
   "cell_type": "code",
   "execution_count": 347,
   "id": "4ca630bf-0a50-4cdf-b035-321e6a208678",
   "metadata": {},
   "outputs": [],
   "source": [
    "lista2=list(map(dividir_dos, lista))"
   ]
  },
  {
   "cell_type": "code",
   "execution_count": 349,
   "id": "05afccab-3a1e-4b75-863f-e72d0232da21",
   "metadata": {},
   "outputs": [
    {
     "data": {
      "text/plain": [
       "[6.0, 7.5, 21.5, 26.0, 39.0, 45.0]"
      ]
     },
     "execution_count": 349,
     "metadata": {},
     "output_type": "execute_result"
    }
   ],
   "source": [
    "lista2"
   ]
  },
  {
   "cell_type": "code",
   "execution_count": 351,
   "id": "a89c05c7-01a6-4a0a-997e-884da0e07a51",
   "metadata": {},
   "outputs": [],
   "source": [
    "lista3=list(map(lambda numero:numero/2, lista))"
   ]
  },
  {
   "cell_type": "code",
   "execution_count": 447,
   "id": "0499d22c-340f-42c4-bdab-dc18bdabb529",
   "metadata": {},
   "outputs": [
    {
     "data": {
      "text/plain": [
       "[6.0, 7.5, 21.5, 26.0, 39.0, 45.0]"
      ]
     },
     "execution_count": 447,
     "metadata": {},
     "output_type": "execute_result"
    }
   ],
   "source": [
    "lista3"
   ]
  },
  {
   "cell_type": "markdown",
   "id": "8bd5d096-1fed-4538-89e2-655c95cdbf17",
   "metadata": {},
   "source": [
    "#Ejecicios de Codificacion Seccion 3"
   ]
  },
  {
   "cell_type": "code",
   "execution_count": 477,
   "id": "0e5f8b04-39b9-4f43-b0eb-b686b1d2c4ee",
   "metadata": {},
   "outputs": [],
   "source": [
    "resultado = []\n",
    "def operaciones_matematicas(a, b):\n",
    "    resultado.append(a + b)\n",
    "    resultado.append(a - b)\n",
    "    resultado.append(a * b)\n",
    "    resultado.append(a / b)\n",
    "    resultado.append(a % b)\n",
    "    return (resultado)"
   ]
  },
  {
   "cell_type": "code",
   "execution_count": 481,
   "id": "489ee44c-fe01-48ef-be24-cea585f32e3c",
   "metadata": {},
   "outputs": [
    {
     "name": "stdout",
     "output_type": "stream",
     "text": [
      "Suma: 13\n",
      "Resta: 7\n",
      "Multiplicación: 30\n",
      "División: 3.3333333333333335\n",
      "Residuo: 1\n"
     ]
    }
   ],
   "source": [
    "resultado = operaciones_matematicas(10, 3)\n",
    "print(\"Suma:\", resultado[0])\n",
    "print(\"Resta:\", resultado[1])\n",
    "print(\"Multiplicación:\", resultado[2])\n",
    "print(\"División:\", resultado[3])\n",
    "print(\"Residuo:\", resultado[4])"
   ]
  },
  {
   "cell_type": "code",
   "execution_count": 24,
   "id": "a5d1a2c4-b161-4653-83f7-0b22451c3087",
   "metadata": {},
   "outputs": [],
   "source": [
    "def calcular_suma_y_promedio(lista_numeros):\n",
    "    suma = 0\n",
    "    if(len(lista_numeros)==0):\n",
    "        resultado={\"suma\":suma, \"promedio\":suma/1}\n",
    "    else:\n",
    "        for numero in lista_numeros:\n",
    "            suma = suma + numero\n",
    "        resultado={\"suma\":suma, \"promedio\":suma/len(lista_numeros)}\n",
    "    return (resultado)"
   ]
  },
  {
   "cell_type": "code",
   "execution_count": 42,
   "id": "645ad7f9-af19-4fbb-84d8-14e67b530655",
   "metadata": {},
   "outputs": [],
   "source": [
    "def calcular_suma_y_promedio(lista_numeros):\n",
    "    suma = 0\n",
    "    numero_ele = len(lista_numeros)\n",
    "    if(numero_ele==0):\n",
    "        resultado={\"suma\":suma, \"promedio\":suma/1}\n",
    "    else:\n",
    "        for numero in lista_numeros:\n",
    "            suma = suma + numero\n",
    "        resultado={\"suma\":suma, \"promedio\":suma/numero}\n",
    "    return (resultado)"
   ]
  },
  {
   "cell_type": "code",
   "execution_count": 44,
   "id": "5ad272be-20f5-4dba-9a0a-2c04f5b7927d",
   "metadata": {},
   "outputs": [
    {
     "name": "stdout",
     "output_type": "stream",
     "text": [
      "Suma: 0\n",
      "Promedio: 0.0\n"
     ]
    }
   ],
   "source": [
    "numeros = []\n",
    "resultado = calcular_suma_y_promedio(numeros)\n",
    "print(\"Suma:\", resultado[\"suma\"])\n",
    "print(\"Promedio:\", resultado[\"promedio\"])"
   ]
  },
  {
   "cell_type": "code",
   "execution_count": 46,
   "id": "ec526125-36ff-4602-bb4a-6d73143dabc5",
   "metadata": {},
   "outputs": [
    {
     "name": "stdout",
     "output_type": "stream",
     "text": [
      "Suma: 15\n",
      "Promedio: 3.0\n"
     ]
    }
   ],
   "source": [
    "numeros = [1, 2, 3, 4, 5]\n",
    "resultado = calcular_suma_y_promedio(numeros)\n",
    "print(\"Suma:\", resultado[\"suma\"])\n",
    "print(\"Promedio:\", resultado[\"promedio\"])"
   ]
  },
  {
   "cell_type": "code",
   "execution_count": 461,
   "id": "3489cc8c-45d8-4526-aaf5-df09f26afa52",
   "metadata": {},
   "outputs": [
    {
     "name": "stdout",
     "output_type": "stream",
     "text": [
      "{1: 2, 2: 3, 3: 1, 4: 2, 5: 1}\n"
     ]
    }
   ],
   "source": [
    "#Crear una función denominada 'contar_frecuencia' que tome una lista de números y calcule las veces \n",
    "#(frecuencia) que aparece cada número en la lista y devuelva los resultados en forma de diccionario, \n",
    "#donde cada clave será cada número distinto de la lista y cada valor será el número de veces que \n",
    "#aparece ese número en la lista.\n",
    "\n",
    "def contar_frecuencia(lista):\n",
    "    frecuencia = {}\n",
    "    i=0\n",
    "    while i < len(lista):\n",
    "        if lista[i] in frecuencia:\n",
    "            frecuencia[lista[i]] += 1\n",
    "        else:\n",
    "            frecuencia[lista[i]] = 1\n",
    "        i += 1\n",
    "    return frecuencia\n",
    "    \n",
    "elementos = [1, 2, 2, 3, 1, 2, 4, 5, 4]\n",
    "resultado = contar_frecuencia(elementos)\n",
    "print(resultado)"
   ]
  },
  {
   "cell_type": "code",
   "execution_count": 465,
   "id": "39ce4be8-7a24-43fd-b659-ff4cba5d81e3",
   "metadata": {},
   "outputs": [
    {
     "name": "stdout",
     "output_type": "stream",
     "text": [
      "{1: 2, 2: 3, 3: 1, 4: 2, 5: 1}\n"
     ]
    }
   ],
   "source": [
    "def contar_frecuencia2(lista):\n",
    "    frecuencia = {}\n",
    "    # Primer bucle para inicializar cada clave en el diccionario con valor 0\n",
    "    for elemento in lista:\n",
    "        frecuencia[elemento] = 0\n",
    "    # Segundo bucle para contar las frecuencias\n",
    "    i = 0\n",
    "    while i < len(lista):\n",
    "        frecuencia[lista[i]] += 1\n",
    "        i += 1\n",
    "    return frecuencia\n",
    "    \n",
    "elementos = [1, 2, 2, 3, 1, 2, 4, 5, 4]\n",
    "resultado2 = contar_frecuencia2(elementos)\n",
    "print(resultado2)"
   ]
  },
  {
   "cell_type": "code",
   "execution_count": 467,
   "id": "cb9949f6-d77d-4ca4-8cb9-87cafed5a2a1",
   "metadata": {},
   "outputs": [
    {
     "name": "stdout",
     "output_type": "stream",
     "text": [
      "[4, 9, 16, 25]\n"
     ]
    }
   ],
   "source": [
    "#Aplicar una Función y Filtrar Elementos en una Lista\n",
    "#La función recibirá como parámetros una lista de números \n",
    "#y un valor_umbral y devolverá la lista de números cuyos cuadrados \n",
    "#sean mayores que el valor_umbral, utilizando para ello las \n",
    "#funciones lambda, map, filter y list.\n",
    "\n",
    "def aplicar_funcion_y_filtrar(lista, valor_umbral):\n",
    "    return list(filter(lambda x: x > valor_umbral, map(lambda y: y**2, lista)))\n",
    "\n",
    "# Ejemplo de uso\n",
    "numeros = [1, 2, 3, 4, 5]\n",
    "valor_umbral = 3\n",
    "resultado = aplicar_funcion_y_filtrar(numeros, valor_umbral)\n",
    "print(resultado)  # Resultado: [4, 9, 16, 25]"
   ]
  },
  {
   "cell_type": "code",
   "execution_count": 469,
   "id": "b60ca876-9add-4a81-a19b-61ffa6c4d5c4",
   "metadata": {},
   "outputs": [
    {
     "name": "stdout",
     "output_type": "stream",
     "text": [
      "[4, 9, 16, 25]\n"
     ]
    }
   ],
   "source": [
    "#Aplicar una Función y Filtrar Elementos en una Lista\n",
    "#La función recibirá como parámetros una lista de números \n",
    "#y un valor_umbral y devolverá la lista de números cuyos cuadrados \n",
    "#sean mayores que el valor_umbral, utilizando para ello las \n",
    "#funciones lambda, map, filter y list.\n",
    "def funcion_umbral(x):\n",
    "    if(x > valor_umbral):\n",
    "        return x\n",
    "def doble(y):\n",
    "    return y**2\n",
    "\n",
    "def aplicar_funcion_y_filtrar2(lista, valor_umbral):\n",
    "    return list(filter(funcion_umbral, map(doble, lista)))\n",
    "\n",
    "# Ejemplo de uso\n",
    "numeros = [1, 2, 3, 4, 5]\n",
    "valor_umbral = 3\n",
    "resultado = aplicar_funcion_y_filtrar(numeros, valor_umbral)\n",
    "print(resultado)  # Resultado: [4, 9, 16, 25]"
   ]
  },
  {
   "cell_type": "code",
   "execution_count": null,
   "id": "c04c2348-2b10-42fa-a564-858509312b3f",
   "metadata": {},
   "outputs": [],
   "source": []
  },
  {
   "cell_type": "code",
   "execution_count": null,
   "id": "a9a2428e-de09-4668-a973-a6851e8c6442",
   "metadata": {},
   "outputs": [],
   "source": []
  }
 ],
 "metadata": {
  "kernelspec": {
   "display_name": "Python 3 (ipykernel)",
   "language": "python",
   "name": "python3"
  },
  "language_info": {
   "codemirror_mode": {
    "name": "ipython",
    "version": 3
   },
   "file_extension": ".py",
   "mimetype": "text/x-python",
   "name": "python",
   "nbconvert_exporter": "python",
   "pygments_lexer": "ipython3",
   "version": "3.12.4"
  }
 },
 "nbformat": 4,
 "nbformat_minor": 5
}
