{
 "cells": [
  {
   "cell_type": "markdown",
   "id": "0e947399-4c7c-4940-8e6b-18a16a117d14",
   "metadata": {},
   "source": [
    "#Funciones con Arrays"
   ]
  },
  {
   "cell_type": "code",
   "execution_count": 1,
   "id": "e0e76b1b-8e2d-41b9-a7c9-1595da234648",
   "metadata": {},
   "outputs": [
    {
     "name": "stdout",
     "output_type": "stream",
     "text": [
      "Array de NumPy: [1 2 3 4 5]\n",
      "Array después de sumar 10: [11 12 13 14 15]\n",
      "Array después de multiplicar por 2: [ 2  4  6  8 10]\n",
      "Media del array: 3.0\n",
      "Elementos del array mayores que 3: [4 5]\n",
      "Array reshaped (5x1):\n",
      " [[1]\n",
      " [2]\n",
      " [3]\n",
      " [4]\n",
      " [5]]\n"
     ]
    }
   ],
   "source": [
    "import numpy as np  # Importar la biblioteca NumPy\n",
    "\n",
    "# Lista de números que se convertirá en un array\n",
    "lista = [1, 2, 3, 4, 5]  # Lista original\n",
    "\n",
    "# Convertir la lista a un array de NumPy\n",
    "array = np.array(lista)  # Crear un array a partir de la lista\n",
    "\n",
    "# Imprimir el array resultante\n",
    "print(\"Array de NumPy:\", array)\n",
    "\n",
    "# Operaciones con el array\n",
    "# 1. Sumar un valor a cada elemento del array\n",
    "array_sumado = array + 10  # Sumar 10 a cada elemento\n",
    "print(\"Array después de sumar 10:\", array_sumado)\n",
    "\n",
    "# 2. Multiplicar cada elemento del array por un valor\n",
    "array_multiplicado = array * 2  # Multiplicar por 2\n",
    "print(\"Array después de multiplicar por 2:\", array_multiplicado)\n",
    "\n",
    "# 3. Calcular la media del array\n",
    "media = np.mean(array)  # Calcular la media\n",
    "print(\"Media del array:\", media)\n",
    "\n",
    "# 4. Filtrar elementos mayores que un valor\n",
    "filtro = array[array > 3]  # Filtrar elementos mayores que 3\n",
    "print(\"Elementos del array mayores que 3:\", filtro)\n",
    "\n",
    "# 5. Cambiar la forma del array (reshape)\n",
    "array_reshaped = array.reshape((5, 1))  # Cambiar la forma del array a una columna\n",
    "print(\"Array reshaped (5x1):\\n\", array_reshaped)"
   ]
  },
  {
   "cell_type": "code",
   "execution_count": 5,
   "id": "0ca84429-b23a-4c79-9137-41a6be521cef",
   "metadata": {},
   "outputs": [
    {
     "data": {
      "text/plain": [
       "array([[1, 2, 3],\n",
       "       [4, 5, 6],\n",
       "       [7, 8, 9]])"
      ]
     },
     "execution_count": 5,
     "metadata": {},
     "output_type": "execute_result"
    }
   ],
   "source": [
    "lista = [[1,2,3],[4,5,6],[7,8,9]]\n",
    "array = np.array(lista)\n",
    "array"
   ]
  },
  {
   "cell_type": "markdown",
   "id": "39a4ddc8-b3a9-4ece-bbfd-e74c27080121",
   "metadata": {},
   "source": [
    "#Funciones Numpy arrays - arange, zeros, ones, linspace, eye"
   ]
  },
  {
   "cell_type": "code",
   "execution_count": 7,
   "id": "d7c22f68-a76f-40c6-8557-5d377adc76d2",
   "metadata": {},
   "outputs": [
    {
     "name": "stdout",
     "output_type": "stream",
     "text": [
      "Array con arange (0 a 10, paso 2): [0 2 4 6 8]\n",
      "Array de ceros (3x4):\n",
      " [[0. 0. 0. 0.]\n",
      " [0. 0. 0. 0.]\n",
      " [0. 0. 0. 0.]]\n",
      "Array de unos (2x3):\n",
      " [[1. 1. 1.]\n",
      " [1. 1. 1.]]\n",
      "Array con linspace (0 a 1, 5 valores): [0.   0.25 0.5  0.75 1.  ]\n",
      "Matriz identidad (3x3):\n",
      " [[1. 0. 0.]\n",
      " [0. 1. 0.]\n",
      " [0. 0. 1.]]\n"
     ]
    }
   ],
   "source": [
    "import numpy as np  # Importar la biblioteca NumPy\n",
    "\n",
    "# 1. Crear un array con `arange`\n",
    "# `arange(start, stop, step)` crea un array con valores en un rango especificado.\n",
    "array_arange = np.arange(0, 10, 2)  # Crea un array de 0 a 10, con un paso de 2\n",
    "print(\"Array con arange (0 a 10, paso 2):\", array_arange)\n",
    "\n",
    "# 2. Crear un array de ceros con `zeros`\n",
    "# `zeros(shape)` crea un array lleno de ceros con la forma especificada.\n",
    "array_zeros = np.zeros((3, 4))  # Crea un array de 3 filas y 4 columnas lleno de ceros\n",
    "print(\"Array de ceros (3x4):\\n\", array_zeros)\n",
    "\n",
    "# 3. Crear un array de unos con `ones`\n",
    "# `ones(shape)` crea un array lleno de unos con la forma especificada.\n",
    "array_ones = np.ones((2, 3))  # Crea un array de 2 filas y 3 columnas lleno de unos\n",
    "print(\"Array de unos (2x3):\\n\", array_ones)\n",
    "\n",
    "# 4. Crear un array con `linspace`\n",
    "# `linspace(start, stop, num)` crea un array con un número especificado de puntos igualmente espaciados entre `start` y `stop`.\n",
    "array_linspace = np.linspace(0, 1, 5)  # Crea un array de 5 valores entre 0 y 1\n",
    "print(\"Array con linspace (0 a 1, 5 valores):\", array_linspace)\n",
    "\n",
    "# 5. Crear una matriz identidad con `eye`\n",
    "# `eye(N)` crea una matriz identidad de tamaño N x N.\n",
    "matriz_identidad = np.eye(3)  # Crea una matriz identidad de 3x3\n",
    "print(\"Matriz identidad (3x3):\\n\", matriz_identidad)"
   ]
  },
  {
   "cell_type": "code",
   "execution_count": 51,
   "id": "49428ad0-3c45-4131-98b6-5625fd0e1c42",
   "metadata": {},
   "outputs": [
    {
     "data": {
      "text/plain": [
       "array([ 0,  1,  2,  3,  4,  5,  6,  7,  8,  9, 10, 11, 12, 13, 14, 15, 16,\n",
       "       17, 18, 19])"
      ]
     },
     "execution_count": 51,
     "metadata": {},
     "output_type": "execute_result"
    }
   ],
   "source": [
    "np.arange(20)"
   ]
  },
  {
   "cell_type": "code",
   "execution_count": 55,
   "id": "abca5493-1f8e-497c-98ae-7172a6a48eb3",
   "metadata": {},
   "outputs": [
    {
     "data": {
      "text/plain": [
       "array([0., 0., 0.])"
      ]
     },
     "execution_count": 55,
     "metadata": {},
     "output_type": "execute_result"
    }
   ],
   "source": [
    "np.zeros(3)"
   ]
  },
  {
   "cell_type": "code",
   "execution_count": 59,
   "id": "cc1b7656-3f25-4223-928b-a9fd4d4eca20",
   "metadata": {},
   "outputs": [
    {
     "data": {
      "text/plain": [
       "array([[0., 0., 0., 0., 0., 0.],\n",
       "       [0., 0., 0., 0., 0., 0.],\n",
       "       [0., 0., 0., 0., 0., 0.]])"
      ]
     },
     "execution_count": 59,
     "metadata": {},
     "output_type": "execute_result"
    }
   ],
   "source": [
    "np.zeros((3,6))"
   ]
  },
  {
   "cell_type": "code",
   "execution_count": 61,
   "id": "cb886082-8a97-4e22-888a-dd1a4bac6a17",
   "metadata": {},
   "outputs": [
    {
     "data": {
      "text/plain": [
       "array([1., 1., 1., 1., 1., 1.])"
      ]
     },
     "execution_count": 61,
     "metadata": {},
     "output_type": "execute_result"
    }
   ],
   "source": [
    "np.ones((6))"
   ]
  },
  {
   "cell_type": "code",
   "execution_count": 63,
   "id": "cdfbc6ba-3a8c-4bd4-9693-1bc5b600e216",
   "metadata": {},
   "outputs": [
    {
     "data": {
      "text/plain": [
       "array([[1., 1., 1., 1., 1., 1.],\n",
       "       [1., 1., 1., 1., 1., 1.],\n",
       "       [1., 1., 1., 1., 1., 1.]])"
      ]
     },
     "execution_count": 63,
     "metadata": {},
     "output_type": "execute_result"
    }
   ],
   "source": [
    "np.ones((3,6))"
   ]
  },
  {
   "cell_type": "code",
   "execution_count": 79,
   "id": "754f9ab2-1057-4155-923a-4b2e9d98b10b",
   "metadata": {},
   "outputs": [
    {
     "data": {
      "text/plain": [
       "array([3.        , 3.12244898, 3.24489796, 3.36734694, 3.48979592,\n",
       "       3.6122449 , 3.73469388, 3.85714286, 3.97959184, 4.10204082,\n",
       "       4.2244898 , 4.34693878, 4.46938776, 4.59183673, 4.71428571,\n",
       "       4.83673469, 4.95918367, 5.08163265, 5.20408163, 5.32653061,\n",
       "       5.44897959, 5.57142857, 5.69387755, 5.81632653, 5.93877551,\n",
       "       6.06122449, 6.18367347, 6.30612245, 6.42857143, 6.55102041,\n",
       "       6.67346939, 6.79591837, 6.91836735, 7.04081633, 7.16326531,\n",
       "       7.28571429, 7.40816327, 7.53061224, 7.65306122, 7.7755102 ,\n",
       "       7.89795918, 8.02040816, 8.14285714, 8.26530612, 8.3877551 ,\n",
       "       8.51020408, 8.63265306, 8.75510204, 8.87755102, 9.        ])"
      ]
     },
     "execution_count": 79,
     "metadata": {},
     "output_type": "execute_result"
    }
   ],
   "source": [
    "np.linspace(3,9)"
   ]
  },
  {
   "cell_type": "code",
   "execution_count": 81,
   "id": "c37a3b55-9dbd-4bb1-8c1a-71a689f79139",
   "metadata": {},
   "outputs": [
    {
     "data": {
      "text/plain": [
       "array([3.        , 3.31578947, 3.63157895, 3.94736842, 4.26315789,\n",
       "       4.57894737, 4.89473684, 5.21052632, 5.52631579, 5.84210526,\n",
       "       6.15789474, 6.47368421, 6.78947368, 7.10526316, 7.42105263,\n",
       "       7.73684211, 8.05263158, 8.36842105, 8.68421053, 9.        ])"
      ]
     },
     "execution_count": 81,
     "metadata": {},
     "output_type": "execute_result"
    }
   ],
   "source": [
    "np.linspace(3,9,20) #indicamos comienzo, final y el numero de elementos "
   ]
  },
  {
   "cell_type": "code",
   "execution_count": 83,
   "id": "9650b336-38c6-4aac-ba40-07e66a1f6c28",
   "metadata": {},
   "outputs": [
    {
     "data": {
      "text/plain": [
       "array([[1., 0., 0., 0., 0.],\n",
       "       [0., 1., 0., 0., 0.],\n",
       "       [0., 0., 1., 0., 0.],\n",
       "       [0., 0., 0., 1., 0.],\n",
       "       [0., 0., 0., 0., 1.]])"
      ]
     },
     "execution_count": 83,
     "metadata": {},
     "output_type": "execute_result"
    }
   ],
   "source": [
    "np.eye(5) #filas"
   ]
  },
  {
   "cell_type": "code",
   "execution_count": 85,
   "id": "403855f9-e5e9-4348-bfe4-a3f359422a1b",
   "metadata": {},
   "outputs": [
    {
     "data": {
      "text/plain": [
       "array([[1., 0., 0.],\n",
       "       [0., 1., 0.],\n",
       "       [0., 0., 1.],\n",
       "       [0., 0., 0.],\n",
       "       [0., 0., 0.]])"
      ]
     },
     "execution_count": 85,
     "metadata": {},
     "output_type": "execute_result"
    }
   ],
   "source": [
    "np.eye(5,3) #filas y columnas"
   ]
  },
  {
   "cell_type": "raw",
   "id": "e171f5af-0977-480b-a187-96738fd983bf",
   "metadata": {},
   "source": [
    "#Funciones Numpy arrays - numero aleatorio - rand y randn"
   ]
  },
  {
   "cell_type": "code",
   "execution_count": 9,
   "id": "a16051b8-d45f-4bad-838d-874a7c54cc39",
   "metadata": {},
   "outputs": [
    {
     "name": "stdout",
     "output_type": "stream",
     "text": [
      "Array con números aleatorios (rand) de forma (3x2):\n",
      " [[0.78899673 0.92642987]\n",
      " [0.54738598 0.26146595]\n",
      " [0.97901275 0.34693281]]\n",
      "Array con números aleatorios (randn) de forma (3x2):\n",
      " [[ 0.48394687 -1.96672041]\n",
      " [ 1.22353202  1.03211974]\n",
      " [ 0.21626923 -1.37665122]]\n",
      "Número aleatorio único (rand): 0.8519191803115891\n",
      "Número aleatorio único (randn): -1.1620914840852155\n"
     ]
    }
   ],
   "source": [
    "import numpy as np  # Importar la biblioteca NumPy\n",
    "\n",
    "# 1. Generar números aleatorios con `rand`\n",
    "# `rand(dims)` genera números aleatorios en un rango de [0, 1) en la forma de un array con dimensiones especificadas.\n",
    "array_rand = np.random.rand(3, 2)  # Crear un array de 3 filas y 2 columnas con números aleatorios\n",
    "print(\"Array con números aleatorios (rand) de forma (3x2):\\n\", array_rand)\n",
    "\n",
    "# 2. Generar números aleatorios con `randn`\n",
    "# `randn(dims)` genera números aleatorios siguiendo una distribución normal estándar (media = 0, desviación estándar = 1).\n",
    "array_randn = np.random.randn(3, 2)  # Crear un array de 3 filas y 2 columnas con números aleatorios de una normal\n",
    "print(\"Array con números aleatorios (randn) de forma (3x2):\\n\", array_randn)\n",
    "\n",
    "# 3. Generar un único número aleatorio entre 0 y 1 con `rand`\n",
    "numero_aleatorio = np.random.rand()  # Generar un solo número aleatorio\n",
    "print(\"Número aleatorio único (rand):\", numero_aleatorio)\n",
    "\n",
    "# 4. Generar un único número aleatorio con distribución normal con `randn`\n",
    "numero_aleatorio_normal = np.random.randn()  # Generar un solo número aleatorio de una normal\n",
    "print(\"Número aleatorio único (randn):\", numero_aleatorio_normal)"
   ]
  },
  {
   "cell_type": "code",
   "execution_count": 94,
   "id": "0f2630b4-3a7f-4856-a93e-98f5093d130d",
   "metadata": {},
   "outputs": [
    {
     "data": {
      "text/plain": [
       "array([0.29484677, 0.83425021, 0.76146517, 0.19124876, 0.68194795])"
      ]
     },
     "execution_count": 94,
     "metadata": {},
     "output_type": "execute_result"
    }
   ],
   "source": [
    "np.random.rand(5)"
   ]
  },
  {
   "cell_type": "code",
   "execution_count": 98,
   "id": "4cdf8526-7ec7-440f-bc61-132c025573bc",
   "metadata": {},
   "outputs": [
    {
     "data": {
      "text/plain": [
       "array([[0.10700248, 0.94362462, 0.20750149],\n",
       "       [0.09171261, 0.90664366, 0.60043778]])"
      ]
     },
     "execution_count": 98,
     "metadata": {},
     "output_type": "execute_result"
    }
   ],
   "source": [
    "np.random.rand(2,3)"
   ]
  },
  {
   "cell_type": "code",
   "execution_count": 106,
   "id": "07bd57f1-7a57-4736-b77a-879a3c7fe27e",
   "metadata": {},
   "outputs": [
    {
     "data": {
      "text/plain": [
       "array([ 2.36518709, -0.84405995, -1.55086607,  0.8784092 ])"
      ]
     },
     "execution_count": 106,
     "metadata": {},
     "output_type": "execute_result"
    }
   ],
   "source": [
    "np.random.randn(4)"
   ]
  },
  {
   "cell_type": "code",
   "execution_count": 108,
   "id": "01a90017-7194-4648-87f1-141ca97cd54b",
   "metadata": {},
   "outputs": [
    {
     "data": {
      "text/plain": [
       "array([[ 1.5341621 ,  0.59495514, -1.99305828, -0.40726446,  0.82174827],\n",
       "       [-0.28243   , -0.28691976,  2.09684724,  0.5954923 ,  0.87523577],\n",
       "       [ 0.13127983, -0.2182441 ,  0.76584435,  1.7526879 ,  0.24985804],\n",
       "       [-1.23000722, -0.46687093,  0.03933795,  0.15797473, -0.71924073]])"
      ]
     },
     "execution_count": 108,
     "metadata": {},
     "output_type": "execute_result"
    }
   ],
   "source": [
    "np.random.randn(4,5)"
   ]
  },
  {
   "cell_type": "markdown",
   "id": "39171d14-2cfd-48ad-8a31-bf1d505739c5",
   "metadata": {},
   "source": [
    "#Numpy arrays - numeros aleatorios enteros, randint"
   ]
  },
  {
   "cell_type": "code",
   "execution_count": 11,
   "id": "f81710fc-3a2d-47a9-a70a-0d70963e1f38",
   "metadata": {},
   "outputs": [
    {
     "name": "stdout",
     "output_type": "stream",
     "text": [
      "Array de números enteros aleatorios (randint): [7 2 5 1 0]\n",
      "Array 2D de números enteros aleatorios (randint):\n",
      " [[ 9  4 14 15]\n",
      " [ 2  4  9  8]\n",
      " [ 9  1  3  6]]\n",
      "Número entero aleatorio único (randint): 28\n"
     ]
    }
   ],
   "source": [
    "import numpy as np  # Importar la biblioteca NumPy\n",
    "\n",
    "# 1. Generar números aleatorios enteros con `randint`\n",
    "# `randint(low, high, size)` genera números enteros aleatorios en el rango [low, high).\n",
    "# Aquí, 'low' es el límite inferior (incluido), 'high' es el límite superior (excluido) y 'size' es la forma del array.\n",
    "\n",
    "# Generar un array de 5 números aleatorios enteros entre 0 y 10\n",
    "array_randint = np.random.randint(0, 10, size=5)  # 5 enteros aleatorios entre 0 y 9\n",
    "print(\"Array de números enteros aleatorios (randint):\", array_randint)\n",
    "\n",
    "# 2. Generar un array 2D de números aleatorios enteros\n",
    "# Generar un array de 3 filas y 4 columnas con números aleatorios enteros entre 1 y 20\n",
    "array_randint_2d = np.random.randint(1, 20, size=(3, 4))  # Enteros aleatorios entre 1 y 19\n",
    "print(\"Array 2D de números enteros aleatorios (randint):\\n\", array_randint_2d)\n",
    "\n",
    "# 3. Generar un solo número entero aleatorio\n",
    "# Generar un único número entero aleatorio entre 0 y 100\n",
    "numero_aleatorio_entero = np.random.randint(0, 100)  # Entero aleatorio entre 0 y 99\n",
    "print(\"Número entero aleatorio único (randint):\", numero_aleatorio_entero)"
   ]
  },
  {
   "cell_type": "code",
   "execution_count": 115,
   "id": "7c4771d5-17e6-42f5-bdc6-06ea564c83e0",
   "metadata": {},
   "outputs": [
    {
     "data": {
      "text/plain": [
       "5"
      ]
     },
     "execution_count": 115,
     "metadata": {},
     "output_type": "execute_result"
    }
   ],
   "source": [
    "np.random.randint(1,20)"
   ]
  },
  {
   "cell_type": "code",
   "execution_count": 117,
   "id": "2f1a33fa-b20e-4946-9e97-7a9993d05d2f",
   "metadata": {},
   "outputs": [
    {
     "data": {
      "text/plain": [
       "array([15,  2, 17,  4, 13])"
      ]
     },
     "execution_count": 117,
     "metadata": {},
     "output_type": "execute_result"
    }
   ],
   "source": [
    "np.random.randint(1,20,5)"
   ]
  },
  {
   "cell_type": "markdown",
   "id": "d600d324-5638-4e19-a1e6-439c8839e174",
   "metadata": {},
   "source": [
    "#Numpy arrays - reshape"
   ]
  },
  {
   "cell_type": "code",
   "execution_count": 120,
   "id": "d448f894-d8f1-4bba-85d3-66f4a018f676",
   "metadata": {},
   "outputs": [],
   "source": [
    "array = np.random.randint(1,100,21)"
   ]
  },
  {
   "cell_type": "code",
   "execution_count": 122,
   "id": "4ef90b98-9a34-4c0a-8750-08cb9d80f35b",
   "metadata": {},
   "outputs": [
    {
     "data": {
      "text/plain": [
       "array([18,  2, 85, 59, 52,  8, 63, 43, 46, 23, 44, 38, 61, 63, 11, 95,  4,\n",
       "        4, 77, 29, 32])"
      ]
     },
     "execution_count": 122,
     "metadata": {},
     "output_type": "execute_result"
    }
   ],
   "source": [
    "array"
   ]
  },
  {
   "cell_type": "code",
   "execution_count": 132,
   "id": "28d766c9-6248-49c5-ac22-8472bf4081f7",
   "metadata": {},
   "outputs": [
    {
     "name": "stdout",
     "output_type": "stream",
     "text": [
      "[[18  2 85 59 52  8 63]\n",
      " [43 46 23 44 38 61 63]\n",
      " [11 95  4  4 77 29 32]]\n"
     ]
    }
   ],
   "source": [
    "matriz = array.reshape(3,7)\n",
    "print(matriz)"
   ]
  },
  {
   "cell_type": "code",
   "execution_count": 134,
   "id": "0f69255e-7637-4f74-9133-f475c5329ee0",
   "metadata": {},
   "outputs": [
    {
     "name": "stdout",
     "output_type": "stream",
     "text": [
      "[[18  2 85]\n",
      " [59 52  8]\n",
      " [63 43 46]\n",
      " [23 44 38]\n",
      " [61 63 11]\n",
      " [95  4  4]\n",
      " [77 29 32]]\n"
     ]
    }
   ],
   "source": [
    "matriz2 = array.reshape(7,3)\n",
    "print(matriz2)"
   ]
  },
  {
   "cell_type": "markdown",
   "id": "7920af5e-68f2-4e7a-a3dc-8153504a4b79",
   "metadata": {},
   "source": [
    "#Numpy arrays - max y min"
   ]
  },
  {
   "cell_type": "code",
   "execution_count": 13,
   "id": "c8b5934f-0810-4d56-9c8b-612857ee00ee",
   "metadata": {},
   "outputs": [
    {
     "name": "stdout",
     "output_type": "stream",
     "text": [
      "Array de números aleatorios: [74 33 85 39 63 50 18 64 84 90]\n",
      "Valor máximo del array: 90\n",
      "Valor mínimo del array: 18\n",
      "Valor máximo (alternativa): 90\n",
      "Valor mínimo (alternativa): 18\n"
     ]
    }
   ],
   "source": [
    "import numpy as np  # Importar la biblioteca NumPy\n",
    "\n",
    "# Crear un array de números aleatorios\n",
    "# Generar un array unidimensional de 10 números aleatorios enteros entre 0 y 100\n",
    "array = np.random.randint(0, 100, size=10)  # Array de 10 enteros aleatorios\n",
    "print(\"Array de números aleatorios:\", array)\n",
    "\n",
    "# 1. Encontrar el valor máximo\n",
    "maximo = np.max(array)  # Encuentra el valor máximo en el array\n",
    "print(\"Valor máximo del array:\", maximo)\n",
    "\n",
    "# 2. Encontrar el valor mínimo\n",
    "minimo = np.min(array)  # Encuentra el valor mínimo en el array\n",
    "print(\"Valor mínimo del array:\", minimo)\n",
    "\n",
    "# 3. Alternativa usando funciones de array\n",
    "# También podemos usar las funciones .max() y .min() directamente en el array\n",
    "maximo_alternativo = array.max()  # Usando el método max() del array\n",
    "minimo_alternativo = array.min()  # Usando el método min() del array\n",
    "print(\"Valor máximo (alternativa):\", maximo_alternativo)\n",
    "print(\"Valor mínimo (alternativa):\", minimo_alternativo)"
   ]
  },
  {
   "cell_type": "code",
   "execution_count": 137,
   "id": "cf2f3435-59cd-4055-acc4-0219abf01b46",
   "metadata": {},
   "outputs": [],
   "source": [
    "array = np.random.randint(1,100,50)"
   ]
  },
  {
   "cell_type": "code",
   "execution_count": 139,
   "id": "4223a159-5de1-489d-9c73-82aa7f8de307",
   "metadata": {},
   "outputs": [
    {
     "data": {
      "text/plain": [
       "array([43,  9, 42, 63, 41, 82, 86, 55, 19, 52, 94, 35, 44, 24, 74, 29, 69,\n",
       "        1, 41, 91, 40,  8, 68, 63, 65,  9, 48, 63, 52, 11, 98, 16, 41, 82,\n",
       "        8, 95, 84, 94, 69, 81, 68, 87, 97, 17, 72, 83, 64, 51, 69, 35])"
      ]
     },
     "execution_count": 139,
     "metadata": {},
     "output_type": "execute_result"
    }
   ],
   "source": [
    "array"
   ]
  },
  {
   "cell_type": "code",
   "execution_count": 151,
   "id": "ac61345f-0ee5-400c-b5a9-d60233466ea1",
   "metadata": {},
   "outputs": [
    {
     "name": "stdout",
     "output_type": "stream",
     "text": [
      "98\n",
      "30\n"
     ]
    },
    {
     "data": {
      "text/plain": [
       "True"
      ]
     },
     "execution_count": 151,
     "metadata": {},
     "output_type": "execute_result"
    }
   ],
   "source": [
    "max = array.max()\n",
    "posicion_max = array.argmax()\n",
    "print(max)\n",
    "print(posicion_max)\n",
    "array[30] == 98"
   ]
  },
  {
   "cell_type": "code",
   "execution_count": 153,
   "id": "4380182f-e101-412c-93af-114ba600c3fd",
   "metadata": {},
   "outputs": [
    {
     "name": "stdout",
     "output_type": "stream",
     "text": [
      "1\n",
      "17\n"
     ]
    },
    {
     "data": {
      "text/plain": [
       "True"
      ]
     },
     "execution_count": 153,
     "metadata": {},
     "output_type": "execute_result"
    }
   ],
   "source": [
    "min = array.min()\n",
    "posicion_min = array.argmin()\n",
    "print(min)\n",
    "print(posicion_min)\n",
    "array[17] == 1"
   ]
  },
  {
   "cell_type": "markdown",
   "id": "34b4f257-ffff-4e17-9fca-32dd89ef7445",
   "metadata": {},
   "source": [
    "#Numpy - indexacion en arrays"
   ]
  },
  {
   "cell_type": "code",
   "execution_count": 15,
   "id": "55faec60-5179-4bf0-9ea9-c7c7019544e0",
   "metadata": {},
   "outputs": [
    {
     "name": "stdout",
     "output_type": "stream",
     "text": [
      "Array unidimensional: [10 20 30 40 50]\n",
      "Elemento en la posición 0: 10\n",
      "Elemento en la posición 2: 30\n",
      "Último elemento: 50\n",
      "\n",
      "Array bidimensional:\n",
      " [[1 2 3]\n",
      " [4 5 6]\n",
      " [7 8 9]]\n",
      "Elemento en la fila 1, columna 2: 6\n",
      "Elemento en la fila 0, columna 1: 2\n",
      "Fila 2 completa: [7 8 9]\n",
      "Columna 1 completa: [2 5 8]\n",
      "\n",
      "Array tridimensional:\n",
      " [[[1 2]\n",
      "  [3 4]]\n",
      "\n",
      " [[5 6]\n",
      "  [7 8]]]\n",
      "Elemento en la posición (1, 0, 1): 6\n"
     ]
    }
   ],
   "source": [
    "import numpy as np  # Importar la biblioteca NumPy\n",
    "\n",
    "# Crear un array unidimensional\n",
    "array_1d = np.array([10, 20, 30, 40, 50])  # Crear un array unidimensional\n",
    "print(\"Array unidimensional:\", array_1d)\n",
    "\n",
    "# Indexación en array unidimensional\n",
    "print(\"Elemento en la posición 0:\", array_1d[0])  # Acceder al primer elemento\n",
    "print(\"Elemento en la posición 2:\", array_1d[2])  # Acceder al tercer elemento\n",
    "print(\"Último elemento:\", array_1d[-1])           # Acceder al último elemento\n",
    "\n",
    "# Crear un array bidimensional (matriz)\n",
    "array_2d = np.array([[1, 2, 3], [4, 5, 6], [7, 8, 9]])  # Crear una matriz 3x3\n",
    "print(\"\\nArray bidimensional:\\n\", array_2d)\n",
    "\n",
    "# Indexación en array bidimensional\n",
    "print(\"Elemento en la fila 1, columna 2:\", array_2d[1, 2])  # Acceder al elemento en la segunda fila y tercera columna\n",
    "print(\"Elemento en la fila 0, columna 1:\", array_2d[0, 1])  # Acceder al elemento en la primera fila y segunda columna\n",
    "\n",
    "# Acceder a una fila completa\n",
    "print(\"Fila 2 completa:\", array_2d[2])  # Acceder a la tercera fila\n",
    "\n",
    "# Acceder a una columna completa\n",
    "print(\"Columna 1 completa:\", array_2d[:, 1])  # Acceder a la segunda columna (todas las filas)\n",
    "\n",
    "# Crear un array 3D\n",
    "array_3d = np.array([[[1, 2], [3, 4]], [[5, 6], [7, 8]]])  # Crear un array tridimensional\n",
    "print(\"\\nArray tridimensional:\\n\", array_3d)\n",
    "\n",
    "# Indexación en array tridimensional\n",
    "print(\"Elemento en la posición (1, 0, 1):\", array_3d[1, 0, 1])  # Acceder al elemento en el segundo bloque, primera fila, segunda columna"
   ]
  },
  {
   "cell_type": "code",
   "execution_count": 162,
   "id": "a83fa59f-b348-422d-89c5-6b63709c2735",
   "metadata": {},
   "outputs": [
    {
     "data": {
      "text/plain": [
       "array([1, 2, 3, 4, 5, 6, 7, 8, 9])"
      ]
     },
     "execution_count": 162,
     "metadata": {},
     "output_type": "execute_result"
    }
   ],
   "source": [
    "array = np.arange(1,10)\n",
    "array"
   ]
  },
  {
   "cell_type": "code",
   "execution_count": 164,
   "id": "26964eea-ef56-4f8b-a991-b18774f561c8",
   "metadata": {},
   "outputs": [
    {
     "data": {
      "text/plain": [
       "1"
      ]
     },
     "execution_count": 164,
     "metadata": {},
     "output_type": "execute_result"
    }
   ],
   "source": [
    "array[0]"
   ]
  },
  {
   "cell_type": "code",
   "execution_count": 166,
   "id": "6fccd591-ec0e-4804-a565-ba5b6215e5fc",
   "metadata": {},
   "outputs": [
    {
     "data": {
      "text/plain": [
       "array([1, 2, 3])"
      ]
     },
     "execution_count": 166,
     "metadata": {},
     "output_type": "execute_result"
    }
   ],
   "source": [
    "array[0:3]"
   ]
  },
  {
   "cell_type": "code",
   "execution_count": 168,
   "id": "a3dd9e07-075a-4403-b143-ae8de60e5a89",
   "metadata": {},
   "outputs": [
    {
     "data": {
      "text/plain": [
       "array([1, 2, 3, 4, 5, 6, 7, 8, 9])"
      ]
     },
     "execution_count": 168,
     "metadata": {},
     "output_type": "execute_result"
    }
   ],
   "source": [
    "array[:]"
   ]
  },
  {
   "cell_type": "code",
   "execution_count": 170,
   "id": "d7e5e4eb-dac9-49da-af09-a28bd6889020",
   "metadata": {},
   "outputs": [
    {
     "data": {
      "text/plain": [
       "array([3, 4, 5, 6, 7, 8, 9])"
      ]
     },
     "execution_count": 170,
     "metadata": {},
     "output_type": "execute_result"
    }
   ],
   "source": [
    "array[2:]"
   ]
  },
  {
   "cell_type": "code",
   "execution_count": 172,
   "id": "bd331868-9e57-4e49-8368-23c2d61fcaa6",
   "metadata": {},
   "outputs": [
    {
     "data": {
      "text/plain": [
       "array([1, 2, 3, 4, 5])"
      ]
     },
     "execution_count": 172,
     "metadata": {},
     "output_type": "execute_result"
    }
   ],
   "source": [
    "array[:5]"
   ]
  },
  {
   "cell_type": "code",
   "execution_count": 176,
   "id": "2b134570-efb2-415a-ab04-ba6a79773da4",
   "metadata": {},
   "outputs": [
    {
     "data": {
      "text/plain": [
       "array([1, 2, 3, 4, 5, 6, 7, 8, 9])"
      ]
     },
     "execution_count": 176,
     "metadata": {},
     "output_type": "execute_result"
    }
   ],
   "source": [
    "array2 = array.copy()\n",
    "array2"
   ]
  },
  {
   "cell_type": "code",
   "execution_count": 178,
   "id": "0dd6d69a-7cdc-4258-8816-0008ce94acb4",
   "metadata": {},
   "outputs": [
    {
     "data": {
      "text/plain": [
       "array([100,   2,   3,   4,   5,   6,   7,   8,   9])"
      ]
     },
     "execution_count": 178,
     "metadata": {},
     "output_type": "execute_result"
    }
   ],
   "source": [
    "array2[0]=100\n",
    "array2"
   ]
  },
  {
   "cell_type": "code",
   "execution_count": 180,
   "id": "c5752f06-5e32-4279-88d9-ff2e2351e817",
   "metadata": {},
   "outputs": [
    {
     "data": {
      "text/plain": [
       "array([1, 2, 3, 4, 5, 6, 7, 8, 9])"
      ]
     },
     "execution_count": 180,
     "metadata": {},
     "output_type": "execute_result"
    }
   ],
   "source": [
    "array"
   ]
  },
  {
   "cell_type": "markdown",
   "id": "a5070e9d-723e-4c99-838e-8aab84c5d046",
   "metadata": {},
   "source": [
    "#Numpy - indexacion en arrays de 2 o mas dimensiones"
   ]
  },
  {
   "cell_type": "code",
   "execution_count": 17,
   "id": "77a10ca1-d3ae-4047-988f-ba226c81dfad",
   "metadata": {},
   "outputs": [
    {
     "name": "stdout",
     "output_type": "stream",
     "text": [
      "Array bidimensional:\n",
      " [[10 20 30]\n",
      " [40 50 60]\n",
      " [70 80 90]]\n",
      "Elemento en la fila 1, columna 2: 60\n",
      "Primera fila: [10 20 30]\n",
      "Segunda columna: [20 50 80]\n",
      "Sub-array:\n",
      " [[10 20]\n",
      " [40 50]]\n",
      "\n",
      "Array tridimensional:\n",
      " [[[ 1  2]\n",
      "  [ 3  4]]\n",
      "\n",
      " [[ 5  6]\n",
      "  [ 7  8]]\n",
      "\n",
      " [[ 9 10]\n",
      "  [11 12]]]\n",
      "Elemento en el bloque 0, fila 1, columna 1: 4\n",
      "Primer bloque:\n",
      " [[1 2]\n",
      " [3 4]]\n",
      "Sub-array 3D:\n",
      " [[ 1  2]\n",
      " [ 5  6]\n",
      " [ 9 10]]\n"
     ]
    }
   ],
   "source": [
    "import numpy as np  # Importar la biblioteca NumPy\n",
    "\n",
    "# Crear un array bidimensional (matriz)\n",
    "array_2d = np.array([[10, 20, 30], \n",
    "                     [40, 50, 60], \n",
    "                     [70, 80, 90]])  # Crear una matriz 3x3\n",
    "print(\"Array bidimensional:\\n\", array_2d)\n",
    "\n",
    "# 1. Acceder a un elemento específico\n",
    "# Acceder al elemento en la segunda fila y tercera columna (índices 1, 2)\n",
    "elemento_especifico = array_2d[1, 2]\n",
    "print(\"Elemento en la fila 1, columna 2:\", elemento_especifico)  # 60\n",
    "\n",
    "# 2. Acceder a una fila completa\n",
    "# Acceder a la primera fila (índice 0)\n",
    "fila_1 = array_2d[0]\n",
    "print(\"Primera fila:\", fila_1)  # [10, 20, 30]\n",
    "\n",
    "# 3. Acceder a una columna completa\n",
    "# Acceder a la segunda columna (índice 1)\n",
    "columna_2 = array_2d[:, 1]  # ':' significa \"todas las filas\"\n",
    "print(\"Segunda columna:\", columna_2)  # [20, 50, 80]\n",
    "\n",
    "# 4. Slicing (rebanado) de un array bidimensional\n",
    "# Acceder a un sub-array que incluye la primera y segunda fila, y la primera y segunda columna\n",
    "sub_array = array_2d[0:2, 0:2]  # Primeras dos filas y primeras dos columnas\n",
    "print(\"Sub-array:\\n\", sub_array)\n",
    "\n",
    "# 5. Crear un array tridimensional\n",
    "array_3d = np.array([[[1, 2], [3, 4]], \n",
    "                      [[5, 6], [7, 8]], \n",
    "                      [[9, 10], [11, 12]]])  # Crear un array 3D\n",
    "print(\"\\nArray tridimensional:\\n\", array_3d)\n",
    "\n",
    "# 6. Acceder a un elemento específico en un array tridimensional\n",
    "# Acceder al elemento en el primer bloque, segunda fila, segunda columna (índices 0, 1, 1)\n",
    "elemento_3d = array_3d[0, 1, 1]\n",
    "print(\"Elemento en el bloque 0, fila 1, columna 1:\", elemento_3d)  # 4\n",
    "\n",
    "# 7. Acceder a un bloque completo\n",
    "# Acceder al primer bloque (índice 0)\n",
    "bloque_0 = array_3d[0]\n",
    "print(\"Primer bloque:\\n\", bloque_0)\n",
    "\n",
    "# 8. Slicing en un array tridimensional\n",
    "# Acceder a un sub-array que incluye todos los bloques, primera fila y columnas\n",
    "sub_array_3d = array_3d[:, 0, :]  # Todas las filas de la primera fila y todas las columnas\n",
    "print(\"Sub-array 3D:\\n\", sub_array_3d)"
   ]
  },
  {
   "cell_type": "code",
   "execution_count": 187,
   "id": "2cb322da-f131-467b-94ad-c500c0d0086d",
   "metadata": {},
   "outputs": [
    {
     "data": {
      "text/plain": [
       "array([1, 2, 3])"
      ]
     },
     "execution_count": 187,
     "metadata": {},
     "output_type": "execute_result"
    }
   ],
   "source": [
    "array[0]"
   ]
  },
  {
   "cell_type": "code",
   "execution_count": 189,
   "id": "b8d3d182-c281-4c44-9c56-210ea7d16ba5",
   "metadata": {},
   "outputs": [
    {
     "data": {
      "text/plain": [
       "array([[1, 2, 3],\n",
       "       [4, 5, 6]])"
      ]
     },
     "execution_count": 189,
     "metadata": {},
     "output_type": "execute_result"
    }
   ],
   "source": [
    "array[:2]"
   ]
  },
  {
   "cell_type": "code",
   "execution_count": 191,
   "id": "14b8e9e6-dc96-46cf-b18f-d16357888557",
   "metadata": {},
   "outputs": [
    {
     "data": {
      "text/plain": [
       "3"
      ]
     },
     "execution_count": 191,
     "metadata": {},
     "output_type": "execute_result"
    }
   ],
   "source": [
    "array[0][2] "
   ]
  },
  {
   "cell_type": "code",
   "execution_count": 195,
   "id": "f75e6c30-0bdb-4a43-9de9-0b19d2abeea3",
   "metadata": {},
   "outputs": [
    {
     "data": {
      "text/plain": [
       "3"
      ]
     },
     "execution_count": 195,
     "metadata": {},
     "output_type": "execute_result"
    }
   ],
   "source": [
    "array[0,2]"
   ]
  },
  {
   "cell_type": "code",
   "execution_count": 203,
   "id": "8495f2c6-4865-428b-bc9d-89a02be9feed",
   "metadata": {},
   "outputs": [
    {
     "data": {
      "text/plain": [
       "array([1, 4, 7])"
      ]
     },
     "execution_count": 203,
     "metadata": {},
     "output_type": "execute_result"
    }
   ],
   "source": [
    "array[:,0]"
   ]
  },
  {
   "cell_type": "code",
   "execution_count": 205,
   "id": "0f5d7182-7b05-438b-8165-cff6da4ee91a",
   "metadata": {},
   "outputs": [
    {
     "data": {
      "text/plain": [
       "array([[1, 2],\n",
       "       [4, 5],\n",
       "       [7, 8]])"
      ]
     },
     "execution_count": 205,
     "metadata": {},
     "output_type": "execute_result"
    }
   ],
   "source": [
    "array[:,:2]"
   ]
  },
  {
   "cell_type": "markdown",
   "id": "406db753-f7c0-431c-8842-e67185514b7a",
   "metadata": {},
   "source": [
    "#Numpy - seleccionar elementos de una array segun una condicion"
   ]
  },
  {
   "cell_type": "code",
   "execution_count": 19,
   "id": "7814bcb4-f2ac-446a-81bc-3ceecbb17597",
   "metadata": {},
   "outputs": [
    {
     "name": "stdout",
     "output_type": "stream",
     "text": [
      "Array original: [ 1  5  8 12 20 25 30 35]\n",
      "Elementos mayores que 10: [12 20 25 30 35]\n",
      "Elementos pares: [ 8 12 20 30]\n",
      "Elementos mayores que 10 y menores que 30: [12 20 25]\n",
      "\n",
      "Array bidimensional:\n",
      " [[1 2 3]\n",
      " [4 5 6]\n",
      " [7 8 9]]\n",
      "Elementos mayores que 5 en el array 2D:\n",
      " [6 7 8 9]\n",
      "Elementos en la primera fila mayores que 2: [3]\n",
      "Elementos mayores que 2 en el array 2D:\n",
      " [3 4 5 6 7 8 9]\n"
     ]
    }
   ],
   "source": [
    "import numpy as np  # Importar la biblioteca NumPy\n",
    "\n",
    "# Crear un array unidimensional de números aleatorios\n",
    "array = np.array([1, 5, 8, 12, 20, 25, 30, 35])  # Crear un array de enteros\n",
    "print(\"Array original:\", array)\n",
    "\n",
    "# 1. Seleccionar elementos mayores que 10\n",
    "condicion_mayor_10 = array[array > 10]  # Filtrar elementos mayores que 10\n",
    "print(\"Elementos mayores que 10:\", condicion_mayor_10)\n",
    "\n",
    "# 2. Seleccionar elementos pares\n",
    "condicion_pares = array[array % 2 == 0]  # Filtrar elementos que son pares\n",
    "print(\"Elementos pares:\", condicion_pares)\n",
    "\n",
    "# 3. Seleccionar elementos que son mayores que 10 y menores que 30\n",
    "condicion_rango = array[(array > 10) & (array < 30)]  # Filtrar elementos en el rango (10, 30)\n",
    "print(\"Elementos mayores que 10 y menores que 30:\", condicion_rango)\n",
    "\n",
    "# 4. Crear un array bidimensional\n",
    "array_2d = np.array([[1, 2, 3],\n",
    "                     [4, 5, 6],\n",
    "                     [7, 8, 9]])  # Crear una matriz 3x3\n",
    "print(\"\\nArray bidimensional:\\n\", array_2d)\n",
    "\n",
    "# 5. Seleccionar elementos mayores que 5 en un array bidimensional\n",
    "condicion_mayor_5_2d = array_2d[array_2d > 5]  # Filtrar elementos mayores que 5\n",
    "print(\"Elementos mayores que 5 en el array 2D:\\n\", condicion_mayor_5_2d)\n",
    "\n",
    "# 6. Seleccionar elementos en la primera fila que son mayores que 2\n",
    "condicion_fila_1 = array_2d[0, array_2d[0] > 2]  # Filtrar elementos en la primera fila mayores que 2\n",
    "print(\"Elementos en la primera fila mayores que 2:\", condicion_fila_1)\n",
    "\n",
    "# 7. Seleccionar todos los elementos que son mayores que 2 en todo el array\n",
    "condicion_mayor_2 = array_2d[array_2d > 2]  # Filtrar elementos mayores que 2\n",
    "print(\"Elementos mayores que 2 en el array 2D:\\n\", condicion_mayor_2)"
   ]
  },
  {
   "cell_type": "code",
   "execution_count": 21,
   "id": "58ac8fef-3481-48ac-8c53-e6badb8933ff",
   "metadata": {},
   "outputs": [
    {
     "data": {
      "text/plain": [
       "array([0, 1, 2, 3, 4, 5, 6, 7, 8, 9])"
      ]
     },
     "execution_count": 21,
     "metadata": {},
     "output_type": "execute_result"
    }
   ],
   "source": [
    "array = np.arange(0,10)\n",
    "array"
   ]
  },
  {
   "cell_type": "code",
   "execution_count": 23,
   "id": "b6e046e4-2dcb-458b-9b26-f7dd57e9609a",
   "metadata": {},
   "outputs": [
    {
     "data": {
      "text/plain": [
       "array([False, False, False, False, False, False,  True,  True,  True,\n",
       "        True])"
      ]
     },
     "execution_count": 23,
     "metadata": {},
     "output_type": "execute_result"
    }
   ],
   "source": [
    "condicion = array > 5\n",
    "condicion"
   ]
  },
  {
   "cell_type": "code",
   "execution_count": 216,
   "id": "b38ca3cc-9d77-4914-9020-6d19bb4ee869",
   "metadata": {},
   "outputs": [
    {
     "data": {
      "text/plain": [
       "array([6, 7, 8, 9])"
      ]
     },
     "execution_count": 216,
     "metadata": {},
     "output_type": "execute_result"
    }
   ],
   "source": [
    "array[condicion]"
   ]
  },
  {
   "cell_type": "code",
   "execution_count": 218,
   "id": "3e659c79-1772-40f3-ba4a-3635ec90c061",
   "metadata": {},
   "outputs": [
    {
     "data": {
      "text/plain": [
       "array([6, 7, 8, 9])"
      ]
     },
     "execution_count": 218,
     "metadata": {},
     "output_type": "execute_result"
    }
   ],
   "source": [
    "array[array > 5]"
   ]
  },
  {
   "cell_type": "code",
   "execution_count": 220,
   "id": "7367f064-d57b-45d1-add5-7a7670304e80",
   "metadata": {},
   "outputs": [
    {
     "data": {
      "text/plain": [
       "array([0, 2, 4, 6, 8])"
      ]
     },
     "execution_count": 220,
     "metadata": {},
     "output_type": "execute_result"
    }
   ],
   "source": [
    "array[array % 2 == 0]"
   ]
  },
  {
   "cell_type": "markdown",
   "id": "c567a315-d7cc-4a8d-8a0b-59ca89827020",
   "metadata": {},
   "source": [
    "#Numpy - Operaciones con Array"
   ]
  },
  {
   "cell_type": "code",
   "execution_count": 223,
   "id": "116687ee-5b24-456f-a62f-4bc2b8af7d15",
   "metadata": {},
   "outputs": [
    {
     "data": {
      "text/plain": [
       "array([0, 1, 2, 3, 4, 5, 6, 7, 8, 9])"
      ]
     },
     "execution_count": 223,
     "metadata": {},
     "output_type": "execute_result"
    }
   ],
   "source": [
    "array = np.arange(0,10)\n",
    "array"
   ]
  },
  {
   "cell_type": "code",
   "execution_count": 225,
   "id": "99d3300d-4a81-4af3-ac25-e451ee1802e8",
   "metadata": {},
   "outputs": [
    {
     "data": {
      "text/plain": [
       "array([ 0,  2,  4,  6,  8, 10, 12, 14, 16, 18])"
      ]
     },
     "execution_count": 225,
     "metadata": {},
     "output_type": "execute_result"
    }
   ],
   "source": [
    "array + array"
   ]
  },
  {
   "cell_type": "code",
   "execution_count": 227,
   "id": "82b9aaf4-38d2-49f9-857c-490dcc5f5352",
   "metadata": {},
   "outputs": [
    {
     "data": {
      "text/plain": [
       "array([ 0,  1,  4,  9, 16, 25, 36, 49, 64, 81])"
      ]
     },
     "execution_count": 227,
     "metadata": {},
     "output_type": "execute_result"
    }
   ],
   "source": [
    "array * array"
   ]
  },
  {
   "cell_type": "code",
   "execution_count": 229,
   "id": "1f516c17-6433-41e1-b0a9-1b12a5a8e7ac",
   "metadata": {},
   "outputs": [
    {
     "data": {
      "text/plain": [
       "array([0, 0, 0, 0, 0, 0, 0, 0, 0, 0])"
      ]
     },
     "execution_count": 229,
     "metadata": {},
     "output_type": "execute_result"
    }
   ],
   "source": [
    "array - array"
   ]
  },
  {
   "cell_type": "code",
   "execution_count": 231,
   "id": "620de054-2cac-4dfa-ad00-e4ed63a4c2e3",
   "metadata": {},
   "outputs": [
    {
     "data": {
      "text/plain": [
       "array([100, 101, 102, 103, 104, 105, 106, 107, 108, 109])"
      ]
     },
     "execution_count": 231,
     "metadata": {},
     "output_type": "execute_result"
    }
   ],
   "source": [
    "array + 100"
   ]
  },
  {
   "cell_type": "code",
   "execution_count": 233,
   "id": "ade4aa03-b5ef-47f1-9007-ed9d77ce64c8",
   "metadata": {},
   "outputs": [
    {
     "data": {
      "text/plain": [
       "array([0.        , 1.        , 1.41421356, 1.73205081, 2.        ,\n",
       "       2.23606798, 2.44948974, 2.64575131, 2.82842712, 3.        ])"
      ]
     },
     "execution_count": 233,
     "metadata": {},
     "output_type": "execute_result"
    }
   ],
   "source": [
    "np.sqrt(array)"
   ]
  },
  {
   "cell_type": "markdown",
   "id": "c20d663d-9314-455b-9a49-1f4b8340fdfe",
   "metadata": {},
   "source": [
    "#Ejercicio 1"
   ]
  },
  {
   "cell_type": "markdown",
   "id": "8523605e-0880-41c5-88c2-af7bcfd8b458",
   "metadata": {},
   "source": [
    "Crea una lista de números secuenciales con el valor mínimo de 10 y el valor máximo 39\n",
    "Convierte esta lista en una lista o matriz de 2 dimensiones (3 filas y 10 columnas)\n",
    "Muestra por pantalla el valor del elemento de la esquina superior derecha de la matriz"
   ]
  },
  {
   "cell_type": "code",
   "execution_count": 248,
   "id": "92529e45-1f34-4759-ae29-ceef90ceba7b",
   "metadata": {},
   "outputs": [],
   "source": [
    "lista = np.arange(10, 40)"
   ]
  },
  {
   "cell_type": "code",
   "execution_count": 250,
   "id": "32e625f2-cf77-4518-a0d5-011a5e2e7903",
   "metadata": {},
   "outputs": [],
   "source": [
    "lista2 = lista.reshape(3,10)"
   ]
  },
  {
   "cell_type": "code",
   "execution_count": 252,
   "id": "8886b8c0-2647-4319-9faf-4fcb5b08d629",
   "metadata": {},
   "outputs": [
    {
     "data": {
      "text/plain": [
       "19"
      ]
     },
     "execution_count": 252,
     "metadata": {},
     "output_type": "execute_result"
    }
   ],
   "source": [
    "lista2[0][-1] "
   ]
  },
  {
   "cell_type": "markdown",
   "id": "0ba6c810-f24e-4192-b2dc-45df61bf4bd9",
   "metadata": {},
   "source": [
    "#Ejercicio 1"
   ]
  },
  {
   "cell_type": "markdown",
   "id": "cfa42221-c0cc-46ff-9874-22da3e479c03",
   "metadata": {},
   "source": [
    "Crear un array que tenga 9 valores enteros aleatorios entre 0 y 100\n",
    "Convierte ese array en una matriz de dos dimension (3 filas y 3 columnas)\n",
    "Muestra por pantalla el valor del elemento de la matriz, de la esquina inferior derecha"
   ]
  },
  {
   "cell_type": "code",
   "execution_count": 258,
   "id": "9e4a2be5-0d3b-48bc-a9f4-b2a5f111fdd3",
   "metadata": {},
   "outputs": [],
   "source": [
    "array = np.random.randint(0,100,9)"
   ]
  },
  {
   "cell_type": "code",
   "execution_count": 262,
   "id": "3ddbfe60-2eef-41a9-9727-98405ba7b67f",
   "metadata": {},
   "outputs": [
    {
     "data": {
      "text/plain": [
       "array([[77, 31, 56],\n",
       "       [20, 46, 85],\n",
       "       [13, 90,  7]])"
      ]
     },
     "execution_count": 262,
     "metadata": {},
     "output_type": "execute_result"
    }
   ],
   "source": [
    "matriz = array.reshape(3,3)\n",
    "matriz"
   ]
  },
  {
   "cell_type": "code",
   "execution_count": 272,
   "id": "1078bc43-3fa7-4ccf-b755-404f832bdfb7",
   "metadata": {},
   "outputs": [
    {
     "data": {
      "text/plain": [
       "7"
      ]
     },
     "execution_count": 272,
     "metadata": {},
     "output_type": "execute_result"
    }
   ],
   "source": [
    "matriz[-1][-1]"
   ]
  },
  {
   "cell_type": "code",
   "execution_count": null,
   "id": "1481655f-b3d2-4f24-af6c-ee2006963321",
   "metadata": {},
   "outputs": [],
   "source": [
    "Ejercicio3"
   ]
  },
  {
   "cell_type": "code",
   "execution_count": 274,
   "id": "b6503e12-361c-4c46-9bf1-5f6c0af9aa78",
   "metadata": {},
   "outputs": [],
   "source": [
    "import numpy as np\n",
    "\n",
    "def generar_numeros_enteros_aleatorios(N, minimo, maximo):\n",
    "    return list(np.random.randint(minimo, maximo + 1, N))\n"
   ]
  },
  {
   "cell_type": "code",
   "execution_count": 278,
   "id": "e6566e39-a37c-4b9c-a2be-307d425222a3",
   "metadata": {},
   "outputs": [
    {
     "name": "stdout",
     "output_type": "stream",
     "text": [
      "[7, 5, 4, 8, 4, 4, 5, 5, 1, 9, 5, 2, 2, 9, 3, 2, 10, 5, 9, 2]\n"
     ]
    }
   ],
   "source": [
    "N=20\n",
    "minimo = 1\n",
    "maximo = 10\n",
    "resultado = generar_numeros_enteros_aleatorios(N, minimo, maximo)\n",
    "print(resultado)"
   ]
  },
  {
   "cell_type": "markdown",
   "id": "dc940788-53b8-44b8-86e9-b5f3be7ae89c",
   "metadata": {},
   "source": [
    "Ejecicio 3"
   ]
  },
  {
   "cell_type": "code",
   "execution_count": 283,
   "id": "298403aa-7d46-4f52-b982-440998866a88",
   "metadata": {},
   "outputs": [],
   "source": [
    "import numpy as np\n",
    "\n",
    "def generar_secuencia_numerica(minimo, maximo, paso):\n",
    "    return np.arange(minimo, maximo, paso)"
   ]
  },
  {
   "cell_type": "code",
   "execution_count": 285,
   "id": "74a6f810-a3a3-491f-9d1a-286401d123c3",
   "metadata": {},
   "outputs": [
    {
     "name": "stdout",
     "output_type": "stream",
     "text": [
      "[0 2 4 6 8]\n",
      "<class 'numpy.ndarray'>\n"
     ]
    }
   ],
   "source": [
    "minimo = 0\n",
    "maximo = 10\n",
    "paso = 2\n",
    "resultado = generar_secuencia_numerica(minimo, maximo, paso)\n",
    "print(resultado)          \n",
    "print(type(resultado))"
   ]
  },
  {
   "cell_type": "code",
   "execution_count": null,
   "id": "16210995-2258-4e86-ae47-4165be5fbb52",
   "metadata": {},
   "outputs": [],
   "source": []
  }
 ],
 "metadata": {
  "kernelspec": {
   "display_name": "Python 3 (ipykernel)",
   "language": "python",
   "name": "python3"
  },
  "language_info": {
   "codemirror_mode": {
    "name": "ipython",
    "version": 3
   },
   "file_extension": ".py",
   "mimetype": "text/x-python",
   "name": "python",
   "nbconvert_exporter": "python",
   "pygments_lexer": "ipython3",
   "version": "3.12.4"
  }
 },
 "nbformat": 4,
 "nbformat_minor": 5
}
