{
 "cells": [
  {
   "cell_type": "code",
   "execution_count": 2,
   "id": "328504b9-647d-4134-916d-73da66af0546",
   "metadata": {},
   "outputs": [
    {
     "name": "stdout",
     "output_type": "stream",
     "text": [
      "Requirement already satisfied: numpy in c:\\users\\roman\\anaconda3\\lib\\site-packages (2.2.5)\n",
      "Requirement already satisfied: pandas in c:\\users\\roman\\anaconda3\\lib\\site-packages (2.2.3)\n",
      "Requirement already satisfied: python-dateutil>=2.8.2 in c:\\users\\roman\\anaconda3\\lib\\site-packages (from pandas) (2.9.0.post0)\n",
      "Requirement already satisfied: pytz>=2020.1 in c:\\users\\roman\\anaconda3\\lib\\site-packages (from pandas) (2024.1)\n",
      "Requirement already satisfied: tzdata>=2022.7 in c:\\users\\roman\\anaconda3\\lib\\site-packages (from pandas) (2025.2)\n",
      "Requirement already satisfied: six>=1.5 in c:\\users\\roman\\anaconda3\\lib\\site-packages (from python-dateutil>=2.8.2->pandas) (1.16.0)\n",
      "Note: you may need to restart the kernel to use updated packages.\n"
     ]
    }
   ],
   "source": [
    "pip install numpy pandas"
   ]
  },
  {
   "cell_type": "code",
   "execution_count": 3,
   "id": "eebd3880-c05a-404e-af93-0c850d5519b9",
   "metadata": {},
   "outputs": [],
   "source": [
    "import numpy as np\n",
    "import pandas as pd"
   ]
  },
  {
   "cell_type": "code",
   "execution_count": 24,
   "id": "d5691688-4406-4fdb-9cd3-ceec39e3d2ee",
   "metadata": {},
   "outputs": [
    {
     "name": "stdout",
     "output_type": "stream",
     "text": [
      "Ejemplo de tipos de datos en Python:\n",
      "Número entero: 42\n",
      "Número flotante: 3.14\n",
      "Cadenas: Hola, mundo!\n",
      "Lista de números: [1, 2, 3, 4, 5]\n",
      "Lista de cadenas: ['manzana', 'banana', 'cereza']\n",
      "Diccionario: {'nombre': 'Juan', 'edad': 30, 'ciudad': 'Madrid'}\n",
      "¿Es mayor de edad? Sí\n",
      "Puntos en la tupla: (10, 20)\n",
      "Conjunto de frutas: {'cereza', 'manzana', 'banana'}\n",
      "Suma de la lista de números: 15\n"
     ]
    }
   ],
   "source": [
    "# Ejemplo del uso de diferentes tipos de datos en Python\n",
    "\n",
    "# 1. Números (enteros y flotantes)\n",
    "numero_entero = 42  # Un número entero\n",
    "numero_flotante = 3.14  # Un número flotante\n",
    "\n",
    "# 2. Cadenas de caracteres\n",
    "cadena = \"Hola, mundo!\"  # Una cadena de texto\n",
    "\n",
    "# 3. Listas\n",
    "lista_numeros = [1, 2, 3, 4, 5]  # Una lista de números\n",
    "lista_cadenas = [\"manzana\", \"banana\", \"cereza\"]  # Una lista de cadenas\n",
    "\n",
    "# 4. Diccionarios\n",
    "diccionario = {\n",
    "    \"nombre\": \"Juan\",\n",
    "    \"edad\": 30,\n",
    "    \"ciudad\": \"Madrid\"\n",
    "}  # Un diccionario que relaciona claves con valores\n",
    "\n",
    "# 5. Tipo booleano\n",
    "es_mayor_de_edad = True  # Un valor booleano que indica si alguien es mayor de edad\n",
    "\n",
    "# 6. Tuplas\n",
    "tupla_puntos = (10, 20)  # Una tupla que contiene coordenadas (x, y)\n",
    "\n",
    "# 7. Conjuntos\n",
    "conjunto_frutas = {\"manzana\", \"banana\", \"cereza\"}  # Un conjunto de frutas (sin duplicados)\n",
    "\n",
    "# Ejemplo de impresión formateada usando todos los tipos de datos\n",
    "print(f\"Ejemplo de tipos de datos en Python:\")\n",
    "print(f\"Número entero: {numero_entero}\")\n",
    "print(f\"Número flotante: {numero_flotante:.2f}\")  # Formato con 2 decimales\n",
    "print(f\"Cadenas: {cadena}\")\n",
    "print(f\"Lista de números: {lista_numeros}\")\n",
    "print(f\"Lista de cadenas: {lista_cadenas}\")\n",
    "print(f\"Diccionario: {diccionario}\")\n",
    "print(f\"¿Es mayor de edad? {'Sí' if es_mayor_de_edad else 'No'}\")\n",
    "print(f\"Puntos en la tupla: {tupla_puntos}\")\n",
    "print(f\"Conjunto de frutas: {conjunto_frutas}\")\n",
    "\n",
    "# Usando los datos en una operación\n",
    "suma_lista = sum(lista_numeros)  # Sumar todos los elementos de la lista\n",
    "print(f\"Suma de la lista de números: {suma_lista}\")"
   ]
  },
  {
   "cell_type": "code",
   "execution_count": null,
   "id": "c4c81486-3621-4d72-8d22-b68b5dca6148",
   "metadata": {},
   "outputs": [],
   "source": []
  },
  {
   "cell_type": "code",
   "execution_count": 25,
   "id": "95927cda-4c3a-40f7-8edb-d885c5172842",
   "metadata": {},
   "outputs": [
    {
     "name": "stdout",
     "output_type": "stream",
     "text": [
      "Array de NumPy: [1 2 3 4 5]\n",
      "Array después de sumar 10: [11 12 13 14 15]\n",
      "Array después de multiplicar por 2: [ 2  4  6  8 10]\n",
      "Media del array: 3.0\n",
      "Elementos del array mayores que 3: [4 5]\n",
      "Array reshaped (5x1):\n",
      " [[1]\n",
      " [2]\n",
      " [3]\n",
      " [4]\n",
      " [5]]\n"
     ]
    }
   ],
   "source": [
    "# Lista de números que se convertirá en un array\n",
    "lista = [1, 2, 3, 4, 5]  # Lista original\n",
    "\n",
    "# Convertir la lista a un array de NumPy\n",
    "array = np.array(lista)  # Crear un array a partir de la lista\n",
    "\n",
    "# Imprimir el array resultante\n",
    "print(\"Array de NumPy:\", array)\n",
    "\n",
    "# Operaciones con el array\n",
    "# 1. Sumar un valor a cada elemento del array\n",
    "array_sumado = array + 10  # Sumar 10 a cada elemento\n",
    "print(\"Array después de sumar 10:\", array_sumado)\n",
    "\n",
    "# 2. Multiplicar cada elemento del array por un valor\n",
    "array_multiplicado = array * 2  # Multiplicar por 2\n",
    "print(\"Array después de multiplicar por 2:\", array_multiplicado)\n",
    "\n",
    "# 3. Calcular la media del array\n",
    "media = np.mean(array)  # Calcular la media\n",
    "print(\"Media del array:\", media)\n",
    "\n",
    "# 4. Filtrar elementos mayores que un valor\n",
    "filtro = array[array > 3]  # Filtrar elementos mayores que 3\n",
    "print(\"Elementos del array mayores que 3:\", filtro)\n",
    "\n",
    "# 5. Cambiar la forma del array (reshape)\n",
    "array_reshaped = array.reshape((5, 1))  # Cambiar la forma del array a una columna\n",
    "print(\"Array reshaped (5x1):\\n\", array_reshaped)"
   ]
  },
  {
   "cell_type": "code",
   "execution_count": null,
   "id": "7d887e00-c198-400e-9f49-85a61c67a772",
   "metadata": {},
   "outputs": [],
   "source": []
  },
  {
   "cell_type": "code",
   "execution_count": 26,
   "id": "a1c50fb8-21fe-4dd0-9177-134a04b1e640",
   "metadata": {},
   "outputs": [],
   "source": [
    "diccionario1 = {'A':[1,2,3], 'B':[4,5,6], 'C':[7,8,9]}\n",
    "dataframe1 = pd.DataFrame(diccionario1)"
   ]
  },
  {
   "cell_type": "code",
   "execution_count": 27,
   "id": "1966a7be-b1b7-4a0f-a936-39e1d838f565",
   "metadata": {},
   "outputs": [
    {
     "data": {
      "text/html": [
       "<div>\n",
       "<style scoped>\n",
       "    .dataframe tbody tr th:only-of-type {\n",
       "        vertical-align: middle;\n",
       "    }\n",
       "\n",
       "    .dataframe tbody tr th {\n",
       "        vertical-align: top;\n",
       "    }\n",
       "\n",
       "    .dataframe thead th {\n",
       "        text-align: right;\n",
       "    }\n",
       "</style>\n",
       "<table border=\"1\" class=\"dataframe\">\n",
       "  <thead>\n",
       "    <tr style=\"text-align: right;\">\n",
       "      <th></th>\n",
       "      <th>A</th>\n",
       "      <th>B</th>\n",
       "      <th>C</th>\n",
       "    </tr>\n",
       "  </thead>\n",
       "  <tbody>\n",
       "    <tr>\n",
       "      <th>0</th>\n",
       "      <td>1</td>\n",
       "      <td>4</td>\n",
       "      <td>7</td>\n",
       "    </tr>\n",
       "    <tr>\n",
       "      <th>1</th>\n",
       "      <td>2</td>\n",
       "      <td>5</td>\n",
       "      <td>8</td>\n",
       "    </tr>\n",
       "    <tr>\n",
       "      <th>2</th>\n",
       "      <td>3</td>\n",
       "      <td>6</td>\n",
       "      <td>9</td>\n",
       "    </tr>\n",
       "  </tbody>\n",
       "</table>\n",
       "</div>"
      ],
      "text/plain": [
       "   A  B  C\n",
       "0  1  4  7\n",
       "1  2  5  8\n",
       "2  3  6  9"
      ]
     },
     "execution_count": 27,
     "metadata": {},
     "output_type": "execute_result"
    }
   ],
   "source": [
    "dataframe1"
   ]
  },
  {
   "cell_type": "code",
   "execution_count": 28,
   "id": "6d3df7f3-2727-41e0-978d-df065070ce48",
   "metadata": {},
   "outputs": [],
   "source": [
    "diccionario2 = {'A':[11,12,13], 'B':[14,15,16], 'C':[17,18,19]}\n",
    "dataframe2 = pd.DataFrame(diccionario2)"
   ]
  },
  {
   "cell_type": "code",
   "execution_count": 29,
   "id": "7b17f157-955b-4d22-84a5-6ae29acf435e",
   "metadata": {},
   "outputs": [
    {
     "data": {
      "text/html": [
       "<div>\n",
       "<style scoped>\n",
       "    .dataframe tbody tr th:only-of-type {\n",
       "        vertical-align: middle;\n",
       "    }\n",
       "\n",
       "    .dataframe tbody tr th {\n",
       "        vertical-align: top;\n",
       "    }\n",
       "\n",
       "    .dataframe thead th {\n",
       "        text-align: right;\n",
       "    }\n",
       "</style>\n",
       "<table border=\"1\" class=\"dataframe\">\n",
       "  <thead>\n",
       "    <tr style=\"text-align: right;\">\n",
       "      <th></th>\n",
       "      <th>A</th>\n",
       "      <th>B</th>\n",
       "      <th>C</th>\n",
       "    </tr>\n",
       "  </thead>\n",
       "  <tbody>\n",
       "    <tr>\n",
       "      <th>0</th>\n",
       "      <td>11</td>\n",
       "      <td>14</td>\n",
       "      <td>17</td>\n",
       "    </tr>\n",
       "    <tr>\n",
       "      <th>1</th>\n",
       "      <td>12</td>\n",
       "      <td>15</td>\n",
       "      <td>18</td>\n",
       "    </tr>\n",
       "    <tr>\n",
       "      <th>2</th>\n",
       "      <td>13</td>\n",
       "      <td>16</td>\n",
       "      <td>19</td>\n",
       "    </tr>\n",
       "  </tbody>\n",
       "</table>\n",
       "</div>"
      ],
      "text/plain": [
       "    A   B   C\n",
       "0  11  14  17\n",
       "1  12  15  18\n",
       "2  13  16  19"
      ]
     },
     "execution_count": 29,
     "metadata": {},
     "output_type": "execute_result"
    }
   ],
   "source": [
    "dataframe2"
   ]
  },
  {
   "cell_type": "code",
   "execution_count": 36,
   "id": "5208211c-5674-4fee-98d0-5fb63edffbee",
   "metadata": {},
   "outputs": [],
   "source": [
    "diccionario3 = {\n",
    "    'dias': [\"Lunes\", \"Martes\", \"Martes\", \"Lunes\", \"Miercoles\"],\n",
    "    'numero': [14, 15, 16, 7, 8],\n",
    "    'tiempo': [\"mañana\", \"mañana\", \"mañana\", \"tarde\", \"tarde\"]\n",
    "}\n",
    "dataframe3 = pd.DataFrame(diccionario3)"
   ]
  },
  {
   "cell_type": "code",
   "execution_count": 37,
   "id": "d25e1d84-061e-4913-9f15-6659a4780957",
   "metadata": {},
   "outputs": [
    {
     "data": {
      "text/html": [
       "<div>\n",
       "<style scoped>\n",
       "    .dataframe tbody tr th:only-of-type {\n",
       "        vertical-align: middle;\n",
       "    }\n",
       "\n",
       "    .dataframe tbody tr th {\n",
       "        vertical-align: top;\n",
       "    }\n",
       "\n",
       "    .dataframe thead th {\n",
       "        text-align: right;\n",
       "    }\n",
       "</style>\n",
       "<table border=\"1\" class=\"dataframe\">\n",
       "  <thead>\n",
       "    <tr style=\"text-align: right;\">\n",
       "      <th></th>\n",
       "      <th>dias</th>\n",
       "      <th>numero</th>\n",
       "      <th>tiempo</th>\n",
       "    </tr>\n",
       "  </thead>\n",
       "  <tbody>\n",
       "    <tr>\n",
       "      <th>0</th>\n",
       "      <td>Lunes</td>\n",
       "      <td>14</td>\n",
       "      <td>mañana</td>\n",
       "    </tr>\n",
       "    <tr>\n",
       "      <th>1</th>\n",
       "      <td>Martes</td>\n",
       "      <td>15</td>\n",
       "      <td>mañana</td>\n",
       "    </tr>\n",
       "    <tr>\n",
       "      <th>2</th>\n",
       "      <td>Martes</td>\n",
       "      <td>16</td>\n",
       "      <td>mañana</td>\n",
       "    </tr>\n",
       "    <tr>\n",
       "      <th>3</th>\n",
       "      <td>Lunes</td>\n",
       "      <td>7</td>\n",
       "      <td>tarde</td>\n",
       "    </tr>\n",
       "    <tr>\n",
       "      <th>4</th>\n",
       "      <td>Miercoles</td>\n",
       "      <td>8</td>\n",
       "      <td>tarde</td>\n",
       "    </tr>\n",
       "  </tbody>\n",
       "</table>\n",
       "</div>"
      ],
      "text/plain": [
       "        dias  numero  tiempo\n",
       "0      Lunes      14  mañana\n",
       "1     Martes      15  mañana\n",
       "2     Martes      16  mañana\n",
       "3      Lunes       7   tarde\n",
       "4  Miercoles       8   tarde"
      ]
     },
     "execution_count": 37,
     "metadata": {},
     "output_type": "execute_result"
    }
   ],
   "source": [
    "dataframe3"
   ]
  },
  {
   "cell_type": "code",
   "execution_count": 38,
   "id": "6ca56c2d-db53-4596-a00d-180689c612fa",
   "metadata": {},
   "outputs": [
    {
     "data": {
      "text/html": [
       "<div>\n",
       "<style scoped>\n",
       "    .dataframe tbody tr th:only-of-type {\n",
       "        vertical-align: middle;\n",
       "    }\n",
       "\n",
       "    .dataframe tbody tr th {\n",
       "        vertical-align: top;\n",
       "    }\n",
       "\n",
       "    .dataframe thead th {\n",
       "        text-align: right;\n",
       "    }\n",
       "</style>\n",
       "<table border=\"1\" class=\"dataframe\">\n",
       "  <thead>\n",
       "    <tr style=\"text-align: right;\">\n",
       "      <th></th>\n",
       "      <th>A</th>\n",
       "      <th>B</th>\n",
       "      <th>C</th>\n",
       "    </tr>\n",
       "  </thead>\n",
       "  <tbody>\n",
       "    <tr>\n",
       "      <th>0</th>\n",
       "      <td>1</td>\n",
       "      <td>4</td>\n",
       "      <td>7</td>\n",
       "    </tr>\n",
       "    <tr>\n",
       "      <th>1</th>\n",
       "      <td>2</td>\n",
       "      <td>5</td>\n",
       "      <td>8</td>\n",
       "    </tr>\n",
       "    <tr>\n",
       "      <th>2</th>\n",
       "      <td>3</td>\n",
       "      <td>6</td>\n",
       "      <td>9</td>\n",
       "    </tr>\n",
       "    <tr>\n",
       "      <th>0</th>\n",
       "      <td>11</td>\n",
       "      <td>14</td>\n",
       "      <td>17</td>\n",
       "    </tr>\n",
       "    <tr>\n",
       "      <th>1</th>\n",
       "      <td>12</td>\n",
       "      <td>15</td>\n",
       "      <td>18</td>\n",
       "    </tr>\n",
       "    <tr>\n",
       "      <th>2</th>\n",
       "      <td>13</td>\n",
       "      <td>16</td>\n",
       "      <td>19</td>\n",
       "    </tr>\n",
       "  </tbody>\n",
       "</table>\n",
       "</div>"
      ],
      "text/plain": [
       "    A   B   C\n",
       "0   1   4   7\n",
       "1   2   5   8\n",
       "2   3   6   9\n",
       "0  11  14  17\n",
       "1  12  15  18\n",
       "2  13  16  19"
      ]
     },
     "execution_count": 38,
     "metadata": {},
     "output_type": "execute_result"
    }
   ],
   "source": [
    "pd.concat([dataframe1,dataframe2])"
   ]
  },
  {
   "cell_type": "code",
   "execution_count": 39,
   "id": "13d39218-c08b-44e0-b311-12740ad6feb4",
   "metadata": {},
   "outputs": [
    {
     "data": {
      "text/plain": [
       "dias\n",
       "Lunes        10.5\n",
       "Martes       15.5\n",
       "Miercoles     8.0\n",
       "Name: numero, dtype: float64"
      ]
     },
     "execution_count": 39,
     "metadata": {},
     "output_type": "execute_result"
    }
   ],
   "source": [
    "dataframe3.groupby(\"dias\")[\"numero\"].mean()"
   ]
  },
  {
   "cell_type": "markdown",
   "id": "e1ba4bbe-17f1-4069-a9d2-4ed40a2fb64a",
   "metadata": {},
   "source": [
    "### 📚 Bibliotecas Fundamentales en Python para Ciencia de Datos\n",
    "\n",
    "- **NumPy**  \n",
    "  NumPy ofrece un tipo de colección de datos muy eficiente llamado `array` (o `ndarray`). Este tipo de estructura permite trabajar con vectores y matrices de forma rápida y optimizada. Es ideal para operaciones matemáticas y de álgebra lineal, estadísticas, y transformaciones numéricas. Es la base sobre la que se construyen muchas otras bibliotecas científicas en Python.\n",
    "\n",
    "- **Pandas**  \n",
    "  Pandas se apoya internamente en NumPy y proporciona estructuras de datos de más alto nivel, especialmente el `DataFrame`, que es una tabla bidimensional similar a una hoja de cálculo. Esta biblioteca permite cargar, limpiar, transformar, analizar y exportar datos con facilidad. Es una herramienta esencial para el análisis y manipulación de datos en Python.\n",
    "\n",
    "- **Bibliotecas de visualización**  \n",
    "  Para representar gráficamente los datos de forma clara e informativa, se utilizan bibliotecas como:\n",
    "  - `Matplotlib`: para gráficos básicos y personalizables (líneas, barras, dispersión, etc.).\n",
    "  - `Seaborn`: construida sobre Matplotlib, permite crear gráficos estadísticos atractivos con menos código.\n",
    "  - `Plotly`: permite generar visualizaciones interactivas útiles en notebooks y dashboards web.\n",
    "\n",
    "📌 Estas bibliotecas se usan juntas frecuentemente: NumPy para cálculos, Pandas para gestionar los datos y bibliotecas de visualización para mostrar los resultados de forma efectiva.\n"
   ]
  },
  {
   "cell_type": "code",
   "execution_count": null,
   "id": "a39e68d8-db55-4030-9a02-d8ef2032220b",
   "metadata": {},
   "outputs": [],
   "source": []
  }
 ],
 "metadata": {
  "kernelspec": {
   "display_name": "Python 3 (ipykernel)",
   "language": "python",
   "name": "python3"
  },
  "language_info": {
   "codemirror_mode": {
    "name": "ipython",
    "version": 3
   },
   "file_extension": ".py",
   "mimetype": "text/x-python",
   "name": "python",
   "nbconvert_exporter": "python",
   "pygments_lexer": "ipython3",
   "version": "3.12.7"
  }
 },
 "nbformat": 4,
 "nbformat_minor": 5
}
