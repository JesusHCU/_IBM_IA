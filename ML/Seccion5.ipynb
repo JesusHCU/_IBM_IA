{
 "cells": [
  {
   "cell_type": "markdown",
   "id": "8c163ff2-ec1c-4467-a429-47632818639c",
   "metadata": {},
   "source": [
    "#Pandas"
   ]
  },
  {
   "cell_type": "code",
   "execution_count": 86,
   "id": "92ace0e9-2a44-480a-8a69-2b7b11796d44",
   "metadata": {},
   "outputs": [
    {
     "name": "stdout",
     "output_type": "stream",
     "text": [
      "Serie de pandas creada:\n",
      " a    1\n",
      "b    2\n",
      "c    3\n",
      "d    4\n",
      "e    5\n",
      "dtype: int64\n",
      "\n",
      "Elemento con etiqueta 'c': 3\n",
      "\n",
      "Subconjunto de la Serie desde 'b' hasta 'd':\n",
      " b    2\n",
      "c    3\n",
      "d    4\n",
      "dtype: int64\n",
      "\n",
      "Serie después de agregar un nuevo elemento:\n",
      " a    1\n",
      "b    2\n",
      "c    3\n",
      "d    4\n",
      "e    5\n",
      "f    6\n",
      "dtype: int64\n",
      "\n",
      "Serie después de eliminar el elemento con etiqueta 'a':\n",
      " b    2\n",
      "c    3\n",
      "d    4\n",
      "e    5\n",
      "f    6\n",
      "dtype: int64\n",
      "\n",
      "Estadísticas descriptivas de la Serie:\n",
      " count    5.000000\n",
      "mean     4.000000\n",
      "std      1.581139\n",
      "min      2.000000\n",
      "25%      3.000000\n",
      "50%      4.000000\n",
      "75%      5.000000\n",
      "max      6.000000\n",
      "dtype: float64\n"
     ]
    }
   ],
   "source": [
    "import pandas as pd  # Importar la biblioteca pandas\n",
    "\n",
    "# 1. Definir las etiquetas para los índices de la Serie\n",
    "etiquetas = ['a', 'b', 'c', 'd', 'e']\n",
    "\n",
    "# 2. Definir los datos que se asociarán a las etiquetas\n",
    "datos = [1, 2, 3, 4, 5]\n",
    "\n",
    "# 3. Crear una Serie de pandas\n",
    "# La Serie es una estructura de datos unidimensional que puede contener \n",
    "# cualquier tipo de datos y se asocia a un índice, que en este caso son las etiquetas.\n",
    "serie = pd.Series(data=datos, index=etiquetas)\n",
    "\n",
    "# 4. Mostrar la Serie\n",
    "print(\"Serie de pandas creada:\\n\", serie)\n",
    "\n",
    "# 5. Acceder a un elemento específico usando su etiqueta\n",
    "print(\"\\nElemento con etiqueta 'c':\", serie['c'])  # Acceder al valor con etiqueta 'c'\n",
    "\n",
    "# 6. Acceder a un subconjunto de la Serie usando un rango de etiquetas\n",
    "subconjunto = serie['b':'d']  # Accede a las etiquetas desde 'b' hasta 'd' (incluyendo ambas)\n",
    "print(\"\\nSubconjunto de la Serie desde 'b' hasta 'd':\\n\", subconjunto)\n",
    "\n",
    "# 7. Agregar un nuevo elemento a la Serie\n",
    "serie['f'] = 6  # Agrega una nueva etiqueta 'f' con valor 6\n",
    "print(\"\\nSerie después de agregar un nuevo elemento:\\n\", serie)\n",
    "\n",
    "# 8. Eliminar un elemento de la Serie\n",
    "serie = serie.drop('a')  # Elimina la etiqueta 'a'\n",
    "print(\"\\nSerie después de eliminar el elemento con etiqueta 'a':\\n\", serie)\n",
    "\n",
    "# 9. Calcular estadísticas descriptivas de la Serie\n",
    "print(\"\\nEstadísticas descriptivas de la Serie:\\n\", serie.describe())  # Muestra estadísticas básicas"
   ]
  },
  {
   "cell_type": "code",
   "execution_count": 259,
   "id": "5d79a924-2f34-4633-a7f6-9af03516e0fc",
   "metadata": {},
   "outputs": [
    {
     "data": {
      "text/plain": [
       "a    1\n",
       "b    2\n",
       "c    3\n",
       "d    4\n",
       "e    5\n",
       "dtype: int64"
      ]
     },
     "execution_count": 259,
     "metadata": {},
     "output_type": "execute_result"
    }
   ],
   "source": [
    "etiquetas = ['a', \"b\", \"c\", \"d\", \"e\"]\n",
    "datos = [1,2,3,4,5]\n",
    "pd.Series(data=datos, index=etiquetas)"
   ]
  },
  {
   "cell_type": "code",
   "execution_count": 92,
   "id": "f717c3be-e563-403e-903a-9056b186aaa1",
   "metadata": {},
   "outputs": [
    {
     "name": "stdout",
     "output_type": "stream",
     "text": [
      "Serie de pandas creada:\n",
      " venta1    5\n",
      "venta2    6\n",
      "venta3    7\n",
      "dtype: int32\n",
      "\n",
      "Elemento con etiqueta 'venta2': 6\n",
      "\n",
      "Subconjunto de la Serie con etiquetas 'venta1' y 'venta3':\n",
      " venta1    5\n",
      "venta3    7\n",
      "dtype: int32\n",
      "\n",
      "Serie después de modificar el elemento con etiqueta 'venta1':\n",
      " venta1    10\n",
      "venta2     6\n",
      "venta3     7\n",
      "dtype: int32\n",
      "\n",
      "Serie después de eliminar el elemento con etiqueta 'venta2':\n",
      " venta1    10\n",
      "venta3     7\n",
      "dtype: int32\n",
      "\n",
      "Estadísticas descriptivas de la Serie:\n",
      " count     2.00000\n",
      "mean      8.50000\n",
      "std       2.12132\n",
      "min       7.00000\n",
      "25%       7.75000\n",
      "50%       8.50000\n",
      "75%       9.25000\n",
      "max      10.00000\n",
      "dtype: float64\n"
     ]
    }
   ],
   "source": [
    "import numpy as np  # Importar la biblioteca NumPy\n",
    "import pandas as pd  # Importar la biblioteca pandas\n",
    "\n",
    "# 1. Crear un array utilizando np.arange\n",
    "# np.arange(5, 8) genera un array de enteros desde 5 hasta 7 (el 8 no está incluido).\n",
    "array = np.arange(5, 8)\n",
    "\n",
    "# 2. Definir las etiquetas para la Serie\n",
    "etiquetas = [\"venta1\", \"venta2\", \"venta3\"]\n",
    "\n",
    "# 3. Crear una Serie de pandas\n",
    "# Se crea una Serie utilizando el array y las etiquetas definidas. \n",
    "# La Serie asociará cada valor del array con su respectiva etiqueta.\n",
    "serie1 = pd.Series(array, index=etiquetas)\n",
    "\n",
    "# 4. Mostrar la Serie creada\n",
    "print(\"Serie de pandas creada:\\n\", serie1)\n",
    "\n",
    "# 5. Acceder a un elemento específico usando su etiqueta\n",
    "print(\"\\nElemento con etiqueta 'venta2':\", serie1['venta2'])  # Acceder al valor con etiqueta 'venta2'\n",
    "\n",
    "# 6. Acceder a un subconjunto de la Serie utilizando etiquetas\n",
    "subconjunto = serie1[['venta1', 'venta3']]  # Accede a las etiquetas 'venta1' y 'venta3'\n",
    "print(\"\\nSubconjunto de la Serie con etiquetas 'venta1' y 'venta3':\\n\", subconjunto)\n",
    "\n",
    "# 7. Modificar un elemento de la Serie\n",
    "serie1['venta1'] = 10  # Cambiar el valor de 'venta1' a 10\n",
    "print(\"\\nSerie después de modificar el elemento con etiqueta 'venta1':\\n\", serie1)\n",
    "\n",
    "# 8. Eliminar un elemento de la Serie\n",
    "serie1 = serie1.drop('venta2')  # Elimina la etiqueta 'venta2'\n",
    "print(\"\\nSerie después de eliminar el elemento con etiqueta 'venta2':\\n\", serie1)\n",
    "\n",
    "# 9. Calcular estadísticas descriptivas de la Serie\n",
    "print(\"\\nEstadísticas descriptivas de la Serie:\\n\", serie1.describe())  # Muestra estadísticas básicas"
   ]
  },
  {
   "cell_type": "code",
   "execution_count": 261,
   "id": "997e0847-2917-4ad0-91c2-af4c46aca4a7",
   "metadata": {},
   "outputs": [
    {
     "data": {
      "text/plain": [
       "venta1    5\n",
       "venta2    6\n",
       "venta3    7\n",
       "dtype: int32"
      ]
     },
     "execution_count": 261,
     "metadata": {},
     "output_type": "execute_result"
    }
   ],
   "source": [
    "array = np.arange(5,8)\n",
    "etiquetas = [\"venta1\",\"venta2\",\"venta3\"]\n",
    "serie1 = pd.Series(array, etiquetas)\n",
    "serie1"
   ]
  },
  {
   "cell_type": "code",
   "execution_count": 263,
   "id": "a385ad94-f69f-469d-bc4e-dd0da7eac61f",
   "metadata": {},
   "outputs": [
    {
     "data": {
      "text/plain": [
       "6"
      ]
     },
     "execution_count": 263,
     "metadata": {},
     "output_type": "execute_result"
    }
   ],
   "source": [
    "serie1[\"venta2\"]"
   ]
  },
  {
   "cell_type": "code",
   "execution_count": 265,
   "id": "b50eb567-1069-4d84-ae64-0abdae4274de",
   "metadata": {},
   "outputs": [
    {
     "data": {
      "text/plain": [
       "6"
      ]
     },
     "execution_count": 265,
     "metadata": {},
     "output_type": "execute_result"
    }
   ],
   "source": [
    "serie1.iloc[1] #serie1[1] Dara error"
   ]
  },
  {
   "cell_type": "code",
   "execution_count": 267,
   "id": "fe86e5b7-88ba-495c-8f21-8eceda584095",
   "metadata": {},
   "outputs": [
    {
     "data": {
      "text/plain": [
       "0    1\n",
       "1    2\n",
       "2    3\n",
       "3    4\n",
       "4    5\n",
       "dtype: int64"
      ]
     },
     "execution_count": 267,
     "metadata": {},
     "output_type": "execute_result"
    }
   ],
   "source": [
    "datos2 = [\"informatica\",300,\"impresora\",400]\n",
    "serie2 = pd.Series(datos)\n",
    "serie2"
   ]
  },
  {
   "cell_type": "code",
   "execution_count": 94,
   "id": "0c0d4002-a392-47c0-b34f-fc7e0b0f5789",
   "metadata": {},
   "outputs": [
    {
     "name": "stdout",
     "output_type": "stream",
     "text": [
      "Serie 1:\n",
      " ventas1    1\n",
      "ventas2    2\n",
      "ventas3    3\n",
      "dtype: int64\n",
      "\n",
      "Serie 2:\n",
      " ventas1    4\n",
      "ventas2    5\n",
      "ventas3    6\n",
      "ventas4    7\n",
      "dtype: int64\n",
      "\n",
      "Suma de las Series:\n",
      " ventas1    5.0\n",
      "ventas2    7.0\n",
      "ventas3    9.0\n",
      "ventas4    NaN\n",
      "dtype: float64\n",
      "\n",
      "Suma de las Series con NaN reemplazados por 0:\n",
      " ventas1    5.0\n",
      "ventas2    7.0\n",
      "ventas3    9.0\n",
      "ventas4    0.0\n",
      "dtype: float64\n"
     ]
    }
   ],
   "source": [
    "import pandas as pd  # Importar la biblioteca pandas\n",
    "\n",
    "# 1. Crear la primera Serie\n",
    "# La primera Serie contiene tres elementos con las etiquetas 'ventas1', 'ventas2' y 'ventas3'.\n",
    "serie1 = pd.Series([1, 2, 3], [\"ventas1\", \"ventas2\", \"ventas3\"])\n",
    "\n",
    "# 2. Crear la segunda Serie\n",
    "# La segunda Serie contiene cuatro elementos, pero solo tres etiquetas coinciden con la primera Serie.\n",
    "serie2 = pd.Series([4, 5, 6, 7], [\"ventas1\", \"ventas2\", \"ventas3\", \"ventas4\"])\n",
    "\n",
    "# 3. Mostrar las Series creadas\n",
    "print(\"Serie 1:\\n\", serie1)\n",
    "print(\"\\nSerie 2:\\n\", serie2)\n",
    "\n",
    "# 4. Realizar la suma de las Series\n",
    "# Cuando se suman Series, pandas alinea automáticamente los índices.\n",
    "# Si un índice no está presente en una de las Series, se llenará con NaN (Not a Number).\n",
    "serie_suma = serie1 + serie2\n",
    "\n",
    "# 5. Mostrar el resultado de la suma\n",
    "print(\"\\nSuma de las Series:\\n\", serie_suma)\n",
    "\n",
    "# 6. Tratar los valores NaN si es necesario\n",
    "# Si deseas reemplazar los NaN con 0 en el resultado de la suma, puedes hacerlo usando fillna().\n",
    "serie_suma_reemplazada = serie_suma.fillna(0)  # Reemplazar NaN por 0\n",
    "print(\"\\nSuma de las Series con NaN reemplazados por 0:\\n\", serie_suma_reemplazada)"
   ]
  },
  {
   "cell_type": "code",
   "execution_count": 96,
   "id": "34a644db-6697-464b-8a04-4bbceb5addf9",
   "metadata": {},
   "outputs": [
    {
     "data": {
      "text/plain": [
       "ventas1    5.0\n",
       "ventas2    7.0\n",
       "ventas3    9.0\n",
       "ventas4    NaN\n",
       "dtype: float64"
      ]
     },
     "execution_count": 96,
     "metadata": {},
     "output_type": "execute_result"
    }
   ],
   "source": [
    "serie_suma #incluira un elimento NaN nulo donde no pùeda calcularlo"
   ]
  },
  {
   "cell_type": "markdown",
   "id": "ae669938-577c-441d-b75b-660699443e2b",
   "metadata": {},
   "source": [
    "#Dataframe"
   ]
  },
  {
   "cell_type": "code",
   "execution_count": 276,
   "id": "f75c1ea0-0d43-45e4-87b2-01ba99d7ddda",
   "metadata": {},
   "outputs": [],
   "source": [
    "import numpy as np \n",
    "import pandas as pd"
   ]
  },
  {
   "cell_type": "code",
   "execution_count": 98,
   "id": "76589213-ed4a-45d9-845c-a6e75b8feb9c",
   "metadata": {},
   "outputs": [
    {
     "name": "stdout",
     "output_type": "stream",
     "text": [
      "DataFrame creado:\n",
      "          zonaA  zonaB  zonaC\n",
      "ventas1    123    154    258\n",
      "ventas2    294    135    685\n",
      "ventas3    135    253    164\n",
      "\n",
      "DataFrame después de añadir 'ventas4':\n",
      "          zonaA  zonaB  zonaC\n",
      "ventas1    123    154    258\n",
      "ventas2    294    135    685\n",
      "ventas3    135    253    164\n",
      "ventas4    200    300    400\n",
      "\n",
      "Estadísticas descriptivas del DataFrame:\n",
      "             zonaA       zonaB       zonaC\n",
      "count    4.000000    4.000000    4.000000\n",
      "mean   188.000000  210.500000  376.750000\n",
      "std     78.345389   78.970459  227.246379\n",
      "min    123.000000  135.000000  164.000000\n",
      "25%    132.000000  149.250000  234.500000\n",
      "50%    167.500000  203.500000  329.000000\n",
      "75%    223.500000  264.750000  471.250000\n",
      "max    294.000000  300.000000  685.000000\n",
      "\n",
      "Datos de la columna 'zonaA':\n",
      " ventas1    123\n",
      "ventas2    294\n",
      "ventas3    135\n",
      "ventas4    200\n",
      "Name: zonaA, dtype: int64\n",
      "\n",
      "Datos de la fila 'ventas1':\n",
      " zonaA    123\n",
      "zonaB    154\n",
      "zonaC    258\n",
      "Name: ventas1, dtype: int64\n",
      "\n",
      "DataFrame transpuesto:\n",
      "        ventas1  ventas2  ventas3  ventas4\n",
      "zonaA      123      294      135      200\n",
      "zonaB      154      135      253      300\n",
      "zonaC      258      685      164      400\n"
     ]
    }
   ],
   "source": [
    "import pandas as pd  # Importar la biblioteca pandas\n",
    "\n",
    "# 1. Definir las etiquetas para las filas y columnas\n",
    "filas = ['ventas1', 'ventas2', 'ventas3']  # Etiquetas de las filas\n",
    "columnas = ['zonaA', 'zonaB', 'zonaC']      # Etiquetas de las columnas\n",
    "\n",
    "# 2. Definir los datos para el DataFrame\n",
    "# Cada sublista representa una fila en el DataFrame.\n",
    "datos = [\n",
    "    [123, 154, 258],  # Datos para ventas1\n",
    "    [294, 135, 685],  # Datos para ventas2\n",
    "    [135, 253, 164]   # Datos para ventas3\n",
    "]\n",
    "\n",
    "# 3. Crear el DataFrame\n",
    "# Se utiliza pd.DataFrame() para crear el DataFrame, pasando los datos, las etiquetas de filas y columnas.\n",
    "dataframe = pd.DataFrame(datos, index=filas, columns=columnas)\n",
    "\n",
    "# 4. Mostrar el DataFrame creado\n",
    "print(\"DataFrame creado:\\n\", dataframe)\n",
    "\n",
    "# 5. Añadir una nueva fila al DataFrame\n",
    "nueva_venta = [200, 300, 400]  # Datos para la nueva fila\n",
    "dataframe.loc['ventas4'] = nueva_venta  # Agregar la nueva fila usando la etiqueta 'ventas4'\n",
    "\n",
    "# 6. Mostrar el DataFrame después de añadir la nueva fila\n",
    "print(\"\\nDataFrame después de añadir 'ventas4':\\n\", dataframe)\n",
    "\n",
    "# 7. Calcular estadísticas descriptivas\n",
    "# Esto proporcionará información útil sobre las columnas, como el conteo, la media, etc.\n",
    "estadisticas = dataframe.describe()\n",
    "print(\"\\nEstadísticas descriptivas del DataFrame:\\n\", estadisticas)\n",
    "\n",
    "# 8. Acceder a una columna específica\n",
    "zonaA = dataframe['zonaA']  # Acceder a la columna 'zonaA'\n",
    "print(\"\\nDatos de la columna 'zonaA':\\n\", zonaA)\n",
    "\n",
    "# 9. Acceder a una fila específica\n",
    "venta1 = dataframe.loc['ventas1']  # Acceder a la fila 'ventas1'\n",
    "print(\"\\nDatos de la fila 'ventas1':\\n\", venta1)\n",
    "\n",
    "# 10. Transponer el DataFrame\n",
    "# Esto intercambia filas por columnas, lo que puede ser útil para visualizar los datos de otra manera.\n",
    "dataframe_transpuesto = dataframe.T\n",
    "print(\"\\nDataFrame transpuesto:\\n\", dataframe_transpuesto)"
   ]
  },
  {
   "cell_type": "code",
   "execution_count": 100,
   "id": "45806d4a-a7ad-46b1-b0ce-e3482a253f33",
   "metadata": {},
   "outputs": [
    {
     "data": {
      "text/plain": [
       "zonaA    123\n",
       "zonaB    154\n",
       "zonaC    258\n",
       "Name: ventas1, dtype: int64"
      ]
     },
     "execution_count": 100,
     "metadata": {},
     "output_type": "execute_result"
    }
   ],
   "source": [
    "dataframe.loc[\"ventas1\"]"
   ]
  },
  {
   "cell_type": "code",
   "execution_count": 102,
   "id": "9c9ff84e-b739-405b-85c9-4f403d7b1f51",
   "metadata": {},
   "outputs": [
    {
     "data": {
      "text/plain": [
       "zonaA    294\n",
       "zonaB    135\n",
       "zonaC    685\n",
       "Name: ventas2, dtype: int64"
      ]
     },
     "execution_count": 102,
     "metadata": {},
     "output_type": "execute_result"
    }
   ],
   "source": [
    "dataframe.iloc[1]"
   ]
  },
  {
   "cell_type": "code",
   "execution_count": 104,
   "id": "13ec4c0c-193e-4b7f-abb2-250cd7bd2a58",
   "metadata": {},
   "outputs": [
    {
     "data": {
      "text/html": [
       "<div>\n",
       "<style scoped>\n",
       "    .dataframe tbody tr th:only-of-type {\n",
       "        vertical-align: middle;\n",
       "    }\n",
       "\n",
       "    .dataframe tbody tr th {\n",
       "        vertical-align: top;\n",
       "    }\n",
       "\n",
       "    .dataframe thead th {\n",
       "        text-align: right;\n",
       "    }\n",
       "</style>\n",
       "<table border=\"1\" class=\"dataframe\">\n",
       "  <thead>\n",
       "    <tr style=\"text-align: right;\">\n",
       "      <th></th>\n",
       "      <th>zonaA</th>\n",
       "      <th>zonaB</th>\n",
       "      <th>zonaC</th>\n",
       "    </tr>\n",
       "  </thead>\n",
       "  <tbody>\n",
       "    <tr>\n",
       "      <th>ventas1</th>\n",
       "      <td>123</td>\n",
       "      <td>154</td>\n",
       "      <td>258</td>\n",
       "    </tr>\n",
       "    <tr>\n",
       "      <th>ventas2</th>\n",
       "      <td>294</td>\n",
       "      <td>135</td>\n",
       "      <td>685</td>\n",
       "    </tr>\n",
       "  </tbody>\n",
       "</table>\n",
       "</div>"
      ],
      "text/plain": [
       "         zonaA  zonaB  zonaC\n",
       "ventas1    123    154    258\n",
       "ventas2    294    135    685"
      ]
     },
     "execution_count": 104,
     "metadata": {},
     "output_type": "execute_result"
    }
   ],
   "source": [
    "dataframe.loc[[\"ventas1\", \"ventas2\"]]"
   ]
  },
  {
   "cell_type": "code",
   "execution_count": 106,
   "id": "43b83482-47a0-4417-8536-f1570f5d9bf2",
   "metadata": {},
   "outputs": [
    {
     "data": {
      "text/html": [
       "<div>\n",
       "<style scoped>\n",
       "    .dataframe tbody tr th:only-of-type {\n",
       "        vertical-align: middle;\n",
       "    }\n",
       "\n",
       "    .dataframe tbody tr th {\n",
       "        vertical-align: top;\n",
       "    }\n",
       "\n",
       "    .dataframe thead th {\n",
       "        text-align: right;\n",
       "    }\n",
       "</style>\n",
       "<table border=\"1\" class=\"dataframe\">\n",
       "  <thead>\n",
       "    <tr style=\"text-align: right;\">\n",
       "      <th></th>\n",
       "      <th>zonaA</th>\n",
       "      <th>zonaB</th>\n",
       "      <th>zonaC</th>\n",
       "    </tr>\n",
       "  </thead>\n",
       "  <tbody>\n",
       "    <tr>\n",
       "      <th>ventas2</th>\n",
       "      <td>294</td>\n",
       "      <td>135</td>\n",
       "      <td>685</td>\n",
       "    </tr>\n",
       "    <tr>\n",
       "      <th>ventas3</th>\n",
       "      <td>135</td>\n",
       "      <td>253</td>\n",
       "      <td>164</td>\n",
       "    </tr>\n",
       "  </tbody>\n",
       "</table>\n",
       "</div>"
      ],
      "text/plain": [
       "         zonaA  zonaB  zonaC\n",
       "ventas2    294    135    685\n",
       "ventas3    135    253    164"
      ]
     },
     "execution_count": 106,
     "metadata": {},
     "output_type": "execute_result"
    }
   ],
   "source": [
    "dataframe.iloc[[1, 2]]"
   ]
  },
  {
   "cell_type": "code",
   "execution_count": 288,
   "id": "0ae94897-185e-44b5-83ed-3d90c0485ab4",
   "metadata": {},
   "outputs": [
    {
     "data": {
      "text/html": [
       "<div>\n",
       "<style scoped>\n",
       "    .dataframe tbody tr th:only-of-type {\n",
       "        vertical-align: middle;\n",
       "    }\n",
       "\n",
       "    .dataframe tbody tr th {\n",
       "        vertical-align: top;\n",
       "    }\n",
       "\n",
       "    .dataframe thead th {\n",
       "        text-align: right;\n",
       "    }\n",
       "</style>\n",
       "<table border=\"1\" class=\"dataframe\">\n",
       "  <thead>\n",
       "    <tr style=\"text-align: right;\">\n",
       "      <th></th>\n",
       "      <th>zonaA</th>\n",
       "      <th>zonaB</th>\n",
       "      <th>zonaC</th>\n",
       "    </tr>\n",
       "  </thead>\n",
       "  <tbody>\n",
       "    <tr>\n",
       "      <th>ventas1</th>\n",
       "      <td>123</td>\n",
       "      <td>154</td>\n",
       "      <td>258</td>\n",
       "    </tr>\n",
       "    <tr>\n",
       "      <th>ventas2</th>\n",
       "      <td>294</td>\n",
       "      <td>135</td>\n",
       "      <td>685</td>\n",
       "    </tr>\n",
       "    <tr>\n",
       "      <th>ventas3</th>\n",
       "      <td>135</td>\n",
       "      <td>253</td>\n",
       "      <td>164</td>\n",
       "    </tr>\n",
       "  </tbody>\n",
       "</table>\n",
       "</div>"
      ],
      "text/plain": [
       "         zonaA  zonaB  zonaC\n",
       "ventas1    123    154    258\n",
       "ventas2    294    135    685\n",
       "ventas3    135    253    164"
      ]
     },
     "execution_count": 288,
     "metadata": {},
     "output_type": "execute_result"
    }
   ],
   "source": [
    "dataframe"
   ]
  },
  {
   "cell_type": "code",
   "execution_count": 290,
   "id": "72e895e8-53d6-4b90-92d1-4f67d6a220b8",
   "metadata": {},
   "outputs": [
    {
     "data": {
      "text/plain": [
       "ventas1    123\n",
       "ventas2    294\n",
       "ventas3    135\n",
       "Name: zonaA, dtype: int64"
      ]
     },
     "execution_count": 290,
     "metadata": {},
     "output_type": "execute_result"
    }
   ],
   "source": [
    "dataframe[\"zonaA\"]"
   ]
  },
  {
   "cell_type": "code",
   "execution_count": 292,
   "id": "044dfd20-a3d6-4bc3-824b-957e4bcaa2bc",
   "metadata": {},
   "outputs": [
    {
     "data": {
      "text/html": [
       "<div>\n",
       "<style scoped>\n",
       "    .dataframe tbody tr th:only-of-type {\n",
       "        vertical-align: middle;\n",
       "    }\n",
       "\n",
       "    .dataframe tbody tr th {\n",
       "        vertical-align: top;\n",
       "    }\n",
       "\n",
       "    .dataframe thead th {\n",
       "        text-align: right;\n",
       "    }\n",
       "</style>\n",
       "<table border=\"1\" class=\"dataframe\">\n",
       "  <thead>\n",
       "    <tr style=\"text-align: right;\">\n",
       "      <th></th>\n",
       "      <th>zonaA</th>\n",
       "      <th>zonaB</th>\n",
       "    </tr>\n",
       "  </thead>\n",
       "  <tbody>\n",
       "    <tr>\n",
       "      <th>ventas1</th>\n",
       "      <td>123</td>\n",
       "      <td>154</td>\n",
       "    </tr>\n",
       "    <tr>\n",
       "      <th>ventas2</th>\n",
       "      <td>294</td>\n",
       "      <td>135</td>\n",
       "    </tr>\n",
       "    <tr>\n",
       "      <th>ventas3</th>\n",
       "      <td>135</td>\n",
       "      <td>253</td>\n",
       "    </tr>\n",
       "  </tbody>\n",
       "</table>\n",
       "</div>"
      ],
      "text/plain": [
       "         zonaA  zonaB\n",
       "ventas1    123    154\n",
       "ventas2    294    135\n",
       "ventas3    135    253"
      ]
     },
     "execution_count": 292,
     "metadata": {},
     "output_type": "execute_result"
    }
   ],
   "source": [
    "dataframe[[\"zonaA\", \"zonaB\"]] #filas no hace falta indicar iloc o loc"
   ]
  },
  {
   "cell_type": "code",
   "execution_count": 294,
   "id": "9162a070-e9ae-4ee3-be6c-558d06a02d1e",
   "metadata": {},
   "outputs": [
    {
     "data": {
      "text/plain": [
       "123"
      ]
     },
     "execution_count": 294,
     "metadata": {},
     "output_type": "execute_result"
    }
   ],
   "source": [
    "dataframe.loc[\"ventas1\"][\"zonaA\"] #primero filas"
   ]
  },
  {
   "cell_type": "code",
   "execution_count": 296,
   "id": "83b20540-dd80-4174-a3f6-b375cfa244a6",
   "metadata": {},
   "outputs": [
    {
     "data": {
      "text/plain": [
       "123"
      ]
     },
     "execution_count": 296,
     "metadata": {},
     "output_type": "execute_result"
    }
   ],
   "source": [
    "dataframe[\"zonaA\"][\"ventas1\"] #primero columnas"
   ]
  },
  {
   "cell_type": "code",
   "execution_count": 298,
   "id": "d79ccd20-c4f4-4748-9aee-f912a89b8c5b",
   "metadata": {},
   "outputs": [
    {
     "data": {
      "text/plain": [
       "123"
      ]
     },
     "execution_count": 298,
     "metadata": {},
     "output_type": "execute_result"
    }
   ],
   "source": [
    "dataframe.iloc[0, 0]"
   ]
  },
  {
   "cell_type": "code",
   "execution_count": 300,
   "id": "c6db19ab-e837-47ee-a139-79675f4e65a6",
   "metadata": {},
   "outputs": [
    {
     "data": {
      "text/html": [
       "<div>\n",
       "<style scoped>\n",
       "    .dataframe tbody tr th:only-of-type {\n",
       "        vertical-align: middle;\n",
       "    }\n",
       "\n",
       "    .dataframe tbody tr th {\n",
       "        vertical-align: top;\n",
       "    }\n",
       "\n",
       "    .dataframe thead th {\n",
       "        text-align: right;\n",
       "    }\n",
       "</style>\n",
       "<table border=\"1\" class=\"dataframe\">\n",
       "  <thead>\n",
       "    <tr style=\"text-align: right;\">\n",
       "      <th></th>\n",
       "      <th>zonaA</th>\n",
       "      <th>zonaB</th>\n",
       "      <th>zonaC</th>\n",
       "      <th>Ventas Totales</th>\n",
       "    </tr>\n",
       "  </thead>\n",
       "  <tbody>\n",
       "    <tr>\n",
       "      <th>ventas1</th>\n",
       "      <td>123</td>\n",
       "      <td>154</td>\n",
       "      <td>258</td>\n",
       "      <td>535</td>\n",
       "    </tr>\n",
       "    <tr>\n",
       "      <th>ventas2</th>\n",
       "      <td>294</td>\n",
       "      <td>135</td>\n",
       "      <td>685</td>\n",
       "      <td>1114</td>\n",
       "    </tr>\n",
       "    <tr>\n",
       "      <th>ventas3</th>\n",
       "      <td>135</td>\n",
       "      <td>253</td>\n",
       "      <td>164</td>\n",
       "      <td>552</td>\n",
       "    </tr>\n",
       "  </tbody>\n",
       "</table>\n",
       "</div>"
      ],
      "text/plain": [
       "         zonaA  zonaB  zonaC  Ventas Totales\n",
       "ventas1    123    154    258             535\n",
       "ventas2    294    135    685            1114\n",
       "ventas3    135    253    164             552"
      ]
     },
     "execution_count": 300,
     "metadata": {},
     "output_type": "execute_result"
    }
   ],
   "source": [
    "#crear una nueva columna\n",
    "dataframe[\"Ventas Totales\"]= dataframe[\"zonaA\"]+ dataframe[\"zonaB\"]+ dataframe[\"zonaC\"]\n",
    "dataframe"
   ]
  },
  {
   "cell_type": "code",
   "execution_count": 108,
   "id": "3dd3fe27-b52f-4356-b4d5-d356a2bdb562",
   "metadata": {},
   "outputs": [
    {
     "name": "stdout",
     "output_type": "stream",
     "text": [
      "DataFrame original:\n",
      "          zonaA  zonaB  zonaC\n",
      "ventas1    123    154    258\n",
      "ventas2    294    135    685\n",
      "ventas3    135    253    164\n",
      "\n",
      "DataFrame con 'Ventas Totales':\n",
      "          zonaA  zonaB  zonaC  Ventas Totales\n",
      "ventas1    123    154    258             535\n",
      "ventas2    294    135    685            1114\n",
      "ventas3    135    253    164             552\n",
      "\n",
      "Suma total de Ventas Totales: 2201\n",
      "\n",
      "DataFrame después de añadir 'ventas4':\n",
      "          zonaA  zonaB  zonaC  Ventas Totales\n",
      "ventas1    123    154    258             535\n",
      "ventas2    294    135    685            1114\n",
      "ventas3    135    253    164             552\n",
      "ventas4    200    300    400             900\n"
     ]
    }
   ],
   "source": [
    "import pandas as pd  # Importar la biblioteca pandas\n",
    "\n",
    "# 1. Definición de las etiquetas para las filas y columnas\n",
    "filas = ['ventas1', 'ventas2', 'ventas3']  # Etiquetas de las filas\n",
    "columnas = ['zonaA', 'zonaB', 'zonaC']      # Etiquetas de las columnas\n",
    "\n",
    "# 2. Definición de los datos para el DataFrame\n",
    "datos = [\n",
    "    [123, 154, 258],  # Datos para ventas1\n",
    "    [294, 135, 685],  # Datos para ventas2\n",
    "    [135, 253, 164]   # Datos para ventas3\n",
    "]\n",
    "\n",
    "# 3. Crear el DataFrame\n",
    "dataframe = pd.DataFrame(datos, index=filas, columns=columnas)\n",
    "\n",
    "# 4. Mostrar el DataFrame original\n",
    "print(\"DataFrame original:\\n\", dataframe)\n",
    "\n",
    "# 5. Crear una nueva columna 'Ventas Totales'\n",
    "# Se suman las columnas 'zonaA', 'zonaB' y 'zonaC' para calcular las ventas totales.\n",
    "dataframe[\"Ventas Totales\"] = dataframe[\"zonaA\"] + dataframe[\"zonaB\"] + dataframe[\"zonaC\"]\n",
    "\n",
    "# 6. Mostrar el DataFrame después de añadir la nueva columna\n",
    "print(\"\\nDataFrame con 'Ventas Totales':\\n\", dataframe)\n",
    "\n",
    "# 7. Calcular la suma de ventas totales para cada fila y mostrarlo\n",
    "suma_total = dataframe[\"Ventas Totales\"].sum()\n",
    "print(\"\\nSuma total de Ventas Totales:\", suma_total)\n",
    "\n",
    "# 8. Añadir una nueva fila con ventas totales\n",
    "nuevas_ventas = [200, 300, 400]  # Ejemplo de nuevas ventas\n",
    "dataframe.loc['ventas4'] = nuevas_ventas + [sum(nuevas_ventas)]  # Añadir la nueva fila y calcular la suma\n",
    "\n",
    "# 9. Mostrar el DataFrame después de añadir la nueva fila\n",
    "print(\"\\nDataFrame después de añadir 'ventas4':\\n\", dataframe)"
   ]
  },
  {
   "cell_type": "code",
   "execution_count": 110,
   "id": "29a0b8db-febe-449e-bd58-9da36c7be30a",
   "metadata": {},
   "outputs": [
    {
     "data": {
      "text/html": [
       "<div>\n",
       "<style scoped>\n",
       "    .dataframe tbody tr th:only-of-type {\n",
       "        vertical-align: middle;\n",
       "    }\n",
       "\n",
       "    .dataframe tbody tr th {\n",
       "        vertical-align: top;\n",
       "    }\n",
       "\n",
       "    .dataframe thead th {\n",
       "        text-align: right;\n",
       "    }\n",
       "</style>\n",
       "<table border=\"1\" class=\"dataframe\">\n",
       "  <thead>\n",
       "    <tr style=\"text-align: right;\">\n",
       "      <th></th>\n",
       "      <th>zonaA</th>\n",
       "      <th>zonaB</th>\n",
       "      <th>zonaC</th>\n",
       "    </tr>\n",
       "  </thead>\n",
       "  <tbody>\n",
       "    <tr>\n",
       "      <th>ventas1</th>\n",
       "      <td>123</td>\n",
       "      <td>154</td>\n",
       "      <td>258</td>\n",
       "    </tr>\n",
       "    <tr>\n",
       "      <th>ventas2</th>\n",
       "      <td>294</td>\n",
       "      <td>135</td>\n",
       "      <td>685</td>\n",
       "    </tr>\n",
       "    <tr>\n",
       "      <th>ventas3</th>\n",
       "      <td>135</td>\n",
       "      <td>253</td>\n",
       "      <td>164</td>\n",
       "    </tr>\n",
       "    <tr>\n",
       "      <th>ventas4</th>\n",
       "      <td>200</td>\n",
       "      <td>300</td>\n",
       "      <td>400</td>\n",
       "    </tr>\n",
       "  </tbody>\n",
       "</table>\n",
       "</div>"
      ],
      "text/plain": [
       "         zonaA  zonaB  zonaC\n",
       "ventas1    123    154    258\n",
       "ventas2    294    135    685\n",
       "ventas3    135    253    164\n",
       "ventas4    200    300    400"
      ]
     },
     "execution_count": 110,
     "metadata": {},
     "output_type": "execute_result"
    }
   ],
   "source": [
    "#eliminar una columna\n",
    "dataframe.drop(\"Ventas Totales\", axis=1) #elimina en la visualizacion para ser real Inplace=True"
   ]
  },
  {
   "cell_type": "code",
   "execution_count": 112,
   "id": "483576a1-5fb5-4db8-bf3e-a093bd199e90",
   "metadata": {},
   "outputs": [
    {
     "data": {
      "text/html": [
       "<div>\n",
       "<style scoped>\n",
       "    .dataframe tbody tr th:only-of-type {\n",
       "        vertical-align: middle;\n",
       "    }\n",
       "\n",
       "    .dataframe tbody tr th {\n",
       "        vertical-align: top;\n",
       "    }\n",
       "\n",
       "    .dataframe thead th {\n",
       "        text-align: right;\n",
       "    }\n",
       "</style>\n",
       "<table border=\"1\" class=\"dataframe\">\n",
       "  <thead>\n",
       "    <tr style=\"text-align: right;\">\n",
       "      <th></th>\n",
       "      <th>zonaA</th>\n",
       "      <th>zonaB</th>\n",
       "      <th>zonaC</th>\n",
       "      <th>Ventas Totales</th>\n",
       "    </tr>\n",
       "  </thead>\n",
       "  <tbody>\n",
       "    <tr>\n",
       "      <th>ventas1</th>\n",
       "      <td>123</td>\n",
       "      <td>154</td>\n",
       "      <td>258</td>\n",
       "      <td>535</td>\n",
       "    </tr>\n",
       "    <tr>\n",
       "      <th>ventas2</th>\n",
       "      <td>294</td>\n",
       "      <td>135</td>\n",
       "      <td>685</td>\n",
       "      <td>1114</td>\n",
       "    </tr>\n",
       "    <tr>\n",
       "      <th>ventas3</th>\n",
       "      <td>135</td>\n",
       "      <td>253</td>\n",
       "      <td>164</td>\n",
       "      <td>552</td>\n",
       "    </tr>\n",
       "    <tr>\n",
       "      <th>ventas4</th>\n",
       "      <td>200</td>\n",
       "      <td>300</td>\n",
       "      <td>400</td>\n",
       "      <td>900</td>\n",
       "    </tr>\n",
       "  </tbody>\n",
       "</table>\n",
       "</div>"
      ],
      "text/plain": [
       "         zonaA  zonaB  zonaC  Ventas Totales\n",
       "ventas1    123    154    258             535\n",
       "ventas2    294    135    685            1114\n",
       "ventas3    135    253    164             552\n",
       "ventas4    200    300    400             900"
      ]
     },
     "execution_count": 112,
     "metadata": {},
     "output_type": "execute_result"
    }
   ],
   "source": [
    "dataframe"
   ]
  },
  {
   "cell_type": "code",
   "execution_count": 308,
   "id": "1d0df450-363d-4091-a7e1-961ce7546898",
   "metadata": {},
   "outputs": [
    {
     "data": {
      "text/html": [
       "<div>\n",
       "<style scoped>\n",
       "    .dataframe tbody tr th:only-of-type {\n",
       "        vertical-align: middle;\n",
       "    }\n",
       "\n",
       "    .dataframe tbody tr th {\n",
       "        vertical-align: top;\n",
       "    }\n",
       "\n",
       "    .dataframe thead th {\n",
       "        text-align: right;\n",
       "    }\n",
       "</style>\n",
       "<table border=\"1\" class=\"dataframe\">\n",
       "  <thead>\n",
       "    <tr style=\"text-align: right;\">\n",
       "      <th></th>\n",
       "      <th>zonaA</th>\n",
       "      <th>zonaB</th>\n",
       "      <th>zonaC</th>\n",
       "    </tr>\n",
       "  </thead>\n",
       "  <tbody>\n",
       "    <tr>\n",
       "      <th>ventas1</th>\n",
       "      <td>123</td>\n",
       "      <td>154</td>\n",
       "      <td>258</td>\n",
       "    </tr>\n",
       "    <tr>\n",
       "      <th>ventas2</th>\n",
       "      <td>294</td>\n",
       "      <td>135</td>\n",
       "      <td>685</td>\n",
       "    </tr>\n",
       "    <tr>\n",
       "      <th>ventas3</th>\n",
       "      <td>135</td>\n",
       "      <td>253</td>\n",
       "      <td>164</td>\n",
       "    </tr>\n",
       "  </tbody>\n",
       "</table>\n",
       "</div>"
      ],
      "text/plain": [
       "         zonaA  zonaB  zonaC\n",
       "ventas1    123    154    258\n",
       "ventas2    294    135    685\n",
       "ventas3    135    253    164"
      ]
     },
     "execution_count": 308,
     "metadata": {},
     "output_type": "execute_result"
    }
   ],
   "source": [
    "#eliminar una columna\n",
    "dataframe.drop(\"Ventas Totales\", axis=1, inplace=True) \n",
    "dataframe"
   ]
  },
  {
   "cell_type": "code",
   "execution_count": 310,
   "id": "0dc63a22-e894-4ff1-bc3b-f5cf7fc5944f",
   "metadata": {},
   "outputs": [
    {
     "data": {
      "text/html": [
       "<div>\n",
       "<style scoped>\n",
       "    .dataframe tbody tr th:only-of-type {\n",
       "        vertical-align: middle;\n",
       "    }\n",
       "\n",
       "    .dataframe tbody tr th {\n",
       "        vertical-align: top;\n",
       "    }\n",
       "\n",
       "    .dataframe thead th {\n",
       "        text-align: right;\n",
       "    }\n",
       "</style>\n",
       "<table border=\"1\" class=\"dataframe\">\n",
       "  <thead>\n",
       "    <tr style=\"text-align: right;\">\n",
       "      <th></th>\n",
       "      <th>zonaA</th>\n",
       "      <th>zonaB</th>\n",
       "      <th>zonaC</th>\n",
       "    </tr>\n",
       "  </thead>\n",
       "  <tbody>\n",
       "    <tr>\n",
       "      <th>ventas2</th>\n",
       "      <td>294</td>\n",
       "      <td>135</td>\n",
       "      <td>685</td>\n",
       "    </tr>\n",
       "    <tr>\n",
       "      <th>ventas3</th>\n",
       "      <td>135</td>\n",
       "      <td>253</td>\n",
       "      <td>164</td>\n",
       "    </tr>\n",
       "  </tbody>\n",
       "</table>\n",
       "</div>"
      ],
      "text/plain": [
       "         zonaA  zonaB  zonaC\n",
       "ventas2    294    135    685\n",
       "ventas3    135    253    164"
      ]
     },
     "execution_count": 310,
     "metadata": {},
     "output_type": "execute_result"
    }
   ],
   "source": [
    "#Eliminar una fila\n",
    "dataframe.drop(\"ventas1\") #solo en la visualizacion"
   ]
  },
  {
   "cell_type": "code",
   "execution_count": 312,
   "id": "f73077c3-1db6-40ae-b817-64559079f2c7",
   "metadata": {},
   "outputs": [
    {
     "data": {
      "text/html": [
       "<div>\n",
       "<style scoped>\n",
       "    .dataframe tbody tr th:only-of-type {\n",
       "        vertical-align: middle;\n",
       "    }\n",
       "\n",
       "    .dataframe tbody tr th {\n",
       "        vertical-align: top;\n",
       "    }\n",
       "\n",
       "    .dataframe thead th {\n",
       "        text-align: right;\n",
       "    }\n",
       "</style>\n",
       "<table border=\"1\" class=\"dataframe\">\n",
       "  <thead>\n",
       "    <tr style=\"text-align: right;\">\n",
       "      <th></th>\n",
       "      <th>zonaA</th>\n",
       "      <th>zonaB</th>\n",
       "      <th>zonaC</th>\n",
       "    </tr>\n",
       "  </thead>\n",
       "  <tbody>\n",
       "    <tr>\n",
       "      <th>ventas1</th>\n",
       "      <td>123</td>\n",
       "      <td>154</td>\n",
       "      <td>258</td>\n",
       "    </tr>\n",
       "    <tr>\n",
       "      <th>ventas2</th>\n",
       "      <td>294</td>\n",
       "      <td>135</td>\n",
       "      <td>685</td>\n",
       "    </tr>\n",
       "    <tr>\n",
       "      <th>ventas3</th>\n",
       "      <td>135</td>\n",
       "      <td>253</td>\n",
       "      <td>164</td>\n",
       "    </tr>\n",
       "  </tbody>\n",
       "</table>\n",
       "</div>"
      ],
      "text/plain": [
       "         zonaA  zonaB  zonaC\n",
       "ventas1    123    154    258\n",
       "ventas2    294    135    685\n",
       "ventas3    135    253    164"
      ]
     },
     "execution_count": 312,
     "metadata": {},
     "output_type": "execute_result"
    }
   ],
   "source": [
    "dataframe"
   ]
  },
  {
   "cell_type": "code",
   "execution_count": 314,
   "id": "2c70787d-e49d-4f6e-b087-14d0d662a7ec",
   "metadata": {},
   "outputs": [
    {
     "data": {
      "text/html": [
       "<div>\n",
       "<style scoped>\n",
       "    .dataframe tbody tr th:only-of-type {\n",
       "        vertical-align: middle;\n",
       "    }\n",
       "\n",
       "    .dataframe tbody tr th {\n",
       "        vertical-align: top;\n",
       "    }\n",
       "\n",
       "    .dataframe thead th {\n",
       "        text-align: right;\n",
       "    }\n",
       "</style>\n",
       "<table border=\"1\" class=\"dataframe\">\n",
       "  <thead>\n",
       "    <tr style=\"text-align: right;\">\n",
       "      <th></th>\n",
       "      <th>zonaA</th>\n",
       "      <th>zonaB</th>\n",
       "      <th>zonaC</th>\n",
       "    </tr>\n",
       "  </thead>\n",
       "  <tbody>\n",
       "    <tr>\n",
       "      <th>ventas2</th>\n",
       "      <td>294</td>\n",
       "      <td>135</td>\n",
       "      <td>685</td>\n",
       "    </tr>\n",
       "    <tr>\n",
       "      <th>ventas3</th>\n",
       "      <td>135</td>\n",
       "      <td>253</td>\n",
       "      <td>164</td>\n",
       "    </tr>\n",
       "  </tbody>\n",
       "</table>\n",
       "</div>"
      ],
      "text/plain": [
       "         zonaA  zonaB  zonaC\n",
       "ventas2    294    135    685\n",
       "ventas3    135    253    164"
      ]
     },
     "execution_count": 314,
     "metadata": {},
     "output_type": "execute_result"
    }
   ],
   "source": [
    "#Eliminar una fila\n",
    "dataframe.drop(\"ventas1\", inplace=True)\n",
    "dataframe"
   ]
  },
  {
   "cell_type": "markdown",
   "id": "e6f2fb96-c61f-4df3-aaf1-03367b5aaa54",
   "metadata": {},
   "source": [
    "#DataFrame : Selecccion de datos con una condicion"
   ]
  },
  {
   "cell_type": "code",
   "execution_count": 321,
   "id": "9d63a3ab-23be-4ee9-9fd0-b681df996e23",
   "metadata": {},
   "outputs": [],
   "source": [
    "import numpy as np \n",
    "import pandas as pd"
   ]
  },
  {
   "cell_type": "code",
   "execution_count": 337,
   "id": "5acf4b10-ca23-4736-b51d-539e2f46bfd3",
   "metadata": {},
   "outputs": [
    {
     "data": {
      "text/plain": [
       "['ventas1', 'venta2', 'venta3']"
      ]
     },
     "execution_count": 337,
     "metadata": {},
     "output_type": "execute_result"
    }
   ],
   "source": [
    "filas = \" ventas1 venta2 venta3\".split()\n",
    "filas"
   ]
  },
  {
   "cell_type": "code",
   "execution_count": 357,
   "id": "749366dc-7775-4f6f-a30c-83b2e7822407",
   "metadata": {},
   "outputs": [
    {
     "data": {
      "text/plain": [
       "['zonaA', 'zonaB', 'zonaC']"
      ]
     },
     "execution_count": 357,
     "metadata": {},
     "output_type": "execute_result"
    }
   ],
   "source": [
    "columnas = \"zonaA zonaB zonaC\".split()\n",
    "columnas"
   ]
  },
  {
   "cell_type": "code",
   "execution_count": 359,
   "id": "eccb3c15-ced2-4c42-a6ed-6322b1c9d51f",
   "metadata": {},
   "outputs": [
    {
     "data": {
      "text/plain": [
       "[[120, 524, 568], [210, 154, 854], [125, 452, 985]]"
      ]
     },
     "execution_count": 359,
     "metadata": {},
     "output_type": "execute_result"
    }
   ],
   "source": [
    "datos = [[120,524,568],[210,154,854],[125,452,985]]\n",
    "datos"
   ]
  },
  {
   "cell_type": "code",
   "execution_count": 361,
   "id": "5da6d6de-ff5e-448e-aee5-e6f71da60443",
   "metadata": {},
   "outputs": [
    {
     "data": {
      "text/html": [
       "<div>\n",
       "<style scoped>\n",
       "    .dataframe tbody tr th:only-of-type {\n",
       "        vertical-align: middle;\n",
       "    }\n",
       "\n",
       "    .dataframe tbody tr th {\n",
       "        vertical-align: top;\n",
       "    }\n",
       "\n",
       "    .dataframe thead th {\n",
       "        text-align: right;\n",
       "    }\n",
       "</style>\n",
       "<table border=\"1\" class=\"dataframe\">\n",
       "  <thead>\n",
       "    <tr style=\"text-align: right;\">\n",
       "      <th></th>\n",
       "      <th>zonaA</th>\n",
       "      <th>zonaB</th>\n",
       "      <th>zonaC</th>\n",
       "    </tr>\n",
       "  </thead>\n",
       "  <tbody>\n",
       "    <tr>\n",
       "      <th>ventas1</th>\n",
       "      <td>120</td>\n",
       "      <td>524</td>\n",
       "      <td>568</td>\n",
       "    </tr>\n",
       "    <tr>\n",
       "      <th>venta2</th>\n",
       "      <td>210</td>\n",
       "      <td>154</td>\n",
       "      <td>854</td>\n",
       "    </tr>\n",
       "    <tr>\n",
       "      <th>venta3</th>\n",
       "      <td>125</td>\n",
       "      <td>452</td>\n",
       "      <td>985</td>\n",
       "    </tr>\n",
       "  </tbody>\n",
       "</table>\n",
       "</div>"
      ],
      "text/plain": [
       "         zonaA  zonaB  zonaC\n",
       "ventas1    120    524    568\n",
       "venta2     210    154    854\n",
       "venta3     125    452    985"
      ]
     },
     "execution_count": 361,
     "metadata": {},
     "output_type": "execute_result"
    }
   ],
   "source": [
    "dataframe = pd.DataFrame(datos,filas, columnas)\n",
    "dataframe"
   ]
  },
  {
   "cell_type": "code",
   "execution_count": 363,
   "id": "7e4a0644-9171-4bc6-9e75-bcd17c348ab0",
   "metadata": {},
   "outputs": [
    {
     "data": {
      "text/html": [
       "<div>\n",
       "<style scoped>\n",
       "    .dataframe tbody tr th:only-of-type {\n",
       "        vertical-align: middle;\n",
       "    }\n",
       "\n",
       "    .dataframe tbody tr th {\n",
       "        vertical-align: top;\n",
       "    }\n",
       "\n",
       "    .dataframe thead th {\n",
       "        text-align: right;\n",
       "    }\n",
       "</style>\n",
       "<table border=\"1\" class=\"dataframe\">\n",
       "  <thead>\n",
       "    <tr style=\"text-align: right;\">\n",
       "      <th></th>\n",
       "      <th>zonaA</th>\n",
       "      <th>zonaB</th>\n",
       "      <th>zonaC</th>\n",
       "    </tr>\n",
       "  </thead>\n",
       "  <tbody>\n",
       "    <tr>\n",
       "      <th>ventas1</th>\n",
       "      <td>NaN</td>\n",
       "      <td>524.0</td>\n",
       "      <td>568</td>\n",
       "    </tr>\n",
       "    <tr>\n",
       "      <th>venta2</th>\n",
       "      <td>210.0</td>\n",
       "      <td>NaN</td>\n",
       "      <td>854</td>\n",
       "    </tr>\n",
       "    <tr>\n",
       "      <th>venta3</th>\n",
       "      <td>NaN</td>\n",
       "      <td>452.0</td>\n",
       "      <td>985</td>\n",
       "    </tr>\n",
       "  </tbody>\n",
       "</table>\n",
       "</div>"
      ],
      "text/plain": [
       "         zonaA  zonaB  zonaC\n",
       "ventas1    NaN  524.0    568\n",
       "venta2   210.0    NaN    854\n",
       "venta3     NaN  452.0    985"
      ]
     },
     "execution_count": 363,
     "metadata": {},
     "output_type": "execute_result"
    }
   ],
   "source": [
    "condicion = dataframe >200\n",
    "dataframe[condicion]"
   ]
  },
  {
   "cell_type": "code",
   "execution_count": 381,
   "id": "7f755863-5875-4a61-9405-5aaa4c0538bc",
   "metadata": {},
   "outputs": [
    {
     "data": {
      "text/html": [
       "<div>\n",
       "<style scoped>\n",
       "    .dataframe tbody tr th:only-of-type {\n",
       "        vertical-align: middle;\n",
       "    }\n",
       "\n",
       "    .dataframe tbody tr th {\n",
       "        vertical-align: top;\n",
       "    }\n",
       "\n",
       "    .dataframe thead th {\n",
       "        text-align: right;\n",
       "    }\n",
       "</style>\n",
       "<table border=\"1\" class=\"dataframe\">\n",
       "  <thead>\n",
       "    <tr style=\"text-align: right;\">\n",
       "      <th></th>\n",
       "      <th>zonaA</th>\n",
       "      <th>zonaB</th>\n",
       "      <th>zonaC</th>\n",
       "    </tr>\n",
       "  </thead>\n",
       "  <tbody>\n",
       "    <tr>\n",
       "      <th>venta2</th>\n",
       "      <td>210</td>\n",
       "      <td>154</td>\n",
       "      <td>854</td>\n",
       "    </tr>\n",
       "    <tr>\n",
       "      <th>venta3</th>\n",
       "      <td>125</td>\n",
       "      <td>452</td>\n",
       "      <td>985</td>\n",
       "    </tr>\n",
       "  </tbody>\n",
       "</table>\n",
       "</div>"
      ],
      "text/plain": [
       "        zonaA  zonaB  zonaC\n",
       "venta2    210    154    854\n",
       "venta3    125    452    985"
      ]
     },
     "execution_count": 381,
     "metadata": {},
     "output_type": "execute_result"
    }
   ],
   "source": [
    "condicion = dataframe[\"zonaA\"] > 120\n",
    "dataframe[condicion]"
   ]
  },
  {
   "cell_type": "code",
   "execution_count": 387,
   "id": "2a7b9f27-d601-46ec-b1cf-a1d9dd52adfe",
   "metadata": {},
   "outputs": [
    {
     "data": {
      "text/html": [
       "<div>\n",
       "<style scoped>\n",
       "    .dataframe tbody tr th:only-of-type {\n",
       "        vertical-align: middle;\n",
       "    }\n",
       "\n",
       "    .dataframe tbody tr th {\n",
       "        vertical-align: top;\n",
       "    }\n",
       "\n",
       "    .dataframe thead th {\n",
       "        text-align: right;\n",
       "    }\n",
       "</style>\n",
       "<table border=\"1\" class=\"dataframe\">\n",
       "  <thead>\n",
       "    <tr style=\"text-align: right;\">\n",
       "      <th></th>\n",
       "      <th>zonaA</th>\n",
       "      <th>zonaB</th>\n",
       "      <th>zonaC</th>\n",
       "    </tr>\n",
       "  </thead>\n",
       "  <tbody>\n",
       "    <tr>\n",
       "      <th>venta3</th>\n",
       "      <td>125</td>\n",
       "      <td>452</td>\n",
       "      <td>985</td>\n",
       "    </tr>\n",
       "  </tbody>\n",
       "</table>\n",
       "</div>"
      ],
      "text/plain": [
       "        zonaA  zonaB  zonaC\n",
       "venta3    125    452    985"
      ]
     },
     "execution_count": 387,
     "metadata": {},
     "output_type": "execute_result"
    }
   ],
   "source": [
    "condicion = (dataframe[\"zonaA\"] > 120) & (dataframe[\"zonaC\"] >900)\n",
    "dataframe[condicion]"
   ]
  },
  {
   "cell_type": "code",
   "execution_count": 389,
   "id": "e1c7361e-ae57-4710-8eaf-a5a680c0d16a",
   "metadata": {},
   "outputs": [
    {
     "data": {
      "text/html": [
       "<div>\n",
       "<style scoped>\n",
       "    .dataframe tbody tr th:only-of-type {\n",
       "        vertical-align: middle;\n",
       "    }\n",
       "\n",
       "    .dataframe tbody tr th {\n",
       "        vertical-align: top;\n",
       "    }\n",
       "\n",
       "    .dataframe thead th {\n",
       "        text-align: right;\n",
       "    }\n",
       "</style>\n",
       "<table border=\"1\" class=\"dataframe\">\n",
       "  <thead>\n",
       "    <tr style=\"text-align: right;\">\n",
       "      <th></th>\n",
       "      <th>zonaA</th>\n",
       "      <th>zonaB</th>\n",
       "      <th>zonaC</th>\n",
       "    </tr>\n",
       "  </thead>\n",
       "  <tbody>\n",
       "    <tr>\n",
       "      <th>venta2</th>\n",
       "      <td>210</td>\n",
       "      <td>154</td>\n",
       "      <td>854</td>\n",
       "    </tr>\n",
       "    <tr>\n",
       "      <th>venta3</th>\n",
       "      <td>125</td>\n",
       "      <td>452</td>\n",
       "      <td>985</td>\n",
       "    </tr>\n",
       "  </tbody>\n",
       "</table>\n",
       "</div>"
      ],
      "text/plain": [
       "        zonaA  zonaB  zonaC\n",
       "venta2    210    154    854\n",
       "venta3    125    452    985"
      ]
     },
     "execution_count": 389,
     "metadata": {},
     "output_type": "execute_result"
    }
   ],
   "source": [
    "condicion = (dataframe[\"zonaA\"] > 120) | (dataframe[\"zonaC\"] >900)\n",
    "dataframe[condicion]"
   ]
  },
  {
   "cell_type": "code",
   "execution_count": 397,
   "id": "a439a2f3-4b7c-4c7c-906b-193f76a11982",
   "metadata": {},
   "outputs": [
    {
     "data": {
      "text/html": [
       "<div>\n",
       "<style scoped>\n",
       "    .dataframe tbody tr th:only-of-type {\n",
       "        vertical-align: middle;\n",
       "    }\n",
       "\n",
       "    .dataframe tbody tr th {\n",
       "        vertical-align: top;\n",
       "    }\n",
       "\n",
       "    .dataframe thead th {\n",
       "        text-align: right;\n",
       "    }\n",
       "</style>\n",
       "<table border=\"1\" class=\"dataframe\">\n",
       "  <thead>\n",
       "    <tr style=\"text-align: right;\">\n",
       "      <th></th>\n",
       "      <th>zonaC</th>\n",
       "      <th>zonaB</th>\n",
       "    </tr>\n",
       "  </thead>\n",
       "  <tbody>\n",
       "    <tr>\n",
       "      <th>venta2</th>\n",
       "      <td>854</td>\n",
       "      <td>154</td>\n",
       "    </tr>\n",
       "    <tr>\n",
       "      <th>venta3</th>\n",
       "      <td>985</td>\n",
       "      <td>452</td>\n",
       "    </tr>\n",
       "  </tbody>\n",
       "</table>\n",
       "</div>"
      ],
      "text/plain": [
       "        zonaC  zonaB\n",
       "venta2    854    154\n",
       "venta3    985    452"
      ]
     },
     "execution_count": 397,
     "metadata": {},
     "output_type": "execute_result"
    }
   ],
   "source": [
    "dataframe[condicion][[\"zonaC\", \"zonaB\"]]"
   ]
  },
  {
   "cell_type": "markdown",
   "id": "e0d7003d-7d23-4211-8718-6b3a3c1b04cb",
   "metadata": {},
   "source": [
    "DataFrame : Modificacion de nombre de las filas"
   ]
  },
  {
   "cell_type": "code",
   "execution_count": 474,
   "id": "0b299f8e-5e43-4a4c-9a87-bedd5170d77b",
   "metadata": {},
   "outputs": [],
   "source": [
    "import numpy as np\n",
    "import pandas as pd"
   ]
  },
  {
   "cell_type": "code",
   "execution_count": 476,
   "id": "4bd06273-7c61-4042-8baa-4d3a03c5ec4d",
   "metadata": {},
   "outputs": [
    {
     "data": {
      "text/html": [
       "<div>\n",
       "<style scoped>\n",
       "    .dataframe tbody tr th:only-of-type {\n",
       "        vertical-align: middle;\n",
       "    }\n",
       "\n",
       "    .dataframe tbody tr th {\n",
       "        vertical-align: top;\n",
       "    }\n",
       "\n",
       "    .dataframe thead th {\n",
       "        text-align: right;\n",
       "    }\n",
       "</style>\n",
       "<table border=\"1\" class=\"dataframe\">\n",
       "  <thead>\n",
       "    <tr style=\"text-align: right;\">\n",
       "      <th></th>\n",
       "      <th>zonaA</th>\n",
       "      <th>zonaB</th>\n",
       "      <th>zonaC</th>\n",
       "    </tr>\n",
       "  </thead>\n",
       "  <tbody>\n",
       "    <tr>\n",
       "      <th>ventas1</th>\n",
       "      <td>123</td>\n",
       "      <td>154</td>\n",
       "      <td>258</td>\n",
       "    </tr>\n",
       "    <tr>\n",
       "      <th>ventas2</th>\n",
       "      <td>294</td>\n",
       "      <td>135</td>\n",
       "      <td>685</td>\n",
       "    </tr>\n",
       "    <tr>\n",
       "      <th>ventas3</th>\n",
       "      <td>135</td>\n",
       "      <td>253</td>\n",
       "      <td>164</td>\n",
       "    </tr>\n",
       "  </tbody>\n",
       "</table>\n",
       "</div>"
      ],
      "text/plain": [
       "         zonaA  zonaB  zonaC\n",
       "ventas1    123    154    258\n",
       "ventas2    294    135    685\n",
       "ventas3    135    253    164"
      ]
     },
     "execution_count": 476,
     "metadata": {},
     "output_type": "execute_result"
    }
   ],
   "source": [
    "filas = ['ventas1', \"ventas2\", \"ventas3\"]\n",
    "columnas = [\"zonaA\",\"zonaB\",\"zonaC\"]\n",
    "datos = [[123,154,258],[294,135,685],[135,253,164]]\n",
    "dataframe = pd.DataFrame(datos, filas, columnas)\n",
    "dataframe"
   ]
  },
  {
   "cell_type": "code",
   "execution_count": 478,
   "id": "70c9644f-e03d-464c-8be5-04ee0858e97f",
   "metadata": {},
   "outputs": [
    {
     "data": {
      "text/plain": [
       "['dia1', 'dia2', 'dia3']"
      ]
     },
     "execution_count": 478,
     "metadata": {},
     "output_type": "execute_result"
    }
   ],
   "source": [
    "nuevas_columna = \"dia1 dia2 dia3\".split()\n",
    "nuevas_columna"
   ]
  },
  {
   "cell_type": "code",
   "execution_count": 480,
   "id": "23d1a1f4-d21b-4071-8d14-de0886d9e222",
   "metadata": {},
   "outputs": [
    {
     "data": {
      "text/html": [
       "<div>\n",
       "<style scoped>\n",
       "    .dataframe tbody tr th:only-of-type {\n",
       "        vertical-align: middle;\n",
       "    }\n",
       "\n",
       "    .dataframe tbody tr th {\n",
       "        vertical-align: top;\n",
       "    }\n",
       "\n",
       "    .dataframe thead th {\n",
       "        text-align: right;\n",
       "    }\n",
       "</style>\n",
       "<table border=\"1\" class=\"dataframe\">\n",
       "  <thead>\n",
       "    <tr style=\"text-align: right;\">\n",
       "      <th></th>\n",
       "      <th>zonaA</th>\n",
       "      <th>zonaB</th>\n",
       "      <th>zonaC</th>\n",
       "      <th>dias</th>\n",
       "    </tr>\n",
       "  </thead>\n",
       "  <tbody>\n",
       "    <tr>\n",
       "      <th>ventas1</th>\n",
       "      <td>123</td>\n",
       "      <td>154</td>\n",
       "      <td>258</td>\n",
       "      <td>dia1</td>\n",
       "    </tr>\n",
       "    <tr>\n",
       "      <th>ventas2</th>\n",
       "      <td>294</td>\n",
       "      <td>135</td>\n",
       "      <td>685</td>\n",
       "      <td>dia2</td>\n",
       "    </tr>\n",
       "    <tr>\n",
       "      <th>ventas3</th>\n",
       "      <td>135</td>\n",
       "      <td>253</td>\n",
       "      <td>164</td>\n",
       "      <td>dia3</td>\n",
       "    </tr>\n",
       "  </tbody>\n",
       "</table>\n",
       "</div>"
      ],
      "text/plain": [
       "         zonaA  zonaB  zonaC  dias\n",
       "ventas1    123    154    258  dia1\n",
       "ventas2    294    135    685  dia2\n",
       "ventas3    135    253    164  dia3"
      ]
     },
     "execution_count": 480,
     "metadata": {},
     "output_type": "execute_result"
    }
   ],
   "source": [
    "dataframe[\"dias\"] = nuevas_columna\n",
    "dataframe"
   ]
  },
  {
   "cell_type": "code",
   "execution_count": 482,
   "id": "a0ab46a0-e6f4-484c-902e-fcdaa6139b27",
   "metadata": {},
   "outputs": [
    {
     "data": {
      "text/html": [
       "<div>\n",
       "<style scoped>\n",
       "    .dataframe tbody tr th:only-of-type {\n",
       "        vertical-align: middle;\n",
       "    }\n",
       "\n",
       "    .dataframe tbody tr th {\n",
       "        vertical-align: top;\n",
       "    }\n",
       "\n",
       "    .dataframe thead th {\n",
       "        text-align: right;\n",
       "    }\n",
       "</style>\n",
       "<table border=\"1\" class=\"dataframe\">\n",
       "  <thead>\n",
       "    <tr style=\"text-align: right;\">\n",
       "      <th></th>\n",
       "      <th>pruebaA</th>\n",
       "      <th>zonaB</th>\n",
       "      <th>zonaC</th>\n",
       "      <th>dias</th>\n",
       "    </tr>\n",
       "  </thead>\n",
       "  <tbody>\n",
       "    <tr>\n",
       "      <th>ventas1</th>\n",
       "      <td>123</td>\n",
       "      <td>154</td>\n",
       "      <td>258</td>\n",
       "      <td>dia1</td>\n",
       "    </tr>\n",
       "    <tr>\n",
       "      <th>ventas2</th>\n",
       "      <td>294</td>\n",
       "      <td>135</td>\n",
       "      <td>685</td>\n",
       "      <td>dia2</td>\n",
       "    </tr>\n",
       "    <tr>\n",
       "      <th>ventas3</th>\n",
       "      <td>135</td>\n",
       "      <td>253</td>\n",
       "      <td>164</td>\n",
       "      <td>dia3</td>\n",
       "    </tr>\n",
       "  </tbody>\n",
       "</table>\n",
       "</div>"
      ],
      "text/plain": [
       "         pruebaA  zonaB  zonaC  dias\n",
       "ventas1      123    154    258  dia1\n",
       "ventas2      294    135    685  dia2\n",
       "ventas3      135    253    164  dia3"
      ]
     },
     "execution_count": 482,
     "metadata": {},
     "output_type": "execute_result"
    }
   ],
   "source": [
    "dataframe.rename(columns={\"zonaA\":\"pruebaA\"}) # Varia solo la vista"
   ]
  },
  {
   "cell_type": "code",
   "execution_count": 484,
   "id": "59fe09b4-aea3-4385-b414-d5fcec320e42",
   "metadata": {},
   "outputs": [
    {
     "data": {
      "text/html": [
       "<div>\n",
       "<style scoped>\n",
       "    .dataframe tbody tr th:only-of-type {\n",
       "        vertical-align: middle;\n",
       "    }\n",
       "\n",
       "    .dataframe tbody tr th {\n",
       "        vertical-align: top;\n",
       "    }\n",
       "\n",
       "    .dataframe thead th {\n",
       "        text-align: right;\n",
       "    }\n",
       "</style>\n",
       "<table border=\"1\" class=\"dataframe\">\n",
       "  <thead>\n",
       "    <tr style=\"text-align: right;\">\n",
       "      <th></th>\n",
       "      <th>zonaA</th>\n",
       "      <th>zonaB</th>\n",
       "      <th>zonaC</th>\n",
       "      <th>dias</th>\n",
       "    </tr>\n",
       "  </thead>\n",
       "  <tbody>\n",
       "    <tr>\n",
       "      <th>prueba_venta1</th>\n",
       "      <td>123</td>\n",
       "      <td>154</td>\n",
       "      <td>258</td>\n",
       "      <td>dia1</td>\n",
       "    </tr>\n",
       "    <tr>\n",
       "      <th>prueba_venta2</th>\n",
       "      <td>294</td>\n",
       "      <td>135</td>\n",
       "      <td>685</td>\n",
       "      <td>dia2</td>\n",
       "    </tr>\n",
       "    <tr>\n",
       "      <th>prueba_venta3</th>\n",
       "      <td>135</td>\n",
       "      <td>253</td>\n",
       "      <td>164</td>\n",
       "      <td>dia3</td>\n",
       "    </tr>\n",
       "  </tbody>\n",
       "</table>\n",
       "</div>"
      ],
      "text/plain": [
       "               zonaA  zonaB  zonaC  dias\n",
       "prueba_venta1    123    154    258  dia1\n",
       "prueba_venta2    294    135    685  dia2\n",
       "prueba_venta3    135    253    164  dia3"
      ]
     },
     "execution_count": 484,
     "metadata": {},
     "output_type": "execute_result"
    }
   ],
   "source": [
    "#, dataframe.rename({\"ventas1\":\"prueba_venta1\",\"ventas2\":\"prueba_venta2\",\"ventas3\":\"prueba_venta3\"}, axis='index')\n",
    "dataframe.rename({\"ventas1\":\"prueba_venta1\",\"ventas2\":\"prueba_venta2\",\"ventas3\":\"prueba_venta3\"})"
   ]
  },
  {
   "cell_type": "code",
   "execution_count": 488,
   "id": "402c4b7e-0c4c-4286-b7d5-eb44f03d78f8",
   "metadata": {},
   "outputs": [
    {
     "data": {
      "text/html": [
       "<div>\n",
       "<style scoped>\n",
       "    .dataframe tbody tr th:only-of-type {\n",
       "        vertical-align: middle;\n",
       "    }\n",
       "\n",
       "    .dataframe tbody tr th {\n",
       "        vertical-align: top;\n",
       "    }\n",
       "\n",
       "    .dataframe thead th {\n",
       "        text-align: right;\n",
       "    }\n",
       "</style>\n",
       "<table border=\"1\" class=\"dataframe\">\n",
       "  <thead>\n",
       "    <tr style=\"text-align: right;\">\n",
       "      <th></th>\n",
       "      <th>zonaA</th>\n",
       "      <th>zonaB</th>\n",
       "      <th>zonaC</th>\n",
       "      <th>dias</th>\n",
       "    </tr>\n",
       "  </thead>\n",
       "  <tbody>\n",
       "    <tr>\n",
       "      <th>ventas1</th>\n",
       "      <td>123</td>\n",
       "      <td>154</td>\n",
       "      <td>258</td>\n",
       "      <td>dia1</td>\n",
       "    </tr>\n",
       "    <tr>\n",
       "      <th>ventas2</th>\n",
       "      <td>294</td>\n",
       "      <td>135</td>\n",
       "      <td>685</td>\n",
       "      <td>dia2</td>\n",
       "    </tr>\n",
       "    <tr>\n",
       "      <th>ventas3</th>\n",
       "      <td>135</td>\n",
       "      <td>253</td>\n",
       "      <td>164</td>\n",
       "      <td>dia3</td>\n",
       "    </tr>\n",
       "  </tbody>\n",
       "</table>\n",
       "</div>"
      ],
      "text/plain": [
       "         zonaA  zonaB  zonaC  dias\n",
       "ventas1    123    154    258  dia1\n",
       "ventas2    294    135    685  dia2\n",
       "ventas3    135    253    164  dia3"
      ]
     },
     "execution_count": 488,
     "metadata": {},
     "output_type": "execute_result"
    }
   ],
   "source": [
    "dataframe #no se ha variado el original"
   ]
  },
  {
   "cell_type": "code",
   "execution_count": 490,
   "id": "fad0b0e0-953e-4501-94ea-152516032612",
   "metadata": {},
   "outputs": [
    {
     "data": {
      "text/plain": [
       "Index(['ventas1', 'ventas2', 'ventas3'], dtype='object')"
      ]
     },
     "execution_count": 490,
     "metadata": {},
     "output_type": "execute_result"
    }
   ],
   "source": [
    "dataframe.rename(index=str).index"
   ]
  },
  {
   "cell_type": "code",
   "execution_count": 492,
   "id": "5a6089fa-6897-4596-b090-0f682c61151e",
   "metadata": {},
   "outputs": [
    {
     "data": {
      "text/html": [
       "<div>\n",
       "<style scoped>\n",
       "    .dataframe tbody tr th:only-of-type {\n",
       "        vertical-align: middle;\n",
       "    }\n",
       "\n",
       "    .dataframe tbody tr th {\n",
       "        vertical-align: top;\n",
       "    }\n",
       "\n",
       "    .dataframe thead th {\n",
       "        text-align: right;\n",
       "    }\n",
       "</style>\n",
       "<table border=\"1\" class=\"dataframe\">\n",
       "  <thead>\n",
       "    <tr style=\"text-align: right;\">\n",
       "      <th></th>\n",
       "      <th>zonaA</th>\n",
       "      <th>zonaB</th>\n",
       "      <th>zonaC</th>\n",
       "    </tr>\n",
       "    <tr>\n",
       "      <th>dias</th>\n",
       "      <th></th>\n",
       "      <th></th>\n",
       "      <th></th>\n",
       "    </tr>\n",
       "  </thead>\n",
       "  <tbody>\n",
       "    <tr>\n",
       "      <th>dia1</th>\n",
       "      <td>123</td>\n",
       "      <td>154</td>\n",
       "      <td>258</td>\n",
       "    </tr>\n",
       "    <tr>\n",
       "      <th>dia2</th>\n",
       "      <td>294</td>\n",
       "      <td>135</td>\n",
       "      <td>685</td>\n",
       "    </tr>\n",
       "    <tr>\n",
       "      <th>dia3</th>\n",
       "      <td>135</td>\n",
       "      <td>253</td>\n",
       "      <td>164</td>\n",
       "    </tr>\n",
       "  </tbody>\n",
       "</table>\n",
       "</div>"
      ],
      "text/plain": [
       "      zonaA  zonaB  zonaC\n",
       "dias                     \n",
       "dia1    123    154    258\n",
       "dia2    294    135    685\n",
       "dia3    135    253    164"
      ]
     },
     "execution_count": 492,
     "metadata": {},
     "output_type": "execute_result"
    }
   ],
   "source": [
    "dataframe.set_index(\"dias\")"
   ]
  },
  {
   "cell_type": "code",
   "execution_count": 494,
   "id": "def22ae8-c8e9-473c-907e-4d5d5275ca45",
   "metadata": {},
   "outputs": [
    {
     "data": {
      "text/html": [
       "<div>\n",
       "<style scoped>\n",
       "    .dataframe tbody tr th:only-of-type {\n",
       "        vertical-align: middle;\n",
       "    }\n",
       "\n",
       "    .dataframe tbody tr th {\n",
       "        vertical-align: top;\n",
       "    }\n",
       "\n",
       "    .dataframe thead th {\n",
       "        text-align: right;\n",
       "    }\n",
       "</style>\n",
       "<table border=\"1\" class=\"dataframe\">\n",
       "  <thead>\n",
       "    <tr style=\"text-align: right;\">\n",
       "      <th></th>\n",
       "      <th>zonaA</th>\n",
       "      <th>zonaB</th>\n",
       "      <th>zonaC</th>\n",
       "    </tr>\n",
       "    <tr>\n",
       "      <th>dias</th>\n",
       "      <th></th>\n",
       "      <th></th>\n",
       "      <th></th>\n",
       "    </tr>\n",
       "  </thead>\n",
       "  <tbody>\n",
       "    <tr>\n",
       "      <th>dia1</th>\n",
       "      <td>123</td>\n",
       "      <td>154</td>\n",
       "      <td>258</td>\n",
       "    </tr>\n",
       "    <tr>\n",
       "      <th>dia2</th>\n",
       "      <td>294</td>\n",
       "      <td>135</td>\n",
       "      <td>685</td>\n",
       "    </tr>\n",
       "    <tr>\n",
       "      <th>dia3</th>\n",
       "      <td>135</td>\n",
       "      <td>253</td>\n",
       "      <td>164</td>\n",
       "    </tr>\n",
       "  </tbody>\n",
       "</table>\n",
       "</div>"
      ],
      "text/plain": [
       "      zonaA  zonaB  zonaC\n",
       "dias                     \n",
       "dia1    123    154    258\n",
       "dia2    294    135    685\n",
       "dia3    135    253    164"
      ]
     },
     "execution_count": 494,
     "metadata": {},
     "output_type": "execute_result"
    }
   ],
   "source": [
    "dataframe = dataframe.set_index(\"dias\") #con la asignacion realizamos el cambio permanente\n",
    "dataframe"
   ]
  },
  {
   "cell_type": "code",
   "execution_count": 498,
   "id": "f238cf52-9286-4053-ab09-4afda7c0762b",
   "metadata": {},
   "outputs": [
    {
     "data": {
      "text/html": [
       "<div>\n",
       "<style scoped>\n",
       "    .dataframe tbody tr th:only-of-type {\n",
       "        vertical-align: middle;\n",
       "    }\n",
       "\n",
       "    .dataframe tbody tr th {\n",
       "        vertical-align: top;\n",
       "    }\n",
       "\n",
       "    .dataframe thead th {\n",
       "        text-align: right;\n",
       "    }\n",
       "</style>\n",
       "<table border=\"1\" class=\"dataframe\">\n",
       "  <thead>\n",
       "    <tr style=\"text-align: right;\">\n",
       "      <th></th>\n",
       "      <th>zonaA</th>\n",
       "      <th>zonaB</th>\n",
       "      <th>zonaC</th>\n",
       "    </tr>\n",
       "    <tr>\n",
       "      <th>dias</th>\n",
       "      <th></th>\n",
       "      <th></th>\n",
       "      <th></th>\n",
       "    </tr>\n",
       "  </thead>\n",
       "  <tbody>\n",
       "    <tr>\n",
       "      <th>dia1</th>\n",
       "      <td>123</td>\n",
       "      <td>154</td>\n",
       "      <td>258</td>\n",
       "    </tr>\n",
       "    <tr>\n",
       "      <th>dia2</th>\n",
       "      <td>294</td>\n",
       "      <td>135</td>\n",
       "      <td>685</td>\n",
       "    </tr>\n",
       "    <tr>\n",
       "      <th>dia3</th>\n",
       "      <td>135</td>\n",
       "      <td>253</td>\n",
       "      <td>164</td>\n",
       "    </tr>\n",
       "  </tbody>\n",
       "</table>\n",
       "</div>"
      ],
      "text/plain": [
       "      zonaA  zonaB  zonaC\n",
       "dias                     \n",
       "dia1    123    154    258\n",
       "dia2    294    135    685\n",
       "dia3    135    253    164"
      ]
     },
     "execution_count": 498,
     "metadata": {},
     "output_type": "execute_result"
    }
   ],
   "source": [
    "dataframe"
   ]
  },
  {
   "cell_type": "markdown",
   "id": "a3a0ffd1-5cd8-476d-a182-4b6178f29325",
   "metadata": {},
   "source": [
    "Pandas : Tratamiento de los datos nulos o sin valor"
   ]
  },
  {
   "cell_type": "code",
   "execution_count": 567,
   "id": "675b7df4-073e-462b-b8fa-4e1f69bc38e8",
   "metadata": {},
   "outputs": [],
   "source": [
    "import numpy as np\n",
    "import pandas as pd"
   ]
  },
  {
   "cell_type": "code",
   "execution_count": 569,
   "id": "d63f90c8-881d-4e42-8208-37e14489173f",
   "metadata": {},
   "outputs": [],
   "source": [
    "diccionario = {\"A\":[4,5,np.nan],\"B\":[6,1,5],\"C\":[np.nan,4, np.nan]}\n",
    "dataframe = pd.DataFrame(diccionario)"
   ]
  },
  {
   "cell_type": "code",
   "execution_count": 571,
   "id": "4973b6fa-cc36-48df-82d9-ce4ef4a43792",
   "metadata": {},
   "outputs": [
    {
     "data": {
      "text/html": [
       "<div>\n",
       "<style scoped>\n",
       "    .dataframe tbody tr th:only-of-type {\n",
       "        vertical-align: middle;\n",
       "    }\n",
       "\n",
       "    .dataframe tbody tr th {\n",
       "        vertical-align: top;\n",
       "    }\n",
       "\n",
       "    .dataframe thead th {\n",
       "        text-align: right;\n",
       "    }\n",
       "</style>\n",
       "<table border=\"1\" class=\"dataframe\">\n",
       "  <thead>\n",
       "    <tr style=\"text-align: right;\">\n",
       "      <th></th>\n",
       "      <th>A</th>\n",
       "      <th>B</th>\n",
       "      <th>C</th>\n",
       "    </tr>\n",
       "  </thead>\n",
       "  <tbody>\n",
       "    <tr>\n",
       "      <th>0</th>\n",
       "      <td>4.0</td>\n",
       "      <td>6</td>\n",
       "      <td>NaN</td>\n",
       "    </tr>\n",
       "    <tr>\n",
       "      <th>1</th>\n",
       "      <td>5.0</td>\n",
       "      <td>1</td>\n",
       "      <td>4.0</td>\n",
       "    </tr>\n",
       "    <tr>\n",
       "      <th>2</th>\n",
       "      <td>NaN</td>\n",
       "      <td>5</td>\n",
       "      <td>NaN</td>\n",
       "    </tr>\n",
       "  </tbody>\n",
       "</table>\n",
       "</div>"
      ],
      "text/plain": [
       "     A  B    C\n",
       "0  4.0  6  NaN\n",
       "1  5.0  1  4.0\n",
       "2  NaN  5  NaN"
      ]
     },
     "execution_count": 571,
     "metadata": {},
     "output_type": "execute_result"
    }
   ],
   "source": [
    "dataframe"
   ]
  },
  {
   "cell_type": "code",
   "execution_count": 573,
   "id": "baca18f0-b252-44da-97e9-b595c26e5099",
   "metadata": {},
   "outputs": [
    {
     "data": {
      "text/html": [
       "<div>\n",
       "<style scoped>\n",
       "    .dataframe tbody tr th:only-of-type {\n",
       "        vertical-align: middle;\n",
       "    }\n",
       "\n",
       "    .dataframe tbody tr th {\n",
       "        vertical-align: top;\n",
       "    }\n",
       "\n",
       "    .dataframe thead th {\n",
       "        text-align: right;\n",
       "    }\n",
       "</style>\n",
       "<table border=\"1\" class=\"dataframe\">\n",
       "  <thead>\n",
       "    <tr style=\"text-align: right;\">\n",
       "      <th></th>\n",
       "      <th>A</th>\n",
       "      <th>B</th>\n",
       "      <th>C</th>\n",
       "    </tr>\n",
       "  </thead>\n",
       "  <tbody>\n",
       "    <tr>\n",
       "      <th>1</th>\n",
       "      <td>5.0</td>\n",
       "      <td>1</td>\n",
       "      <td>4.0</td>\n",
       "    </tr>\n",
       "  </tbody>\n",
       "</table>\n",
       "</div>"
      ],
      "text/plain": [
       "     A  B    C\n",
       "1  5.0  1  4.0"
      ]
     },
     "execution_count": 573,
     "metadata": {},
     "output_type": "execute_result"
    }
   ],
   "source": [
    "dataframe.dropna()"
   ]
  },
  {
   "cell_type": "code",
   "execution_count": 575,
   "id": "fb8f19b7-f9bb-48f0-af50-f9573853e5e0",
   "metadata": {},
   "outputs": [
    {
     "data": {
      "text/html": [
       "<div>\n",
       "<style scoped>\n",
       "    .dataframe tbody tr th:only-of-type {\n",
       "        vertical-align: middle;\n",
       "    }\n",
       "\n",
       "    .dataframe tbody tr th {\n",
       "        vertical-align: top;\n",
       "    }\n",
       "\n",
       "    .dataframe thead th {\n",
       "        text-align: right;\n",
       "    }\n",
       "</style>\n",
       "<table border=\"1\" class=\"dataframe\">\n",
       "  <thead>\n",
       "    <tr style=\"text-align: right;\">\n",
       "      <th></th>\n",
       "      <th>B</th>\n",
       "    </tr>\n",
       "  </thead>\n",
       "  <tbody>\n",
       "    <tr>\n",
       "      <th>0</th>\n",
       "      <td>6</td>\n",
       "    </tr>\n",
       "    <tr>\n",
       "      <th>1</th>\n",
       "      <td>1</td>\n",
       "    </tr>\n",
       "    <tr>\n",
       "      <th>2</th>\n",
       "      <td>5</td>\n",
       "    </tr>\n",
       "  </tbody>\n",
       "</table>\n",
       "</div>"
      ],
      "text/plain": [
       "   B\n",
       "0  6\n",
       "1  1\n",
       "2  5"
      ]
     },
     "execution_count": 575,
     "metadata": {},
     "output_type": "execute_result"
    }
   ],
   "source": [
    "dataframe.dropna(axis=1) #axis='columns'"
   ]
  },
  {
   "cell_type": "code",
   "execution_count": 577,
   "id": "b951a001-283d-47e8-ab33-2eecdfa9a0ce",
   "metadata": {},
   "outputs": [
    {
     "data": {
      "text/html": [
       "<div>\n",
       "<style scoped>\n",
       "    .dataframe tbody tr th:only-of-type {\n",
       "        vertical-align: middle;\n",
       "    }\n",
       "\n",
       "    .dataframe tbody tr th {\n",
       "        vertical-align: top;\n",
       "    }\n",
       "\n",
       "    .dataframe thead th {\n",
       "        text-align: right;\n",
       "    }\n",
       "</style>\n",
       "<table border=\"1\" class=\"dataframe\">\n",
       "  <thead>\n",
       "    <tr style=\"text-align: right;\">\n",
       "      <th></th>\n",
       "      <th>A</th>\n",
       "      <th>B</th>\n",
       "      <th>C</th>\n",
       "    </tr>\n",
       "  </thead>\n",
       "  <tbody>\n",
       "    <tr>\n",
       "      <th>0</th>\n",
       "      <td>4.0</td>\n",
       "      <td>6</td>\n",
       "      <td>NaN</td>\n",
       "    </tr>\n",
       "    <tr>\n",
       "      <th>1</th>\n",
       "      <td>5.0</td>\n",
       "      <td>1</td>\n",
       "      <td>4.0</td>\n",
       "    </tr>\n",
       "    <tr>\n",
       "      <th>2</th>\n",
       "      <td>NaN</td>\n",
       "      <td>5</td>\n",
       "      <td>NaN</td>\n",
       "    </tr>\n",
       "  </tbody>\n",
       "</table>\n",
       "</div>"
      ],
      "text/plain": [
       "     A  B    C\n",
       "0  4.0  6  NaN\n",
       "1  5.0  1  4.0\n",
       "2  NaN  5  NaN"
      ]
     },
     "execution_count": 577,
     "metadata": {},
     "output_type": "execute_result"
    }
   ],
   "source": [
    "dataframe #no han sido variados"
   ]
  },
  {
   "cell_type": "code",
   "execution_count": 579,
   "id": "72ec2df0-fdc9-42b5-86db-8865c8c02191",
   "metadata": {},
   "outputs": [],
   "source": [
    "dataframe2=dataframe.dropna()\n",
    "dataframe3=dataframe.dropna(axis=1)"
   ]
  },
  {
   "cell_type": "code",
   "execution_count": 581,
   "id": "1218ffad-8898-444f-b0c8-efee60a9bac5",
   "metadata": {},
   "outputs": [
    {
     "data": {
      "text/html": [
       "<div>\n",
       "<style scoped>\n",
       "    .dataframe tbody tr th:only-of-type {\n",
       "        vertical-align: middle;\n",
       "    }\n",
       "\n",
       "    .dataframe tbody tr th {\n",
       "        vertical-align: top;\n",
       "    }\n",
       "\n",
       "    .dataframe thead th {\n",
       "        text-align: right;\n",
       "    }\n",
       "</style>\n",
       "<table border=\"1\" class=\"dataframe\">\n",
       "  <thead>\n",
       "    <tr style=\"text-align: right;\">\n",
       "      <th></th>\n",
       "      <th>A</th>\n",
       "      <th>B</th>\n",
       "      <th>C</th>\n",
       "    </tr>\n",
       "  </thead>\n",
       "  <tbody>\n",
       "    <tr>\n",
       "      <th>1</th>\n",
       "      <td>5.0</td>\n",
       "      <td>1</td>\n",
       "      <td>4.0</td>\n",
       "    </tr>\n",
       "  </tbody>\n",
       "</table>\n",
       "</div>"
      ],
      "text/plain": [
       "     A  B    C\n",
       "1  5.0  1  4.0"
      ]
     },
     "execution_count": 581,
     "metadata": {},
     "output_type": "execute_result"
    }
   ],
   "source": [
    "dataframe2"
   ]
  },
  {
   "cell_type": "code",
   "execution_count": 583,
   "id": "65039d28-13be-45c6-bd30-0cf44c61ee5e",
   "metadata": {},
   "outputs": [
    {
     "data": {
      "text/html": [
       "<div>\n",
       "<style scoped>\n",
       "    .dataframe tbody tr th:only-of-type {\n",
       "        vertical-align: middle;\n",
       "    }\n",
       "\n",
       "    .dataframe tbody tr th {\n",
       "        vertical-align: top;\n",
       "    }\n",
       "\n",
       "    .dataframe thead th {\n",
       "        text-align: right;\n",
       "    }\n",
       "</style>\n",
       "<table border=\"1\" class=\"dataframe\">\n",
       "  <thead>\n",
       "    <tr style=\"text-align: right;\">\n",
       "      <th></th>\n",
       "      <th>B</th>\n",
       "    </tr>\n",
       "  </thead>\n",
       "  <tbody>\n",
       "    <tr>\n",
       "      <th>0</th>\n",
       "      <td>6</td>\n",
       "    </tr>\n",
       "    <tr>\n",
       "      <th>1</th>\n",
       "      <td>1</td>\n",
       "    </tr>\n",
       "    <tr>\n",
       "      <th>2</th>\n",
       "      <td>5</td>\n",
       "    </tr>\n",
       "  </tbody>\n",
       "</table>\n",
       "</div>"
      ],
      "text/plain": [
       "   B\n",
       "0  6\n",
       "1  1\n",
       "2  5"
      ]
     },
     "execution_count": 583,
     "metadata": {},
     "output_type": "execute_result"
    }
   ],
   "source": [
    "dataframe3"
   ]
  },
  {
   "cell_type": "code",
   "execution_count": 585,
   "id": "26176273-fdef-46b4-a006-1b6d6a933957",
   "metadata": {},
   "outputs": [],
   "source": [
    "#podemos eliminar con .dropna añadiendo inplace=True como argumento "
   ]
  },
  {
   "cell_type": "code",
   "execution_count": 587,
   "id": "5861c31f-c5ae-4ddc-9205-80b9c7843067",
   "metadata": {},
   "outputs": [],
   "source": [
    "dataframe.dropna(inplace=True) #no hace especificar axi=1 por defecto axi=0 -> filas "
   ]
  },
  {
   "cell_type": "code",
   "execution_count": 589,
   "id": "c7ba57a7-a809-43a7-91d4-ec35905bc7fa",
   "metadata": {},
   "outputs": [
    {
     "data": {
      "text/html": [
       "<div>\n",
       "<style scoped>\n",
       "    .dataframe tbody tr th:only-of-type {\n",
       "        vertical-align: middle;\n",
       "    }\n",
       "\n",
       "    .dataframe tbody tr th {\n",
       "        vertical-align: top;\n",
       "    }\n",
       "\n",
       "    .dataframe thead th {\n",
       "        text-align: right;\n",
       "    }\n",
       "</style>\n",
       "<table border=\"1\" class=\"dataframe\">\n",
       "  <thead>\n",
       "    <tr style=\"text-align: right;\">\n",
       "      <th></th>\n",
       "      <th>A</th>\n",
       "      <th>B</th>\n",
       "      <th>C</th>\n",
       "    </tr>\n",
       "  </thead>\n",
       "  <tbody>\n",
       "    <tr>\n",
       "      <th>1</th>\n",
       "      <td>5.0</td>\n",
       "      <td>1</td>\n",
       "      <td>4.0</td>\n",
       "    </tr>\n",
       "  </tbody>\n",
       "</table>\n",
       "</div>"
      ],
      "text/plain": [
       "     A  B    C\n",
       "1  5.0  1  4.0"
      ]
     },
     "execution_count": 589,
     "metadata": {},
     "output_type": "execute_result"
    }
   ],
   "source": [
    "dataframe"
   ]
  },
  {
   "cell_type": "code",
   "execution_count": 597,
   "id": "33411930-3386-45d2-a544-a1db5c2eab42",
   "metadata": {},
   "outputs": [
    {
     "data": {
      "text/html": [
       "<div>\n",
       "<style scoped>\n",
       "    .dataframe tbody tr th:only-of-type {\n",
       "        vertical-align: middle;\n",
       "    }\n",
       "\n",
       "    .dataframe tbody tr th {\n",
       "        vertical-align: top;\n",
       "    }\n",
       "\n",
       "    .dataframe thead th {\n",
       "        text-align: right;\n",
       "    }\n",
       "</style>\n",
       "<table border=\"1\" class=\"dataframe\">\n",
       "  <thead>\n",
       "    <tr style=\"text-align: right;\">\n",
       "      <th></th>\n",
       "      <th>A</th>\n",
       "      <th>B</th>\n",
       "      <th>C</th>\n",
       "    </tr>\n",
       "  </thead>\n",
       "  <tbody>\n",
       "    <tr>\n",
       "      <th>0</th>\n",
       "      <td>4.0</td>\n",
       "      <td>6</td>\n",
       "      <td>NaN</td>\n",
       "    </tr>\n",
       "    <tr>\n",
       "      <th>1</th>\n",
       "      <td>5.0</td>\n",
       "      <td>1</td>\n",
       "      <td>4.0</td>\n",
       "    </tr>\n",
       "    <tr>\n",
       "      <th>2</th>\n",
       "      <td>NaN</td>\n",
       "      <td>5</td>\n",
       "      <td>NaN</td>\n",
       "    </tr>\n",
       "  </tbody>\n",
       "</table>\n",
       "</div>"
      ],
      "text/plain": [
       "     A  B    C\n",
       "0  4.0  6  NaN\n",
       "1  5.0  1  4.0\n",
       "2  NaN  5  NaN"
      ]
     },
     "execution_count": 597,
     "metadata": {},
     "output_type": "execute_result"
    }
   ],
   "source": [
    "dataframe = pd.DataFrame(diccionario) #reincio \n",
    "dataframe"
   ]
  },
  {
   "cell_type": "code",
   "execution_count": 599,
   "id": "313d26b8-4941-4380-8f32-3a691a0f236a",
   "metadata": {},
   "outputs": [
    {
     "data": {
      "text/html": [
       "<div>\n",
       "<style scoped>\n",
       "    .dataframe tbody tr th:only-of-type {\n",
       "        vertical-align: middle;\n",
       "    }\n",
       "\n",
       "    .dataframe tbody tr th {\n",
       "        vertical-align: top;\n",
       "    }\n",
       "\n",
       "    .dataframe thead th {\n",
       "        text-align: right;\n",
       "    }\n",
       "</style>\n",
       "<table border=\"1\" class=\"dataframe\">\n",
       "  <thead>\n",
       "    <tr style=\"text-align: right;\">\n",
       "      <th></th>\n",
       "      <th>B</th>\n",
       "    </tr>\n",
       "  </thead>\n",
       "  <tbody>\n",
       "    <tr>\n",
       "      <th>0</th>\n",
       "      <td>6</td>\n",
       "    </tr>\n",
       "    <tr>\n",
       "      <th>1</th>\n",
       "      <td>1</td>\n",
       "    </tr>\n",
       "    <tr>\n",
       "      <th>2</th>\n",
       "      <td>5</td>\n",
       "    </tr>\n",
       "  </tbody>\n",
       "</table>\n",
       "</div>"
      ],
      "text/plain": [
       "   B\n",
       "0  6\n",
       "1  1\n",
       "2  5"
      ]
     },
     "execution_count": 599,
     "metadata": {},
     "output_type": "execute_result"
    }
   ],
   "source": [
    "dataframe.dropna(axis=1, inplace=True) #axis='columns'\n",
    "dataframe"
   ]
  },
  {
   "cell_type": "code",
   "execution_count": 603,
   "id": "945db194-b6f0-4781-8ee1-71923fbb60b5",
   "metadata": {},
   "outputs": [
    {
     "data": {
      "text/html": [
       "<div>\n",
       "<style scoped>\n",
       "    .dataframe tbody tr th:only-of-type {\n",
       "        vertical-align: middle;\n",
       "    }\n",
       "\n",
       "    .dataframe tbody tr th {\n",
       "        vertical-align: top;\n",
       "    }\n",
       "\n",
       "    .dataframe thead th {\n",
       "        text-align: right;\n",
       "    }\n",
       "</style>\n",
       "<table border=\"1\" class=\"dataframe\">\n",
       "  <thead>\n",
       "    <tr style=\"text-align: right;\">\n",
       "      <th></th>\n",
       "      <th>A</th>\n",
       "      <th>B</th>\n",
       "      <th>C</th>\n",
       "    </tr>\n",
       "  </thead>\n",
       "  <tbody>\n",
       "    <tr>\n",
       "      <th>0</th>\n",
       "      <td>4.0</td>\n",
       "      <td>6</td>\n",
       "      <td>0.0</td>\n",
       "    </tr>\n",
       "    <tr>\n",
       "      <th>1</th>\n",
       "      <td>5.0</td>\n",
       "      <td>1</td>\n",
       "      <td>4.0</td>\n",
       "    </tr>\n",
       "    <tr>\n",
       "      <th>2</th>\n",
       "      <td>0.0</td>\n",
       "      <td>5</td>\n",
       "      <td>0.0</td>\n",
       "    </tr>\n",
       "  </tbody>\n",
       "</table>\n",
       "</div>"
      ],
      "text/plain": [
       "     A  B    C\n",
       "0  4.0  6  0.0\n",
       "1  5.0  1  4.0\n",
       "2  0.0  5  0.0"
      ]
     },
     "execution_count": 603,
     "metadata": {},
     "output_type": "execute_result"
    }
   ],
   "source": [
    "dataframe = pd.DataFrame(diccionario) #reincio \n",
    "dataframe.fillna(0)"
   ]
  },
  {
   "cell_type": "code",
   "execution_count": 609,
   "id": "e7b7ccc1-ea53-4277-b7ea-f08f5d5597d7",
   "metadata": {},
   "outputs": [
    {
     "data": {
      "text/html": [
       "<div>\n",
       "<style scoped>\n",
       "    .dataframe tbody tr th:only-of-type {\n",
       "        vertical-align: middle;\n",
       "    }\n",
       "\n",
       "    .dataframe tbody tr th {\n",
       "        vertical-align: top;\n",
       "    }\n",
       "\n",
       "    .dataframe thead th {\n",
       "        text-align: right;\n",
       "    }\n",
       "</style>\n",
       "<table border=\"1\" class=\"dataframe\">\n",
       "  <thead>\n",
       "    <tr style=\"text-align: right;\">\n",
       "      <th></th>\n",
       "      <th>A</th>\n",
       "      <th>B</th>\n",
       "      <th>C</th>\n",
       "    </tr>\n",
       "  </thead>\n",
       "  <tbody>\n",
       "    <tr>\n",
       "      <th>0</th>\n",
       "      <td>4.0</td>\n",
       "      <td>6</td>\n",
       "      <td>4.0</td>\n",
       "    </tr>\n",
       "    <tr>\n",
       "      <th>1</th>\n",
       "      <td>5.0</td>\n",
       "      <td>1</td>\n",
       "      <td>4.0</td>\n",
       "    </tr>\n",
       "    <tr>\n",
       "      <th>2</th>\n",
       "      <td>4.5</td>\n",
       "      <td>5</td>\n",
       "      <td>4.0</td>\n",
       "    </tr>\n",
       "  </tbody>\n",
       "</table>\n",
       "</div>"
      ],
      "text/plain": [
       "     A  B    C\n",
       "0  4.0  6  4.0\n",
       "1  5.0  1  4.0\n",
       "2  4.5  5  4.0"
      ]
     },
     "execution_count": 609,
     "metadata": {},
     "output_type": "execute_result"
    }
   ],
   "source": [
    "valor_medio = dataframe.mean()\n",
    "dataframe.fillna(valor_medio) #value=valor_medio"
   ]
  },
  {
   "cell_type": "markdown",
   "id": "4b93c649-ab9b-491d-8109-e6fc09a08784",
   "metadata": {},
   "source": [
    "Pandas - Agrupacion de datos "
   ]
  },
  {
   "cell_type": "code",
   "execution_count": 612,
   "id": "5c6eb8d3-f530-4d99-af3a-44a8e1295aa7",
   "metadata": {},
   "outputs": [],
   "source": [
    "import numpy as np\n",
    "import pandas as pd"
   ]
  },
  {
   "cell_type": "code",
   "execution_count": 616,
   "id": "913f2340-0d33-4256-81c9-966fda53cc2b",
   "metadata": {},
   "outputs": [],
   "source": [
    "diccionario = {\"dias\":[\"dia1\",\"dia1\",\"dia2\",\"dia1\",\"dia3\"],\"vendedores\":[\"Antonio\",\"Maria\",\"Jose\",\"Marta\",\"Juan\"],\"ventas\":[100,400,200,500,300]}\n",
    "dataframe = pd.DataFrame(diccionario)"
   ]
  },
  {
   "cell_type": "code",
   "execution_count": 620,
   "id": "cd13d5a2-51f0-4148-93be-fe79c72f4bd2",
   "metadata": {},
   "outputs": [
    {
     "data": {
      "text/html": [
       "<div>\n",
       "<style scoped>\n",
       "    .dataframe tbody tr th:only-of-type {\n",
       "        vertical-align: middle;\n",
       "    }\n",
       "\n",
       "    .dataframe tbody tr th {\n",
       "        vertical-align: top;\n",
       "    }\n",
       "\n",
       "    .dataframe thead th {\n",
       "        text-align: right;\n",
       "    }\n",
       "</style>\n",
       "<table border=\"1\" class=\"dataframe\">\n",
       "  <thead>\n",
       "    <tr style=\"text-align: right;\">\n",
       "      <th></th>\n",
       "      <th>dias</th>\n",
       "      <th>vendedores</th>\n",
       "      <th>ventas</th>\n",
       "    </tr>\n",
       "  </thead>\n",
       "  <tbody>\n",
       "    <tr>\n",
       "      <th>0</th>\n",
       "      <td>dia1</td>\n",
       "      <td>Antonio</td>\n",
       "      <td>100</td>\n",
       "    </tr>\n",
       "    <tr>\n",
       "      <th>1</th>\n",
       "      <td>dia1</td>\n",
       "      <td>Maria</td>\n",
       "      <td>400</td>\n",
       "    </tr>\n",
       "    <tr>\n",
       "      <th>2</th>\n",
       "      <td>dia2</td>\n",
       "      <td>Jose</td>\n",
       "      <td>200</td>\n",
       "    </tr>\n",
       "    <tr>\n",
       "      <th>3</th>\n",
       "      <td>dia1</td>\n",
       "      <td>Marta</td>\n",
       "      <td>500</td>\n",
       "    </tr>\n",
       "    <tr>\n",
       "      <th>4</th>\n",
       "      <td>dia3</td>\n",
       "      <td>Juan</td>\n",
       "      <td>300</td>\n",
       "    </tr>\n",
       "  </tbody>\n",
       "</table>\n",
       "</div>"
      ],
      "text/plain": [
       "   dias vendedores  ventas\n",
       "0  dia1    Antonio     100\n",
       "1  dia1      Maria     400\n",
       "2  dia2       Jose     200\n",
       "3  dia1      Marta     500\n",
       "4  dia3       Juan     300"
      ]
     },
     "execution_count": 620,
     "metadata": {},
     "output_type": "execute_result"
    }
   ],
   "source": [
    "dataframe"
   ]
  },
  {
   "cell_type": "code",
   "execution_count": 676,
   "id": "a9a2572b-e7ad-4294-9dc9-e372ee9a036b",
   "metadata": {},
   "outputs": [
    {
     "data": {
      "text/plain": [
       "dias\n",
       "dia1    333.333333\n",
       "dia2    200.000000\n",
       "dia3    300.000000\n",
       "Name: ventas, dtype: float64"
      ]
     },
     "execution_count": 676,
     "metadata": {},
     "output_type": "execute_result"
    }
   ],
   "source": [
    "dataframe.groupby([\"dias\"])[\"ventas\"].mean()"
   ]
  },
  {
   "cell_type": "code",
   "execution_count": 680,
   "id": "0305b67d-b695-4920-904f-4fe25e7ded30",
   "metadata": {},
   "outputs": [
    {
     "data": {
      "text/html": [
       "<div>\n",
       "<style scoped>\n",
       "    .dataframe tbody tr th:only-of-type {\n",
       "        vertical-align: middle;\n",
       "    }\n",
       "\n",
       "    .dataframe tbody tr th {\n",
       "        vertical-align: top;\n",
       "    }\n",
       "\n",
       "    .dataframe thead th {\n",
       "        text-align: right;\n",
       "    }\n",
       "</style>\n",
       "<table border=\"1\" class=\"dataframe\">\n",
       "  <thead>\n",
       "    <tr style=\"text-align: right;\">\n",
       "      <th></th>\n",
       "      <th>dias</th>\n",
       "      <th>vendedores</th>\n",
       "      <th>ventas</th>\n",
       "    </tr>\n",
       "  </thead>\n",
       "  <tbody>\n",
       "    <tr>\n",
       "      <th>0</th>\n",
       "      <td>dia1</td>\n",
       "      <td>Antonio</td>\n",
       "      <td>100</td>\n",
       "    </tr>\n",
       "    <tr>\n",
       "      <th>1</th>\n",
       "      <td>dia1</td>\n",
       "      <td>Maria</td>\n",
       "      <td>400</td>\n",
       "    </tr>\n",
       "    <tr>\n",
       "      <th>2</th>\n",
       "      <td>dia2</td>\n",
       "      <td>Jose</td>\n",
       "      <td>200</td>\n",
       "    </tr>\n",
       "    <tr>\n",
       "      <th>3</th>\n",
       "      <td>dia1</td>\n",
       "      <td>Marta</td>\n",
       "      <td>500</td>\n",
       "    </tr>\n",
       "    <tr>\n",
       "      <th>4</th>\n",
       "      <td>dia3</td>\n",
       "      <td>Juan</td>\n",
       "      <td>300</td>\n",
       "    </tr>\n",
       "  </tbody>\n",
       "</table>\n",
       "</div>"
      ],
      "text/plain": [
       "   dias vendedores  ventas\n",
       "0  dia1    Antonio     100\n",
       "1  dia1      Maria     400\n",
       "2  dia2       Jose     200\n",
       "3  dia1      Marta     500\n",
       "4  dia3       Juan     300"
      ]
     },
     "execution_count": 680,
     "metadata": {},
     "output_type": "execute_result"
    }
   ],
   "source": [
    "dataframe"
   ]
  },
  {
   "cell_type": "code",
   "execution_count": 690,
   "id": "0a93e13b-2d1b-4de1-bdf1-b4344d4d784a",
   "metadata": {},
   "outputs": [
    {
     "data": {
      "text/plain": [
       "dias\n",
       "dia1    1000\n",
       "dia2     200\n",
       "dia3     300\n",
       "Name: ventas, dtype: int64"
      ]
     },
     "execution_count": 690,
     "metadata": {},
     "output_type": "execute_result"
    }
   ],
   "source": [
    "dataframe.groupby([\"dias\"])[\"ventas\"].sum()"
   ]
  },
  {
   "cell_type": "code",
   "execution_count": 692,
   "id": "102684de-eded-4726-be63-8d127508f6fb",
   "metadata": {},
   "outputs": [
    {
     "data": {
      "text/html": [
       "<div>\n",
       "<style scoped>\n",
       "    .dataframe tbody tr th:only-of-type {\n",
       "        vertical-align: middle;\n",
       "    }\n",
       "\n",
       "    .dataframe tbody tr th {\n",
       "        vertical-align: top;\n",
       "    }\n",
       "\n",
       "    .dataframe thead tr th {\n",
       "        text-align: left;\n",
       "    }\n",
       "\n",
       "    .dataframe thead tr:last-of-type th {\n",
       "        text-align: right;\n",
       "    }\n",
       "</style>\n",
       "<table border=\"1\" class=\"dataframe\">\n",
       "  <thead>\n",
       "    <tr>\n",
       "      <th></th>\n",
       "      <th colspan=\"8\" halign=\"left\">ventas</th>\n",
       "    </tr>\n",
       "    <tr>\n",
       "      <th></th>\n",
       "      <th>count</th>\n",
       "      <th>mean</th>\n",
       "      <th>std</th>\n",
       "      <th>min</th>\n",
       "      <th>25%</th>\n",
       "      <th>50%</th>\n",
       "      <th>75%</th>\n",
       "      <th>max</th>\n",
       "    </tr>\n",
       "    <tr>\n",
       "      <th>dias</th>\n",
       "      <th></th>\n",
       "      <th></th>\n",
       "      <th></th>\n",
       "      <th></th>\n",
       "      <th></th>\n",
       "      <th></th>\n",
       "      <th></th>\n",
       "      <th></th>\n",
       "    </tr>\n",
       "  </thead>\n",
       "  <tbody>\n",
       "    <tr>\n",
       "      <th>dia1</th>\n",
       "      <td>3.0</td>\n",
       "      <td>333.333333</td>\n",
       "      <td>208.1666</td>\n",
       "      <td>100.0</td>\n",
       "      <td>250.0</td>\n",
       "      <td>400.0</td>\n",
       "      <td>450.0</td>\n",
       "      <td>500.0</td>\n",
       "    </tr>\n",
       "    <tr>\n",
       "      <th>dia2</th>\n",
       "      <td>1.0</td>\n",
       "      <td>200.000000</td>\n",
       "      <td>NaN</td>\n",
       "      <td>200.0</td>\n",
       "      <td>200.0</td>\n",
       "      <td>200.0</td>\n",
       "      <td>200.0</td>\n",
       "      <td>200.0</td>\n",
       "    </tr>\n",
       "    <tr>\n",
       "      <th>dia3</th>\n",
       "      <td>1.0</td>\n",
       "      <td>300.000000</td>\n",
       "      <td>NaN</td>\n",
       "      <td>300.0</td>\n",
       "      <td>300.0</td>\n",
       "      <td>300.0</td>\n",
       "      <td>300.0</td>\n",
       "      <td>300.0</td>\n",
       "    </tr>\n",
       "  </tbody>\n",
       "</table>\n",
       "</div>"
      ],
      "text/plain": [
       "     ventas                                                         \n",
       "      count        mean       std    min    25%    50%    75%    max\n",
       "dias                                                                \n",
       "dia1    3.0  333.333333  208.1666  100.0  250.0  400.0  450.0  500.0\n",
       "dia2    1.0  200.000000       NaN  200.0  200.0  200.0  200.0  200.0\n",
       "dia3    1.0  300.000000       NaN  300.0  300.0  300.0  300.0  300.0"
      ]
     },
     "execution_count": 692,
     "metadata": {},
     "output_type": "execute_result"
    }
   ],
   "source": [
    "dataframe.groupby([\"dias\"]).describe()"
   ]
  },
  {
   "cell_type": "code",
   "execution_count": 655,
   "id": "2dbb8935-a9ef-429a-864a-194e0db92d19",
   "metadata": {},
   "outputs": [
    {
     "data": {
      "text/html": [
       "<div>\n",
       "<style scoped>\n",
       "    .dataframe tbody tr th:only-of-type {\n",
       "        vertical-align: middle;\n",
       "    }\n",
       "\n",
       "    .dataframe tbody tr th {\n",
       "        vertical-align: top;\n",
       "    }\n",
       "\n",
       "    .dataframe thead th {\n",
       "        text-align: right;\n",
       "    }\n",
       "</style>\n",
       "<table border=\"1\" class=\"dataframe\">\n",
       "  <thead>\n",
       "    <tr style=\"text-align: right;\">\n",
       "      <th></th>\n",
       "      <th>Animal</th>\n",
       "      <th>Max Speed</th>\n",
       "    </tr>\n",
       "  </thead>\n",
       "  <tbody>\n",
       "    <tr>\n",
       "      <th>0</th>\n",
       "      <td>Falcon</td>\n",
       "      <td>380.0</td>\n",
       "    </tr>\n",
       "    <tr>\n",
       "      <th>1</th>\n",
       "      <td>Falcon</td>\n",
       "      <td>370.0</td>\n",
       "    </tr>\n",
       "    <tr>\n",
       "      <th>2</th>\n",
       "      <td>Parrot</td>\n",
       "      <td>24.0</td>\n",
       "    </tr>\n",
       "    <tr>\n",
       "      <th>3</th>\n",
       "      <td>Parrot</td>\n",
       "      <td>26.0</td>\n",
       "    </tr>\n",
       "  </tbody>\n",
       "</table>\n",
       "</div>"
      ],
      "text/plain": [
       "   Animal  Max Speed\n",
       "0  Falcon      380.0\n",
       "1  Falcon      370.0\n",
       "2  Parrot       24.0\n",
       "3  Parrot       26.0"
      ]
     },
     "execution_count": 655,
     "metadata": {},
     "output_type": "execute_result"
    }
   ],
   "source": [
    "df = pd.DataFrame({'Animal': ['Falcon', 'Falcon','Parrot', 'Parrot'],'Max Speed': [380., 370., 24., 26.]})\n",
    ">>>df"
   ]
  },
  {
   "cell_type": "code",
   "execution_count": 665,
   "id": "d5ba7b25-c35c-43b3-b0ab-1ea5f730e778",
   "metadata": {},
   "outputs": [
    {
     "data": {
      "text/html": [
       "<div>\n",
       "<style scoped>\n",
       "    .dataframe tbody tr th:only-of-type {\n",
       "        vertical-align: middle;\n",
       "    }\n",
       "\n",
       "    .dataframe tbody tr th {\n",
       "        vertical-align: top;\n",
       "    }\n",
       "\n",
       "    .dataframe thead th {\n",
       "        text-align: right;\n",
       "    }\n",
       "</style>\n",
       "<table border=\"1\" class=\"dataframe\">\n",
       "  <thead>\n",
       "    <tr style=\"text-align: right;\">\n",
       "      <th></th>\n",
       "      <th>Max Speed</th>\n",
       "    </tr>\n",
       "    <tr>\n",
       "      <th>Animal</th>\n",
       "      <th></th>\n",
       "    </tr>\n",
       "  </thead>\n",
       "  <tbody>\n",
       "    <tr>\n",
       "      <th>Falcon</th>\n",
       "      <td>375.0</td>\n",
       "    </tr>\n",
       "    <tr>\n",
       "      <th>Parrot</th>\n",
       "      <td>25.0</td>\n",
       "    </tr>\n",
       "  </tbody>\n",
       "</table>\n",
       "</div>"
      ],
      "text/plain": [
       "        Max Speed\n",
       "Animal           \n",
       "Falcon      375.0\n",
       "Parrot       25.0"
      ]
     },
     "execution_count": 665,
     "metadata": {},
     "output_type": "execute_result"
    }
   ],
   "source": [
    "df.groupby(['Animal']).mean()"
   ]
  },
  {
   "cell_type": "code",
   "execution_count": 694,
   "id": "099afd8d-1c54-4edd-a1b4-42f903877e8c",
   "metadata": {},
   "outputs": [
    {
     "data": {
      "text/html": [
       "<div>\n",
       "<style scoped>\n",
       "    .dataframe tbody tr th:only-of-type {\n",
       "        vertical-align: middle;\n",
       "    }\n",
       "\n",
       "    .dataframe tbody tr th {\n",
       "        vertical-align: top;\n",
       "    }\n",
       "\n",
       "    .dataframe thead th {\n",
       "        text-align: right;\n",
       "    }\n",
       "</style>\n",
       "<table border=\"1\" class=\"dataframe\">\n",
       "  <thead>\n",
       "    <tr style=\"text-align: right;\">\n",
       "      <th></th>\n",
       "      <th></th>\n",
       "      <th>Max Speed</th>\n",
       "    </tr>\n",
       "    <tr>\n",
       "      <th>Animal</th>\n",
       "      <th>Type</th>\n",
       "      <th></th>\n",
       "    </tr>\n",
       "  </thead>\n",
       "  <tbody>\n",
       "    <tr>\n",
       "      <th rowspan=\"2\" valign=\"top\">Falcon</th>\n",
       "      <th>Captive</th>\n",
       "      <td>390.0</td>\n",
       "    </tr>\n",
       "    <tr>\n",
       "      <th>Wild</th>\n",
       "      <td>350.0</td>\n",
       "    </tr>\n",
       "    <tr>\n",
       "      <th rowspan=\"2\" valign=\"top\">Parrot</th>\n",
       "      <th>Captive</th>\n",
       "      <td>30.0</td>\n",
       "    </tr>\n",
       "    <tr>\n",
       "      <th>Wild</th>\n",
       "      <td>20.0</td>\n",
       "    </tr>\n",
       "  </tbody>\n",
       "</table>\n",
       "</div>"
      ],
      "text/plain": [
       "                Max Speed\n",
       "Animal Type              \n",
       "Falcon Captive      390.0\n",
       "       Wild         350.0\n",
       "Parrot Captive       30.0\n",
       "       Wild          20.0"
      ]
     },
     "execution_count": 694,
     "metadata": {},
     "output_type": "execute_result"
    }
   ],
   "source": [
    "arrays = [['Falcon', 'Falcon', 'Parrot', 'Parrot'],['Captive', 'Wild', 'Captive', 'Wild']]\n",
    "index = pd.MultiIndex.from_arrays(arrays, names=('Animal', 'Type'))\n",
    "df = pd.DataFrame({'Max Speed': [390., 350., 30., 20.]},index=index)\n",
    "df"
   ]
  },
  {
   "cell_type": "markdown",
   "id": "47fea648-9c71-485f-b038-0c828b7e902f",
   "metadata": {},
   "source": [
    "Pandas - Combinar DataFrame"
   ]
  },
  {
   "cell_type": "code",
   "execution_count": 702,
   "id": "e9799153-1b17-4f9f-9272-92c37936f220",
   "metadata": {},
   "outputs": [],
   "source": [
    "df = pd.DataFrame({'Animal': ['Falcon', 'Falcon','Parrot', 'Parrot'],'Max Speed': [380., 370., 24., 26.], \"Prueba\":[12,52,47,59]})"
   ]
  },
  {
   "cell_type": "code",
   "execution_count": 704,
   "id": "f34786d0-9d6a-400e-a9f0-3801419cfc41",
   "metadata": {},
   "outputs": [],
   "source": [
    "df2 = pd.DataFrame({'Animal': ['Falcon', 'Falcon','Parrot', 'Parrot'],'Max Speed': [250., 680., 14., 46.], \"Prueba\":[82,37,85,60]})"
   ]
  },
  {
   "cell_type": "code",
   "execution_count": 706,
   "id": "fb7de242-193f-49a8-95ac-50ee57d932d4",
   "metadata": {},
   "outputs": [
    {
     "data": {
      "text/html": [
       "<div>\n",
       "<style scoped>\n",
       "    .dataframe tbody tr th:only-of-type {\n",
       "        vertical-align: middle;\n",
       "    }\n",
       "\n",
       "    .dataframe tbody tr th {\n",
       "        vertical-align: top;\n",
       "    }\n",
       "\n",
       "    .dataframe thead th {\n",
       "        text-align: right;\n",
       "    }\n",
       "</style>\n",
       "<table border=\"1\" class=\"dataframe\">\n",
       "  <thead>\n",
       "    <tr style=\"text-align: right;\">\n",
       "      <th></th>\n",
       "      <th>Animal</th>\n",
       "      <th>Max Speed</th>\n",
       "      <th>Prueba</th>\n",
       "    </tr>\n",
       "  </thead>\n",
       "  <tbody>\n",
       "    <tr>\n",
       "      <th>0</th>\n",
       "      <td>Falcon</td>\n",
       "      <td>380.0</td>\n",
       "      <td>12</td>\n",
       "    </tr>\n",
       "    <tr>\n",
       "      <th>1</th>\n",
       "      <td>Falcon</td>\n",
       "      <td>370.0</td>\n",
       "      <td>52</td>\n",
       "    </tr>\n",
       "    <tr>\n",
       "      <th>2</th>\n",
       "      <td>Parrot</td>\n",
       "      <td>24.0</td>\n",
       "      <td>47</td>\n",
       "    </tr>\n",
       "    <tr>\n",
       "      <th>3</th>\n",
       "      <td>Parrot</td>\n",
       "      <td>26.0</td>\n",
       "      <td>59</td>\n",
       "    </tr>\n",
       "  </tbody>\n",
       "</table>\n",
       "</div>"
      ],
      "text/plain": [
       "   Animal  Max Speed  Prueba\n",
       "0  Falcon      380.0      12\n",
       "1  Falcon      370.0      52\n",
       "2  Parrot       24.0      47\n",
       "3  Parrot       26.0      59"
      ]
     },
     "execution_count": 706,
     "metadata": {},
     "output_type": "execute_result"
    }
   ],
   "source": [
    "df"
   ]
  },
  {
   "cell_type": "code",
   "execution_count": 708,
   "id": "8d70539e-0271-44f6-97ac-3e23d054db60",
   "metadata": {},
   "outputs": [
    {
     "data": {
      "text/html": [
       "<div>\n",
       "<style scoped>\n",
       "    .dataframe tbody tr th:only-of-type {\n",
       "        vertical-align: middle;\n",
       "    }\n",
       "\n",
       "    .dataframe tbody tr th {\n",
       "        vertical-align: top;\n",
       "    }\n",
       "\n",
       "    .dataframe thead th {\n",
       "        text-align: right;\n",
       "    }\n",
       "</style>\n",
       "<table border=\"1\" class=\"dataframe\">\n",
       "  <thead>\n",
       "    <tr style=\"text-align: right;\">\n",
       "      <th></th>\n",
       "      <th>Animal</th>\n",
       "      <th>Max Speed</th>\n",
       "      <th>Prueba</th>\n",
       "    </tr>\n",
       "  </thead>\n",
       "  <tbody>\n",
       "    <tr>\n",
       "      <th>0</th>\n",
       "      <td>Falcon</td>\n",
       "      <td>250.0</td>\n",
       "      <td>82</td>\n",
       "    </tr>\n",
       "    <tr>\n",
       "      <th>1</th>\n",
       "      <td>Falcon</td>\n",
       "      <td>680.0</td>\n",
       "      <td>37</td>\n",
       "    </tr>\n",
       "    <tr>\n",
       "      <th>2</th>\n",
       "      <td>Parrot</td>\n",
       "      <td>14.0</td>\n",
       "      <td>85</td>\n",
       "    </tr>\n",
       "    <tr>\n",
       "      <th>3</th>\n",
       "      <td>Parrot</td>\n",
       "      <td>46.0</td>\n",
       "      <td>60</td>\n",
       "    </tr>\n",
       "  </tbody>\n",
       "</table>\n",
       "</div>"
      ],
      "text/plain": [
       "   Animal  Max Speed  Prueba\n",
       "0  Falcon      250.0      82\n",
       "1  Falcon      680.0      37\n",
       "2  Parrot       14.0      85\n",
       "3  Parrot       46.0      60"
      ]
     },
     "execution_count": 708,
     "metadata": {},
     "output_type": "execute_result"
    }
   ],
   "source": [
    "df2"
   ]
  },
  {
   "cell_type": "code",
   "execution_count": 710,
   "id": "75146349-41a2-4aaf-9136-600c547774a9",
   "metadata": {},
   "outputs": [
    {
     "data": {
      "text/html": [
       "<div>\n",
       "<style scoped>\n",
       "    .dataframe tbody tr th:only-of-type {\n",
       "        vertical-align: middle;\n",
       "    }\n",
       "\n",
       "    .dataframe tbody tr th {\n",
       "        vertical-align: top;\n",
       "    }\n",
       "\n",
       "    .dataframe thead th {\n",
       "        text-align: right;\n",
       "    }\n",
       "</style>\n",
       "<table border=\"1\" class=\"dataframe\">\n",
       "  <thead>\n",
       "    <tr style=\"text-align: right;\">\n",
       "      <th></th>\n",
       "      <th>Animal</th>\n",
       "      <th>Max Speed</th>\n",
       "      <th>Prueba</th>\n",
       "    </tr>\n",
       "  </thead>\n",
       "  <tbody>\n",
       "    <tr>\n",
       "      <th>0</th>\n",
       "      <td>Falcon</td>\n",
       "      <td>380.0</td>\n",
       "      <td>12</td>\n",
       "    </tr>\n",
       "    <tr>\n",
       "      <th>1</th>\n",
       "      <td>Falcon</td>\n",
       "      <td>370.0</td>\n",
       "      <td>52</td>\n",
       "    </tr>\n",
       "    <tr>\n",
       "      <th>2</th>\n",
       "      <td>Parrot</td>\n",
       "      <td>24.0</td>\n",
       "      <td>47</td>\n",
       "    </tr>\n",
       "    <tr>\n",
       "      <th>3</th>\n",
       "      <td>Parrot</td>\n",
       "      <td>26.0</td>\n",
       "      <td>59</td>\n",
       "    </tr>\n",
       "    <tr>\n",
       "      <th>0</th>\n",
       "      <td>Falcon</td>\n",
       "      <td>250.0</td>\n",
       "      <td>82</td>\n",
       "    </tr>\n",
       "    <tr>\n",
       "      <th>1</th>\n",
       "      <td>Falcon</td>\n",
       "      <td>680.0</td>\n",
       "      <td>37</td>\n",
       "    </tr>\n",
       "    <tr>\n",
       "      <th>2</th>\n",
       "      <td>Parrot</td>\n",
       "      <td>14.0</td>\n",
       "      <td>85</td>\n",
       "    </tr>\n",
       "    <tr>\n",
       "      <th>3</th>\n",
       "      <td>Parrot</td>\n",
       "      <td>46.0</td>\n",
       "      <td>60</td>\n",
       "    </tr>\n",
       "  </tbody>\n",
       "</table>\n",
       "</div>"
      ],
      "text/plain": [
       "   Animal  Max Speed  Prueba\n",
       "0  Falcon      380.0      12\n",
       "1  Falcon      370.0      52\n",
       "2  Parrot       24.0      47\n",
       "3  Parrot       26.0      59\n",
       "0  Falcon      250.0      82\n",
       "1  Falcon      680.0      37\n",
       "2  Parrot       14.0      85\n",
       "3  Parrot       46.0      60"
      ]
     },
     "execution_count": 710,
     "metadata": {},
     "output_type": "execute_result"
    }
   ],
   "source": [
    "pd.concat([df, df2])"
   ]
  },
  {
   "cell_type": "code",
   "execution_count": 712,
   "id": "81c3c861-879e-49d5-bd24-0f656ae0f50e",
   "metadata": {},
   "outputs": [
    {
     "data": {
      "text/html": [
       "<div>\n",
       "<style scoped>\n",
       "    .dataframe tbody tr th:only-of-type {\n",
       "        vertical-align: middle;\n",
       "    }\n",
       "\n",
       "    .dataframe tbody tr th {\n",
       "        vertical-align: top;\n",
       "    }\n",
       "\n",
       "    .dataframe thead th {\n",
       "        text-align: right;\n",
       "    }\n",
       "</style>\n",
       "<table border=\"1\" class=\"dataframe\">\n",
       "  <thead>\n",
       "    <tr style=\"text-align: right;\">\n",
       "      <th></th>\n",
       "      <th>Animal</th>\n",
       "      <th>Max Speed</th>\n",
       "      <th>Prueba</th>\n",
       "      <th>Animal</th>\n",
       "      <th>Max Speed</th>\n",
       "      <th>Prueba</th>\n",
       "    </tr>\n",
       "  </thead>\n",
       "  <tbody>\n",
       "    <tr>\n",
       "      <th>0</th>\n",
       "      <td>Falcon</td>\n",
       "      <td>380.0</td>\n",
       "      <td>12</td>\n",
       "      <td>Falcon</td>\n",
       "      <td>250.0</td>\n",
       "      <td>82</td>\n",
       "    </tr>\n",
       "    <tr>\n",
       "      <th>1</th>\n",
       "      <td>Falcon</td>\n",
       "      <td>370.0</td>\n",
       "      <td>52</td>\n",
       "      <td>Falcon</td>\n",
       "      <td>680.0</td>\n",
       "      <td>37</td>\n",
       "    </tr>\n",
       "    <tr>\n",
       "      <th>2</th>\n",
       "      <td>Parrot</td>\n",
       "      <td>24.0</td>\n",
       "      <td>47</td>\n",
       "      <td>Parrot</td>\n",
       "      <td>14.0</td>\n",
       "      <td>85</td>\n",
       "    </tr>\n",
       "    <tr>\n",
       "      <th>3</th>\n",
       "      <td>Parrot</td>\n",
       "      <td>26.0</td>\n",
       "      <td>59</td>\n",
       "      <td>Parrot</td>\n",
       "      <td>46.0</td>\n",
       "      <td>60</td>\n",
       "    </tr>\n",
       "  </tbody>\n",
       "</table>\n",
       "</div>"
      ],
      "text/plain": [
       "   Animal  Max Speed  Prueba  Animal  Max Speed  Prueba\n",
       "0  Falcon      380.0      12  Falcon      250.0      82\n",
       "1  Falcon      370.0      52  Falcon      680.0      37\n",
       "2  Parrot       24.0      47  Parrot       14.0      85\n",
       "3  Parrot       26.0      59  Parrot       46.0      60"
      ]
     },
     "execution_count": 712,
     "metadata": {},
     "output_type": "execute_result"
    }
   ],
   "source": [
    "pd.concat([df, df2], axis=1)"
   ]
  },
  {
   "cell_type": "code",
   "execution_count": 735,
   "id": "829aea9e-3ed9-4cc6-9905-2c7b26a47937",
   "metadata": {},
   "outputs": [],
   "source": [
    "#Pandas - Merge DateFrame"
   ]
  },
  {
   "cell_type": "code",
   "execution_count": 727,
   "id": "f900fc89-dc44-4811-8cf4-6b72b78e38bc",
   "metadata": {},
   "outputs": [],
   "source": [
    "diccionario = {\"A\":[4,5,10,9],\"B\":[6,1,5,3],\"C\":[\"clave1\",\"clave2\",\"clave3\",\"clave4\"]}\n",
    "diccionario2 = {\"A\":[4,5,5,7],\"B\":[6,1,5,8],\"C\":[\"clave1\",\"clave2\",\"clave3\",\"clave4\"]}\n",
    "df= pd.DataFrame(diccionario)\n",
    "df2=pd.DataFrame(diccionario2)"
   ]
  },
  {
   "cell_type": "code",
   "execution_count": 729,
   "id": "9e892d2b-dece-48e3-91c0-7d19cfd3ad00",
   "metadata": {},
   "outputs": [
    {
     "data": {
      "text/html": [
       "<div>\n",
       "<style scoped>\n",
       "    .dataframe tbody tr th:only-of-type {\n",
       "        vertical-align: middle;\n",
       "    }\n",
       "\n",
       "    .dataframe tbody tr th {\n",
       "        vertical-align: top;\n",
       "    }\n",
       "\n",
       "    .dataframe thead th {\n",
       "        text-align: right;\n",
       "    }\n",
       "</style>\n",
       "<table border=\"1\" class=\"dataframe\">\n",
       "  <thead>\n",
       "    <tr style=\"text-align: right;\">\n",
       "      <th></th>\n",
       "      <th>A</th>\n",
       "      <th>B</th>\n",
       "      <th>C</th>\n",
       "    </tr>\n",
       "  </thead>\n",
       "  <tbody>\n",
       "    <tr>\n",
       "      <th>0</th>\n",
       "      <td>4</td>\n",
       "      <td>6</td>\n",
       "      <td>clave1</td>\n",
       "    </tr>\n",
       "    <tr>\n",
       "      <th>1</th>\n",
       "      <td>5</td>\n",
       "      <td>1</td>\n",
       "      <td>clave2</td>\n",
       "    </tr>\n",
       "    <tr>\n",
       "      <th>2</th>\n",
       "      <td>10</td>\n",
       "      <td>5</td>\n",
       "      <td>clave3</td>\n",
       "    </tr>\n",
       "    <tr>\n",
       "      <th>3</th>\n",
       "      <td>9</td>\n",
       "      <td>3</td>\n",
       "      <td>clave4</td>\n",
       "    </tr>\n",
       "  </tbody>\n",
       "</table>\n",
       "</div>"
      ],
      "text/plain": [
       "    A  B       C\n",
       "0   4  6  clave1\n",
       "1   5  1  clave2\n",
       "2  10  5  clave3\n",
       "3   9  3  clave4"
      ]
     },
     "execution_count": 729,
     "metadata": {},
     "output_type": "execute_result"
    }
   ],
   "source": [
    "df"
   ]
  },
  {
   "cell_type": "code",
   "execution_count": 731,
   "id": "f60c77af-9500-4e09-b9b2-ffa7a4f1bf8d",
   "metadata": {},
   "outputs": [
    {
     "data": {
      "text/html": [
       "<div>\n",
       "<style scoped>\n",
       "    .dataframe tbody tr th:only-of-type {\n",
       "        vertical-align: middle;\n",
       "    }\n",
       "\n",
       "    .dataframe tbody tr th {\n",
       "        vertical-align: top;\n",
       "    }\n",
       "\n",
       "    .dataframe thead th {\n",
       "        text-align: right;\n",
       "    }\n",
       "</style>\n",
       "<table border=\"1\" class=\"dataframe\">\n",
       "  <thead>\n",
       "    <tr style=\"text-align: right;\">\n",
       "      <th></th>\n",
       "      <th>A</th>\n",
       "      <th>B</th>\n",
       "      <th>C</th>\n",
       "    </tr>\n",
       "  </thead>\n",
       "  <tbody>\n",
       "    <tr>\n",
       "      <th>0</th>\n",
       "      <td>4</td>\n",
       "      <td>6</td>\n",
       "      <td>clave1</td>\n",
       "    </tr>\n",
       "    <tr>\n",
       "      <th>1</th>\n",
       "      <td>5</td>\n",
       "      <td>1</td>\n",
       "      <td>clave2</td>\n",
       "    </tr>\n",
       "    <tr>\n",
       "      <th>2</th>\n",
       "      <td>5</td>\n",
       "      <td>5</td>\n",
       "      <td>clave3</td>\n",
       "    </tr>\n",
       "    <tr>\n",
       "      <th>3</th>\n",
       "      <td>7</td>\n",
       "      <td>8</td>\n",
       "      <td>clave4</td>\n",
       "    </tr>\n",
       "  </tbody>\n",
       "</table>\n",
       "</div>"
      ],
      "text/plain": [
       "   A  B       C\n",
       "0  4  6  clave1\n",
       "1  5  1  clave2\n",
       "2  5  5  clave3\n",
       "3  7  8  clave4"
      ]
     },
     "execution_count": 731,
     "metadata": {},
     "output_type": "execute_result"
    }
   ],
   "source": [
    "df2"
   ]
  },
  {
   "cell_type": "code",
   "execution_count": 733,
   "id": "6bb28f16-551a-4843-956c-5066dfc8bdf8",
   "metadata": {},
   "outputs": [
    {
     "data": {
      "text/html": [
       "<div>\n",
       "<style scoped>\n",
       "    .dataframe tbody tr th:only-of-type {\n",
       "        vertical-align: middle;\n",
       "    }\n",
       "\n",
       "    .dataframe tbody tr th {\n",
       "        vertical-align: top;\n",
       "    }\n",
       "\n",
       "    .dataframe thead th {\n",
       "        text-align: right;\n",
       "    }\n",
       "</style>\n",
       "<table border=\"1\" class=\"dataframe\">\n",
       "  <thead>\n",
       "    <tr style=\"text-align: right;\">\n",
       "      <th></th>\n",
       "      <th>A_x</th>\n",
       "      <th>B_x</th>\n",
       "      <th>C</th>\n",
       "      <th>A_y</th>\n",
       "      <th>B_y</th>\n",
       "    </tr>\n",
       "  </thead>\n",
       "  <tbody>\n",
       "    <tr>\n",
       "      <th>0</th>\n",
       "      <td>4</td>\n",
       "      <td>6</td>\n",
       "      <td>clave1</td>\n",
       "      <td>4</td>\n",
       "      <td>6</td>\n",
       "    </tr>\n",
       "    <tr>\n",
       "      <th>1</th>\n",
       "      <td>5</td>\n",
       "      <td>1</td>\n",
       "      <td>clave2</td>\n",
       "      <td>5</td>\n",
       "      <td>1</td>\n",
       "    </tr>\n",
       "    <tr>\n",
       "      <th>2</th>\n",
       "      <td>10</td>\n",
       "      <td>5</td>\n",
       "      <td>clave3</td>\n",
       "      <td>5</td>\n",
       "      <td>5</td>\n",
       "    </tr>\n",
       "    <tr>\n",
       "      <th>3</th>\n",
       "      <td>9</td>\n",
       "      <td>3</td>\n",
       "      <td>clave4</td>\n",
       "      <td>7</td>\n",
       "      <td>8</td>\n",
       "    </tr>\n",
       "  </tbody>\n",
       "</table>\n",
       "</div>"
      ],
      "text/plain": [
       "   A_x  B_x       C  A_y  B_y\n",
       "0    4    6  clave1    4    6\n",
       "1    5    1  clave2    5    1\n",
       "2   10    5  clave3    5    5\n",
       "3    9    3  clave4    7    8"
      ]
     },
     "execution_count": 733,
     "metadata": {},
     "output_type": "execute_result"
    }
   ],
   "source": [
    "pd.merge(df, df2, on=\"C\")"
   ]
  },
  {
   "cell_type": "markdown",
   "id": "8b2ff6a0-40a1-48f3-96a0-070aab9b70a0",
   "metadata": {},
   "source": [
    "#Pandas - Join DateFrames"
   ]
  },
  {
   "cell_type": "code",
   "execution_count": 795,
   "id": "1ade9b1b-f632-41ee-9cb7-c8732b0fee4e",
   "metadata": {},
   "outputs": [],
   "source": [
    "import numpy as np\n",
    "import pandas as pd"
   ]
  },
  {
   "cell_type": "code",
   "execution_count": 797,
   "id": "ec4305d1-1b7b-4d3f-a36d-38dcceec10f7",
   "metadata": {},
   "outputs": [
    {
     "data": {
      "text/html": [
       "<div>\n",
       "<style scoped>\n",
       "    .dataframe tbody tr th:only-of-type {\n",
       "        vertical-align: middle;\n",
       "    }\n",
       "\n",
       "    .dataframe tbody tr th {\n",
       "        vertical-align: top;\n",
       "    }\n",
       "\n",
       "    .dataframe thead th {\n",
       "        text-align: right;\n",
       "    }\n",
       "</style>\n",
       "<table border=\"1\" class=\"dataframe\">\n",
       "  <thead>\n",
       "    <tr style=\"text-align: right;\">\n",
       "      <th></th>\n",
       "      <th>A</th>\n",
       "      <th>B</th>\n",
       "    </tr>\n",
       "  </thead>\n",
       "  <tbody>\n",
       "    <tr>\n",
       "      <th>0</th>\n",
       "      <td>1</td>\n",
       "      <td>4</td>\n",
       "    </tr>\n",
       "    <tr>\n",
       "      <th>1</th>\n",
       "      <td>2</td>\n",
       "      <td>5</td>\n",
       "    </tr>\n",
       "    <tr>\n",
       "      <th>2</th>\n",
       "      <td>3</td>\n",
       "      <td>6</td>\n",
       "    </tr>\n",
       "  </tbody>\n",
       "</table>\n",
       "</div>"
      ],
      "text/plain": [
       "   A  B\n",
       "0  1  4\n",
       "1  2  5\n",
       "2  3  6"
      ]
     },
     "execution_count": 797,
     "metadata": {},
     "output_type": "execute_result"
    }
   ],
   "source": [
    "diccionario = {\"A\":[1,2,3], \"B\":[4,5,6]}\n",
    "dataframe1 = pd.DataFrame(diccionario)\n",
    "dataframe1"
   ]
  },
  {
   "cell_type": "code",
   "execution_count": 839,
   "id": "d03413ab-6288-45b1-84cf-0b51a608aea0",
   "metadata": {},
   "outputs": [
    {
     "data": {
      "text/html": [
       "<div>\n",
       "<style scoped>\n",
       "    .dataframe tbody tr th:only-of-type {\n",
       "        vertical-align: middle;\n",
       "    }\n",
       "\n",
       "    .dataframe tbody tr th {\n",
       "        vertical-align: top;\n",
       "    }\n",
       "\n",
       "    .dataframe thead th {\n",
       "        text-align: right;\n",
       "    }\n",
       "</style>\n",
       "<table border=\"1\" class=\"dataframe\">\n",
       "  <thead>\n",
       "    <tr style=\"text-align: right;\">\n",
       "      <th></th>\n",
       "      <th>A</th>\n",
       "      <th>B</th>\n",
       "    </tr>\n",
       "  </thead>\n",
       "  <tbody>\n",
       "    <tr>\n",
       "      <th>i1</th>\n",
       "      <td>1</td>\n",
       "      <td>4</td>\n",
       "    </tr>\n",
       "    <tr>\n",
       "      <th>i2</th>\n",
       "      <td>2</td>\n",
       "      <td>5</td>\n",
       "    </tr>\n",
       "    <tr>\n",
       "      <th>i3</th>\n",
       "      <td>3</td>\n",
       "      <td>6</td>\n",
       "    </tr>\n",
       "  </tbody>\n",
       "</table>\n",
       "</div>"
      ],
      "text/plain": [
       "    A  B\n",
       "i1  1  4\n",
       "i2  2  5\n",
       "i3  3  6"
      ]
     },
     "execution_count": 839,
     "metadata": {},
     "output_type": "execute_result"
    }
   ],
   "source": [
    "diccionario = {\"A\":[1,2,3], \"B\":[4,5,6]}\n",
    "dataframe1 = pd.DataFrame(diccionario, index=[\"i1\",\"i2\",\"i3\"])\n",
    "dataframe1"
   ]
  },
  {
   "cell_type": "code",
   "execution_count": 841,
   "id": "3a91ff6b-5f0c-4a85-a6fa-bdf99e188017",
   "metadata": {},
   "outputs": [
    {
     "data": {
      "text/html": [
       "<div>\n",
       "<style scoped>\n",
       "    .dataframe tbody tr th:only-of-type {\n",
       "        vertical-align: middle;\n",
       "    }\n",
       "\n",
       "    .dataframe tbody tr th {\n",
       "        vertical-align: top;\n",
       "    }\n",
       "\n",
       "    .dataframe thead th {\n",
       "        text-align: right;\n",
       "    }\n",
       "</style>\n",
       "<table border=\"1\" class=\"dataframe\">\n",
       "  <thead>\n",
       "    <tr style=\"text-align: right;\">\n",
       "      <th></th>\n",
       "      <th>C</th>\n",
       "      <th>D</th>\n",
       "    </tr>\n",
       "  </thead>\n",
       "  <tbody>\n",
       "    <tr>\n",
       "      <th>i1</th>\n",
       "      <td>4</td>\n",
       "      <td>7</td>\n",
       "    </tr>\n",
       "    <tr>\n",
       "      <th>i2</th>\n",
       "      <td>6</td>\n",
       "      <td>4</td>\n",
       "    </tr>\n",
       "    <tr>\n",
       "      <th>i3</th>\n",
       "      <td>8</td>\n",
       "      <td>4</td>\n",
       "    </tr>\n",
       "  </tbody>\n",
       "</table>\n",
       "</div>"
      ],
      "text/plain": [
       "    C  D\n",
       "i1  4  7\n",
       "i2  6  4\n",
       "i3  8  4"
      ]
     },
     "execution_count": 841,
     "metadata": {},
     "output_type": "execute_result"
    }
   ],
   "source": [
    "diccionario2 = {\"C\":[4,6,8], \"D\":[7,4,4]}\n",
    "dataframe2 = pd.DataFrame(diccionario2, index=[\"i1\",\"i2\",\"i3\"])\n",
    "dataframe2"
   ]
  },
  {
   "cell_type": "code",
   "execution_count": 843,
   "id": "d919c46b-669d-44f9-bc5c-f7cad6a09158",
   "metadata": {},
   "outputs": [],
   "source": [
    "dataframe3=dataframe1.join(dataframe2)"
   ]
  },
  {
   "cell_type": "code",
   "execution_count": 845,
   "id": "83aae77a-4372-4f47-a3c4-ef1171f8a75b",
   "metadata": {},
   "outputs": [
    {
     "data": {
      "text/html": [
       "<div>\n",
       "<style scoped>\n",
       "    .dataframe tbody tr th:only-of-type {\n",
       "        vertical-align: middle;\n",
       "    }\n",
       "\n",
       "    .dataframe tbody tr th {\n",
       "        vertical-align: top;\n",
       "    }\n",
       "\n",
       "    .dataframe thead th {\n",
       "        text-align: right;\n",
       "    }\n",
       "</style>\n",
       "<table border=\"1\" class=\"dataframe\">\n",
       "  <thead>\n",
       "    <tr style=\"text-align: right;\">\n",
       "      <th></th>\n",
       "      <th>A</th>\n",
       "      <th>B</th>\n",
       "      <th>C</th>\n",
       "      <th>D</th>\n",
       "    </tr>\n",
       "  </thead>\n",
       "  <tbody>\n",
       "    <tr>\n",
       "      <th>i1</th>\n",
       "      <td>1</td>\n",
       "      <td>4</td>\n",
       "      <td>4</td>\n",
       "      <td>7</td>\n",
       "    </tr>\n",
       "    <tr>\n",
       "      <th>i2</th>\n",
       "      <td>2</td>\n",
       "      <td>5</td>\n",
       "      <td>6</td>\n",
       "      <td>4</td>\n",
       "    </tr>\n",
       "    <tr>\n",
       "      <th>i3</th>\n",
       "      <td>3</td>\n",
       "      <td>6</td>\n",
       "      <td>8</td>\n",
       "      <td>4</td>\n",
       "    </tr>\n",
       "  </tbody>\n",
       "</table>\n",
       "</div>"
      ],
      "text/plain": [
       "    A  B  C  D\n",
       "i1  1  4  4  7\n",
       "i2  2  5  6  4\n",
       "i3  3  6  8  4"
      ]
     },
     "execution_count": 845,
     "metadata": {},
     "output_type": "execute_result"
    }
   ],
   "source": [
    "dataframe3"
   ]
  },
  {
   "cell_type": "code",
   "execution_count": 847,
   "id": "05bc31c6-18c5-46b4-bfdb-d7bce3b2bb2d",
   "metadata": {},
   "outputs": [
    {
     "data": {
      "text/html": [
       "<div>\n",
       "<style scoped>\n",
       "    .dataframe tbody tr th:only-of-type {\n",
       "        vertical-align: middle;\n",
       "    }\n",
       "\n",
       "    .dataframe tbody tr th {\n",
       "        vertical-align: top;\n",
       "    }\n",
       "\n",
       "    .dataframe thead th {\n",
       "        text-align: right;\n",
       "    }\n",
       "</style>\n",
       "<table border=\"1\" class=\"dataframe\">\n",
       "  <thead>\n",
       "    <tr style=\"text-align: right;\">\n",
       "      <th></th>\n",
       "      <th>A</th>\n",
       "      <th>B</th>\n",
       "    </tr>\n",
       "  </thead>\n",
       "  <tbody>\n",
       "    <tr>\n",
       "      <th>i4</th>\n",
       "      <td>4</td>\n",
       "      <td>7</td>\n",
       "    </tr>\n",
       "  </tbody>\n",
       "</table>\n",
       "</div>"
      ],
      "text/plain": [
       "    A  B\n",
       "i4  4  7"
      ]
     },
     "execution_count": 847,
     "metadata": {},
     "output_type": "execute_result"
    }
   ],
   "source": [
    "diccionario3 = {\"A\":[4], \"B\":[7]}\n",
    "dataframe4= pd.DataFrame(diccionario3, index=[\"i4\"])\n",
    "dataframe4"
   ]
  },
  {
   "cell_type": "code",
   "execution_count": 851,
   "id": "0dc73a3f-a9b6-4560-8649-d0fabc4576ad",
   "metadata": {},
   "outputs": [
    {
     "data": {
      "text/html": [
       "<div>\n",
       "<style scoped>\n",
       "    .dataframe tbody tr th:only-of-type {\n",
       "        vertical-align: middle;\n",
       "    }\n",
       "\n",
       "    .dataframe tbody tr th {\n",
       "        vertical-align: top;\n",
       "    }\n",
       "\n",
       "    .dataframe thead th {\n",
       "        text-align: right;\n",
       "    }\n",
       "</style>\n",
       "<table border=\"1\" class=\"dataframe\">\n",
       "  <thead>\n",
       "    <tr style=\"text-align: right;\">\n",
       "      <th></th>\n",
       "      <th>A</th>\n",
       "      <th>B</th>\n",
       "    </tr>\n",
       "  </thead>\n",
       "  <tbody>\n",
       "    <tr>\n",
       "      <th>i1</th>\n",
       "      <td>1</td>\n",
       "      <td>4</td>\n",
       "    </tr>\n",
       "    <tr>\n",
       "      <th>i2</th>\n",
       "      <td>2</td>\n",
       "      <td>5</td>\n",
       "    </tr>\n",
       "    <tr>\n",
       "      <th>i3</th>\n",
       "      <td>3</td>\n",
       "      <td>6</td>\n",
       "    </tr>\n",
       "    <tr>\n",
       "      <th>i4</th>\n",
       "      <td>4</td>\n",
       "      <td>7</td>\n",
       "    </tr>\n",
       "  </tbody>\n",
       "</table>\n",
       "</div>"
      ],
      "text/plain": [
       "    A  B\n",
       "i1  1  4\n",
       "i2  2  5\n",
       "i3  3  6\n",
       "i4  4  7"
      ]
     },
     "execution_count": 851,
     "metadata": {},
     "output_type": "execute_result"
    }
   ],
   "source": [
    "dataframe_resultado = pd.concat([dataframe1, dataframe4])\n",
    "dataframe_resultado"
   ]
  },
  {
   "cell_type": "code",
   "execution_count": 857,
   "id": "5a1819e9-1b48-42de-9239-ec737da2a9a1",
   "metadata": {},
   "outputs": [
    {
     "data": {
      "text/html": [
       "<div>\n",
       "<style scoped>\n",
       "    .dataframe tbody tr th:only-of-type {\n",
       "        vertical-align: middle;\n",
       "    }\n",
       "\n",
       "    .dataframe tbody tr th {\n",
       "        vertical-align: top;\n",
       "    }\n",
       "\n",
       "    .dataframe thead th {\n",
       "        text-align: right;\n",
       "    }\n",
       "</style>\n",
       "<table border=\"1\" class=\"dataframe\">\n",
       "  <thead>\n",
       "    <tr style=\"text-align: right;\">\n",
       "      <th></th>\n",
       "      <th>A</th>\n",
       "      <th>B</th>\n",
       "      <th>C</th>\n",
       "      <th>D</th>\n",
       "    </tr>\n",
       "  </thead>\n",
       "  <tbody>\n",
       "    <tr>\n",
       "      <th>i1</th>\n",
       "      <td>1</td>\n",
       "      <td>4</td>\n",
       "      <td>4.0</td>\n",
       "      <td>7.0</td>\n",
       "    </tr>\n",
       "    <tr>\n",
       "      <th>i2</th>\n",
       "      <td>2</td>\n",
       "      <td>5</td>\n",
       "      <td>6.0</td>\n",
       "      <td>4.0</td>\n",
       "    </tr>\n",
       "    <tr>\n",
       "      <th>i3</th>\n",
       "      <td>3</td>\n",
       "      <td>6</td>\n",
       "      <td>8.0</td>\n",
       "      <td>4.0</td>\n",
       "    </tr>\n",
       "    <tr>\n",
       "      <th>i4</th>\n",
       "      <td>4</td>\n",
       "      <td>7</td>\n",
       "      <td>NaN</td>\n",
       "      <td>NaN</td>\n",
       "    </tr>\n",
       "  </tbody>\n",
       "</table>\n",
       "</div>"
      ],
      "text/plain": [
       "    A  B    C    D\n",
       "i1  1  4  4.0  7.0\n",
       "i2  2  5  6.0  4.0\n",
       "i3  3  6  8.0  4.0\n",
       "i4  4  7  NaN  NaN"
      ]
     },
     "execution_count": 857,
     "metadata": {},
     "output_type": "execute_result"
    }
   ],
   "source": [
    "dataframe_resultado=dataframe_resultado.join(dataframe2)\n",
    "dataframe_resultado"
   ]
  },
  {
   "cell_type": "markdown",
   "id": "03bb18a7-bfb0-4484-a667-d14b67c6f282",
   "metadata": {},
   "source": [
    "#Pandas - Operaciones"
   ]
  },
  {
   "cell_type": "code",
   "execution_count": 862,
   "id": "5685c1d2-b4e7-45ad-b38e-271167976309",
   "metadata": {},
   "outputs": [],
   "source": [
    "import numpy as np\n",
    "import pandas as pd"
   ]
  },
  {
   "cell_type": "code",
   "execution_count": 866,
   "id": "2bea5398-283e-4faf-800f-d8b9d92f5bb7",
   "metadata": {},
   "outputs": [
    {
     "data": {
      "text/html": [
       "<div>\n",
       "<style scoped>\n",
       "    .dataframe tbody tr th:only-of-type {\n",
       "        vertical-align: middle;\n",
       "    }\n",
       "\n",
       "    .dataframe tbody tr th {\n",
       "        vertical-align: top;\n",
       "    }\n",
       "\n",
       "    .dataframe thead th {\n",
       "        text-align: right;\n",
       "    }\n",
       "</style>\n",
       "<table border=\"1\" class=\"dataframe\">\n",
       "  <thead>\n",
       "    <tr style=\"text-align: right;\">\n",
       "      <th></th>\n",
       "      <th>A</th>\n",
       "      <th>B</th>\n",
       "    </tr>\n",
       "  </thead>\n",
       "  <tbody>\n",
       "    <tr>\n",
       "      <th>i1</th>\n",
       "      <td>4</td>\n",
       "      <td>7</td>\n",
       "    </tr>\n",
       "    <tr>\n",
       "      <th>i2</th>\n",
       "      <td>4</td>\n",
       "      <td>4</td>\n",
       "    </tr>\n",
       "    <tr>\n",
       "      <th>i3</th>\n",
       "      <td>8</td>\n",
       "      <td>4</td>\n",
       "    </tr>\n",
       "    <tr>\n",
       "      <th>i4</th>\n",
       "      <td>12</td>\n",
       "      <td>9</td>\n",
       "    </tr>\n",
       "  </tbody>\n",
       "</table>\n",
       "</div>"
      ],
      "text/plain": [
       "     A  B\n",
       "i1   4  7\n",
       "i2   4  4\n",
       "i3   8  4\n",
       "i4  12  9"
      ]
     },
     "execution_count": 866,
     "metadata": {},
     "output_type": "execute_result"
    }
   ],
   "source": [
    "diccionario = {\"A\":[4,4,8,12], \"B\":[7,4,4,9]}\n",
    "dataframe = pd.DataFrame(diccionario, index=[\"i1\",\"i2\",\"i3\", \"i4\"])\n",
    "dataframe"
   ]
  },
  {
   "cell_type": "code",
   "execution_count": 868,
   "id": "348eba15-051b-4887-b479-c667ff4ea12e",
   "metadata": {},
   "outputs": [
    {
     "data": {
      "text/plain": [
       "array([ 4,  8, 12], dtype=int64)"
      ]
     },
     "execution_count": 868,
     "metadata": {},
     "output_type": "execute_result"
    }
   ],
   "source": [
    "dataframe[\"A\"].unique()"
   ]
  },
  {
   "cell_type": "code",
   "execution_count": 870,
   "id": "d503efe7-5d95-4bb9-89ce-9ac500a3b671",
   "metadata": {},
   "outputs": [
    {
     "data": {
      "text/plain": [
       "3"
      ]
     },
     "execution_count": 870,
     "metadata": {},
     "output_type": "execute_result"
    }
   ],
   "source": [
    "dataframe[\"A\"].nunique()"
   ]
  },
  {
   "cell_type": "code",
   "execution_count": 872,
   "id": "591233c2-5a07-4796-a879-040125ad08bd",
   "metadata": {},
   "outputs": [
    {
     "data": {
      "text/plain": [
       "A\n",
       "4     2\n",
       "8     1\n",
       "12    1\n",
       "Name: count, dtype: int64"
      ]
     },
     "execution_count": 872,
     "metadata": {},
     "output_type": "execute_result"
    }
   ],
   "source": [
    "dataframe[\"A\"].value_counts()"
   ]
  },
  {
   "cell_type": "code",
   "execution_count": 875,
   "id": "e2cfe6fd-0783-4337-8fdd-7df0459511b7",
   "metadata": {},
   "outputs": [],
   "source": [
    "def multiplicar(x):\n",
    "    return x*2"
   ]
  },
  {
   "cell_type": "code",
   "execution_count": 877,
   "id": "84eb9f64-46bc-4fce-8c9d-f410eadd976b",
   "metadata": {},
   "outputs": [
    {
     "data": {
      "text/plain": [
       "i1     8\n",
       "i2     8\n",
       "i3    16\n",
       "i4    24\n",
       "Name: A, dtype: int64"
      ]
     },
     "execution_count": 877,
     "metadata": {},
     "output_type": "execute_result"
    }
   ],
   "source": [
    "dataframe[\"A\"].apply(multiplicar)"
   ]
  },
  {
   "cell_type": "code",
   "execution_count": 879,
   "id": "aa443838-dec1-4d15-8ff3-07db2f7b70f4",
   "metadata": {},
   "outputs": [
    {
     "data": {
      "text/plain": [
       "i1     8\n",
       "i2     8\n",
       "i3    16\n",
       "i4    24\n",
       "Name: A, dtype: int64"
      ]
     },
     "execution_count": 879,
     "metadata": {},
     "output_type": "execute_result"
    }
   ],
   "source": [
    "dataframe[\"A\"].apply(lambda x:x*2)"
   ]
  },
  {
   "cell_type": "code",
   "execution_count": 881,
   "id": "56dbecbf-5321-41e7-b055-aac8f44e1b29",
   "metadata": {},
   "outputs": [
    {
     "data": {
      "text/html": [
       "<div>\n",
       "<style scoped>\n",
       "    .dataframe tbody tr th:only-of-type {\n",
       "        vertical-align: middle;\n",
       "    }\n",
       "\n",
       "    .dataframe tbody tr th {\n",
       "        vertical-align: top;\n",
       "    }\n",
       "\n",
       "    .dataframe thead th {\n",
       "        text-align: right;\n",
       "    }\n",
       "</style>\n",
       "<table border=\"1\" class=\"dataframe\">\n",
       "  <thead>\n",
       "    <tr style=\"text-align: right;\">\n",
       "      <th></th>\n",
       "      <th>A</th>\n",
       "    </tr>\n",
       "  </thead>\n",
       "  <tbody>\n",
       "    <tr>\n",
       "      <th>i1</th>\n",
       "      <td>4</td>\n",
       "    </tr>\n",
       "    <tr>\n",
       "      <th>i2</th>\n",
       "      <td>4</td>\n",
       "    </tr>\n",
       "    <tr>\n",
       "      <th>i3</th>\n",
       "      <td>8</td>\n",
       "    </tr>\n",
       "    <tr>\n",
       "      <th>i4</th>\n",
       "      <td>12</td>\n",
       "    </tr>\n",
       "  </tbody>\n",
       "</table>\n",
       "</div>"
      ],
      "text/plain": [
       "     A\n",
       "i1   4\n",
       "i2   4\n",
       "i3   8\n",
       "i4  12"
      ]
     },
     "execution_count": 881,
     "metadata": {},
     "output_type": "execute_result"
    }
   ],
   "source": [
    "dataframe.drop(\"B\", axis=1)"
   ]
  },
  {
   "cell_type": "code",
   "execution_count": 885,
   "id": "fbf0e2c3-7825-4c12-b726-dc4dd5d9b679",
   "metadata": {},
   "outputs": [
    {
     "data": {
      "text/html": [
       "<div>\n",
       "<style scoped>\n",
       "    .dataframe tbody tr th:only-of-type {\n",
       "        vertical-align: middle;\n",
       "    }\n",
       "\n",
       "    .dataframe tbody tr th {\n",
       "        vertical-align: top;\n",
       "    }\n",
       "\n",
       "    .dataframe thead th {\n",
       "        text-align: right;\n",
       "    }\n",
       "</style>\n",
       "<table border=\"1\" class=\"dataframe\">\n",
       "  <thead>\n",
       "    <tr style=\"text-align: right;\">\n",
       "      <th></th>\n",
       "      <th>A</th>\n",
       "      <th>B</th>\n",
       "    </tr>\n",
       "  </thead>\n",
       "  <tbody>\n",
       "    <tr>\n",
       "      <th>i1</th>\n",
       "      <td>4</td>\n",
       "      <td>7</td>\n",
       "    </tr>\n",
       "    <tr>\n",
       "      <th>i2</th>\n",
       "      <td>4</td>\n",
       "      <td>4</td>\n",
       "    </tr>\n",
       "    <tr>\n",
       "      <th>i3</th>\n",
       "      <td>8</td>\n",
       "      <td>4</td>\n",
       "    </tr>\n",
       "  </tbody>\n",
       "</table>\n",
       "</div>"
      ],
      "text/plain": [
       "    A  B\n",
       "i1  4  7\n",
       "i2  4  4\n",
       "i3  8  4"
      ]
     },
     "execution_count": 885,
     "metadata": {},
     "output_type": "execute_result"
    }
   ],
   "source": [
    "dataframe.drop(\"i4\")"
   ]
  },
  {
   "cell_type": "code",
   "execution_count": 889,
   "id": "82b744e5-bf4a-4e83-bafd-27e613b21df6",
   "metadata": {},
   "outputs": [
    {
     "data": {
      "text/plain": [
       "Index(['A', 'B'], dtype='object')"
      ]
     },
     "execution_count": 889,
     "metadata": {},
     "output_type": "execute_result"
    }
   ],
   "source": [
    "dataframe.columns"
   ]
  },
  {
   "cell_type": "code",
   "execution_count": 893,
   "id": "39de4633-6752-47a4-a7bb-9e1c4b15f462",
   "metadata": {},
   "outputs": [
    {
     "data": {
      "text/plain": [
       "Index(['i1', 'i2', 'i3', 'i4'], dtype='object')"
      ]
     },
     "execution_count": 893,
     "metadata": {},
     "output_type": "execute_result"
    }
   ],
   "source": [
    "dataframe.index"
   ]
  },
  {
   "cell_type": "code",
   "execution_count": 900,
   "id": "5fe13275-4ffb-4f7f-b715-2d534861d2c8",
   "metadata": {},
   "outputs": [
    {
     "data": {
      "text/html": [
       "<div>\n",
       "<style scoped>\n",
       "    .dataframe tbody tr th:only-of-type {\n",
       "        vertical-align: middle;\n",
       "    }\n",
       "\n",
       "    .dataframe tbody tr th {\n",
       "        vertical-align: top;\n",
       "    }\n",
       "\n",
       "    .dataframe thead th {\n",
       "        text-align: right;\n",
       "    }\n",
       "</style>\n",
       "<table border=\"1\" class=\"dataframe\">\n",
       "  <thead>\n",
       "    <tr style=\"text-align: right;\">\n",
       "      <th></th>\n",
       "      <th>A</th>\n",
       "      <th>B</th>\n",
       "    </tr>\n",
       "  </thead>\n",
       "  <tbody>\n",
       "    <tr>\n",
       "      <th>i2</th>\n",
       "      <td>4</td>\n",
       "      <td>4</td>\n",
       "    </tr>\n",
       "    <tr>\n",
       "      <th>i3</th>\n",
       "      <td>8</td>\n",
       "      <td>4</td>\n",
       "    </tr>\n",
       "    <tr>\n",
       "      <th>i1</th>\n",
       "      <td>4</td>\n",
       "      <td>7</td>\n",
       "    </tr>\n",
       "    <tr>\n",
       "      <th>i4</th>\n",
       "      <td>12</td>\n",
       "      <td>9</td>\n",
       "    </tr>\n",
       "  </tbody>\n",
       "</table>\n",
       "</div>"
      ],
      "text/plain": [
       "     A  B\n",
       "i2   4  4\n",
       "i3   8  4\n",
       "i1   4  7\n",
       "i4  12  9"
      ]
     },
     "execution_count": 900,
     "metadata": {},
     "output_type": "execute_result"
    }
   ],
   "source": [
    "dataframe.sort_values(\"B\")"
   ]
  },
  {
   "cell_type": "markdown",
   "id": "3bd88e63-76be-4aa2-bd65-cd9828ede990",
   "metadata": {},
   "source": [
    "Pandas - Fichero Excel"
   ]
  },
  {
   "cell_type": "code",
   "execution_count": 905,
   "id": "b67d0780-7810-4233-aa31-df9f82d180da",
   "metadata": {},
   "outputs": [],
   "source": [
    "import pandas as pd"
   ]
  },
  {
   "cell_type": "code",
   "execution_count": 954,
   "id": "146127a4-2474-403f-984c-fd76c6a0c46d",
   "metadata": {},
   "outputs": [
    {
     "data": {
      "text/plain": [
       "'C:\\\\Users\\\\roman\\\\Programa IA IBM\\\\Curso\\\\Sesiónes\\\\ML\\\\Material Seccion 3'"
      ]
     },
     "execution_count": 954,
     "metadata": {},
     "output_type": "execute_result"
    }
   ],
   "source": [
    "pwd"
   ]
  },
  {
   "cell_type": "code",
   "execution_count": 956,
   "id": "b3407c19-acf1-4689-93eb-6d0031216af3",
   "metadata": {},
   "outputs": [
    {
     "name": "stdout",
     "output_type": "stream",
     "text": [
      " El volumen de la unidad C no tiene etiqueta.\n",
      " El n£mero de serie del volumen es: F29B-042F\n",
      "\n",
      " Directorio de C:\\Users\\roman\\Programa IA IBM\\Curso\\Sesi¢nes\\ML\\Material Seccion 3\n",
      "\n",
      "30/10/2024  22:24    <DIR>          .\n",
      "30/10/2024  22:25    <DIR>          ..\n",
      "30/10/2024  18:45    <DIR>          .ipynb_checkpoints\n",
      "30/10/2024  22:24             5.508 Ejemplo_excel.xlsx\n",
      "30/10/2024  09:56             3.435 leccion53.ipynb\n",
      "30/10/2024  09:56               377 leccion53.py\n",
      "               3 archivos          9.320 bytes\n",
      "               3 dirs  395.630.813.184 bytes libres\n"
     ]
    }
   ],
   "source": [
    "ls"
   ]
  },
  {
   "cell_type": "code",
   "execution_count": 915,
   "id": "3141792b-5f9e-466e-be9e-1eb893a893a9",
   "metadata": {},
   "outputs": [
    {
     "name": "stdout",
     "output_type": "stream",
     "text": [
      "C:\\Users\\roman\\Programa IA IBM\\Curso\\Sesiónes\\ML\\Material Seccion 3\n"
     ]
    }
   ],
   "source": [
    "import os\n",
    "print(os.getcwd())"
   ]
  },
  {
   "cell_type": "code",
   "execution_count": 980,
   "id": "145503e9-2d82-41da-a288-28560960642e",
   "metadata": {},
   "outputs": [
    {
     "name": "stdout",
     "output_type": "stream",
     "text": [
      "None\n"
     ]
    }
   ],
   "source": [
    "#cambiar directorio\n",
    "os.chdir('C:\\\\Users\\\\roman\\\\Programa IA IBM\\\\Curso\\\\Sesiónes\\\\ML\\\\Material Seccion 3')\n",
    "datos = pd.read_csv(\"salida_excel.xlsx\")"
   ]
  },
  {
   "cell_type": "code",
   "execution_count": null,
   "id": "e4b3e073-6661-440d-bf30-58b4baa4460c",
   "metadata": {},
   "outputs": [],
   "source": [
    "#Exportar el csv\n",
    "dataframe.to_excel(\"salida_excel.xlsx\", sheet_name=\"hoja1\")"
   ]
  },
  {
   "cell_type": "markdown",
   "id": "27642097-89ea-41f6-822f-3ce0f47d917c",
   "metadata": {},
   "source": [
    "Pandas - Fichero Html"
   ]
  },
  {
   "cell_type": "code",
   "execution_count": 2,
   "id": "a7129fa8-c365-4658-b67d-9a0a6f44121d",
   "metadata": {},
   "outputs": [],
   "source": [
    "import pandas as pd \n",
    "pagina_web= \"https://es.wikipedia.org/wiki/Anexo:Pa%C3%ADses_y_territorios_dependientes_por_poblaci%C3%B3n\""
   ]
  },
  {
   "cell_type": "code",
   "execution_count": 4,
   "id": "d91e909e-18a3-45a1-acaa-5edc9510d5c8",
   "metadata": {},
   "outputs": [],
   "source": [
    "datos = pd.read_html(pagina_web)"
   ]
  },
  {
   "cell_type": "code",
   "execution_count": 6,
   "id": "ee92d3b7-e3a8-436b-ae9a-df624d8ced91",
   "metadata": {},
   "outputs": [
    {
     "data": {
      "text/plain": [
       "list"
      ]
     },
     "execution_count": 6,
     "metadata": {},
     "output_type": "execute_result"
    }
   ],
   "source": [
    "type(datos)"
   ]
  },
  {
   "cell_type": "code",
   "execution_count": 8,
   "id": "f534a11f-3df4-4455-8ac9-cb83d5fbeb4b",
   "metadata": {},
   "outputs": [
    {
     "data": {
      "text/html": [
       "<div>\n",
       "<style scoped>\n",
       "    .dataframe tbody tr th:only-of-type {\n",
       "        vertical-align: middle;\n",
       "    }\n",
       "\n",
       "    .dataframe tbody tr th {\n",
       "        vertical-align: top;\n",
       "    }\n",
       "\n",
       "    .dataframe thead th {\n",
       "        text-align: right;\n",
       "    }\n",
       "</style>\n",
       "<table border=\"1\" class=\"dataframe\">\n",
       "  <thead>\n",
       "    <tr style=\"text-align: right;\">\n",
       "      <th></th>\n",
       "      <th>N.º</th>\n",
       "      <th>País (o territorio dependiente)</th>\n",
       "      <th>Proyección exponencial de la población al 1/1/2025[7]​</th>\n",
       "      <th>Total mun- dial (%)</th>\n",
       "      <th>Cambio medio anual (%)[8]​</th>\n",
       "      <th>Cambio absoluto anual promedio</th>\n",
       "      <th>Cambio medio abs. total anual (%)</th>\n",
       "      <th>Años para even- tual du- pli- ca- ción[9]​</th>\n",
       "      <th>Censo más reciente, última estimación oficial, proyección de la ONU o reloj de población nacional</th>\n",
       "      <th>Fecha de esta última cifra de población en particular (d/mm/aaaa)[10]​</th>\n",
       "      <th>Tipo[11]​</th>\n",
       "      <th>Enlace o hipervínculo (usualmente de tipo oficial) de esta última cifra de población</th>\n",
       "    </tr>\n",
       "  </thead>\n",
       "  <tbody>\n",
       "    <tr>\n",
       "      <th>0</th>\n",
       "      <td>1</td>\n",
       "      <td>India</td>\n",
       "      <td>1 411 278 000</td>\n",
       "      <td>1754</td>\n",
       "      <td>090</td>\n",
       "      <td>12 726 000</td>\n",
       "      <td>1504</td>\n",
       "      <td>77</td>\n",
       "      <td>1 404 910 000</td>\n",
       "      <td>1/07/2024</td>\n",
       "      <td>A</td>\n",
       "      <td>web.archive.org</td>\n",
       "    </tr>\n",
       "    <tr>\n",
       "      <th>1</th>\n",
       "      <td>2</td>\n",
       "      <td>China[12]​</td>\n",
       "      <td>1 407 582 000</td>\n",
       "      <td>1749</td>\n",
       "      <td>-015</td>\n",
       "      <td>-2 075 000</td>\n",
       "      <td>-</td>\n",
       "      <td>-</td>\n",
       "      <td>1 409 670 000</td>\n",
       "      <td>31/12/2023</td>\n",
       "      <td>E</td>\n",
       "      <td>www.stats.gov.cn</td>\n",
       "    </tr>\n",
       "    <tr>\n",
       "      <th>2</th>\n",
       "      <td>3</td>\n",
       "      <td>Estados Unidos</td>\n",
       "      <td>337 642 000</td>\n",
       "      <td>420</td>\n",
       "      <td>052</td>\n",
       "      <td>1 754 000</td>\n",
       "      <td>207</td>\n",
       "      <td>134</td>\n",
       "      <td>337 344 000</td>\n",
       "      <td>30/10/2024</td>\n",
       "      <td>R</td>\n",
       "      <td>www.census.gov</td>\n",
       "    </tr>\n",
       "    <tr>\n",
       "      <th>3</th>\n",
       "      <td>4</td>\n",
       "      <td>Indonesia</td>\n",
       "      <td>284 144 000</td>\n",
       "      <td>353</td>\n",
       "      <td>117</td>\n",
       "      <td>3 318 000</td>\n",
       "      <td>392</td>\n",
       "      <td>60</td>\n",
       "      <td>282 477 584</td>\n",
       "      <td>30/06/2024</td>\n",
       "      <td>E</td>\n",
       "      <td>dispendukcapil.acehtimurkab.go.id</td>\n",
       "    </tr>\n",
       "    <tr>\n",
       "      <th>4</th>\n",
       "      <td>5</td>\n",
       "      <td>Pakistán</td>\n",
       "      <td>253 010 000</td>\n",
       "      <td>314</td>\n",
       "      <td>256</td>\n",
       "      <td>6 485 000</td>\n",
       "      <td>766</td>\n",
       "      <td>27</td>\n",
       "      <td>241 499 431</td>\n",
       "      <td>1/03/2023</td>\n",
       "      <td>C</td>\n",
       "      <td>www.pbs.gov.pk</td>\n",
       "    </tr>\n",
       "    <tr>\n",
       "      <th>...</th>\n",
       "      <td>...</td>\n",
       "      <td>...</td>\n",
       "      <td>...</td>\n",
       "      <td>...</td>\n",
       "      <td>...</td>\n",
       "      <td>...</td>\n",
       "      <td>...</td>\n",
       "      <td>...</td>\n",
       "      <td>...</td>\n",
       "      <td>...</td>\n",
       "      <td>...</td>\n",
       "      <td>...</td>\n",
       "    </tr>\n",
       "    <tr>\n",
       "      <th>241</th>\n",
       "      <td>242</td>\n",
       "      <td>Islas Cocos (Australia)</td>\n",
       "      <td>600</td>\n",
       "      <td>000</td>\n",
       "      <td>174</td>\n",
       "      <td>0</td>\n",
       "      <td>000</td>\n",
       "      <td>40</td>\n",
       "      <td>593</td>\n",
       "      <td>11/08/2021</td>\n",
       "      <td>C</td>\n",
       "      <td>www.citypopulation.de</td>\n",
       "    </tr>\n",
       "    <tr>\n",
       "      <th>242</th>\n",
       "      <td>243</td>\n",
       "      <td>Islas Ultramarinas Menores de los Estados Unidos</td>\n",
       "      <td>100</td>\n",
       "      <td>000</td>\n",
       "      <td>-496</td>\n",
       "      <td>0</td>\n",
       "      <td>000</td>\n",
       "      <td>-</td>\n",
       "      <td>190</td>\n",
       "      <td>1/04/2010</td>\n",
       "      <td>C</td>\n",
       "      <td>www.statoids.com</td>\n",
       "    </tr>\n",
       "    <tr>\n",
       "      <th>243</th>\n",
       "      <td>244</td>\n",
       "      <td>Islas Pitcairn (RU)</td>\n",
       "      <td>30</td>\n",
       "      <td>000</td>\n",
       "      <td>-111</td>\n",
       "      <td>0</td>\n",
       "      <td>000</td>\n",
       "      <td>-</td>\n",
       "      <td>35</td>\n",
       "      <td>1/07/2023</td>\n",
       "      <td>E</td>\n",
       "      <td>www.immigration.pn</td>\n",
       "    </tr>\n",
       "    <tr>\n",
       "      <th>244</th>\n",
       "      <td>NaN</td>\n",
       "      <td>Mundo</td>\n",
       "      <td>8 048 332 000</td>\n",
       "      <td>10000</td>\n",
       "      <td>104</td>\n",
       "      <td>84 635 000</td>\n",
       "      <td>10000</td>\n",
       "      <td>67</td>\n",
       "      <td>8 185 300 000</td>\n",
       "      <td>30/10/2024</td>\n",
       "      <td>R</td>\n",
       "      <td>www.worldometers.info</td>\n",
       "    </tr>\n",
       "    <tr>\n",
       "      <th>245</th>\n",
       "      <td>N°</td>\n",
       "      <td>País (o territorio dependiente)</td>\n",
       "      <td>Proyección exponencial de la población al 1/1/...</td>\n",
       "      <td>Total mun- dial (%)</td>\n",
       "      <td>Cambio medio anual (%)</td>\n",
       "      <td>Cambio absoluto anual promedio</td>\n",
       "      <td>Cambio medio abs. total anual (%)</td>\n",
       "      <td>Años para even- tual du- pli- ca- ción</td>\n",
       "      <td>Censo más reciente, última estimación oficial,...</td>\n",
       "      <td>Fecha de esta última cifra de población en par...</td>\n",
       "      <td>Tipo</td>\n",
       "      <td>Enlace o hipervínculo (usualmente de tipo ofic...</td>\n",
       "    </tr>\n",
       "  </tbody>\n",
       "</table>\n",
       "<p>246 rows × 12 columns</p>\n",
       "</div>"
      ],
      "text/plain": [
       "     N.º                   País (o territorio dependiente)  \\\n",
       "0      1                                             India   \n",
       "1      2                                        China[12]​   \n",
       "2      3                                    Estados Unidos   \n",
       "3      4                                         Indonesia   \n",
       "4      5                                          Pakistán   \n",
       "..   ...                                               ...   \n",
       "241  242                           Islas Cocos (Australia)   \n",
       "242  243  Islas Ultramarinas Menores de los Estados Unidos   \n",
       "243  244                               Islas Pitcairn (RU)   \n",
       "244  NaN                                             Mundo   \n",
       "245   N°                   País (o territorio dependiente)   \n",
       "\n",
       "    Proyección exponencial de la población al 1/1/2025[7]​  \\\n",
       "0                                        1 411 278 000       \n",
       "1                                        1 407 582 000       \n",
       "2                                          337 642 000       \n",
       "3                                          284 144 000       \n",
       "4                                          253 010 000       \n",
       "..                                                 ...       \n",
       "241                                                600       \n",
       "242                                                100       \n",
       "243                                                 30       \n",
       "244                                      8 048 332 000       \n",
       "245  Proyección exponencial de la población al 1/1/...       \n",
       "\n",
       "     Total mun- dial (%) Cambio medio anual (%)[8]​  \\\n",
       "0                   1754                        090   \n",
       "1                   1749                       -015   \n",
       "2                    420                        052   \n",
       "3                    353                        117   \n",
       "4                    314                        256   \n",
       "..                   ...                        ...   \n",
       "241                  000                        174   \n",
       "242                  000                       -496   \n",
       "243                  000                       -111   \n",
       "244                10000                        104   \n",
       "245  Total mun- dial (%)     Cambio medio anual (%)   \n",
       "\n",
       "     Cambio absoluto anual promedio  Cambio medio abs. total anual (%)  \\\n",
       "0                        12 726 000                               1504   \n",
       "1                        -2 075 000                                  -   \n",
       "2                         1 754 000                                207   \n",
       "3                         3 318 000                                392   \n",
       "4                         6 485 000                                766   \n",
       "..                              ...                                ...   \n",
       "241                               0                                000   \n",
       "242                               0                                000   \n",
       "243                               0                                000   \n",
       "244                      84 635 000                              10000   \n",
       "245  Cambio absoluto anual promedio  Cambio medio abs. total anual (%)   \n",
       "\n",
       "    Años para even- tual du- pli- ca- ción[9]​  \\\n",
       "0                                           77   \n",
       "1                                            -   \n",
       "2                                          134   \n",
       "3                                           60   \n",
       "4                                           27   \n",
       "..                                         ...   \n",
       "241                                         40   \n",
       "242                                          -   \n",
       "243                                          -   \n",
       "244                                         67   \n",
       "245     Años para even- tual du- pli- ca- ción   \n",
       "\n",
       "    Censo más reciente, última estimación oficial, proyección de la ONU o reloj de población nacional  \\\n",
       "0                                        1 404 910 000                                                  \n",
       "1                                        1 409 670 000                                                  \n",
       "2                                          337 344 000                                                  \n",
       "3                                          282 477 584                                                  \n",
       "4                                          241 499 431                                                  \n",
       "..                                                 ...                                                  \n",
       "241                                                593                                                  \n",
       "242                                                190                                                  \n",
       "243                                                 35                                                  \n",
       "244                                      8 185 300 000                                                  \n",
       "245  Censo más reciente, última estimación oficial,...                                                  \n",
       "\n",
       "    Fecha de esta última cifra de población en particular (d/mm/aaaa)[10]​  \\\n",
       "0                                            1/07/2024                       \n",
       "1                                           31/12/2023                       \n",
       "2                                           30/10/2024                       \n",
       "3                                           30/06/2024                       \n",
       "4                                            1/03/2023                       \n",
       "..                                                 ...                       \n",
       "241                                         11/08/2021                       \n",
       "242                                          1/04/2010                       \n",
       "243                                          1/07/2023                       \n",
       "244                                         30/10/2024                       \n",
       "245  Fecha de esta última cifra de población en par...                       \n",
       "\n",
       "    Tipo[11]​  \\\n",
       "0           A   \n",
       "1           E   \n",
       "2           R   \n",
       "3           E   \n",
       "4           C   \n",
       "..        ...   \n",
       "241         C   \n",
       "242         C   \n",
       "243         E   \n",
       "244         R   \n",
       "245      Tipo   \n",
       "\n",
       "    Enlace o hipervínculo (usualmente de tipo oficial) de esta última cifra de población  \n",
       "0                                      web.archive.org                                    \n",
       "1                                     www.stats.gov.cn                                    \n",
       "2                                       www.census.gov                                    \n",
       "3                    dispendukcapil.acehtimurkab.go.id                                    \n",
       "4                                       www.pbs.gov.pk                                    \n",
       "..                                                 ...                                    \n",
       "241                              www.citypopulation.de                                    \n",
       "242                                   www.statoids.com                                    \n",
       "243                                 www.immigration.pn                                    \n",
       "244                              www.worldometers.info                                    \n",
       "245  Enlace o hipervínculo (usualmente de tipo ofic...                                    \n",
       "\n",
       "[246 rows x 12 columns]"
      ]
     },
     "execution_count": 8,
     "metadata": {},
     "output_type": "execute_result"
    }
   ],
   "source": [
    "datos[0]"
   ]
  },
  {
   "cell_type": "code",
   "execution_count": 12,
   "id": "ccd76e33-f6df-4d32-81a9-ca04a3bf8ac7",
   "metadata": {},
   "outputs": [],
   "source": [
    "dataframe = datos[0]"
   ]
  },
  {
   "cell_type": "code",
   "execution_count": 14,
   "id": "14d48a8c-7895-410a-a5e4-3455c53915e3",
   "metadata": {},
   "outputs": [
    {
     "data": {
      "text/html": [
       "<div>\n",
       "<style scoped>\n",
       "    .dataframe tbody tr th:only-of-type {\n",
       "        vertical-align: middle;\n",
       "    }\n",
       "\n",
       "    .dataframe tbody tr th {\n",
       "        vertical-align: top;\n",
       "    }\n",
       "\n",
       "    .dataframe thead th {\n",
       "        text-align: right;\n",
       "    }\n",
       "</style>\n",
       "<table border=\"1\" class=\"dataframe\">\n",
       "  <thead>\n",
       "    <tr style=\"text-align: right;\">\n",
       "      <th></th>\n",
       "      <th>N.º</th>\n",
       "      <th>País (o territorio dependiente)</th>\n",
       "      <th>Proyección exponencial de la población al 1/1/2025[7]​</th>\n",
       "      <th>Total mun- dial (%)</th>\n",
       "      <th>Cambio medio anual (%)[8]​</th>\n",
       "      <th>Cambio absoluto anual promedio</th>\n",
       "      <th>Cambio medio abs. total anual (%)</th>\n",
       "      <th>Años para even- tual du- pli- ca- ción[9]​</th>\n",
       "      <th>Censo más reciente, última estimación oficial, proyección de la ONU o reloj de población nacional</th>\n",
       "      <th>Fecha de esta última cifra de población en particular (d/mm/aaaa)[10]​</th>\n",
       "      <th>Tipo[11]​</th>\n",
       "      <th>Enlace o hipervínculo (usualmente de tipo oficial) de esta última cifra de población</th>\n",
       "    </tr>\n",
       "  </thead>\n",
       "  <tbody>\n",
       "    <tr>\n",
       "      <th>0</th>\n",
       "      <td>1</td>\n",
       "      <td>India</td>\n",
       "      <td>1 411 278 000</td>\n",
       "      <td>1754</td>\n",
       "      <td>090</td>\n",
       "      <td>12 726 000</td>\n",
       "      <td>1504</td>\n",
       "      <td>77</td>\n",
       "      <td>1 404 910 000</td>\n",
       "      <td>1/07/2024</td>\n",
       "      <td>A</td>\n",
       "      <td>web.archive.org</td>\n",
       "    </tr>\n",
       "    <tr>\n",
       "      <th>1</th>\n",
       "      <td>2</td>\n",
       "      <td>China[12]​</td>\n",
       "      <td>1 407 582 000</td>\n",
       "      <td>1749</td>\n",
       "      <td>-015</td>\n",
       "      <td>-2 075 000</td>\n",
       "      <td>-</td>\n",
       "      <td>-</td>\n",
       "      <td>1 409 670 000</td>\n",
       "      <td>31/12/2023</td>\n",
       "      <td>E</td>\n",
       "      <td>www.stats.gov.cn</td>\n",
       "    </tr>\n",
       "    <tr>\n",
       "      <th>2</th>\n",
       "      <td>3</td>\n",
       "      <td>Estados Unidos</td>\n",
       "      <td>337 642 000</td>\n",
       "      <td>420</td>\n",
       "      <td>052</td>\n",
       "      <td>1 754 000</td>\n",
       "      <td>207</td>\n",
       "      <td>134</td>\n",
       "      <td>337 344 000</td>\n",
       "      <td>30/10/2024</td>\n",
       "      <td>R</td>\n",
       "      <td>www.census.gov</td>\n",
       "    </tr>\n",
       "    <tr>\n",
       "      <th>3</th>\n",
       "      <td>4</td>\n",
       "      <td>Indonesia</td>\n",
       "      <td>284 144 000</td>\n",
       "      <td>353</td>\n",
       "      <td>117</td>\n",
       "      <td>3 318 000</td>\n",
       "      <td>392</td>\n",
       "      <td>60</td>\n",
       "      <td>282 477 584</td>\n",
       "      <td>30/06/2024</td>\n",
       "      <td>E</td>\n",
       "      <td>dispendukcapil.acehtimurkab.go.id</td>\n",
       "    </tr>\n",
       "    <tr>\n",
       "      <th>4</th>\n",
       "      <td>5</td>\n",
       "      <td>Pakistán</td>\n",
       "      <td>253 010 000</td>\n",
       "      <td>314</td>\n",
       "      <td>256</td>\n",
       "      <td>6 485 000</td>\n",
       "      <td>766</td>\n",
       "      <td>27</td>\n",
       "      <td>241 499 431</td>\n",
       "      <td>1/03/2023</td>\n",
       "      <td>C</td>\n",
       "      <td>www.pbs.gov.pk</td>\n",
       "    </tr>\n",
       "    <tr>\n",
       "      <th>5</th>\n",
       "      <td>6</td>\n",
       "      <td>Nigeria</td>\n",
       "      <td>233 077 000</td>\n",
       "      <td>290</td>\n",
       "      <td>273</td>\n",
       "      <td>6 372 000</td>\n",
       "      <td>753</td>\n",
       "      <td>26</td>\n",
       "      <td>223 800 000</td>\n",
       "      <td>1/07/2023</td>\n",
       "      <td>E</td>\n",
       "      <td>cdn.sanity.io</td>\n",
       "    </tr>\n",
       "    <tr>\n",
       "      <th>6</th>\n",
       "      <td>7</td>\n",
       "      <td>Brasil</td>\n",
       "      <td>205 661 000</td>\n",
       "      <td>256</td>\n",
       "      <td>052</td>\n",
       "      <td>1 076 000</td>\n",
       "      <td>127</td>\n",
       "      <td>133</td>\n",
       "      <td>203 080 756</td>\n",
       "      <td>1/08/2022</td>\n",
       "      <td>C</td>\n",
       "      <td>censo2022.ibge.gov.br</td>\n",
       "    </tr>\n",
       "    <tr>\n",
       "      <th>7</th>\n",
       "      <td>8</td>\n",
       "      <td>Bangladés</td>\n",
       "      <td>176 284 000</td>\n",
       "      <td>219</td>\n",
       "      <td>147</td>\n",
       "      <td>2 599 000</td>\n",
       "      <td>307</td>\n",
       "      <td>47</td>\n",
       "      <td>169 828 911</td>\n",
       "      <td>15/06/2022</td>\n",
       "      <td>C</td>\n",
       "      <td>bdnews24.com</td>\n",
       "    </tr>\n",
       "    <tr>\n",
       "      <th>8</th>\n",
       "      <td>9</td>\n",
       "      <td>Rusia[13]​</td>\n",
       "      <td>146 461 000</td>\n",
       "      <td>182</td>\n",
       "      <td>018</td>\n",
       "      <td>257 000</td>\n",
       "      <td>030</td>\n",
       "      <td>396</td>\n",
       "      <td>146 203 613</td>\n",
       "      <td>1/01/2024</td>\n",
       "      <td>E</td>\n",
       "      <td>rosstat.gov.ru</td>\n",
       "    </tr>\n",
       "    <tr>\n",
       "      <th>9</th>\n",
       "      <td>10</td>\n",
       "      <td>México</td>\n",
       "      <td>133 340 000</td>\n",
       "      <td>166</td>\n",
       "      <td>118</td>\n",
       "      <td>1 579 000</td>\n",
       "      <td>187</td>\n",
       "      <td>59</td>\n",
       "      <td>126 014 024</td>\n",
       "      <td>15/03/2020</td>\n",
       "      <td>C</td>\n",
       "      <td>www.inegi.org.mx</td>\n",
       "    </tr>\n",
       "  </tbody>\n",
       "</table>\n",
       "</div>"
      ],
      "text/plain": [
       "  N.º País (o territorio dependiente)  \\\n",
       "0   1                           India   \n",
       "1   2                      China[12]​   \n",
       "2   3                  Estados Unidos   \n",
       "3   4                       Indonesia   \n",
       "4   5                        Pakistán   \n",
       "5   6                         Nigeria   \n",
       "6   7                          Brasil   \n",
       "7   8                       Bangladés   \n",
       "8   9                      Rusia[13]​   \n",
       "9  10                          México   \n",
       "\n",
       "  Proyección exponencial de la población al 1/1/2025[7]​ Total mun- dial (%)  \\\n",
       "0                                      1 411 278 000                    1754   \n",
       "1                                      1 407 582 000                    1749   \n",
       "2                                        337 642 000                     420   \n",
       "3                                        284 144 000                     353   \n",
       "4                                        253 010 000                     314   \n",
       "5                                        233 077 000                     290   \n",
       "6                                        205 661 000                     256   \n",
       "7                                        176 284 000                     219   \n",
       "8                                        146 461 000                     182   \n",
       "9                                        133 340 000                     166   \n",
       "\n",
       "  Cambio medio anual (%)[8]​ Cambio absoluto anual promedio  \\\n",
       "0                        090                     12 726 000   \n",
       "1                       -015                     -2 075 000   \n",
       "2                        052                      1 754 000   \n",
       "3                        117                      3 318 000   \n",
       "4                        256                      6 485 000   \n",
       "5                        273                      6 372 000   \n",
       "6                        052                      1 076 000   \n",
       "7                        147                      2 599 000   \n",
       "8                        018                        257 000   \n",
       "9                        118                      1 579 000   \n",
       "\n",
       "  Cambio medio abs. total anual (%)  \\\n",
       "0                              1504   \n",
       "1                                 -   \n",
       "2                               207   \n",
       "3                               392   \n",
       "4                               766   \n",
       "5                               753   \n",
       "6                               127   \n",
       "7                               307   \n",
       "8                               030   \n",
       "9                               187   \n",
       "\n",
       "  Años para even- tual du- pli- ca- ción[9]​  \\\n",
       "0                                         77   \n",
       "1                                          -   \n",
       "2                                        134   \n",
       "3                                         60   \n",
       "4                                         27   \n",
       "5                                         26   \n",
       "6                                        133   \n",
       "7                                         47   \n",
       "8                                        396   \n",
       "9                                         59   \n",
       "\n",
       "  Censo más reciente, última estimación oficial, proyección de la ONU o reloj de población nacional  \\\n",
       "0                                      1 404 910 000                                                  \n",
       "1                                      1 409 670 000                                                  \n",
       "2                                        337 344 000                                                  \n",
       "3                                        282 477 584                                                  \n",
       "4                                        241 499 431                                                  \n",
       "5                                        223 800 000                                                  \n",
       "6                                        203 080 756                                                  \n",
       "7                                        169 828 911                                                  \n",
       "8                                        146 203 613                                                  \n",
       "9                                        126 014 024                                                  \n",
       "\n",
       "  Fecha de esta última cifra de población en particular (d/mm/aaaa)[10]​  \\\n",
       "0                                          1/07/2024                       \n",
       "1                                         31/12/2023                       \n",
       "2                                         30/10/2024                       \n",
       "3                                         30/06/2024                       \n",
       "4                                          1/03/2023                       \n",
       "5                                          1/07/2023                       \n",
       "6                                          1/08/2022                       \n",
       "7                                         15/06/2022                       \n",
       "8                                          1/01/2024                       \n",
       "9                                         15/03/2020                       \n",
       "\n",
       "  Tipo[11]​  \\\n",
       "0         A   \n",
       "1         E   \n",
       "2         R   \n",
       "3         E   \n",
       "4         C   \n",
       "5         E   \n",
       "6         C   \n",
       "7         C   \n",
       "8         E   \n",
       "9         C   \n",
       "\n",
       "  Enlace o hipervínculo (usualmente de tipo oficial) de esta última cifra de población  \n",
       "0                                    web.archive.org                                    \n",
       "1                                   www.stats.gov.cn                                    \n",
       "2                                     www.census.gov                                    \n",
       "3                  dispendukcapil.acehtimurkab.go.id                                    \n",
       "4                                     www.pbs.gov.pk                                    \n",
       "5                                      cdn.sanity.io                                    \n",
       "6                              censo2022.ibge.gov.br                                    \n",
       "7                                       bdnews24.com                                    \n",
       "8                                     rosstat.gov.ru                                    \n",
       "9                                   www.inegi.org.mx                                    "
      ]
     },
     "execution_count": 14,
     "metadata": {},
     "output_type": "execute_result"
    }
   ],
   "source": [
    "dataframe.head(10)"
   ]
  },
  {
   "cell_type": "markdown",
   "id": "d5afb46c-4fd9-479f-90fc-0c35ffff1fcf",
   "metadata": {},
   "source": [
    "Pandas - SQL\n",
    "/ conda install sqlalchemy\n",
    "/ pip install sdlalchemy"
   ]
  },
  {
   "cell_type": "code",
   "execution_count": 6,
   "id": "74f7f750-383d-44af-902d-1a9f45b09b27",
   "metadata": {},
   "outputs": [],
   "source": [
    "import pandas as pd\n",
    "from sqlalchemy import create_engine"
   ]
  },
  {
   "cell_type": "code",
   "execution_count": 8,
   "id": "ada2fd59-127e-4fa1-8078-5fdc09a2033a",
   "metadata": {},
   "outputs": [],
   "source": [
    "dicionario = {\"A\":[1,2,3],\"B\":[4,5,6]}"
   ]
  },
  {
   "cell_type": "code",
   "execution_count": 10,
   "id": "5e422d85-bf07-4059-af74-6689f2854e3c",
   "metadata": {},
   "outputs": [
    {
     "data": {
      "text/plain": [
       "{'A': [1, 2, 3], 'B': [4, 5, 6]}"
      ]
     },
     "execution_count": 10,
     "metadata": {},
     "output_type": "execute_result"
    }
   ],
   "source": [
    "dicionario"
   ]
  },
  {
   "cell_type": "code",
   "execution_count": 14,
   "id": "f699c4b1-f9aa-4376-888f-cfccd094386b",
   "metadata": {},
   "outputs": [
    {
     "data": {
      "text/html": [
       "<div>\n",
       "<style scoped>\n",
       "    .dataframe tbody tr th:only-of-type {\n",
       "        vertical-align: middle;\n",
       "    }\n",
       "\n",
       "    .dataframe tbody tr th {\n",
       "        vertical-align: top;\n",
       "    }\n",
       "\n",
       "    .dataframe thead th {\n",
       "        text-align: right;\n",
       "    }\n",
       "</style>\n",
       "<table border=\"1\" class=\"dataframe\">\n",
       "  <thead>\n",
       "    <tr style=\"text-align: right;\">\n",
       "      <th></th>\n",
       "      <th>A</th>\n",
       "      <th>B</th>\n",
       "    </tr>\n",
       "  </thead>\n",
       "  <tbody>\n",
       "    <tr>\n",
       "      <th>0</th>\n",
       "      <td>1</td>\n",
       "      <td>4</td>\n",
       "    </tr>\n",
       "    <tr>\n",
       "      <th>1</th>\n",
       "      <td>2</td>\n",
       "      <td>5</td>\n",
       "    </tr>\n",
       "    <tr>\n",
       "      <th>2</th>\n",
       "      <td>3</td>\n",
       "      <td>6</td>\n",
       "    </tr>\n",
       "  </tbody>\n",
       "</table>\n",
       "</div>"
      ],
      "text/plain": [
       "   A  B\n",
       "0  1  4\n",
       "1  2  5\n",
       "2  3  6"
      ]
     },
     "execution_count": 14,
     "metadata": {},
     "output_type": "execute_result"
    }
   ],
   "source": [
    "dataframe = pd.DataFrame(dicionario)\n",
    "dataframe"
   ]
  },
  {
   "cell_type": "code",
   "execution_count": 22,
   "id": "27ce85c9-d666-4ff1-95af-373f433dc931",
   "metadata": {},
   "outputs": [],
   "source": [
    "#Guardar el dataframe en una base de datos SQL\n",
    "#Motor de SQL en memoria \n",
    "engine = create_engine(\"sqlite:///:memory:\")"
   ]
  },
  {
   "cell_type": "code",
   "execution_count": 24,
   "id": "58073dec-d479-4a43-a1a5-11f6c6453ab6",
   "metadata": {},
   "outputs": [
    {
     "data": {
      "text/plain": [
       "3"
      ]
     },
     "execution_count": 24,
     "metadata": {},
     "output_type": "execute_result"
    }
   ],
   "source": [
    "dataframe.to_sql(\"tabla\", engine, index=False)"
   ]
  },
  {
   "cell_type": "code",
   "execution_count": 26,
   "id": "bb2de768-236c-4da7-8859-06ab97ab8527",
   "metadata": {},
   "outputs": [
    {
     "data": {
      "text/html": [
       "<div>\n",
       "<style scoped>\n",
       "    .dataframe tbody tr th:only-of-type {\n",
       "        vertical-align: middle;\n",
       "    }\n",
       "\n",
       "    .dataframe tbody tr th {\n",
       "        vertical-align: top;\n",
       "    }\n",
       "\n",
       "    .dataframe thead th {\n",
       "        text-align: right;\n",
       "    }\n",
       "</style>\n",
       "<table border=\"1\" class=\"dataframe\">\n",
       "  <thead>\n",
       "    <tr style=\"text-align: right;\">\n",
       "      <th></th>\n",
       "      <th>A</th>\n",
       "      <th>B</th>\n",
       "    </tr>\n",
       "  </thead>\n",
       "  <tbody>\n",
       "    <tr>\n",
       "      <th>0</th>\n",
       "      <td>1</td>\n",
       "      <td>4</td>\n",
       "    </tr>\n",
       "    <tr>\n",
       "      <th>1</th>\n",
       "      <td>2</td>\n",
       "      <td>5</td>\n",
       "    </tr>\n",
       "    <tr>\n",
       "      <th>2</th>\n",
       "      <td>3</td>\n",
       "      <td>6</td>\n",
       "    </tr>\n",
       "  </tbody>\n",
       "</table>\n",
       "</div>"
      ],
      "text/plain": [
       "   A  B\n",
       "0  1  4\n",
       "1  2  5\n",
       "2  3  6"
      ]
     },
     "execution_count": 26,
     "metadata": {},
     "output_type": "execute_result"
    }
   ],
   "source": [
    "datos_leidos_bd = pd.read_sql(\"tabla\", con=engine)\n",
    "datos_leidos_bd"
   ]
  },
  {
   "cell_type": "markdown",
   "id": "a453568e-472a-4e9f-9676-1a6fb5760832",
   "metadata": {},
   "source": [
    "Pandas - Graficos"
   ]
  },
  {
   "cell_type": "code",
   "execution_count": 29,
   "id": "418d5dd6-b275-4e9d-bfa5-a23d28c2a5ee",
   "metadata": {},
   "outputs": [],
   "source": [
    "import numpy as np\n",
    "import pandas as pd"
   ]
  },
  {
   "cell_type": "code",
   "execution_count": 35,
   "id": "64617e74-4212-4949-9cca-ff102fab9365",
   "metadata": {},
   "outputs": [],
   "source": [
    "dataframe = pd.DataFrame(np.random.randint(200, size=(50, 4)), columns=[\"a\",\"b\",\"c\",\"d\"])"
   ]
  },
  {
   "cell_type": "code",
   "execution_count": 37,
   "id": "1dc80f6d-f95b-4c25-a9e7-fd4014d42cd4",
   "metadata": {
    "scrolled": true
   },
   "outputs": [
    {
     "data": {
      "text/html": [
       "<div>\n",
       "<style scoped>\n",
       "    .dataframe tbody tr th:only-of-type {\n",
       "        vertical-align: middle;\n",
       "    }\n",
       "\n",
       "    .dataframe tbody tr th {\n",
       "        vertical-align: top;\n",
       "    }\n",
       "\n",
       "    .dataframe thead th {\n",
       "        text-align: right;\n",
       "    }\n",
       "</style>\n",
       "<table border=\"1\" class=\"dataframe\">\n",
       "  <thead>\n",
       "    <tr style=\"text-align: right;\">\n",
       "      <th></th>\n",
       "      <th>a</th>\n",
       "      <th>b</th>\n",
       "      <th>c</th>\n",
       "      <th>d</th>\n",
       "    </tr>\n",
       "  </thead>\n",
       "  <tbody>\n",
       "    <tr>\n",
       "      <th>0</th>\n",
       "      <td>13</td>\n",
       "      <td>109</td>\n",
       "      <td>132</td>\n",
       "      <td>190</td>\n",
       "    </tr>\n",
       "    <tr>\n",
       "      <th>1</th>\n",
       "      <td>118</td>\n",
       "      <td>81</td>\n",
       "      <td>114</td>\n",
       "      <td>61</td>\n",
       "    </tr>\n",
       "    <tr>\n",
       "      <th>2</th>\n",
       "      <td>184</td>\n",
       "      <td>13</td>\n",
       "      <td>99</td>\n",
       "      <td>84</td>\n",
       "    </tr>\n",
       "    <tr>\n",
       "      <th>3</th>\n",
       "      <td>65</td>\n",
       "      <td>97</td>\n",
       "      <td>34</td>\n",
       "      <td>40</td>\n",
       "    </tr>\n",
       "    <tr>\n",
       "      <th>4</th>\n",
       "      <td>119</td>\n",
       "      <td>161</td>\n",
       "      <td>130</td>\n",
       "      <td>154</td>\n",
       "    </tr>\n",
       "    <tr>\n",
       "      <th>5</th>\n",
       "      <td>64</td>\n",
       "      <td>2</td>\n",
       "      <td>66</td>\n",
       "      <td>91</td>\n",
       "    </tr>\n",
       "    <tr>\n",
       "      <th>6</th>\n",
       "      <td>2</td>\n",
       "      <td>147</td>\n",
       "      <td>10</td>\n",
       "      <td>185</td>\n",
       "    </tr>\n",
       "    <tr>\n",
       "      <th>7</th>\n",
       "      <td>97</td>\n",
       "      <td>139</td>\n",
       "      <td>167</td>\n",
       "      <td>118</td>\n",
       "    </tr>\n",
       "    <tr>\n",
       "      <th>8</th>\n",
       "      <td>81</td>\n",
       "      <td>194</td>\n",
       "      <td>28</td>\n",
       "      <td>122</td>\n",
       "    </tr>\n",
       "    <tr>\n",
       "      <th>9</th>\n",
       "      <td>93</td>\n",
       "      <td>118</td>\n",
       "      <td>7</td>\n",
       "      <td>171</td>\n",
       "    </tr>\n",
       "    <tr>\n",
       "      <th>10</th>\n",
       "      <td>75</td>\n",
       "      <td>192</td>\n",
       "      <td>27</td>\n",
       "      <td>62</td>\n",
       "    </tr>\n",
       "    <tr>\n",
       "      <th>11</th>\n",
       "      <td>160</td>\n",
       "      <td>28</td>\n",
       "      <td>199</td>\n",
       "      <td>173</td>\n",
       "    </tr>\n",
       "    <tr>\n",
       "      <th>12</th>\n",
       "      <td>0</td>\n",
       "      <td>161</td>\n",
       "      <td>90</td>\n",
       "      <td>7</td>\n",
       "    </tr>\n",
       "    <tr>\n",
       "      <th>13</th>\n",
       "      <td>13</td>\n",
       "      <td>196</td>\n",
       "      <td>57</td>\n",
       "      <td>122</td>\n",
       "    </tr>\n",
       "    <tr>\n",
       "      <th>14</th>\n",
       "      <td>140</td>\n",
       "      <td>41</td>\n",
       "      <td>169</td>\n",
       "      <td>106</td>\n",
       "    </tr>\n",
       "    <tr>\n",
       "      <th>15</th>\n",
       "      <td>120</td>\n",
       "      <td>35</td>\n",
       "      <td>148</td>\n",
       "      <td>99</td>\n",
       "    </tr>\n",
       "    <tr>\n",
       "      <th>16</th>\n",
       "      <td>29</td>\n",
       "      <td>38</td>\n",
       "      <td>25</td>\n",
       "      <td>153</td>\n",
       "    </tr>\n",
       "    <tr>\n",
       "      <th>17</th>\n",
       "      <td>181</td>\n",
       "      <td>5</td>\n",
       "      <td>168</td>\n",
       "      <td>198</td>\n",
       "    </tr>\n",
       "    <tr>\n",
       "      <th>18</th>\n",
       "      <td>174</td>\n",
       "      <td>115</td>\n",
       "      <td>198</td>\n",
       "      <td>63</td>\n",
       "    </tr>\n",
       "    <tr>\n",
       "      <th>19</th>\n",
       "      <td>132</td>\n",
       "      <td>46</td>\n",
       "      <td>16</td>\n",
       "      <td>17</td>\n",
       "    </tr>\n",
       "    <tr>\n",
       "      <th>20</th>\n",
       "      <td>25</td>\n",
       "      <td>165</td>\n",
       "      <td>72</td>\n",
       "      <td>5</td>\n",
       "    </tr>\n",
       "    <tr>\n",
       "      <th>21</th>\n",
       "      <td>109</td>\n",
       "      <td>50</td>\n",
       "      <td>4</td>\n",
       "      <td>152</td>\n",
       "    </tr>\n",
       "    <tr>\n",
       "      <th>22</th>\n",
       "      <td>193</td>\n",
       "      <td>66</td>\n",
       "      <td>128</td>\n",
       "      <td>21</td>\n",
       "    </tr>\n",
       "    <tr>\n",
       "      <th>23</th>\n",
       "      <td>193</td>\n",
       "      <td>150</td>\n",
       "      <td>3</td>\n",
       "      <td>138</td>\n",
       "    </tr>\n",
       "    <tr>\n",
       "      <th>24</th>\n",
       "      <td>132</td>\n",
       "      <td>11</td>\n",
       "      <td>122</td>\n",
       "      <td>111</td>\n",
       "    </tr>\n",
       "    <tr>\n",
       "      <th>25</th>\n",
       "      <td>192</td>\n",
       "      <td>5</td>\n",
       "      <td>92</td>\n",
       "      <td>38</td>\n",
       "    </tr>\n",
       "    <tr>\n",
       "      <th>26</th>\n",
       "      <td>82</td>\n",
       "      <td>44</td>\n",
       "      <td>76</td>\n",
       "      <td>144</td>\n",
       "    </tr>\n",
       "    <tr>\n",
       "      <th>27</th>\n",
       "      <td>15</td>\n",
       "      <td>117</td>\n",
       "      <td>194</td>\n",
       "      <td>16</td>\n",
       "    </tr>\n",
       "    <tr>\n",
       "      <th>28</th>\n",
       "      <td>39</td>\n",
       "      <td>1</td>\n",
       "      <td>3</td>\n",
       "      <td>119</td>\n",
       "    </tr>\n",
       "    <tr>\n",
       "      <th>29</th>\n",
       "      <td>94</td>\n",
       "      <td>93</td>\n",
       "      <td>154</td>\n",
       "      <td>167</td>\n",
       "    </tr>\n",
       "    <tr>\n",
       "      <th>30</th>\n",
       "      <td>46</td>\n",
       "      <td>171</td>\n",
       "      <td>143</td>\n",
       "      <td>19</td>\n",
       "    </tr>\n",
       "    <tr>\n",
       "      <th>31</th>\n",
       "      <td>74</td>\n",
       "      <td>156</td>\n",
       "      <td>181</td>\n",
       "      <td>102</td>\n",
       "    </tr>\n",
       "    <tr>\n",
       "      <th>32</th>\n",
       "      <td>42</td>\n",
       "      <td>48</td>\n",
       "      <td>126</td>\n",
       "      <td>94</td>\n",
       "    </tr>\n",
       "    <tr>\n",
       "      <th>33</th>\n",
       "      <td>151</td>\n",
       "      <td>177</td>\n",
       "      <td>0</td>\n",
       "      <td>178</td>\n",
       "    </tr>\n",
       "    <tr>\n",
       "      <th>34</th>\n",
       "      <td>156</td>\n",
       "      <td>135</td>\n",
       "      <td>172</td>\n",
       "      <td>150</td>\n",
       "    </tr>\n",
       "    <tr>\n",
       "      <th>35</th>\n",
       "      <td>29</td>\n",
       "      <td>181</td>\n",
       "      <td>90</td>\n",
       "      <td>18</td>\n",
       "    </tr>\n",
       "    <tr>\n",
       "      <th>36</th>\n",
       "      <td>16</td>\n",
       "      <td>31</td>\n",
       "      <td>158</td>\n",
       "      <td>77</td>\n",
       "    </tr>\n",
       "    <tr>\n",
       "      <th>37</th>\n",
       "      <td>5</td>\n",
       "      <td>80</td>\n",
       "      <td>100</td>\n",
       "      <td>123</td>\n",
       "    </tr>\n",
       "    <tr>\n",
       "      <th>38</th>\n",
       "      <td>42</td>\n",
       "      <td>159</td>\n",
       "      <td>187</td>\n",
       "      <td>192</td>\n",
       "    </tr>\n",
       "    <tr>\n",
       "      <th>39</th>\n",
       "      <td>175</td>\n",
       "      <td>46</td>\n",
       "      <td>116</td>\n",
       "      <td>165</td>\n",
       "    </tr>\n",
       "    <tr>\n",
       "      <th>40</th>\n",
       "      <td>148</td>\n",
       "      <td>26</td>\n",
       "      <td>158</td>\n",
       "      <td>13</td>\n",
       "    </tr>\n",
       "    <tr>\n",
       "      <th>41</th>\n",
       "      <td>65</td>\n",
       "      <td>81</td>\n",
       "      <td>37</td>\n",
       "      <td>150</td>\n",
       "    </tr>\n",
       "    <tr>\n",
       "      <th>42</th>\n",
       "      <td>67</td>\n",
       "      <td>142</td>\n",
       "      <td>50</td>\n",
       "      <td>104</td>\n",
       "    </tr>\n",
       "    <tr>\n",
       "      <th>43</th>\n",
       "      <td>123</td>\n",
       "      <td>174</td>\n",
       "      <td>39</td>\n",
       "      <td>39</td>\n",
       "    </tr>\n",
       "    <tr>\n",
       "      <th>44</th>\n",
       "      <td>177</td>\n",
       "      <td>131</td>\n",
       "      <td>166</td>\n",
       "      <td>159</td>\n",
       "    </tr>\n",
       "    <tr>\n",
       "      <th>45</th>\n",
       "      <td>194</td>\n",
       "      <td>28</td>\n",
       "      <td>43</td>\n",
       "      <td>126</td>\n",
       "    </tr>\n",
       "    <tr>\n",
       "      <th>46</th>\n",
       "      <td>96</td>\n",
       "      <td>118</td>\n",
       "      <td>70</td>\n",
       "      <td>192</td>\n",
       "    </tr>\n",
       "    <tr>\n",
       "      <th>47</th>\n",
       "      <td>97</td>\n",
       "      <td>159</td>\n",
       "      <td>51</td>\n",
       "      <td>199</td>\n",
       "    </tr>\n",
       "    <tr>\n",
       "      <th>48</th>\n",
       "      <td>135</td>\n",
       "      <td>129</td>\n",
       "      <td>174</td>\n",
       "      <td>20</td>\n",
       "    </tr>\n",
       "    <tr>\n",
       "      <th>49</th>\n",
       "      <td>154</td>\n",
       "      <td>161</td>\n",
       "      <td>60</td>\n",
       "      <td>107</td>\n",
       "    </tr>\n",
       "  </tbody>\n",
       "</table>\n",
       "</div>"
      ],
      "text/plain": [
       "      a    b    c    d\n",
       "0    13  109  132  190\n",
       "1   118   81  114   61\n",
       "2   184   13   99   84\n",
       "3    65   97   34   40\n",
       "4   119  161  130  154\n",
       "5    64    2   66   91\n",
       "6     2  147   10  185\n",
       "7    97  139  167  118\n",
       "8    81  194   28  122\n",
       "9    93  118    7  171\n",
       "10   75  192   27   62\n",
       "11  160   28  199  173\n",
       "12    0  161   90    7\n",
       "13   13  196   57  122\n",
       "14  140   41  169  106\n",
       "15  120   35  148   99\n",
       "16   29   38   25  153\n",
       "17  181    5  168  198\n",
       "18  174  115  198   63\n",
       "19  132   46   16   17\n",
       "20   25  165   72    5\n",
       "21  109   50    4  152\n",
       "22  193   66  128   21\n",
       "23  193  150    3  138\n",
       "24  132   11  122  111\n",
       "25  192    5   92   38\n",
       "26   82   44   76  144\n",
       "27   15  117  194   16\n",
       "28   39    1    3  119\n",
       "29   94   93  154  167\n",
       "30   46  171  143   19\n",
       "31   74  156  181  102\n",
       "32   42   48  126   94\n",
       "33  151  177    0  178\n",
       "34  156  135  172  150\n",
       "35   29  181   90   18\n",
       "36   16   31  158   77\n",
       "37    5   80  100  123\n",
       "38   42  159  187  192\n",
       "39  175   46  116  165\n",
       "40  148   26  158   13\n",
       "41   65   81   37  150\n",
       "42   67  142   50  104\n",
       "43  123  174   39   39\n",
       "44  177  131  166  159\n",
       "45  194   28   43  126\n",
       "46   96  118   70  192\n",
       "47   97  159   51  199\n",
       "48  135  129  174   20\n",
       "49  154  161   60  107"
      ]
     },
     "execution_count": 37,
     "metadata": {},
     "output_type": "execute_result"
    }
   ],
   "source": [
    "dataframe"
   ]
  },
  {
   "cell_type": "code",
   "execution_count": 39,
   "id": "629548fd-43b9-4174-bc13-c23c903b692d",
   "metadata": {},
   "outputs": [
    {
     "data": {
      "text/plain": [
       "<Axes: >"
      ]
     },
     "execution_count": 39,
     "metadata": {},
     "output_type": "execute_result"
    },
    {
     "data": {
      "image/png": "[encoded data removed]",
      "text/plain": [
       "<Figure size 640x480 with 1 Axes>"
      ]
     },
     "metadata": {},
     "output_type": "display_data"
    }
   ],
   "source": [
    "dataframe[\"a\"].hist()"
   ]
  },
  {
   "cell_type": "code",
   "execution_count": 43,
   "id": "3ffbd8f0-f215-4e76-8a85-0b32ba634f77",
   "metadata": {},
   "outputs": [
    {
     "data": {
      "text/plain": [
       "<Axes: >"
      ]
     },
     "execution_count": 43,
     "metadata": {},
     "output_type": "execute_result"
    },
    {
     "data": {
      "image/png": "[encoded data removed]",
      "text/plain": [
       "<Figure size 640x480 with 1 Axes>"
      ]
     },
     "metadata": {},
     "output_type": "display_data"
    }
   ],
   "source": [
    "dataframe[\"a\"].hist(bins=30)"
   ]
  },
  {
   "cell_type": "code",
   "execution_count": 47,
   "id": "8baac3eb-0140-4da0-8450-db62090a70c3",
   "metadata": {},
   "outputs": [
    {
     "data": {
      "text/plain": [
       "<Axes: ylabel='Frequency'>"
      ]
     },
     "execution_count": 47,
     "metadata": {},
     "output_type": "execute_result"
    },
    {
     "data": {
      "image/png": "[encoded data removed]",
      "text/plain": [
       "<Figure size 640x480 with 1 Axes>"
      ]
     },
     "metadata": {},
     "output_type": "display_data"
    }
   ],
   "source": [
    "dataframe[\"a\"].plot.hist(bins=30)"
   ]
  },
  {
   "cell_type": "code",
   "execution_count": 70,
   "id": "249dce01-308a-4037-af08-3e3f88cdefbc",
   "metadata": {},
   "outputs": [
    {
     "data": {
      "text/plain": [
       "<Axes: >"
      ]
     },
     "execution_count": 70,
     "metadata": {},
     "output_type": "execute_result"
    },
    {
     "data": {
      "image/png": "[encoded data removed]",
      "text/plain": [
       "<Figure size 640x480 with 1 Axes>"
      ]
     },
     "metadata": {},
     "output_type": "display_data"
    }
   ],
   "source": [
    "dataframe.plot.area(alpha=0.3)"
   ]
  },
  {
   "cell_type": "code",
   "execution_count": 66,
   "id": "20e2d319-5af3-4052-8560-26e809c1d21f",
   "metadata": {},
   "outputs": [
    {
     "data": {
      "text/plain": [
       "<Axes: >"
      ]
     },
     "execution_count": 66,
     "metadata": {},
     "output_type": "execute_result"
    },
    {
     "data": {
      "image/png": "[encoded data removed]",
      "text/plain": [
       "<Figure size 640x480 with 1 Axes>"
      ]
     },
     "metadata": {},
     "output_type": "display_data"
    }
   ],
   "source": [
    "dataframe.plot.bar()"
   ]
  },
  {
   "cell_type": "code",
   "execution_count": 68,
   "id": "9c7bc228-c3af-4053-a41d-ed3d48d09a94",
   "metadata": {},
   "outputs": [
    {
     "data": {
      "text/plain": [
       "<Axes: >"
      ]
     },
     "execution_count": 68,
     "metadata": {},
     "output_type": "execute_result"
    },
    {
     "data": {
      "image/png": "[encoded data removed]",
      "text/plain": [
       "<Figure size 640x480 with 1 Axes>"
      ]
     },
     "metadata": {},
     "output_type": "display_data"
    }
   ],
   "source": [
    "dataframe.plot.bar(stacked=True)"
   ]
  },
  {
   "cell_type": "code",
   "execution_count": 74,
   "id": "7279dd07-80e8-4e8b-8669-47affaa09197",
   "metadata": {},
   "outputs": [
    {
     "data": {
      "text/plain": [
       "<Axes: xlabel='a', ylabel='b'>"
      ]
     },
     "execution_count": 74,
     "metadata": {},
     "output_type": "execute_result"
    },
    {
     "data": {
      "image/png": "[encoded data removed]",
      "text/plain": [
       "<Figure size 640x480 with 2 Axes>"
      ]
     },
     "metadata": {},
     "output_type": "display_data"
    }
   ],
   "source": [
    "dataframe.plot.scatter(x=\"a\", y=\"b\", c=\"c\", cmap=\"coolwarm\")"
   ]
  },
  {
   "cell_type": "code",
   "execution_count": 76,
   "id": "d06c7446-d9fa-47c8-9e91-010b19b2017d",
   "metadata": {},
   "outputs": [
    {
     "data": {
      "text/plain": [
       "<Axes: >"
      ]
     },
     "execution_count": 76,
     "metadata": {},
     "output_type": "execute_result"
    },
    {
     "data": {
      "image/png": "[encoded data removed]",
      "text/plain": [
       "<Figure size 640x480 with 1 Axes>"
      ]
     },
     "metadata": {},
     "output_type": "display_data"
    }
   ],
   "source": [
    "dataframe.plot.box()"
   ]
  },
  {
   "cell_type": "code",
   "execution_count": 78,
   "id": "74d71328-ade9-41fe-9f70-3f41288fd83a",
   "metadata": {},
   "outputs": [
    {
     "data": {
      "text/plain": [
       "<Axes: xlabel='a', ylabel='b'>"
      ]
     },
     "execution_count": 78,
     "metadata": {},
     "output_type": "execute_result"
    },
    {
     "data": {
      "image/png": "[encoded data removed]",
      "text/plain": [
       "<Figure size 640x480 with 2 Axes>"
      ]
     },
     "metadata": {},
     "output_type": "display_data"
    }
   ],
   "source": [
    "dataframe.plot.hexbin(x=\"a\", y=\"b\", gridsize=12)"
   ]
  },
  {
   "cell_type": "code",
   "execution_count": 82,
   "id": "769b9c1e-7cd4-4379-84cf-1e5606825d71",
   "metadata": {},
   "outputs": [
    {
     "data": {
      "text/plain": [
       "<Axes: ylabel='Density'>"
      ]
     },
     "execution_count": 82,
     "metadata": {},
     "output_type": "execute_result"
    },
    {
     "data": {
      "image/png": "[encoded data removed]",
      "text/plain": [
       "<Figure size 640x480 with 1 Axes>"
      ]
     },
     "metadata": {},
     "output_type": "display_data"
    }
   ],
   "source": [
    "dataframe.plot.kde()"
   ]
  },
  {
   "cell_type": "code",
   "execution_count": 84,
   "id": "1c5b1e6b-1598-4445-9737-00503fbfb7bf",
   "metadata": {},
   "outputs": [
    {
     "data": {
      "text/plain": [
       "<Axes: ylabel='Density'>"
      ]
     },
     "execution_count": 84,
     "metadata": {},
     "output_type": "execute_result"
    },
    {
     "data": {
      "image/png": "[encoded data removed]",
      "text/plain": [
       "<Figure size 640x480 with 1 Axes>"
      ]
     },
     "metadata": {},
     "output_type": "display_data"
    }
   ],
   "source": [
    "dataframe.plot.density()"
   ]
  },
  {
   "cell_type": "markdown",
   "id": "a635a67b-d83e-4080-842e-af718d4c2e6a",
   "metadata": {},
   "source": [
    "#ejercicio 1 "
   ]
  },
  {
   "cell_type": "code",
   "execution_count": 952,
   "id": "b705220d-5691-4efa-bbdd-20168b8affda",
   "metadata": {},
   "outputs": [],
   "source": [
    "import pandas as pd\n",
    "def calcular_promedio(dataframe):\n",
    "    # Calculamos el promedio de cada columna usando el método mean() de pandas\n",
    "    return dataframe.mean()"
   ]
  },
  {
   "cell_type": "code",
   "execution_count": 62,
   "id": "85ef599a-1126-448a-8d9d-5d55fa3497bb",
   "metadata": {},
   "outputs": [
    {
     "name": "stdout",
     "output_type": "stream",
     "text": [
      "A     2.5\n",
      "B     6.5\n",
      "C    10.5\n",
      "dtype: float64\n"
     ]
    }
   ],
   "source": [
    "# Ejemplo de uso\n",
    "data = {\n",
    "    'A': [1, 2, 3, 4],\n",
    "    'B': [5, 6, 7, 8],\n",
    "    'C': [9, 10, 11, 12]\n",
    "}\n",
    "\n",
    "df = pd.DataFrame(data)\n",
    "resultado = calcular_promedio(df)\n",
    "print(resultado)"
   ]
  },
  {
   "cell_type": "markdown",
   "id": "651005d8-ae12-4ff1-b6cd-f7519581c296",
   "metadata": {},
   "source": [
    "#Ejecicio 2"
   ]
  },
  {
   "cell_type": "code",
   "execution_count": 35,
   "id": "752e76b9-7448-4d08-935a-51b5aefb325e",
   "metadata": {},
   "outputs": [],
   "source": [
    "import pandas as pd\n",
    "\n",
    "def seleccionar_datos(dataframe, nombre=None, edad_min=None, edad_max=None, calificacion_min=None, calificacion_max=None):\n",
    "    # Filtramos en base al nombre si se especifica\n",
    "    if nombre:\n",
    "        dataframe = dataframe[dataframe['Nombre'] == nombre]\n",
    "    \n",
    "    # Filtramos en base a la edad mínima si se especifica\n",
    "    if edad_min is not None:\n",
    "        dataframe = dataframe[dataframe['Edad'] >= edad_min]\n",
    "    \n",
    "    # Filtramos en base a la edad máxima si se especifica\n",
    "    if edad_max is not None:\n",
    "        dataframe = dataframe[dataframe['Edad'] <= edad_max]\n",
    "    \n",
    "    # Filtramos en base a la calificación mínima si se especifica\n",
    "    if calificacion_min is not None:\n",
    "        dataframe = dataframe[dataframe['Calificacion'] >= calificacion_min]\n",
    "    \n",
    "    # Filtramos en base a la calificación máxima si se especifica\n",
    "    if calificacion_max is not None:\n",
    "        dataframe = dataframe[dataframe['Calificacion'] <= calificacion_max]\n",
    "    \n",
    "    # Retornamos el DataFrame filtrado\n",
    "    return dataframe"
   ]
  },
  {
   "cell_type": "code",
   "execution_count": 53,
   "id": "719d37e8-b83c-4150-a505-2c6904f95b44",
   "metadata": {},
   "outputs": [],
   "source": [
    "data = {\n",
    "    'Nombre': ['Ana', 'Juan', 'Luis', 'Maria', 'Pedro'],\n",
    "    'Edad': [15, 16, 15, 17, 16],\n",
    "    'Calificacion': [85, 90, 78, 88, 95]\n",
    "}\n",
    "df = pd.DataFrame(data)"
   ]
  },
  {
   "cell_type": "code",
   "execution_count": 55,
   "id": "b1e4cbd5-af24-4690-8523-acb2b40e4ee5",
   "metadata": {},
   "outputs": [
    {
     "data": {
      "text/html": [
       "<div>\n",
       "<style scoped>\n",
       "    .dataframe tbody tr th:only-of-type {\n",
       "        vertical-align: middle;\n",
       "    }\n",
       "\n",
       "    .dataframe tbody tr th {\n",
       "        vertical-align: top;\n",
       "    }\n",
       "\n",
       "    .dataframe thead th {\n",
       "        text-align: right;\n",
       "    }\n",
       "</style>\n",
       "<table border=\"1\" class=\"dataframe\">\n",
       "  <thead>\n",
       "    <tr style=\"text-align: right;\">\n",
       "      <th></th>\n",
       "      <th>Nombre</th>\n",
       "      <th>Edad</th>\n",
       "      <th>Calificacion</th>\n",
       "    </tr>\n",
       "  </thead>\n",
       "  <tbody>\n",
       "  </tbody>\n",
       "</table>\n",
       "</div>"
      ],
      "text/plain": [
       "Empty DataFrame\n",
       "Columns: [Nombre, Edad, Calificacion]\n",
       "Index: []"
      ]
     },
     "execution_count": 55,
     "metadata": {},
     "output_type": "execute_result"
    }
   ],
   "source": [
    "# Definimos un criterio de filtrado\n",
    "criterio = 18\n",
    "resultado = seleccionar_datos(df, edad_min=criterio)\n",
    "resultado"
   ]
  },
  {
   "cell_type": "code",
   "execution_count": 57,
   "id": "8ebbab61-a683-47e1-8cd1-aa3512a8d763",
   "metadata": {},
   "outputs": [
    {
     "name": "stdout",
     "output_type": "stream",
     "text": [
      "    Nombre  Edad  Calificaciones\n",
      "0    Alice    20              90\n",
      "1      Bob    22              88\n",
      "2  Charlie    18              75\n",
      "3    David    25              95\n"
     ]
    }
   ],
   "source": [
    "data = {\n",
    "    'Nombre': ['Alice', 'Bob', 'Charlie', 'David'],\n",
    "    'Edad': [20, 22, 18, 25],\n",
    "    'Calificaciones': [90, 88, 75, 95]\n",
    "}\n",
    " \n",
    "df = pd.DataFrame(data)\n",
    "resultado = seleccionar_datos(df, edad_min=18)\n",
    "print(resultado)"
   ]
  },
  {
   "cell_type": "markdown",
   "id": "b53220f2-d501-4765-ac9a-170e5fc7c7f8",
   "metadata": {},
   "source": [
    "#Ejercicio3"
   ]
  },
  {
   "cell_type": "code",
   "execution_count": null,
   "id": "2dfcc46a-98d8-4113-9f66-1c1bdbaac036",
   "metadata": {},
   "outputs": [],
   "source": [
    "import pandas as pd\n",
    "\n",
    "def rellenar_con_media(dataframe, columna):\n",
    "    # Calculamos la media de la columna especificada, omitiendo los valores nulos\n",
    "    media = dataframe[columna].mean()\n",
    "    # Llenamos los valores nulos en la columna con la media calculada\n",
    "    dataframe[columna].fillna(media, inplace=True)\n",
    "    return dataframe\n",
    "\n",
    "# Ejemplo de uso\n",
    "data = {\n",
    "    'nombre': ['Alice', 'Bob', 'Charlie', 'David', 'Eve'],\n",
    "    'edad': [20, None, 18, 25, None],\n",
    "    'calificaciones': [90, 88, None, None, 95]\n",
    "}\n",
    "\n",
    "df = pd.DataFrame(data)\n",
    "columna = 'calificaciones'\n",
    "\n",
    "# Aplicamos la función y mostramos el resultado\n",
    "resultado = rellenar_con_media(df, columna)\n",
    "print(resultado)"
   ]
  }
 ],
 "metadata": {
  "kernelspec": {
   "display_name": "Python 3 (ipykernel)",
   "language": "python",
   "name": "python3"
  },
  "language_info": {
   "codemirror_mode": {
    "name": "ipython",
    "version": 3
   },
   "file_extension": ".py",
   "mimetype": "text/x-python",
   "name": "python",
   "nbconvert_exporter": "python",
   "pygments_lexer": "ipython3",
   "version": "3.12.4"
  }
 },
 "nbformat": 4,
 "nbformat_minor": 5
}
