{
 "cells": [
  {
   "cell_type": "code",
   "execution_count": 1,
   "metadata": {},
   "outputs": [],
   "source": [
    "import seaborn as sns\n",
    "import pandas as pd\n",
    "import matplotlib.pyplot as plt \n",
    "from sklearn.datasets import load_breast_cancer\n",
    "from sklearn.model_selection import train_test_split\n",
    "from sklearn.datasets import fetch_covtype\n",
    "from sklearn.linear_model import LinearRegression, LogisticRegression\n",
    "from sklearn.metrics import confusion_matrix, ConfusionMatrixDisplay, accuracy_score\n",
    "from sklearn.neighbors import KNeighborsClassifier\n",
    "from sklearn.ensemble import RandomForestClassifier \n",
    "from sklearn.tree import DecisionTreeClassifier \n",
    "from sklearn.svm import SVC"
   ]
  },
  {
   "cell_type": "markdown",
   "metadata": {},
   "source": [
    "## Ejercicio 1\n",
    "Imprime por pantalla tu nombre, apellido y email"
   ]
  },
  {
   "cell_type": "code",
   "execution_count": 2,
   "metadata": {},
   "outputs": [
    {
     "name": "stdout",
     "output_type": "stream",
     "text": [
      "Nombre: Angel\n",
      "Apellido: Roman Osma\n",
      "Email: romanosma@gmail.com\n"
     ]
    }
   ],
   "source": [
    "# Resuelve en esta celda el ejercicio 1\n",
    "nombre = \"Angel\"\n",
    "apellido = \"Roman Osma\"\n",
    "email = \"romanosma@gmail.com\"\n",
    "\n",
    "print(f\"Nombre: {nombre}\")\n",
    "print(f\"Apellido: {apellido}\")\n",
    "print(f\"Email: {email}\")"
   ]
  },
  {
   "cell_type": "markdown",
   "metadata": {},
   "source": [
    "## Ejercicio 2"
   ]
  },
  {
   "cell_type": "markdown",
   "metadata": {},
   "source": [
    "### Ejercicio 2.1\n",
    "Muestra los primeros registros del siguiente conjunto de datos"
   ]
  },
  {
   "cell_type": "code",
   "execution_count": 3,
   "metadata": {},
   "outputs": [
    {
     "name": "stdout",
     "output_type": "stream",
     "text": [
      "   survived  pclass     sex   age  sibsp  parch     fare embarked  class  \\\n",
      "0         0       3    male  22.0      1      0   7.2500        S  Third   \n",
      "1         1       1  female  38.0      1      0  71.2833        C  First   \n",
      "2         1       3  female  26.0      0      0   7.9250        S  Third   \n",
      "3         1       1  female  35.0      1      0  53.1000        S  First   \n",
      "4         0       3    male  35.0      0      0   8.0500        S  Third   \n",
      "\n",
      "     who  adult_male deck  embark_town alive  alone  \n",
      "0    man        True  NaN  Southampton    no  False  \n",
      "1  woman       False    C    Cherbourg   yes  False  \n",
      "2  woman       False  NaN  Southampton   yes   True  \n",
      "3  woman       False    C  Southampton   yes  False  \n",
      "4    man        True  NaN  Southampton    no   True  \n"
     ]
    }
   ],
   "source": [
    "# Cargar el dataset \"titanic\" de seaborn\n",
    "df = sns.load_dataset(\"titanic\")\n",
    "\n",
    "# Resolver aqui el ejercicio 2.1\n",
    "print(df.head())"
   ]
  },
  {
   "cell_type": "markdown",
   "metadata": {},
   "source": [
    "### Ejercicio 2.2\n",
    "Muestra una descripción general del conjunto de datos cargado en el ejercicio 2.1"
   ]
  },
  {
   "cell_type": "code",
   "execution_count": 4,
   "metadata": {},
   "outputs": [
    {
     "name": "stdout",
     "output_type": "stream",
     "text": [
      "Información general del DataFrame:\n",
      "<class 'pandas.core.frame.DataFrame'>\n",
      "RangeIndex: 891 entries, 0 to 890\n",
      "Data columns (total 15 columns):\n",
      " #   Column       Non-Null Count  Dtype   \n",
      "---  ------       --------------  -----   \n",
      " 0   survived     891 non-null    int64   \n",
      " 1   pclass       891 non-null    int64   \n",
      " 2   sex          891 non-null    object  \n",
      " 3   age          714 non-null    float64 \n",
      " 4   sibsp        891 non-null    int64   \n",
      " 5   parch        891 non-null    int64   \n",
      " 6   fare         891 non-null    float64 \n",
      " 7   embarked     889 non-null    object  \n",
      " 8   class        891 non-null    category\n",
      " 9   who          891 non-null    object  \n",
      " 10  adult_male   891 non-null    bool    \n",
      " 11  deck         203 non-null    category\n",
      " 12  embark_town  889 non-null    object  \n",
      " 13  alive        891 non-null    object  \n",
      " 14  alone        891 non-null    bool    \n",
      "dtypes: bool(2), category(2), float64(2), int64(4), object(5)\n",
      "memory usage: 80.7+ KB\n",
      "\n",
      "Descripción estadística del DataFrame:\n",
      "          survived      pclass   sex         age       sibsp       parch  \\\n",
      "count   891.000000  891.000000   891  714.000000  891.000000  891.000000   \n",
      "unique         NaN         NaN     2         NaN         NaN         NaN   \n",
      "top            NaN         NaN  male         NaN         NaN         NaN   \n",
      "freq           NaN         NaN   577         NaN         NaN         NaN   \n",
      "mean      0.383838    2.308642   NaN   29.699118    0.523008    0.381594   \n",
      "std       0.486592    0.836071   NaN   14.526497    1.102743    0.806057   \n",
      "min       0.000000    1.000000   NaN    0.420000    0.000000    0.000000   \n",
      "25%       0.000000    2.000000   NaN   20.125000    0.000000    0.000000   \n",
      "50%       0.000000    3.000000   NaN   28.000000    0.000000    0.000000   \n",
      "75%       1.000000    3.000000   NaN   38.000000    1.000000    0.000000   \n",
      "max       1.000000    3.000000   NaN   80.000000    8.000000    6.000000   \n",
      "\n",
      "              fare embarked  class  who adult_male deck  embark_town alive  \\\n",
      "count   891.000000      889    891  891        891  203          889   891   \n",
      "unique         NaN        3      3    3          2    7            3     2   \n",
      "top            NaN        S  Third  man       True    C  Southampton    no   \n",
      "freq           NaN      644    491  537        537   59          644   549   \n",
      "mean     32.204208      NaN    NaN  NaN        NaN  NaN          NaN   NaN   \n",
      "std      49.693429      NaN    NaN  NaN        NaN  NaN          NaN   NaN   \n",
      "min       0.000000      NaN    NaN  NaN        NaN  NaN          NaN   NaN   \n",
      "25%       7.910400      NaN    NaN  NaN        NaN  NaN          NaN   NaN   \n",
      "50%      14.454200      NaN    NaN  NaN        NaN  NaN          NaN   NaN   \n",
      "75%      31.000000      NaN    NaN  NaN        NaN  NaN          NaN   NaN   \n",
      "max     512.329200      NaN    NaN  NaN        NaN  NaN          NaN   NaN   \n",
      "\n",
      "       alone  \n",
      "count    891  \n",
      "unique     2  \n",
      "top     True  \n",
      "freq     537  \n",
      "mean     NaN  \n",
      "std      NaN  \n",
      "min      NaN  \n",
      "25%      NaN  \n",
      "50%      NaN  \n",
      "75%      NaN  \n",
      "max      NaN  \n"
     ]
    }
   ],
   "source": [
    "# Resuelve aqui el ejercicio 2.2\n",
    "print(\"Información general del DataFrame:\")\n",
    "df.info()\n",
    "print(\"\\nDescripción estadística del DataFrame:\")\n",
    "print(df.describe(include='all'))"
   ]
  },
  {
   "cell_type": "markdown",
   "metadata": {},
   "source": [
    "### Ejercicio 2.3\n",
    "Elimina los datos de la columna \"deck\" y sustituye los datos nulos para la columno \"age\" con el valor medio. Luego muestra el dataframe:"
   ]
  },
  {
   "cell_type": "code",
   "execution_count": 5,
   "metadata": {},
   "outputs": [
    {
     "name": "stdout",
     "output_type": "stream",
     "text": [
      "DataFrame después de eliminar 'deck' e imputar 'age':\n",
      "   survived  pclass     sex   age  sibsp  parch     fare embarked  class  \\\n",
      "0         0       3    male  22.0      1      0   7.2500        S  Third   \n",
      "1         1       1  female  38.0      1      0  71.2833        C  First   \n",
      "2         1       3  female  26.0      0      0   7.9250        S  Third   \n",
      "3         1       1  female  35.0      1      0  53.1000        S  First   \n",
      "4         0       3    male  35.0      0      0   8.0500        S  Third   \n",
      "\n",
      "     who  adult_male  embark_town alive  alone  \n",
      "0    man        True  Southampton    no  False  \n",
      "1  woman       False    Cherbourg   yes  False  \n",
      "2  woman       False  Southampton   yes   True  \n",
      "3  woman       False  Southampton   yes  False  \n",
      "4    man        True  Southampton    no   True  \n",
      "\n",
      "Verificación de nulos después de las operaciones:\n",
      "survived       0\n",
      "pclass         0\n",
      "sex            0\n",
      "age            0\n",
      "sibsp          0\n",
      "parch          0\n",
      "fare           0\n",
      "embarked       2\n",
      "class          0\n",
      "who            0\n",
      "adult_male     0\n",
      "embark_town    2\n",
      "alive          0\n",
      "alone          0\n",
      "dtype: int64\n"
     ]
    }
   ],
   "source": [
    "# Resuelve aqui el ejercicio 2.3\n",
    "# Eliminar la columna \"deck\"\n",
    "df = df.drop(\"deck\", axis=1)\n",
    "\n",
    "# Sustituir datos nulos en \"age\" con la media\n",
    "mean_age = df[\"age\"].mean()\n",
    "df[\"age\"] = df[\"age\"].fillna(mean_age)\n",
    "\n",
    "# Mostrar el DataFrame modificado\n",
    "print(\"DataFrame después de eliminar 'deck' e imputar 'age':\")\n",
    "print(df.head())\n",
    "print(\"\\nVerificación de nulos después de las operaciones:\")\n",
    "print(df.isnull().sum())"
   ]
  },
  {
   "cell_type": "markdown",
   "metadata": {},
   "source": [
    "#### Ejercicio 2.4\n",
    "Crea un gráfico de tipo histograma que represente la distribución de las edades de los pasajeros. Usa **matplotlib** o **seaborn** como herramientas de visualización"
   ]
  },
  {
   "cell_type": "code",
   "execution_count": 6,
   "metadata": {},
   "outputs": [
    {
     "data": {
      "image/png": "[encoded data removed]",
      "text/plain": [
       "<Figure size 1000x600 with 1 Axes>"
      ]
     },
     "metadata": {},
     "output_type": "display_data"
    }
   ],
   "source": [
    "# Resuelve aqui el ejercicio 2.4\n",
    "plt.figure(figsize=(10, 6))\n",
    "sns.histplot(df['age'], kde=True, bins=30)\n",
    "plt.title('Distribución de Edades de los Pasajeros del Titanic')\n",
    "plt.xlabel('Edad')\n",
    "plt.ylabel('Frecuencia')\n",
    "plt.grid(True)\n",
    "plt.show()"
   ]
  },
  {
   "cell_type": "markdown",
   "metadata": {},
   "source": [
    "#### Ejercicio 2.5\n",
    "Crea un gráfico circular que represente la distribución por género de los pasajeros. Usa **matplotlib** o **seaborn** como herramientas de visualización"
   ]
  },
  {
   "cell_type": "code",
   "execution_count": 7,
   "metadata": {},
   "outputs": [
    {
     "data": {
      "image/png": "[encoded data removed]",
      "text/plain": [
       "<Figure size 800x800 with 1 Axes>"
      ]
     },
     "metadata": {},
     "output_type": "display_data"
    }
   ],
   "source": [
    "# Resuelve aqui el ejercicio 2.5\n",
    "gender_counts = df['sex'].value_counts()\n",
    "\n",
    "plt.figure(figsize=(8, 8))\n",
    "plt.pie(gender_counts, labels=gender_counts.index, autopct='%1.1f%%', startangle=90, colors=sns.color_palette('pastel'))\n",
    "plt.title('Distribución por Género de los Pasajeros del Titanic')\n",
    "plt.show()"
   ]
  },
  {
   "cell_type": "markdown",
   "metadata": {},
   "source": [
    "## Ejercicio 3"
   ]
  },
  {
   "cell_type": "markdown",
   "metadata": {},
   "source": [
    "#### Ejercicio 3.1\n",
    "Separa el dataset en dos variables, 'x' e 'y'.\n",
    " - La variable 'x' debe incluir las columnas 'depth', 'table', 'price', 'x', 'y' y 'z'.\n",
    " - La variable 'y' debe incluir la columna 'carat'."
   ]
  },
  {
   "cell_type": "code",
   "execution_count": 8,
   "metadata": {},
   "outputs": [
    {
     "name": "stdout",
     "output_type": "stream",
     "text": [
      "Variables predictoras (x_diamantes) - Primeras 5 filas:\n",
      "   depth  table  price     x     y     z\n",
      "0   61.5   55.0    326  3.95  3.98  2.43\n",
      "1   59.8   61.0    326  3.89  3.84  2.31\n",
      "2   56.9   65.0    327  4.05  4.07  2.31\n",
      "3   62.4   58.0    334  4.20  4.23  2.63\n",
      "4   63.3   58.0    335  4.34  4.35  2.75\n",
      "\n",
      "Variable objetivo (y_diamantes) - Primeras 5 filas:\n",
      "0    0.23\n",
      "1    0.21\n",
      "2    0.23\n",
      "3    0.29\n",
      "4    0.31\n",
      "Name: carat, dtype: float64\n"
     ]
    }
   ],
   "source": [
    "# Carga el dataset \"diamonds\" de seaborn\n",
    "diamantes = sns.load_dataset(\"diamonds\")\n",
    "diamantes.head()\n",
    "\n",
    "# Resuelve aqui el ejercicio 3.1\n",
    "feature_cols_d = ['depth', 'table', 'price', 'x', 'y', 'z']\n",
    "target_col_d = 'carat'\n",
    "\n",
    "x_diamantes = diamantes[feature_cols_d]\n",
    "y_diamantes = diamantes[target_col_d]\n",
    "\n",
    "print(\"Variables predictoras (x_diamantes) - Primeras 5 filas:\")\n",
    "print(x_diamantes.head())\n",
    "print(\"\\nVariable objetivo (y_diamantes) - Primeras 5 filas:\")\n",
    "print(y_diamantes.head())"
   ]
  },
  {
   "cell_type": "markdown",
   "metadata": {},
   "source": [
    "#### Ejercicio 3.2\n",
    "Separa el dataset provisto en conjunto de entrenamiento y de test, dando un 40% de los datos al conjunto de test"
   ]
  },
  {
   "cell_type": "code",
   "execution_count": 9,
   "metadata": {},
   "outputs": [
    {
     "name": "stdout",
     "output_type": "stream",
     "text": [
      "Tamaño de x_train_d: (32364, 6)\n",
      "Tamaño de x_test_d: (21576, 6)\n",
      "Tamaño de y_train_d: (32364,)\n",
      "Tamaño de y_test_d: (21576,)\n"
     ]
    }
   ],
   "source": [
    "# Resuelve aqui el ejercicio 3.2\n",
    "x_train_d, x_test_d, y_train_d, y_test_d = train_test_split(\n",
    "    x_diamantes, y_diamantes, test_size=0.4, random_state=42\n",
    ")\n",
    "\n",
    "print(f\"Tamaño de x_train_d: {x_train_d.shape}\")\n",
    "print(f\"Tamaño de x_test_d: {x_test_d.shape}\")\n",
    "print(f\"Tamaño de y_train_d: {y_train_d.shape}\")\n",
    "print(f\"Tamaño de y_test_d: {y_test_d.shape}\")"
   ]
  },
  {
   "cell_type": "markdown",
   "metadata": {},
   "source": [
    "#### Ejercicio 3.3\n",
    "Crea un modelo de regresión lineal y entrenalo con los conjuntos de datos separados en el ejercicio anterior. La variable objetivo corresponde a la columna 'carat'"
   ]
  },
  {
   "cell_type": "code",
   "execution_count": 10,
   "metadata": {},
   "outputs": [
    {
     "name": "stdout",
     "output_type": "stream",
     "text": [
      "Modelo de Regresión Lineal entrenado.\n",
      "Coeficientes: [1.83553628e-02 4.37885137e-03 3.24803939e-05 3.00417037e-01\n",
      " 8.60095293e-03 7.48562691e-04]\n",
      "Intercepto: -2.4886874780397314\n"
     ]
    }
   ],
   "source": [
    "# Resuelve aqui el ejercicio 3.3\n",
    "model_lr = LinearRegression()\n",
    "model_lr.fit(x_train_d, y_train_d)\n",
    "\n",
    "print(\"Modelo de Regresión Lineal entrenado.\")\n",
    "print(f\"Coeficientes: {model_lr.coef_}\")\n",
    "print(f\"Intercepto: {model_lr.intercept_}\")"
   ]
  },
  {
   "cell_type": "markdown",
   "metadata": {},
   "source": [
    "#### Ejercicio 3.4\n",
    "Utiliza el modelo entrenado en el apartado anterior para predecir los valores de la columna 'carat'"
   ]
  },
  {
   "cell_type": "code",
   "execution_count": 11,
   "metadata": {},
   "outputs": [
    {
     "name": "stdout",
     "output_type": "stream",
     "text": [
      "Predicciones para 'carat' en el conjunto de test (primeras 5 predicciones):\n",
      "[0.14346117 0.61704432 0.40518998 0.44160874 1.4217783 ]\n"
     ]
    }
   ],
   "source": [
    "# Resuelve aqui el ejercicio 3.4 (originalmente mal numerado como 3.3)\n",
    "y_pred_d = model_lr.predict(x_test_d)\n",
    "\n",
    "print(\"Predicciones para 'carat' en el conjunto de test (primeras 5 predicciones):\")\n",
    "print(y_pred_d[:5])"
   ]
  },
  {
   "cell_type": "markdown",
   "metadata": {},
   "source": [
    "### Ejercicio 4"
   ]
  },
  {
   "cell_type": "markdown",
   "metadata": {},
   "source": [
    "#### Ejercicio 4.1\n",
    "Muestra un resumen estadístico de los datos numéricos del dataset provisto"
   ]
  },
  {
   "cell_type": "code",
   "execution_count": 12,
   "metadata": {},
   "outputs": [
    {
     "name": "stdout",
     "output_type": "stream",
     "text": [
      "Resumen estadístico de las características del dataset Breast Cancer (X_bc):\n",
      "       mean radius  mean texture  mean perimeter    mean area  \\\n",
      "count   569.000000    569.000000      569.000000   569.000000   \n",
      "mean     14.127292     19.289649       91.969033   654.889104   \n",
      "std       3.524049      4.301036       24.298981   351.914129   \n",
      "min       6.981000      9.710000       43.790000   143.500000   \n",
      "25%      11.700000     16.170000       75.170000   420.300000   \n",
      "50%      13.370000     18.840000       86.240000   551.100000   \n",
      "75%      15.780000     21.800000      104.100000   782.700000   \n",
      "max      28.110000     39.280000      188.500000  2501.000000   \n",
      "\n",
      "       mean smoothness  mean compactness  mean concavity  mean concave points  \\\n",
      "count       569.000000        569.000000      569.000000           569.000000   \n",
      "mean          0.096360          0.104341        0.088799             0.048919   \n",
      "std           0.014064          0.052813        0.079720             0.038803   \n",
      "min           0.052630          0.019380        0.000000             0.000000   \n",
      "25%           0.086370          0.064920        0.029560             0.020310   \n",
      "50%           0.095870          0.092630        0.061540             0.033500   \n",
      "75%           0.105300          0.130400        0.130700             0.074000   \n",
      "max           0.163400          0.345400        0.426800             0.201200   \n",
      "\n",
      "       mean symmetry  mean fractal dimension  ...  worst radius  \\\n",
      "count     569.000000              569.000000  ...    569.000000   \n",
      "mean        0.181162                0.062798  ...     16.269190   \n",
      "std         0.027414                0.007060  ...      4.833242   \n",
      "min         0.106000                0.049960  ...      7.930000   \n",
      "25%         0.161900                0.057700  ...     13.010000   \n",
      "50%         0.179200                0.061540  ...     14.970000   \n",
      "75%         0.195700                0.066120  ...     18.790000   \n",
      "max         0.304000                0.097440  ...     36.040000   \n",
      "\n",
      "       worst texture  worst perimeter   worst area  worst smoothness  \\\n",
      "count     569.000000       569.000000   569.000000        569.000000   \n",
      "mean       25.677223       107.261213   880.583128          0.132369   \n",
      "std         6.146258        33.602542   569.356993          0.022832   \n",
      "min        12.020000        50.410000   185.200000          0.071170   \n",
      "25%        21.080000        84.110000   515.300000          0.116600   \n",
      "50%        25.410000        97.660000   686.500000          0.131300   \n",
      "75%        29.720000       125.400000  1084.000000          0.146000   \n",
      "max        49.540000       251.200000  4254.000000          0.222600   \n",
      "\n",
      "       worst compactness  worst concavity  worst concave points  \\\n",
      "count         569.000000       569.000000            569.000000   \n",
      "mean            0.254265         0.272188              0.114606   \n",
      "std             0.157336         0.208624              0.065732   \n",
      "min             0.027290         0.000000              0.000000   \n",
      "25%             0.147200         0.114500              0.064930   \n",
      "50%             0.211900         0.226700              0.099930   \n",
      "75%             0.339100         0.382900              0.161400   \n",
      "max             1.058000         1.252000              0.291000   \n",
      "\n",
      "       worst symmetry  worst fractal dimension  \n",
      "count      569.000000               569.000000  \n",
      "mean         0.290076                 0.083946  \n",
      "std          0.061867                 0.018061  \n",
      "min          0.156500                 0.055040  \n",
      "25%          0.250400                 0.071460  \n",
      "50%          0.282200                 0.080040  \n",
      "75%          0.317900                 0.092080  \n",
      "max          0.663800                 0.207500  \n",
      "\n",
      "[8 rows x 30 columns]\n"
     ]
    }
   ],
   "source": [
    "data_bc = load_breast_cancer()\n",
    "X_bc = pd.DataFrame(data_bc.data, columns=data_bc.feature_names)\n",
    "y_bc = pd.Series(data_bc.target)\n",
    "\n",
    "# ALTERNATIVA CON OTRO DATASET \n",
    "# Cargar el dataset \"titanic\" de seaborn\n",
    "# df = sns.load_dataset(\"titanic\")\n",
    "\n",
    "# Resuelve aqui el ejercicio 4.1\n",
    "print(\"Resumen estadístico de las características del dataset Breast Cancer (X_bc):\")\n",
    "print(X_bc.describe())"
   ]
  },
  {
   "cell_type": "markdown",
   "metadata": {},
   "source": [
    "#### Ejercicio 4.2\n",
    "Separa el dataset provisto en conjunto de entrenamiento y de test, dando un 40% de los datos al conjunto de test"
   ]
  },
  {
   "cell_type": "code",
   "execution_count": 13,
   "metadata": {},
   "outputs": [
    {
     "name": "stdout",
     "output_type": "stream",
     "text": [
      "Tamaño de x_train_bc: (341, 30)\n",
      "Tamaño de x_test_bc: (228, 30)\n",
      "Tamaño de y_train_bc: (341,)\n",
      "Tamaño de y_test_bc: (228,)\n"
     ]
    }
   ],
   "source": [
    "# Resuelve aqui el ejercicio 4.2\n",
    "x_train_bc, x_test_bc, y_train_bc, y_test_bc = train_test_split(\n",
    "    X_bc, y_bc, test_size=0.4, random_state=42, stratify=y_bc \n",
    ")\n",
    "\n",
    "print(f\"Tamaño de x_train_bc: {x_train_bc.shape}\")\n",
    "print(f\"Tamaño de x_test_bc: {x_test_bc.shape}\")\n",
    "print(f\"Tamaño de y_train_bc: {y_train_bc.shape}\")\n",
    "print(f\"Tamaño de y_test_bc: {y_test_bc.shape}\")"
   ]
  },
  {
   "cell_type": "markdown",
   "metadata": {},
   "source": [
    "#### Ejercicio 4.3\n",
    "Crea un modelo de regresión logística y entrenalo con los conjuntos de datos separados en el ejercicio anterior. "
   ]
  },
  {
   "cell_type": "code",
   "execution_count": 14,
   "metadata": {},
   "outputs": [
    {
     "name": "stdout",
     "output_type": "stream",
     "text": [
      "Modelo de Regresión Logística entrenado.\n"
     ]
    }
   ],
   "source": [
    "# Resuelve aqui el ejercicio 4.3\n",
    "model_logreg = LogisticRegression(solver='lbfgs', max_iter=3000, random_state=42) # Aumentado max_iter por si acaso\n",
    "model_logreg.fit(x_train_bc, y_train_bc)\n",
    "\n",
    "print(\"Modelo de Regresión Logística entrenado.\")"
   ]
  },
  {
   "cell_type": "markdown",
   "metadata": {},
   "source": [
    "#### Ejercicio 4.4\n",
    "Utiliza el modelo entrenado en el apartado anterior para predecir los valores de la variable objetivo. "
   ]
  },
  {
   "cell_type": "code",
   "execution_count": 15,
   "metadata": {},
   "outputs": [
    {
     "name": "stdout",
     "output_type": "stream",
     "text": [
      "Predicciones de la variable objetivo en el conjunto de test (primeras 5 predicciones):\n",
      "[1 1 1 1 1]\n",
      "\n",
      "Precisión del modelo de Regresión Logística: 0.9561\n"
     ]
    }
   ],
   "source": [
    "# Resuelve aqui el ejercicio 4.4\n",
    "y_pred_bc = model_logreg.predict(x_test_bc)\n",
    "\n",
    "print(\"Predicciones de la variable objetivo en el conjunto de test (primeras 5 predicciones):\")\n",
    "print(y_pred_bc[:5])\n",
    "\n",
    "accuracy_bc = accuracy_score(y_test_bc, y_pred_bc)\n",
    "print(f\"\\nPrecisión del modelo de Regresión Logística: {accuracy_bc:.4f}\")"
   ]
  },
  {
   "cell_type": "markdown",
   "metadata": {},
   "source": [
    "### Ejercicio 5"
   ]
  },
  {
   "cell_type": "markdown",
   "metadata": {},
   "source": [
    "#### Ejercicio 5.1\n",
    "Muestra los primeros registros del siguiente conjunto de datos"
   ]
  },
  {
   "cell_type": "code",
   "execution_count": 16,
   "metadata": {},
   "outputs": [
    {
     "name": "stdout",
     "output_type": "stream",
     "text": [
      "Primeros registros del dataset Penguins:\n",
      "  species     island  bill_length_mm  bill_depth_mm  flipper_length_mm  \\\n",
      "0  Adelie  Torgersen            39.1           18.7              181.0   \n",
      "1  Adelie  Torgersen            39.5           17.4              186.0   \n",
      "2  Adelie  Torgersen            40.3           18.0              195.0   \n",
      "3  Adelie  Torgersen             NaN            NaN                NaN   \n",
      "4  Adelie  Torgersen            36.7           19.3              193.0   \n",
      "\n",
      "   body_mass_g     sex  \n",
      "0       3750.0    Male  \n",
      "1       3800.0  Female  \n",
      "2       3250.0  Female  \n",
      "3          NaN     NaN  \n",
      "4       3450.0  Female  \n"
     ]
    }
   ],
   "source": [
    "df_penguins = sns.load_dataset(\"penguins\")\n",
    "# Resuelve aqui el ejercicio 5.1\n",
    "print(\"Primeros registros del dataset Penguins:\")\n",
    "print(df_penguins.head())"
   ]
  },
  {
   "cell_type": "markdown",
   "metadata": {},
   "source": [
    "#### Ejercicio 5.2\n",
    "Separa el dataset provisto en conjunto de entrenamiento y de test, dando un 40% de los datos al conjunto de test. La variable objetivo corresponde a la columna \"species\""
   ]
  },
  {
   "cell_type": "code",
   "execution_count": 17,
   "metadata": {},
   "outputs": [
    {
     "name": "stdout",
     "output_type": "stream",
     "text": [
      "Tamaño de x_train_p: (199, 7)\n",
      "Tamaño de x_test_p: (134, 7)\n",
      "Tamaño de y_train_p: (199,)\n",
      "Tamaño de y_test_p: (134,)\n",
      "\n",
      "Primeras filas de X_p (características procesadas):\n",
      "   bill_length_mm  bill_depth_mm  flipper_length_mm  body_mass_g  \\\n",
      "0            39.1           18.7              181.0       3750.0   \n",
      "1            39.5           17.4              186.0       3800.0   \n",
      "2            40.3           18.0              195.0       3250.0   \n",
      "4            36.7           19.3              193.0       3450.0   \n",
      "5            39.3           20.6              190.0       3650.0   \n",
      "\n",
      "   island_Dream  island_Torgersen  sex_Male  \n",
      "0         False              True      True  \n",
      "1         False              True     False  \n",
      "2         False              True     False  \n",
      "4         False              True     False  \n",
      "5         False              True      True  \n"
     ]
    }
   ],
   "source": [
    "# Resuelve aquí el ejericio 5.2\n",
    "df_penguins_clean = df_penguins.dropna()\n",
    "\n",
    "X_p = df_penguins_clean.drop(\"species\", axis=1)\n",
    "y_p = df_penguins_clean[\"species\"]\n",
    "\n",
    "X_p = pd.get_dummies(X_p, columns=['island', 'sex'], drop_first=True)\n",
    "\n",
    "x_train_p, x_test_p, y_train_p, y_test_p = train_test_split(\n",
    "    X_p, y_p, test_size=0.4, random_state=42, stratify=y_p\n",
    ")\n",
    "\n",
    "print(f\"Tamaño de x_train_p: {x_train_p.shape}\")\n",
    "print(f\"Tamaño de x_test_p: {x_test_p.shape}\")\n",
    "print(f\"Tamaño de y_train_p: {y_train_p.shape}\")\n",
    "print(f\"Tamaño de y_test_p: {y_test_p.shape}\")\n",
    "print(\"\\nPrimeras filas de X_p (características procesadas):\")\n",
    "print(X_p.head())"
   ]
  },
  {
   "cell_type": "markdown",
   "metadata": {},
   "source": [
    "#### Ejercicio 5.3\n",
    "Elige un modelo de clasificación entre los siguientes: \n",
    " - Decision tree (Árbol de decisión)\n",
    " - Random forest\n",
    " - SVM (Support Vector Machine)\n",
    " \n",
    "Entrenalo con los conjuntos de datos separados en el ejercicio anterior. "
   ]
  },
  {
   "cell_type": "code",
   "execution_count": 18,
   "metadata": {},
   "outputs": [
    {
     "name": "stdout",
     "output_type": "stream",
     "text": [
      "Modelo Random Forest entrenado.\n"
     ]
    }
   ],
   "source": [
    "# Resuelve aquí el ejericio 5.3\n",
    "# Elegimos Random Forest\n",
    "model_rf = RandomForestClassifier(random_state=42)\n",
    "model_rf.fit(x_train_p, y_train_p)\n",
    "\n",
    "print(\"Modelo Random Forest entrenado.\")"
   ]
  },
  {
   "cell_type": "markdown",
   "metadata": {},
   "source": [
    "#### Ejercicio 5.4\n",
    "Utiliza el modelo entrenado en el apartado anterior para predecir los valores de la variable objetivo. "
   ]
  },
  {
   "cell_type": "code",
   "execution_count": 19,
   "metadata": {},
   "outputs": [
    {
     "name": "stdout",
     "output_type": "stream",
     "text": [
      "Predicciones de 'species' en el conjunto de test (primeras 5 predicciones):\n",
      "['Chinstrap' 'Chinstrap' 'Adelie' 'Adelie' 'Gentoo']\n",
      "\n",
      "Precisión del modelo Random Forest: 0.9925\n"
     ]
    },
    {
     "data": {
      "image/png": "[encoded data removed]",
      "text/plain": [
       "<Figure size 640x480 with 2 Axes>"
      ]
     },
     "metadata": {},
     "output_type": "display_data"
    }
   ],
   "source": [
    "# Resuelve aquí el ejericio 5.4\n",
    "y_pred_p = model_rf.predict(x_test_p)\n",
    "\n",
    "print(\"Predicciones de 'species' en el conjunto de test (primeras 5 predicciones):\")\n",
    "print(y_pred_p[:5])\n",
    "\n",
    "accuracy_p = accuracy_score(y_test_p, y_pred_p)\n",
    "print(f\"\\nPrecisión del modelo Random Forest: {accuracy_p:.4f}\")\n",
    "\n",
    "cm_p = confusion_matrix(y_test_p, y_pred_p, labels=model_rf.classes_)\n",
    "disp_p = ConfusionMatrixDisplay(confusion_matrix=cm_p, display_labels=model_rf.classes_)\n",
    "disp_p.plot()\n",
    "plt.title(\"Matriz de Confusión - Penguins Species\")\n",
    "plt.show()"
   ]
  },
  {
   "cell_type": "markdown",
   "metadata": {},
   "source": [
    "### Ejercicio 6"
   ]
  },
  {
   "cell_type": "markdown",
   "metadata": {},
   "source": [
    "#### Ejercicio 6.1\n",
    "Muestra un resumen estadístico de los datos numéricos del dataset provisto"
   ]
  },
  {
   "cell_type": "code",
   "execution_count": 20,
   "metadata": {},
   "outputs": [
    {
     "name": "stdout",
     "output_type": "stream",
     "text": [
      "Resumen estadístico de los datos numéricos del dataset Abalone (sin 'Sex'):\n",
      "            Length     Diameter       Height  Whole weight  Shucked weight  \\\n",
      "count  4177.000000  4177.000000  4177.000000   4177.000000     4177.000000   \n",
      "mean      0.523992     0.407881     0.139516      0.828742        0.359367   \n",
      "std       0.120093     0.099240     0.041827      0.490389        0.221963   \n",
      "min       0.075000     0.055000     0.000000      0.002000        0.001000   \n",
      "25%       0.450000     0.350000     0.115000      0.441500        0.186000   \n",
      "50%       0.545000     0.425000     0.140000      0.799500        0.336000   \n",
      "75%       0.615000     0.480000     0.165000      1.153000        0.502000   \n",
      "max       0.815000     0.650000     1.130000      2.825500        1.488000   \n",
      "\n",
      "       Viscera weight  Shell weight        Rings  \n",
      "count     4177.000000   4177.000000  4177.000000  \n",
      "mean         0.180594      0.238831     9.933684  \n",
      "std          0.109614      0.139203     3.224169  \n",
      "min          0.000500      0.001500     1.000000  \n",
      "25%          0.093500      0.130000     8.000000  \n",
      "50%          0.171000      0.234000     9.000000  \n",
      "75%          0.253000      0.329000    11.000000  \n",
      "max          0.760000      1.005000    29.000000  \n"
     ]
    }
   ],
   "source": [
    "url = (\"https://archive.ics.uci.edu/ml/machine-learning-databases/abalone/abalone.data\")\n",
    "df_abalone_temp = pd.read_csv(url, header=None)\n",
    "df_abalone_temp.columns = [\n",
    "   \"Sex\",\n",
    "    \"Length\",\n",
    "    \"Diameter\",\n",
    "    \"Height\",\n",
    "    \"Whole weight\",\n",
    "    \"Shucked weight\",\n",
    "    \"Viscera weight\",\n",
    "    \"Shell weight\",\n",
    "    \"Rings\",\n",
    "]\n",
    "df_abalone = df_abalone_temp.drop(\"Sex\", axis=1) # df_abalone es el que no tiene 'Sex'\n",
    "\n",
    "# Resuelve aqui el ejercicio 6.1\n",
    "print(\"Resumen estadístico de los datos numéricos del dataset Abalone (sin 'Sex'):\")\n",
    "print(df_abalone.describe())"
   ]
  },
  {
   "cell_type": "markdown",
   "metadata": {},
   "source": [
    "#### Ejercicio 6.2\n",
    "Separa el conjunto de datos en variables 'x' e 'y', donde la 'y' corresponde a la variable objetivo 'Sex'."
   ]
  },
  {
   "cell_type": "code",
   "execution_count": 21,
   "metadata": {},
   "outputs": [
    {
     "name": "stdout",
     "output_type": "stream",
     "text": [
      "Variables predictoras (X_abalone) - Primeras 5 filas:\n",
      "   Length  Diameter  Height  Whole weight  Shucked weight  Viscera weight  \\\n",
      "0   0.455     0.365   0.095        0.5140          0.2245          0.1010   \n",
      "1   0.350     0.265   0.090        0.2255          0.0995          0.0485   \n",
      "2   0.530     0.420   0.135        0.6770          0.2565          0.1415   \n",
      "3   0.440     0.365   0.125        0.5160          0.2155          0.1140   \n",
      "4   0.330     0.255   0.080        0.2050          0.0895          0.0395   \n",
      "\n",
      "   Shell weight  Rings  \n",
      "0         0.150     15  \n",
      "1         0.070      7  \n",
      "2         0.210      9  \n",
      "3         0.155     10  \n",
      "4         0.055      7  \n",
      "\n",
      "Variable objetivo (y_abalone - 'Sex') - Primeras 5 filas:\n",
      "0    M\n",
      "1    M\n",
      "2    F\n",
      "3    M\n",
      "4    I\n",
      "Name: Sex, dtype: object\n"
     ]
    }
   ],
   "source": [
    "# Resuelve aqui el ejercicio 6.2\n",
    "# Usamos df_abalone_temp que contiene la columna 'Sex'\n",
    "X_abalone = df_abalone_temp.drop(\"Sex\", axis=1)\n",
    "y_abalone = df_abalone_temp[\"Sex\"]\n",
    "\n",
    "print(\"Variables predictoras (X_abalone) - Primeras 5 filas:\")\n",
    "print(X_abalone.head())\n",
    "print(\"\\nVariable objetivo (y_abalone - 'Sex') - Primeras 5 filas:\")\n",
    "print(y_abalone.head())"
   ]
  },
  {
   "cell_type": "markdown",
   "metadata": {},
   "source": [
    "#### Ejercicio 6.3\n",
    "Separa el dataset provisto en conjunto de entrenamiento y de test, dando un 40% de los datos al conjunto de test. "
   ]
  },
  {
   "cell_type": "code",
   "execution_count": 22,
   "metadata": {},
   "outputs": [
    {
     "name": "stdout",
     "output_type": "stream",
     "text": [
      "Tamaño de x_train_ab: (2506, 8)\n",
      "Tamaño de x_test_ab: (1671, 8)\n",
      "Tamaño de y_train_ab: (2506,)\n",
      "Tamaño de y_test_ab: (1671,)\n"
     ]
    }
   ],
   "source": [
    "# Resuelve aquí el ejercicio 6.3\n",
    "x_train_ab, x_test_ab, y_train_ab, y_test_ab = train_test_split(\n",
    "    X_abalone, y_abalone, test_size=0.4, random_state=42, stratify=y_abalone\n",
    ")\n",
    "\n",
    "print(f\"Tamaño de x_train_ab: {x_train_ab.shape}\")\n",
    "print(f\"Tamaño de x_test_ab: {x_test_ab.shape}\")\n",
    "print(f\"Tamaño de y_train_ab: {y_train_ab.shape}\")\n",
    "print(f\"Tamaño de y_test_ab: {y_test_ab.shape}\")"
   ]
  },
  {
   "cell_type": "markdown",
   "metadata": {},
   "source": [
    "#### Ejercicio 6.4\n",
    "Crea un modelo de regresión logística y entrenalo con los conjuntos de datos separados en el ejercicio anterior. Utiliza el valor 3 para el parámetro 'n_neighbors'"
   ]
  },
  {
   "cell_type": "code",
   "execution_count": 23,
   "metadata": {},
   "outputs": [
    {
     "name": "stdout",
     "output_type": "stream",
     "text": [
      "Modelo K-Nearest Neighbors (KNN) entrenado con n_neighbors=3.\n"
     ]
    }
   ],
   "source": [
    "# Resuelve aquí el ejercicio 6.4\n",
    "# El enunciado dice \"regresión logística\" pero pide 'n_neighbors=3', que es de KNN.\n",
    "# Se asumirá que se pide un KNN.\n",
    "model_knn = KNeighborsClassifier(n_neighbors=3)\n",
    "model_knn.fit(x_train_ab, y_train_ab)\n",
    "\n",
    "print(\"Modelo K-Nearest Neighbors (KNN) entrenado con n_neighbors=3.\")"
   ]
  },
  {
   "cell_type": "markdown",
   "metadata": {},
   "source": [
    "#### Ejercicio 6.5\n",
    "Muestra la matriz de confusión resultante para la salida del ejercicio anterior"
   ]
  },
  {
   "cell_type": "code",
   "execution_count": 24,
   "metadata": {},
   "outputs": [
    {
     "name": "stdout",
     "output_type": "stream",
     "text": [
      "Predicciones de 'Sex' en el conjunto de test (primeras 5 predicciones):\n",
      "['M' 'I' 'I' 'I' 'M']\n",
      "\n",
      "Matriz de Confusión - Abalone Sex Prediction (KNN):\n"
     ]
    },
    {
     "data": {
      "image/png": "[encoded data removed]",
      "text/plain": [
       "<Figure size 640x480 with 2 Axes>"
      ]
     },
     "metadata": {},
     "output_type": "display_data"
    }
   ],
   "source": [
    "# Resuelve aquí el ejercicio 6.5\n",
    "y_pred_ab = model_knn.predict(x_test_ab)\n",
    "\n",
    "print(\"Predicciones de 'Sex' en el conjunto de test (primeras 5 predicciones):\")\n",
    "print(y_pred_ab[:5])\n",
    "\n",
    "cm_ab = confusion_matrix(y_test_ab, y_pred_ab, labels=model_knn.classes_)\n",
    "disp_ab = ConfusionMatrixDisplay(confusion_matrix=cm_ab, display_labels=model_knn.classes_)\n",
    "\n",
    "print(\"\\nMatriz de Confusión - Abalone Sex Prediction (KNN):\")\n",
    "disp_ab.plot()\n",
    "plt.show()"
   ]
  }
 ],
 "metadata": {
  "kernelspec": {
   "display_name": "Python 3 (ipykernel)",
   "language": "python",
   "name": "python3"
  },
  "language_info": {
   "codemirror_mode": {
    "name": "ipython",
    "version": 3
   },
   "file_extension": ".py",
   "mimetype": "text/x-python",
   "name": "python",
   "nbconvert_exporter": "python",
   "pygments_lexer": "ipython3",
   "version": "3.12.7"
  }
 },
 "nbformat": 4,
 "nbformat_minor": 4
}
