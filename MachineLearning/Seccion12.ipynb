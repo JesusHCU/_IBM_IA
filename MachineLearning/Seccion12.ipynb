{
 "cells": [
  {
   "cell_type": "code",
   "execution_count": 2,
   "id": "ef72b3a2-7528-41d6-bc5a-ed9fa8abfdde",
   "metadata": {},
   "outputs": [
    {
     "data": {
      "text/plain": [
       "'C:\\\\Users\\\\roman\\\\Cursos\\\\IBM IA\\\\Sesiónes\\\\ML'"
      ]
     },
     "execution_count": 2,
     "metadata": {},
     "output_type": "execute_result"
    }
   ],
   "source": [
    "pwd"
   ]
  },
  {
   "cell_type": "code",
   "execution_count": 6,
   "id": "2ea554da-0f47-4d2d-a872-80713544d245",
   "metadata": {},
   "outputs": [
    {
     "name": "stdout",
     "output_type": "stream",
     "text": [
      " El volumen de la unidad C no tiene etiqueta.\n",
      " El n£mero de serie del volumen es: F29B-042F\n",
      "\n",
      " Directorio de C:\\Users\\roman\\Cursos\\IBM IA\\Sesi¢nes\\ML\n",
      "\n",
      "16/11/2024  13:14    <DIR>          .\n",
      "10/11/2024  01:31    <DIR>          ..\n",
      "16/11/2024  12:26    <DIR>          .ipynb_checkpoints\n",
      "02/11/2024  14:49    <DIR>          Material10\n",
      "02/11/2024  16:07    <DIR>          Material11\n",
      "02/11/2024  22:12    <DIR>          Material12\n",
      "09/11/2024  18:37    <DIR>          Material13\n",
      "03/11/2024  16:01    <DIR>          Material18\n",
      "09/11/2024  18:37    <DIR>          Material3\n",
      "16/11/2024  13:13           177.217 modelo_rf.pkl\n",
      "06/11/2024  14:35           298.484 Seccion10.ipynb\n",
      "02/11/2024  20:41           686.673 Seccion11.ipynb\n",
      "03/11/2024  00:35            96.450 Seccion12.ipynb\n",
      "03/11/2024  01:11            30.042 Seccion14.ipynb\n",
      "03/11/2024  14:27           585.312 seccion15.ipynb\n",
      "03/11/2024  15:12           391.628 Seccion16.ipynb\n",
      "16/11/2024  13:14             6.097 Seccion17.ipynb\n",
      "05/11/2024  19:30           653.998 Seccion18.ipynb\n",
      "31/10/2024  17:18            28.303 Seccion3.ipynb\n",
      "31/10/2024  17:28            47.879 Seccion4.ipynb\n",
      "31/10/2024  17:53           642.468 Seccion5.ipynb\n",
      "31/10/2024  17:04           530.860 Seccion6.ipynb\n",
      "01/11/2024  21:04         5.449.818 Seccion7.ipynb\n",
      "04/11/2024  21:37         1.494.866 Seccion8.ipynb\n",
      "02/11/2024  13:52            48.377 Seccion9.ipynb\n",
      "              16 archivos     11.168.472 bytes\n",
      "               9 dirs  366.187.048.960 bytes libres\n"
     ]
    }
   ],
   "source": [
    "ls"
   ]
  },
  {
   "cell_type": "code",
   "execution_count": 8,
   "id": "2fb5b665-5357-42e2-a71d-cdba7b4b4629",
   "metadata": {},
   "outputs": [
    {
     "name": "stdout",
     "output_type": "stream",
     "text": [
      "C:\\Users\\roman\\Cursos\\IBM IA\\Sesiónes\\ML\\Material12\n"
     ]
    }
   ],
   "source": [
    "cd Material12"
   ]
  },
  {
   "cell_type": "code",
   "execution_count": 10,
   "id": "fe6c307c-6aa5-4b59-95e5-aee4051e01b4",
   "metadata": {},
   "outputs": [
    {
     "name": "stdout",
     "output_type": "stream",
     "text": [
      " El volumen de la unidad C no tiene etiqueta.\n",
      " El n£mero de serie del volumen es: F29B-042F\n",
      "\n",
      " Directorio de C:\\Users\\roman\\Cursos\\IBM IA\\Sesi¢nes\\ML\\Material12\n",
      "\n",
      "02/11/2024  22:12    <DIR>          .\n",
      "16/11/2024  13:14    <DIR>          ..\n",
      "02/11/2024  21:58             4.551 bezdekIris.data\n",
      "02/11/2024  21:58               105 Index\n",
      "02/11/2024  22:12             5.107 Iris.csv\n",
      "02/11/2024  21:58             4.551 iris.data\n",
      "02/11/2024  21:58             2.998 iris.names\n",
      "02/11/2024  20:25            86.768 vehiculos.csv\n",
      "               6 archivos        104.080 bytes\n",
      "               2 dirs  366.186.917.888 bytes libres\n"
     ]
    }
   ],
   "source": [
    "ls"
   ]
  },
  {
   "cell_type": "code",
   "execution_count": null,
   "id": "5c7c1fb6-91dc-4c9b-9f1a-690385b93b6e",
   "metadata": {},
   "outputs": [],
   "source": []
  },
  {
   "cell_type": "code",
   "execution_count": 13,
   "id": "a98e8024-5109-4219-b686-4bff52b99808",
   "metadata": {},
   "outputs": [
    {
     "name": "stdout",
     "output_type": "stream",
     "text": [
      "   compactness  circularity  distance_circularity  radius_ratio  \\\n",
      "0         95.0         48.0                  83.0         178.0   \n",
      "1         91.0         41.0                  84.0         141.0   \n",
      "2        104.0         50.0                 106.0         209.0   \n",
      "3         93.0         41.0                  82.0         159.0   \n",
      "4         85.0         44.0                  70.0         205.0   \n",
      "\n",
      "   pr_axis_aspect_ratio  max_length_aspect_ratio  scatter_ratio  \\\n",
      "0                  72.0                     10.0          162.0   \n",
      "1                  57.0                      9.0          149.0   \n",
      "2                  66.0                     10.0          207.0   \n",
      "3                  63.0                      9.0          144.0   \n",
      "4                 103.0                     52.0          149.0   \n",
      "\n",
      "   elongatedness  pr_axis_rectangularity  max_length_rectangularity  \\\n",
      "0           42.0                    20.0                      159.0   \n",
      "1           45.0                    19.0                      143.0   \n",
      "2           32.0                    23.0                      158.0   \n",
      "3           46.0                    19.0                      143.0   \n",
      "4           45.0                    19.0                      144.0   \n",
      "\n",
      "   scaled_variance_major_axis  scaled_variance_minor_axis  \\\n",
      "0                       176.0                       379.0   \n",
      "1                       170.0                       330.0   \n",
      "2                       223.0                       635.0   \n",
      "3                       160.0                       309.0   \n",
      "4                       241.0                       325.0   \n",
      "\n",
      "   scaled_radius_gyration  skewness_major_axis  skewness_minor_axis  \\\n",
      "0                   184.0                 70.0                  6.0   \n",
      "1                   158.0                 72.0                  9.0   \n",
      "2                   220.0                 73.0                 14.0   \n",
      "3                   127.0                 63.0                  6.0   \n",
      "4                   188.0                127.0                  9.0   \n",
      "\n",
      "   kurtosis_minor_axis  kurtosis_major_axis  hollows_ratio vehicle_class  \n",
      "0                 16.0                187.0          197.0           van  \n",
      "1                 14.0                189.0          199.0           van  \n",
      "2                  9.0                188.0          196.0          saab  \n",
      "3                 10.0                199.0          207.0           van  \n",
      "4                 11.0                180.0          183.0           bus  \n",
      "<class 'pandas.core.frame.DataFrame'>\n",
      "RangeIndex: 846 entries, 0 to 845\n",
      "Data columns (total 19 columns):\n",
      " #   Column                      Non-Null Count  Dtype  \n",
      "---  ------                      --------------  -----  \n",
      " 0   compactness                 846 non-null    float64\n",
      " 1   circularity                 846 non-null    float64\n",
      " 2   distance_circularity        846 non-null    float64\n",
      " 3   radius_ratio                846 non-null    float64\n",
      " 4   pr_axis_aspect_ratio        846 non-null    float64\n",
      " 5   max_length_aspect_ratio     846 non-null    float64\n",
      " 6   scatter_ratio               846 non-null    float64\n",
      " 7   elongatedness               846 non-null    float64\n",
      " 8   pr_axis_rectangularity      846 non-null    float64\n",
      " 9   max_length_rectangularity   846 non-null    float64\n",
      " 10  scaled_variance_major_axis  846 non-null    float64\n",
      " 11  scaled_variance_minor_axis  846 non-null    float64\n",
      " 12  scaled_radius_gyration      846 non-null    float64\n",
      " 13  skewness_major_axis         846 non-null    float64\n",
      " 14  skewness_minor_axis         846 non-null    float64\n",
      " 15  kurtosis_minor_axis         846 non-null    float64\n",
      " 16  kurtosis_major_axis         846 non-null    float64\n",
      " 17  hollows_ratio               846 non-null    float64\n",
      " 18  vehicle_class               846 non-null    object \n",
      "dtypes: float64(18), object(1)\n",
      "memory usage: 125.7+ KB\n",
      "None\n"
     ]
    }
   ],
   "source": [
    "# Importamos las bibliotecas necesarias para el análisis, visualización de datos y modelado\n",
    "import pandas as pd\n",
    "import numpy as np\n",
    "import matplotlib.pyplot as plt\n",
    "import seaborn as sns\n",
    "from sklearn.model_selection import train_test_split\n",
    "from sklearn.preprocessing import StandardScaler\n",
    "from sklearn.neighbors import KNeighborsClassifier\n",
    "from sklearn.metrics import classification_report, confusion_matrix\n",
    "\n",
    "# 1. Carga y Exploración Inicial de Datos\n",
    "# Supongamos que estamos trabajando con un conjunto de datos llamado \"data.csv\" que tiene variables independientes\n",
    "# y una columna 'Target' que representa la clase de cada muestra.\n",
    "\n",
    "# Cargamos el dataset\n",
    "datos = pd.read_csv(\"vehiculos.csv\")\n",
    "\n",
    "# Visualizamos las primeras filas del conjunto de datos\n",
    "print(datos.head())\n",
    "\n",
    "# Observamos información básica del dataset, incluyendo valores nulos y tipos de datos\n",
    "print(datos.info())\n"
   ]
  },
  {
   "cell_type": "code",
   "execution_count": 15,
   "id": "32a90c25-9676-4c65-8c8f-7df88b6d612f",
   "metadata": {},
   "outputs": [
    {
     "data": {
      "text/plain": [
       "array(['van', 'saab', 'bus', 'opel'], dtype=object)"
      ]
     },
     "execution_count": 15,
     "metadata": {},
     "output_type": "execute_result"
    }
   ],
   "source": [
    "datos[\"vehicle_class\"].unique()"
   ]
  },
  {
   "cell_type": "code",
   "execution_count": 17,
   "id": "4c91da8f-ac8d-4a41-b871-a7613b5b6a1a",
   "metadata": {},
   "outputs": [
    {
     "data": {
      "text/plain": [
       "Text(0.5, 1.0, 'Distribución de Clases en la Variable Objetivo')"
      ]
     },
     "execution_count": 17,
     "metadata": {},
     "output_type": "execute_result"
    },
    {
     "data": {
      "image/png": "[encoded data removed]",
      "text/plain": [
       "<Figure size 640x480 with 1 Axes>"
      ]
     },
     "metadata": {},
     "output_type": "display_data"
    }
   ],
   "source": [
    "# Analizamos la distribución de la variable objetivo 'Target' para ver el balance de clases\n",
    "sns.countplot(x=\"vehicle_class\", data=datos)\n",
    "plt.title(\"Distribución de Clases en la Variable Objetivo\")"
   ]
  },
  {
   "cell_type": "code",
   "execution_count": 19,
   "id": "234a70a7-2055-44fe-9bd6-e3f2faff7882",
   "metadata": {},
   "outputs": [],
   "source": [
    "# 2. Preprocesamiento de Datos\n",
    "# Separamos el dataset en las variables independientes (X) y la variable dependiente (y)\n",
    "X = datos.drop(\"vehicle_class\", axis=1)  # 'Target' es la columna objetivo\n",
    "y = datos[\"vehicle_class\"]\n",
    "\n",
    "# 3 Dividimos los datos en conjuntos de entrenamiento y prueba\n",
    "X_train, X_test, y_train, y_test = train_test_split(X, y, test_size=0.3, random_state=45)"
   ]
  },
  {
   "cell_type": "code",
   "execution_count": 21,
   "id": "02afacb5-98be-4fb7-aa1a-3a159c374b36",
   "metadata": {},
   "outputs": [
    {
     "name": "stdout",
     "output_type": "stream",
     "text": [
      "Reporte de Clasificación:\n",
      "              precision    recall  f1-score   support\n",
      "\n",
      "         bus       0.95      0.96      0.95        77\n",
      "        opel       0.50      0.38      0.43        65\n",
      "        saab       0.51      0.47      0.49        57\n",
      "         van       0.75      1.00      0.86        55\n",
      "\n",
      "    accuracy                           0.71       254\n",
      "   macro avg       0.68      0.70      0.68       254\n",
      "weighted avg       0.69      0.71      0.70       254\n",
      "\n",
      "Matriz de Confusión:\n",
      "[[74  0  0  3]\n",
      " [ 3 25 26 11]\n",
      " [ 1 25 27  4]\n",
      " [ 0  0  0 55]]\n"
     ]
    },
    {
     "data": {
      "image/png": "[encoded data removed]",
      "text/plain": [
       "<Figure size 1000x600 with 1 Axes>"
      ]
     },
     "metadata": {},
     "output_type": "display_data"
    }
   ],
   "source": [
    "# Escalamos las características (features) para que tengan media 0 y desviación estándar 1\n",
    "# Esto es importante para el k-NN porque se basa en distancias, y escalado asegura que cada variable contribuya de manera equitativa\n",
    "scaler = StandardScaler()\n",
    "X_train = scaler.fit_transform(X_train)  # Ajustamos y transformamos el conjunto de entrenamiento\n",
    "X_test = scaler.transform(X_test)        # Transformamos el conjunto de prueba\n",
    "\n",
    "# 4. Entrenamiento del Modelo de k-Vecinos Más Cercanos\n",
    "# Inicializamos el modelo con un número de vecinos (k) de ejemplo, por ejemplo, k=5\n",
    "# Se pueden probar diferentes valores de k para encontrar el que mejor ajuste tenga\n",
    "modelo_knn = KNeighborsClassifier(n_neighbors=5)\n",
    "\n",
    "# Entrenamos el modelo con los datos de entrenamiento\n",
    "modelo_knn.fit(X_train, y_train)\n",
    "\n",
    "# 5. Predicción y Evaluación del Modelo\n",
    "# Realizamos predicciones en el conjunto de prueba\n",
    "predicciones = modelo_knn.predict(X_test)\n",
    "\n",
    "# Evaluamos el rendimiento del modelo con un reporte de clasificación y una matriz de confusión\n",
    "print(\"Reporte de Clasificación:\")\n",
    "print(classification_report(y_test, predicciones))\n",
    "\n",
    "# Matriz de confusión para visualizar el rendimiento del modelo\n",
    "print(\"Matriz de Confusión:\")\n",
    "print(confusion_matrix(y_test, predicciones))\n",
    "\n",
    "# 6. Optimización del Modelo con Diferentes Valores de k (opcional)\n",
    "# Probamos diferentes valores de k y vemos cómo cambia la precisión en el conjunto de prueba\n",
    "error_rate = []\n",
    "\n",
    "# Probamos k desde 1 hasta 20 para ver cuál produce el mejor rendimiento\n",
    "for k in range(1, 21):\n",
    "    knn = KNeighborsClassifier(n_neighbors=k)\n",
    "    knn.fit(X_train, y_train)\n",
    "    pred_k = knn.predict(X_test)\n",
    "    error_rate.append(np.mean(pred_k != y_test))  # Calculamos el porcentaje de errores\n",
    "\n",
    "# Graficamos el error para cada valor de k\n",
    "plt.figure(figsize=(10, 6))\n",
    "plt.plot(range(1, 21), error_rate, marker='o', linestyle='dashed', color='blue', markerfacecolor='red')\n",
    "plt.title(\"Error Rate vs. k-Neighbors\")\n",
    "plt.xlabel(\"Número de Vecinos k\")\n",
    "plt.ylabel(\"Tasa de Error\")\n",
    "plt.show()\n"
   ]
  },
  {
   "cell_type": "code",
   "execution_count": 23,
   "id": "c7b3c3b9-496d-4747-aebd-6cea92728376",
   "metadata": {},
   "outputs": [],
   "source": [
    "#Ejercicio"
   ]
  },
  {
   "cell_type": "code",
   "execution_count": 27,
   "id": "fbd832e0-24a1-42b8-bed6-b4339bf2b0af",
   "metadata": {},
   "outputs": [],
   "source": [
    "import pandas as pd\n",
    "import numpy as np\n",
    "from sklearn.model_selection import train_test_split\n",
    "from sklearn.neighbors import KNeighborsClassifier\n",
    "\n",
    "# Función de clasificación KNN\n",
    "def knn_clasificacion2(datos, k=3):\n",
    "    # Verificar que las columnas necesarias existen en el DataFrame\n",
    "    if not {'SepalLengthCm', 'SepalWidthCm', 'PetalLengthCm', 'PetalWidthCm', 'Species'}.issubset(datos.columns):\n",
    "        raise ValueError(\"El DataFrame debe contener las columnas 'SepalLengthCm', 'SepalWidthCm', 'PetalLengthCm', 'PetalWidthCm' y 'Species'\")\n",
    "    # Dividir los datos en variables independientes (X) y dependiente (y)\n",
    "    X = datos[['SepalLengthCm', 'SepalWidthCm', 'PetalLengthCm', 'PetalWidthCm']]\n",
    "    y = datos['Species']\n",
    "    # Dividir los datos en conjunto de entrenamiento y prueba\n",
    "    X_train, X_test, y_train, y_test = train_test_split(X, y, test_size=0.2)\n",
    "    # Crear el modelo KNN\n",
    "    model = KNeighborsClassifier(n_neighbors=k)\n",
    "    # Entrenar el modelo\n",
    "    model.fit(X_train, y_train)\n",
    "    \n",
    "    return model"
   ]
  },
  {
   "cell_type": "code",
   "execution_count": 29,
   "id": "2c575b4a-30ec-4cb8-9e0b-5cb9134c9b95",
   "metadata": {},
   "outputs": [
    {
     "name": "stdout",
     "output_type": "stream",
     "text": [
      "Estimaciones de Clasificación:\n",
      "['Iris-setosa' 'Iris-versicolor' 'Iris-setosa']\n"
     ]
    }
   ],
   "source": [
    "data = pd.read_csv('iris.csv')  # Reemplaza 'iris.csv' con tu archivo de datos\n",
    "modelo_knn = knn_clasificacion2(data, k=3)\n",
    " \n",
    "# Estimaciones de clasificación para nuevas muestras\n",
    "nuevas_muestras = pd.DataFrame({\n",
    "    'SepalLengthCm': [5.1, 6.0, 4.4],\n",
    "    'SepalWidthCm': [3.5, 2.9, 3.2],\n",
    "    'PetalLengthCm': [1.4, 4.5, 1.3],\n",
    "    'PetalWidthCm': [0.2, 1.5, 0.2]\n",
    "})\n",
    " \n",
    "estimaciones_clasificacion = modelo_knn.predict(nuevas_muestras)\n",
    "print(\"Estimaciones de Clasificación:\")\n",
    "print(estimaciones_clasificacion)\n",
    "\n"
   ]
  },
  {
   "cell_type": "code",
   "execution_count": 31,
   "id": "120218a7-c251-40fb-9f3e-088dc3ec5d7e",
   "metadata": {},
   "outputs": [
    {
     "data": {
      "text/html": [
       "<div>\n",
       "<style scoped>\n",
       "    .dataframe tbody tr th:only-of-type {\n",
       "        vertical-align: middle;\n",
       "    }\n",
       "\n",
       "    .dataframe tbody tr th {\n",
       "        vertical-align: top;\n",
       "    }\n",
       "\n",
       "    .dataframe thead th {\n",
       "        text-align: right;\n",
       "    }\n",
       "</style>\n",
       "<table border=\"1\" class=\"dataframe\">\n",
       "  <thead>\n",
       "    <tr style=\"text-align: right;\">\n",
       "      <th></th>\n",
       "      <th>Id</th>\n",
       "      <th>SepalLengthCm</th>\n",
       "      <th>SepalWidthCm</th>\n",
       "      <th>PetalLengthCm</th>\n",
       "      <th>PetalWidthCm</th>\n",
       "      <th>Species</th>\n",
       "    </tr>\n",
       "  </thead>\n",
       "  <tbody>\n",
       "    <tr>\n",
       "      <th>0</th>\n",
       "      <td>1</td>\n",
       "      <td>5.1</td>\n",
       "      <td>3.5</td>\n",
       "      <td>1.4</td>\n",
       "      <td>0.2</td>\n",
       "      <td>Iris-setosa</td>\n",
       "    </tr>\n",
       "    <tr>\n",
       "      <th>1</th>\n",
       "      <td>2</td>\n",
       "      <td>4.9</td>\n",
       "      <td>3.0</td>\n",
       "      <td>1.4</td>\n",
       "      <td>0.2</td>\n",
       "      <td>Iris-setosa</td>\n",
       "    </tr>\n",
       "    <tr>\n",
       "      <th>2</th>\n",
       "      <td>3</td>\n",
       "      <td>4.7</td>\n",
       "      <td>3.2</td>\n",
       "      <td>1.3</td>\n",
       "      <td>0.2</td>\n",
       "      <td>Iris-setosa</td>\n",
       "    </tr>\n",
       "    <tr>\n",
       "      <th>3</th>\n",
       "      <td>4</td>\n",
       "      <td>4.6</td>\n",
       "      <td>3.1</td>\n",
       "      <td>1.5</td>\n",
       "      <td>0.2</td>\n",
       "      <td>Iris-setosa</td>\n",
       "    </tr>\n",
       "    <tr>\n",
       "      <th>4</th>\n",
       "      <td>5</td>\n",
       "      <td>5.0</td>\n",
       "      <td>3.6</td>\n",
       "      <td>1.4</td>\n",
       "      <td>0.2</td>\n",
       "      <td>Iris-setosa</td>\n",
       "    </tr>\n",
       "  </tbody>\n",
       "</table>\n",
       "</div>"
      ],
      "text/plain": [
       "   Id  SepalLengthCm  SepalWidthCm  PetalLengthCm  PetalWidthCm      Species\n",
       "0   1            5.1           3.5            1.4           0.2  Iris-setosa\n",
       "1   2            4.9           3.0            1.4           0.2  Iris-setosa\n",
       "2   3            4.7           3.2            1.3           0.2  Iris-setosa\n",
       "3   4            4.6           3.1            1.5           0.2  Iris-setosa\n",
       "4   5            5.0           3.6            1.4           0.2  Iris-setosa"
      ]
     },
     "execution_count": 31,
     "metadata": {},
     "output_type": "execute_result"
    }
   ],
   "source": [
    "data.head()"
   ]
  },
  {
   "cell_type": "code",
   "execution_count": null,
   "id": "f6fd920f-0584-48c1-a660-26c64143c378",
   "metadata": {},
   "outputs": [],
   "source": []
  }
 ],
 "metadata": {
  "kernelspec": {
   "display_name": "Python 3 (ipykernel)",
   "language": "python",
   "name": "python3"
  },
  "language_info": {
   "codemirror_mode": {
    "name": "ipython",
    "version": 3
   },
   "file_extension": ".py",
   "mimetype": "text/x-python",
   "name": "python",
   "nbconvert_exporter": "python",
   "pygments_lexer": "ipython3",
   "version": "3.12.4"
  }
 },
 "nbformat": 4,
 "nbformat_minor": 5
}
