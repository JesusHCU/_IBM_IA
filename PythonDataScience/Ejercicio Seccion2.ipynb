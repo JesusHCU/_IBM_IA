{
 "cells": [
  {
   "cell_type": "code",
   "execution_count": 2,
   "id": "a5d112ef-b449-4493-a5e7-2535a2574cc3",
   "metadata": {},
   "outputs": [
    {
     "name": "stdout",
     "output_type": "stream",
     "text": [
      "Porcentaje 67.86 %\n"
     ]
    }
   ],
   "source": [
    "import numpy as np\n",
    "from numpy.random import randn\n",
    "N=10000\n",
    "contador =0\n",
    "for i in randn(N):\n",
    "    if((i>-1) and (i<1)):\n",
    "        contador = contador +1\n",
    "respuesta = (contador / N) * 100\n",
    "cadena = \"%\"\n",
    "cadena2 = f\"Porcentaje {respuesta} {cadena}\"\n",
    "print (cadena2)"
   ]
  },
  {
   "cell_type": "code",
   "execution_count": null,
   "id": "5b68e6cc-d590-4106-b940-51cc19ac300b",
   "metadata": {},
   "outputs": [],
   "source": [
    "#Formas de concatenar datos y cadenas"
   ]
  },
  {
   "cell_type": "code",
   "execution_count": 9,
   "id": "5e3c3027-a3a9-458d-9795-a0c201cb44c7",
   "metadata": {},
   "outputs": [
    {
     "name": "stdout",
     "output_type": "stream",
     "text": [
      "Me llamo {nombre} y tengo {edad} años.\n"
     ]
    }
   ],
   "source": [
    "nombre = \"Angel\"\n",
    "edad = 30\n",
    "cadena = f\"Me llamo {nombre} y tengo {edad} años.\"\n",
    "print(cadena)  # Salida: Me llamo Juan y tengo 30 años."
   ]
  },
  {
   "cell_type": "code",
   "execution_count": 13,
   "id": "365bac08-2703-4ff9-97cd-d8efe9e7aa35",
   "metadata": {},
   "outputs": [
    {
     "name": "stdout",
     "output_type": "stream",
     "text": [
      "Me llamo Angel y tengo 30 años.\n"
     ]
    }
   ],
   "source": [
    "nombre = \"Angel\"\n",
    "edad = 30\n",
    "cadena = \"Me llamo {} y tengo {} años.\".format(nombre, edad)\n",
    "print(cadena)  # Salida: Me llamo Juan y tengo 30 años."
   ]
  },
  {
   "cell_type": "code",
   "execution_count": 15,
   "id": "40bd198b-3758-4beb-b1c2-bbf966b9613c",
   "metadata": {},
   "outputs": [
    {
     "name": "stdout",
     "output_type": "stream",
     "text": [
      "Me llamo Angel y tengo 30 años.\n"
     ]
    }
   ],
   "source": [
    "print(\"Me llamo {} y tengo {} años.\".format(nombre, edad))"
   ]
  },
  {
   "cell_type": "code",
   "execution_count": 17,
   "id": "9e67e7d4-4edf-48b3-9bbb-7af3309d810a",
   "metadata": {},
   "outputs": [
    {
     "name": "stdout",
     "output_type": "stream",
     "text": [
      "Me llamo Angel y tengo 30 años.\n"
     ]
    }
   ],
   "source": [
    "print(f\"Me llamo {nombre} y tengo {edad} años.\")"
   ]
  },
  {
   "cell_type": "code",
   "execution_count": null,
   "id": "10c801fc-b371-459f-9023-8a5f495c77a9",
   "metadata": {},
   "outputs": [],
   "source": []
  }
 ],
 "metadata": {
  "kernelspec": {
   "display_name": "Python 3 (ipykernel)",
   "language": "python",
   "name": "python3"
  },
  "language_info": {
   "codemirror_mode": {
    "name": "ipython",
    "version": 3
   },
   "file_extension": ".py",
   "mimetype": "text/x-python",
   "name": "python",
   "nbconvert_exporter": "python",
   "pygments_lexer": "ipython3",
   "version": "3.12.4"
  }
 },
 "nbformat": 4,
 "nbformat_minor": 5
}
