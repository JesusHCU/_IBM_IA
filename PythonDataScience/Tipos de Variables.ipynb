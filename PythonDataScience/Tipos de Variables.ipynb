{
 "cells": [
  {
   "cell_type": "code",
   "execution_count": 2,
   "id": "863c1b0b-9a7f-4966-95b4-e979195c6796",
   "metadata": {},
   "outputs": [],
   "source": [
    "#Integer-Entero \n",
    "x=4"
   ]
  },
  {
   "cell_type": "code",
   "execution_count": 4,
   "id": "735e52cb-d07a-466d-9dd9-355c21225979",
   "metadata": {},
   "outputs": [
    {
     "name": "stdout",
     "output_type": "stream",
     "text": [
      "4\n"
     ]
    }
   ],
   "source": [
    "#Mostrar\n",
    "print (x)"
   ]
  },
  {
   "cell_type": "code",
   "execution_count": 6,
   "id": "e360573e-5154-4e1d-b282-a961b7699a42",
   "metadata": {},
   "outputs": [
    {
     "data": {
      "text/plain": [
       "4"
      ]
     },
     "execution_count": 6,
     "metadata": {},
     "output_type": "execute_result"
    }
   ],
   "source": [
    "#Mostrar2\n",
    "x"
   ]
  },
  {
   "cell_type": "code",
   "execution_count": 8,
   "id": "92d49bc6-cd86-49c1-b704-46103a43e366",
   "metadata": {},
   "outputs": [
    {
     "data": {
      "text/plain": [
       "int"
      ]
     },
     "execution_count": 8,
     "metadata": {},
     "output_type": "execute_result"
    }
   ],
   "source": [
    "#Devolver tipo \n",
    "type (x)"
   ]
  },
  {
   "cell_type": "markdown",
   "id": "76c66a22-71e7-4bda-a418-0800f5d73637",
   "metadata": {},
   "source": [
    "Markdown"
   ]
  },
  {
   "cell_type": "markdown",
   "id": "de08aa57-9732-460a-aa0a-14de07a5ff78",
   "metadata": {},
   "source": [
    "---"
   ]
  },
  {
   "cell_type": "code",
   "execution_count": 11,
   "id": "9e946a3b-7b6a-4913-844f-d72de17d5398",
   "metadata": {},
   "outputs": [],
   "source": [
    "#Float Punta Flotante\n",
    "y = 2.5\n"
   ]
  },
  {
   "cell_type": "code",
   "execution_count": 15,
   "id": "a26d59af-dd6e-4979-bb26-e8881ff6aa1e",
   "metadata": {},
   "outputs": [
    {
     "name": "stdout",
     "output_type": "stream",
     "text": [
      "2.5\n"
     ]
    }
   ],
   "source": [
    "print(y)"
   ]
  },
  {
   "cell_type": "code",
   "execution_count": 17,
   "id": "f45a7430-33c1-4b50-a7f2-e99ff9909f6d",
   "metadata": {},
   "outputs": [
    {
     "data": {
      "text/plain": [
       "2.5"
      ]
     },
     "execution_count": 17,
     "metadata": {},
     "output_type": "execute_result"
    }
   ],
   "source": [
    "y"
   ]
  },
  {
   "cell_type": "code",
   "execution_count": 19,
   "id": "7fac001f-bd5d-4f48-93bf-5811b340c409",
   "metadata": {},
   "outputs": [
    {
     "data": {
      "text/plain": [
       "float"
      ]
     },
     "execution_count": 19,
     "metadata": {},
     "output_type": "execute_result"
    }
   ],
   "source": [
    "type (y)"
   ]
  },
  {
   "cell_type": "markdown",
   "id": "1a8b5a6e-0667-4e25-b385-3d2e8afcf789",
   "metadata": {},
   "source": [
    "---"
   ]
  },
  {
   "cell_type": "code",
   "execution_count": 10,
   "id": "d678f016-11fd-49e2-93f3-90476eac0a36",
   "metadata": {},
   "outputs": [],
   "source": [
    "#String Cadena de Texto\n",
    "a=\"hola\""
   ]
  },
  {
   "cell_type": "code",
   "execution_count": 12,
   "id": "766a1dd1-71cb-4d42-8e39-e1d8a2772af9",
   "metadata": {},
   "outputs": [
    {
     "data": {
      "text/plain": [
       "'hola'"
      ]
     },
     "execution_count": 12,
     "metadata": {},
     "output_type": "execute_result"
    }
   ],
   "source": [
    "a"
   ]
  },
  {
   "cell_type": "code",
   "execution_count": 14,
   "id": "bc4f9a59-0dc6-471a-a7c1-167d0d2e3b58",
   "metadata": {},
   "outputs": [
    {
     "name": "stdout",
     "output_type": "stream",
     "text": [
      "hola\n"
     ]
    }
   ],
   "source": [
    "print (a)"
   ]
  },
  {
   "cell_type": "code",
   "execution_count": 16,
   "id": "412477c6-d32c-4020-8c6d-d4b6acc52601",
   "metadata": {},
   "outputs": [],
   "source": [
    "b=' a todos'"
   ]
  },
  {
   "cell_type": "code",
   "execution_count": 18,
   "id": "8b9afe72-0529-4ee7-b425-1761835e5445",
   "metadata": {},
   "outputs": [
    {
     "data": {
      "text/plain": [
       "'hola a todos'"
      ]
     },
     "execution_count": 18,
     "metadata": {},
     "output_type": "execute_result"
    }
   ],
   "source": [
    "a+b"
   ]
  },
  {
   "cell_type": "code",
   "execution_count": 20,
   "id": "92f7fff4-ad0b-43a9-ab53-56495ce38fd6",
   "metadata": {},
   "outputs": [
    {
     "name": "stdout",
     "output_type": "stream",
     "text": [
      "hola a todos\n"
     ]
    }
   ],
   "source": [
    "print (a+b)"
   ]
  },
  {
   "cell_type": "code",
   "execution_count": 24,
   "id": "a5fa4fff-50da-4a2f-9c7f-fc943f555abf",
   "metadata": {},
   "outputs": [
    {
     "data": {
      "text/plain": [
       "str"
      ]
     },
     "execution_count": 24,
     "metadata": {},
     "output_type": "execute_result"
    }
   ],
   "source": [
    "type(a)\n",
    "type(b)"
   ]
  },
  {
   "cell_type": "code",
   "execution_count": 28,
   "id": "21ad303d-1836-42ab-b43c-433c26d4596e",
   "metadata": {},
   "outputs": [
    {
     "name": "stdout",
     "output_type": "stream",
     "text": [
      "Hola Angel\n"
     ]
    }
   ],
   "source": [
    "saludo ='Hola'\n",
    "nombre = \"Angel\"\n",
    "mensaje = saludo + \" \" + nombre\n",
    "print (mensaje)"
   ]
  },
  {
   "cell_type": "code",
   "execution_count": 32,
   "id": "9a2e8704-744d-4b70-ba29-ee6cc10898ec",
   "metadata": {},
   "outputs": [
    {
     "data": {
      "text/plain": [
       "'H'"
      ]
     },
     "execution_count": 32,
     "metadata": {},
     "output_type": "execute_result"
    }
   ],
   "source": [
    "mensaje[0] #Primer Datos"
   ]
  },
  {
   "cell_type": "code",
   "execution_count": 36,
   "id": "720ba850-78b3-41b3-928f-a9b6f19cb1c5",
   "metadata": {},
   "outputs": [
    {
     "data": {
      "text/plain": [
       "'l'"
      ]
     },
     "execution_count": 36,
     "metadata": {},
     "output_type": "execute_result"
    }
   ],
   "source": [
    "mensaje[-1] #Ultimo Dato"
   ]
  },
  {
   "cell_type": "code",
   "execution_count": 40,
   "id": "76c5ff0d-14ef-40f1-9b58-23870ce393c9",
   "metadata": {},
   "outputs": [
    {
     "data": {
      "text/plain": [
       "'Hola Angel'"
      ]
     },
     "execution_count": 40,
     "metadata": {},
     "output_type": "execute_result"
    }
   ],
   "source": [
    "mensaje[0:10]"
   ]
  },
  {
   "cell_type": "markdown",
   "id": "74328e06-3bbe-48d2-9fef-5e5320340644",
   "metadata": {},
   "source": [
    "---"
   ]
  },
  {
   "cell_type": "code",
   "execution_count": 54,
   "id": "76f23148-3c3b-4420-81de-73cee964362a",
   "metadata": {},
   "outputs": [],
   "source": [
    "#Boolean Logica\n",
    "#True\n",
    "#False\n",
    "p1 = True"
   ]
  },
  {
   "cell_type": "code",
   "execution_count": 56,
   "id": "197ad65a-8625-42e9-911d-a9d1e5bc4f2c",
   "metadata": {},
   "outputs": [
    {
     "data": {
      "text/plain": [
       "True"
      ]
     },
     "execution_count": 56,
     "metadata": {},
     "output_type": "execute_result"
    }
   ],
   "source": [
    "p1"
   ]
  },
  {
   "cell_type": "code",
   "execution_count": 58,
   "id": "4d8cf480-e912-4d06-afa1-3a167c2f5120",
   "metadata": {},
   "outputs": [
    {
     "data": {
      "text/plain": [
       "bool"
      ]
     },
     "execution_count": 58,
     "metadata": {},
     "output_type": "execute_result"
    }
   ],
   "source": [
    "type(p1)"
   ]
  }
 ],
 "metadata": {
  "kernelspec": {
   "display_name": "Python 3 (ipykernel)",
   "language": "python",
   "name": "python3"
  },
  "language_info": {
   "codemirror_mode": {
    "name": "ipython",
    "version": 3
   },
   "file_extension": ".py",
   "mimetype": "text/x-python",
   "name": "python",
   "nbconvert_exporter": "python",
   "pygments_lexer": "ipython3",
   "version": "3.12.4"
  }
 },
 "nbformat": 4,
 "nbformat_minor": 5
}
