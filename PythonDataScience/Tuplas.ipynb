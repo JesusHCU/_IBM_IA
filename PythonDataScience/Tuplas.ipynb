{
 "cells": [
  {
   "cell_type": "markdown",
   "id": "8dbd7162-348e-4184-acb0-1884d7c15554",
   "metadata": {},
   "source": [
    "#tuplas = lista inmutable"
   ]
  },
  {
   "cell_type": "code",
   "execution_count": 2,
   "id": "0bc837f7-6da6-42bc-822c-55d58edefb64",
   "metadata": {},
   "outputs": [
    {
     "data": {
      "text/plain": [
       "(345, 12, 1685)"
      ]
     },
     "execution_count": 2,
     "metadata": {},
     "output_type": "execute_result"
    }
   ],
   "source": [
    "t1= (345, 12, 1685)\n",
    "t1"
   ]
  },
  {
   "cell_type": "code",
   "execution_count": 4,
   "id": "2b099a00-f06a-4a38-aaeb-7ca2f1c82407",
   "metadata": {},
   "outputs": [
    {
     "ename": "TypeError",
     "evalue": "'tuple' object does not support item assignment",
     "output_type": "error",
     "traceback": [
      "\u001b[1;31m---------------------------------------------------------------------------\u001b[0m",
      "\u001b[1;31mTypeError\u001b[0m                                 Traceback (most recent call last)",
      "Cell \u001b[1;32mIn[4], line 1\u001b[0m\n\u001b[1;32m----> 1\u001b[0m t1[\u001b[38;5;241m1\u001b[39m]\u001b[38;5;241m=\u001b[39m\u001b[38;5;241m1\u001b[39m\n",
      "\u001b[1;31mTypeError\u001b[0m: 'tuple' object does not support item assignment"
     ]
    }
   ],
   "source": [
    "t1[1]=1"
   ]
  },
  {
   "cell_type": "code",
   "execution_count": null,
   "id": "0e22a8fc-c2d0-4b7f-a93b-a90b562283d4",
   "metadata": {},
   "outputs": [],
   "source": []
  },
  {
   "cell_type": "code",
   "execution_count": null,
   "id": "86df730d-507e-4558-b622-05daa0b77057",
   "metadata": {},
   "outputs": [],
   "source": []
  }
 ],
 "metadata": {
  "kernelspec": {
   "display_name": "Python 3 (ipykernel)",
   "language": "python",
   "name": "python3"
  },
  "language_info": {
   "codemirror_mode": {
    "name": "ipython",
    "version": 3
   },
   "file_extension": ".py",
   "mimetype": "text/x-python",
   "name": "python",
   "nbconvert_exporter": "python",
   "pygments_lexer": "ipython3",
   "version": "3.12.4"
  }
 },
 "nbformat": 4,
 "nbformat_minor": 5
}
