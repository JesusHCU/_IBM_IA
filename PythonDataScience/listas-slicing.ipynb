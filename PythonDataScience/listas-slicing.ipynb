{
 "cells": [
  {
   "cell_type": "code",
   "execution_count": 7,
   "id": "f911a089-93e8-47e8-8d8e-6a05e816ac6a",
   "metadata": {},
   "outputs": [],
   "source": [
    "lista = [\"a\", 43, \"Hola\", True, 5.2] "
   ]
  },
  {
   "cell_type": "code",
   "execution_count": 9,
   "id": "34ecaa97-1754-4b78-a93d-2fdd2c5af4f6",
   "metadata": {},
   "outputs": [
    {
     "data": {
      "text/plain": [
       "['a', 43, 'Hola', True, 5.2]"
      ]
     },
     "execution_count": 9,
     "metadata": {},
     "output_type": "execute_result"
    }
   ],
   "source": [
    "lista"
   ]
  },
  {
   "cell_type": "code",
   "execution_count": 11,
   "id": "74429f02-6ae7-44da-ba61-1e3e50b9e117",
   "metadata": {},
   "outputs": [
    {
     "data": {
      "text/plain": [
       "True"
      ]
     },
     "execution_count": 11,
     "metadata": {},
     "output_type": "execute_result"
    }
   ],
   "source": [
    "lista[3]"
   ]
  },
  {
   "cell_type": "code",
   "execution_count": 13,
   "id": "1f0a941d-9a56-40a8-9a2f-37163eb3d0a9",
   "metadata": {},
   "outputs": [
    {
     "data": {
      "text/plain": [
       "True"
      ]
     },
     "execution_count": 13,
     "metadata": {},
     "output_type": "execute_result"
    }
   ],
   "source": [
    "lista[-2]"
   ]
  },
  {
   "cell_type": "code",
   "execution_count": 15,
   "id": "139f9a6e-45fa-4e06-96b5-f35033ef2f33",
   "metadata": {},
   "outputs": [],
   "source": [
    "lista[-1]=False"
   ]
  },
  {
   "cell_type": "code",
   "execution_count": 17,
   "id": "b3ab7fa3-e72c-4e08-92b5-90b4c94936e3",
   "metadata": {},
   "outputs": [
    {
     "data": {
      "text/plain": [
       "['a', 43, 'Hola', True, False]"
      ]
     },
     "execution_count": 17,
     "metadata": {},
     "output_type": "execute_result"
    }
   ],
   "source": [
    "lista"
   ]
  },
  {
   "cell_type": "code",
   "execution_count": 57,
   "id": "81f9a64f-69f1-4baa-83d6-33d7e6923796",
   "metadata": {},
   "outputs": [],
   "source": [
    "lista2 = [1, 2, 3, 4, 5]"
   ]
  },
  {
   "cell_type": "code",
   "execution_count": 61,
   "id": "cd7706c7-87e0-4891-9164-db61a965ab37",
   "metadata": {},
   "outputs": [
    {
     "data": {
      "text/plain": [
       "[1, 2, 3, 4, 5]"
      ]
     },
     "execution_count": 61,
     "metadata": {},
     "output_type": "execute_result"
    }
   ],
   "source": [
    "lista2"
   ]
  },
  {
   "cell_type": "code",
   "execution_count": 71,
   "id": "52671413-4a77-48ae-893f-b0f0c42e5266",
   "metadata": {},
   "outputs": [],
   "source": [
    "listatotal= lista + lista2"
   ]
  },
  {
   "cell_type": "code",
   "execution_count": 73,
   "id": "09e2d896-5b6d-4929-bf16-a75a8e7972ef",
   "metadata": {},
   "outputs": [
    {
     "data": {
      "text/plain": [
       "['a', 43, 'Hola', True, False, 1, 2, 3, 4, 5]"
      ]
     },
     "execution_count": 73,
     "metadata": {},
     "output_type": "execute_result"
    }
   ],
   "source": [
    "listatotal"
   ]
  },
  {
   "cell_type": "code",
   "execution_count": 75,
   "id": "2bada60a-9258-4e32-b930-fa5ed1d33c93",
   "metadata": {},
   "outputs": [
    {
     "data": {
      "text/plain": [
       "['a', 43, 'Hola', True, False, 1, 2, 3, 4, 5]"
      ]
     },
     "execution_count": 75,
     "metadata": {},
     "output_type": "execute_result"
    }
   ],
   "source": [
    "listatotal[:]"
   ]
  },
  {
   "cell_type": "code",
   "execution_count": 77,
   "id": "d7d466a3-8112-425d-9f38-203d70d5d1dd",
   "metadata": {},
   "outputs": [
    {
     "data": {
      "text/plain": [
       "['Hola', True, False, 1, 2, 3, 4, 5]"
      ]
     },
     "execution_count": 77,
     "metadata": {},
     "output_type": "execute_result"
    }
   ],
   "source": [
    "listatotal[2:]"
   ]
  },
  {
   "cell_type": "code",
   "execution_count": 79,
   "id": "51f71094-5bfe-4e93-b82a-62a1598770c9",
   "metadata": {},
   "outputs": [
    {
     "data": {
      "text/plain": [
       "['Hola', True, False]"
      ]
     },
     "execution_count": 79,
     "metadata": {},
     "output_type": "execute_result"
    }
   ],
   "source": [
    "listatotal[2:5]"
   ]
  },
  {
   "cell_type": "code",
   "execution_count": 81,
   "id": "f74629c8-3e31-4f54-8a5e-37a51b835a9f",
   "metadata": {},
   "outputs": [
    {
     "data": {
      "text/plain": [
       "[43, True, 1, 3]"
      ]
     },
     "execution_count": 81,
     "metadata": {},
     "output_type": "execute_result"
    }
   ],
   "source": [
    "listatotal[1:9:2]"
   ]
  },
  {
   "cell_type": "code",
   "execution_count": 83,
   "id": "af495e27-fc8f-4ab4-9a29-c107a9098d32",
   "metadata": {},
   "outputs": [
    {
     "data": {
      "text/plain": [
       "[]"
      ]
     },
     "execution_count": 83,
     "metadata": {},
     "output_type": "execute_result"
    }
   ],
   "source": [
    "listatotal[1:9:-1]"
   ]
  },
  {
   "cell_type": "code",
   "execution_count": 4,
   "id": "df963857-828a-417b-8af1-417911245c73",
   "metadata": {},
   "outputs": [],
   "source": [
    "letras=[\"a\",\"b\",\"c\",\"d\",\"e\",\"f\",\"g\",\"h\",\"i\",\"j\",\"k\"]"
   ]
  },
  {
   "cell_type": "code",
   "execution_count": 6,
   "id": "dd9964ba-207e-4549-8803-7bee7b53a4f4",
   "metadata": {},
   "outputs": [
    {
     "data": {
      "text/plain": [
       "['a', 'b', 'c', 'd', 'e', 'f', 'g', 'h', 'i', 'j', 'k']"
      ]
     },
     "execution_count": 6,
     "metadata": {},
     "output_type": "execute_result"
    }
   ],
   "source": [
    "letras"
   ]
  },
  {
   "cell_type": "code",
   "execution_count": 95,
   "id": "405db686-76b0-40b5-8d4a-73fd84d2ca07",
   "metadata": {},
   "outputs": [
    {
     "data": {
      "text/plain": [
       "['b', 'c', 'd', 'e', 'f', 'g', 'h', 'i', 'j']"
      ]
     },
     "execution_count": 95,
     "metadata": {},
     "output_type": "execute_result"
    }
   ],
   "source": [
    "letras[1:10]"
   ]
  },
  {
   "cell_type": "code",
   "execution_count": 99,
   "id": "a6467b92-079f-4d66-8089-15e0c860c7da",
   "metadata": {},
   "outputs": [
    {
     "data": {
      "text/plain": [
       "['c', 'd', 'e', 'f', 'g', 'h', 'i', 'j', 'k']"
      ]
     },
     "execution_count": 99,
     "metadata": {},
     "output_type": "execute_result"
    }
   ],
   "source": [
    "letras[2::]"
   ]
  },
  {
   "cell_type": "code",
   "execution_count": 101,
   "id": "cafadf20-4f39-466d-827e-d2af7acb5752",
   "metadata": {},
   "outputs": [
    {
     "data": {
      "text/plain": [
       "['a', 'b']"
      ]
     },
     "execution_count": 101,
     "metadata": {},
     "output_type": "execute_result"
    }
   ],
   "source": [
    "letras[:2:]"
   ]
  },
  {
   "cell_type": "code",
   "execution_count": 103,
   "id": "25090622-4e9a-4cf1-bec5-d09278b10ecc",
   "metadata": {},
   "outputs": [
    {
     "data": {
      "text/plain": [
       "['a', 'c', 'e', 'g', 'i', 'k']"
      ]
     },
     "execution_count": 103,
     "metadata": {},
     "output_type": "execute_result"
    }
   ],
   "source": [
    "letras[::2]"
   ]
  },
  {
   "cell_type": "code",
   "execution_count": 115,
   "id": "e236e92f-79d6-4ec6-9898-7936bfa82e6c",
   "metadata": {},
   "outputs": [
    {
     "data": {
      "text/plain": [
       "['k', 'j', 'i', 'h', 'g', 'f', 'e', 'd', 'c', 'b', 'a']"
      ]
     },
     "execution_count": 115,
     "metadata": {},
     "output_type": "execute_result"
    }
   ],
   "source": [
    "letras[::-1]"
   ]
  },
  {
   "cell_type": "code",
   "execution_count": 125,
   "id": "71e8bc90-b7dc-4668-af26-995ea1d3cba7",
   "metadata": {},
   "outputs": [
    {
     "data": {
      "text/plain": [
       "['k', 'j', 'i', 'h', 'g', 'f', 'e', 'd']"
      ]
     },
     "execution_count": 125,
     "metadata": {},
     "output_type": "execute_result"
    }
   ],
   "source": [
    "letras[:2:-1]"
   ]
  },
  {
   "cell_type": "code",
   "execution_count": 119,
   "id": "6fb91d2e-b15b-45ba-8376-87021c9ef0a1",
   "metadata": {},
   "outputs": [
    {
     "data": {
      "text/plain": [
       "['b', 'c', 'd', 'e', 'f', 'g', 'h']"
      ]
     },
     "execution_count": 119,
     "metadata": {},
     "output_type": "execute_result"
    }
   ],
   "source": [
    "letras[1:8]"
   ]
  },
  {
   "cell_type": "code",
   "execution_count": 137,
   "id": "bbb9aeac-1802-46ff-8fa5-70df7666b150",
   "metadata": {},
   "outputs": [
    {
     "data": {
      "text/plain": [
       "['i', 'h', 'g', 'f', 'e', 'd']"
      ]
     },
     "execution_count": 137,
     "metadata": {},
     "output_type": "execute_result"
    }
   ],
   "source": [
    "letras[8:2:-1]"
   ]
  },
  {
   "cell_type": "code",
   "execution_count": 149,
   "id": "1f8de58e-46e8-4520-9e2b-5ddd2fa49001",
   "metadata": {},
   "outputs": [
    {
     "data": {
      "text/plain": [
       "['d', 'e', 'f', 'g', 'h', 'i']"
      ]
     },
     "execution_count": 149,
     "metadata": {},
     "output_type": "execute_result"
    }
   ],
   "source": [
    "letras[3:9:]"
   ]
  },
  {
   "cell_type": "code",
   "execution_count": 8,
   "id": "d58572c5-ad06-48db-abc1-6f1ea36971c3",
   "metadata": {},
   "outputs": [
    {
     "data": {
      "text/plain": [
       "['a', 'd', 'g', 'j']"
      ]
     },
     "execution_count": 8,
     "metadata": {},
     "output_type": "execute_result"
    }
   ],
   "source": [
    "letras[::3]"
   ]
  },
  {
   "cell_type": "code",
   "execution_count": null,
   "id": "8c16066c-0a7c-47e1-9c64-96d8403c1f5b",
   "metadata": {},
   "outputs": [],
   "source": []
  },
  {
   "cell_type": "code",
   "execution_count": 10,
   "id": "46b66537-f9c6-4f3e-a909-b41c735ac8cb",
   "metadata": {},
   "outputs": [],
   "source": [
    "L=[2325, 25, 1475, 586, 12]"
   ]
  },
  {
   "cell_type": "code",
   "execution_count": 12,
   "id": "1723b02f-e44d-447d-b731-1d95330e6543",
   "metadata": {},
   "outputs": [
    {
     "data": {
      "text/plain": [
       "[2325, 25, 1475, 586, 12]"
      ]
     },
     "execution_count": 12,
     "metadata": {},
     "output_type": "execute_result"
    }
   ],
   "source": [
    "L"
   ]
  },
  {
   "cell_type": "code",
   "execution_count": 14,
   "id": "7a734f34-8502-4751-b616-aac112b54660",
   "metadata": {},
   "outputs": [],
   "source": [
    "import numpy as np"
   ]
  },
  {
   "cell_type": "code",
   "execution_count": 16,
   "id": "472035f2-f7e6-4278-adc1-3e24bae9829a",
   "metadata": {},
   "outputs": [],
   "source": [
    "a=np.array(L)"
   ]
  },
  {
   "cell_type": "code",
   "execution_count": 18,
   "id": "ea7d3e63-4b2c-479c-a18c-577fbe0d1b17",
   "metadata": {},
   "outputs": [
    {
     "data": {
      "text/plain": [
       "array([2325,   25, 1475,  586,   12])"
      ]
     },
     "execution_count": 18,
     "metadata": {},
     "output_type": "execute_result"
    }
   ],
   "source": [
    "a"
   ]
  },
  {
   "cell_type": "code",
   "execution_count": 20,
   "id": "b1ad5d9c-a3e5-46c7-8ffb-3521ea115c31",
   "metadata": {},
   "outputs": [],
   "source": [
    "b= a[0]+a[1]"
   ]
  },
  {
   "cell_type": "code",
   "execution_count": 22,
   "id": "378bd439-ddd6-447c-b844-32e16c3851d3",
   "metadata": {},
   "outputs": [
    {
     "data": {
      "text/plain": [
       "2350"
      ]
     },
     "execution_count": 22,
     "metadata": {},
     "output_type": "execute_result"
    }
   ],
   "source": [
    "b"
   ]
  },
  {
   "cell_type": "code",
   "execution_count": 2,
   "id": "116b8e5f-f6ef-4e21-bd88-55b0ca41e00a",
   "metadata": {},
   "outputs": [],
   "source": [
    "listadoble=[\"a\",\"b\",\"c\",[\"d\",\"e\",\"f\",\"g\",\"h\",\"i\",\"j\",\"k\"]]"
   ]
  },
  {
   "cell_type": "code",
   "execution_count": 4,
   "id": "f5932bcb-4fd9-44df-ae64-cc4f86a19a34",
   "metadata": {},
   "outputs": [
    {
     "data": {
      "text/plain": [
       "['a', 'b', 'c', ['d', 'e', 'f', 'g', 'h', 'i', 'j', 'k']]"
      ]
     },
     "execution_count": 4,
     "metadata": {},
     "output_type": "execute_result"
    }
   ],
   "source": [
    "listadoble"
   ]
  },
  {
   "cell_type": "code",
   "execution_count": 6,
   "id": "bf30cc15-2b30-4bef-90d9-88d3cdbf7632",
   "metadata": {},
   "outputs": [
    {
     "data": {
      "text/plain": [
       "'a'"
      ]
     },
     "execution_count": 6,
     "metadata": {},
     "output_type": "execute_result"
    }
   ],
   "source": [
    "listadoble[0]"
   ]
  },
  {
   "cell_type": "code",
   "execution_count": 8,
   "id": "79ba6a47-a0d3-4d96-88ed-bfc863ee7ef9",
   "metadata": {},
   "outputs": [
    {
     "data": {
      "text/plain": [
       "['d', 'e', 'f', 'g', 'h', 'i', 'j', 'k']"
      ]
     },
     "execution_count": 8,
     "metadata": {},
     "output_type": "execute_result"
    }
   ],
   "source": [
    "listadoble[3]"
   ]
  },
  {
   "cell_type": "code",
   "execution_count": 10,
   "id": "32dc5598-4bdb-4474-bcfa-0042fa4fe0e6",
   "metadata": {},
   "outputs": [
    {
     "data": {
      "text/plain": [
       "'d'"
      ]
     },
     "execution_count": 10,
     "metadata": {},
     "output_type": "execute_result"
    }
   ],
   "source": [
    "listadoble[3][0]"
   ]
  },
  {
   "cell_type": "code",
   "execution_count": 12,
   "id": "c110beee-5296-4527-a572-e304aef0b1f2",
   "metadata": {},
   "outputs": [
    {
     "data": {
      "text/plain": [
       "'e'"
      ]
     },
     "execution_count": 12,
     "metadata": {},
     "output_type": "execute_result"
    }
   ],
   "source": [
    "listadoble[3][1]"
   ]
  },
  {
   "cell_type": "code",
   "execution_count": null,
   "id": "e070c778-9e31-4da2-b7e7-bc0ac20aba4b",
   "metadata": {},
   "outputs": [],
   "source": []
  }
 ],
 "metadata": {
  "kernelspec": {
   "display_name": "Python 3 (ipykernel)",
   "language": "python",
   "name": "python3"
  },
  "language_info": {
   "codemirror_mode": {
    "name": "ipython",
    "version": 3
   },
   "file_extension": ".py",
   "mimetype": "text/x-python",
   "name": "python",
   "nbconvert_exporter": "python",
   "pygments_lexer": "ipython3",
   "version": "3.12.4"
  }
 },
 "nbformat": 4,
 "nbformat_minor": 5
}
