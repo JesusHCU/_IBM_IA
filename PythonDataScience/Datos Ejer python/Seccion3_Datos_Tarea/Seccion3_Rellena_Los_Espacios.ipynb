{
 "cells": [
  {
   "cell_type": "code",
   "execution_count": 6,
   "metadata": {},
   "outputs": [],
   "source": [
    "#Datos\n",
    "ingresos = [14574.49, 7606.46, 8611.41, 9175.41, 8058.65, 8105.44, 11496.28, 9766.09, 10305.32, 14379.96, 10713.97, 15433.50]\n",
    "gastos = [12051.82, 5695.07, 12319.20, 12089.72, 8658.57, 840.20, 3285.73, 5821.12, 6976.93, 16618.61, 10054.37, 3803.96]"
   ]
  },
  {
   "cell_type": "code",
   "execution_count": 8,
   "metadata": {},
   "outputs": [
    {
     "data": {
      "text/plain": [
       "[2522.67,\n",
       " 1911.3900000000003,\n",
       " -3707.790000000001,\n",
       " -2914.3099999999995,\n",
       " -599.9200000000001,\n",
       " 7265.24,\n",
       " 8210.550000000001,\n",
       " 3944.9700000000003,\n",
       " 3328.3899999999994,\n",
       " -2238.6500000000015,\n",
       " 659.5999999999985,\n",
       " 11629.54]"
      ]
     },
     "execution_count": 8,
     "metadata": {},
     "output_type": "execute_result"
    }
   ],
   "source": [
    "#Respuesta\n",
    "#Calcular la Utilidad como la diferencia entre los Ingresos y los Gastos\n",
    "utilidad = list()\n",
    "\n",
    "for i in range (0, len(ingresos)):\n",
    "    utilidad.append(ingresos[i] - gastos[i])\n",
    "utilidad"
   ]
  },
  {
   "cell_type": "code",
   "execution_count": null,
   "metadata": {},
   "outputs": [],
   "source": []
  },
  {
   "cell_type": "code",
   "execution_count": 12,
   "metadata": {},
   "outputs": [
    {
     "data": {
      "text/plain": [
       "[756.8,\n",
       " 573.42,\n",
       " -1112.34,\n",
       " -874.29,\n",
       " -179.98,\n",
       " 2179.57,\n",
       " 2463.17,\n",
       " 1183.49,\n",
       " 998.52,\n",
       " -671.6,\n",
       " 197.88,\n",
       " 3488.86]"
      ]
     },
     "execution_count": 12,
     "metadata": {},
     "output_type": "execute_result"
    }
   ],
   "source": [
    "#Calcular el impuesto como el 30% de la utilidad y redondea a 2 puntos decimales\n",
    "impuesto = [round(i * 0.30, 2) for i in utilidad]\n",
    "impuesto\n",
    "\n"
   ]
  },
  {
   "cell_type": "code",
   "execution_count": 22,
   "metadata": {},
   "outputs": [
    {
     "data": {
      "text/plain": [
       "[1765.8700000000001,\n",
       " 1337.9700000000003,\n",
       " -2595.4500000000007,\n",
       " -2040.0199999999995,\n",
       " -419.94000000000005,\n",
       " 5085.67,\n",
       " 5747.380000000001,\n",
       " 2761.4800000000005,\n",
       " 2329.8699999999994,\n",
       " -1567.0500000000015,\n",
       " 461.71999999999855,\n",
       " 8140.68]"
      ]
     },
     "execution_count": 22,
     "metadata": {},
     "output_type": "execute_result"
    }
   ],
   "source": [
    "#Calcular la Utilidad después de restarle el impuesto\n",
    "utilidad_despues_de_impuestos = list()\n",
    "for i in range (len(utilidad)):\n",
    "    utilidad_despues_de_impuestos.append(utilidad[i] - impuesto[i])\n",
    "utilidad_despues_de_impuestos"
   ]
  },
  {
   "cell_type": "code",
   "execution_count": null,
   "metadata": {},
   "outputs": [],
   "source": []
  },
  {
   "cell_type": "code",
   "execution_count": null,
   "metadata": {},
   "outputs": [],
   "source": []
  },
  {
   "cell_type": "code",
   "execution_count": 10,
   "metadata": {},
   "outputs": [
    {
     "data": {
      "text/plain": [
       "[12.12,\n",
       " 17.59,\n",
       " -30.14,\n",
       " -22.23,\n",
       " -5.21,\n",
       " 62.74,\n",
       " 49.99,\n",
       " 28.28,\n",
       " 22.61,\n",
       " -10.9,\n",
       " 4.31,\n",
       " 52.75]"
      ]
     },
     "execution_count": 10,
     "metadata": {},
     "output_type": "execute_result"
    }
   ],
   "source": [
    "#Calcular el margen de Utilidad como la Utilidad Después de Impuestos sobre los Ingresos\n",
    "#Redondea a 2 puntos decimales, luego multiplica por 100 para obtener el %\n",
    "margen_de_utilidad = list()\n",
    "for i in range (0, len(utilidad)):\n",
    "    margen_de_utilidad.append(utilidad_despues_de_impuestos[i] / ingresos[i])\n",
    "margen_de_utilidad = [round((i*100),2) for i in margen_de_utilidad]\n",
    "\n",
    "margen_de_utilidad"
   ]
  },
  {
   "cell_type": "code",
   "execution_count": 12,
   "metadata": {},
   "outputs": [
    {
     "data": {
      "text/plain": [
       "1750.6816666666664"
      ]
     },
     "execution_count": 12,
     "metadata": {},
     "output_type": "execute_result"
    }
   ],
   "source": [
    "#Calcula el promedio de la Utilidad Después de Impuestos (UDI) para los últimos 12 meses\n",
    "promedio_udi = sum(utilidad_despues_de_impuestos) / len(utilidad_despues_de_impuestos)\n",
    "promedio_udi"
   ]
  },
  {
   "cell_type": "code",
   "execution_count": 14,
   "metadata": {},
   "outputs": [
    {
     "data": {
      "text/plain": [
       "[True, True, False, False, False, True, True, True, True, False, False, True]"
      ]
     },
     "execution_count": 14,
     "metadata": {},
     "output_type": "execute_result"
    }
   ],
   "source": [
    "#Encuentra los meses con Utilidad por encima del promedio de la Utilidad Después de Ïmpuestos promedio \n",
    "meses_buenos = list()\n",
    "for i in range (0, len(ingresos)):\n",
    "    meses_buenos.append(utilidad[i] > promedio_udi )\n",
    "meses_buenos "
   ]
  },
  {
   "cell_type": "code",
   "execution_count": 20,
   "metadata": {},
   "outputs": [
    {
     "data": {
      "text/plain": [
       "[False, False, True, True, True, False, False, False, False, True, True, False]"
      ]
     },
     "execution_count": 20,
     "metadata": {},
     "output_type": "execute_result"
    }
   ],
   "source": [
    "#Los Meses Malos son lo opuesto a los Meses Buenos!\n",
    "meses_malos = list()\n",
    "for i in range (0, len(ingresos)):\n",
    "    meses_malos.append(not (meses_buenos[i]))\n",
    "meses_malos"
   ]
  },
  {
   "cell_type": "code",
   "execution_count": 24,
   "metadata": {},
   "outputs": [
    {
     "data": {
      "text/plain": [
       "[False,\n",
       " False,\n",
       " False,\n",
       " False,\n",
       " False,\n",
       " False,\n",
       " False,\n",
       " False,\n",
       " False,\n",
       " False,\n",
       " False,\n",
       " True]"
      ]
     },
     "execution_count": 24,
     "metadata": {},
     "output_type": "execute_result"
    }
   ],
   "source": [
    "#El Mejor Mes es donde la Utilidad Después de Impuestos fue igual al máximo \n",
    "mejor_mes = list()\n",
    "for i in range (0, len(utilidad)):\n",
    "    mejor_mes.append(utilidad_despues_de_impuestos[i] == max(utilidad_despues_de_impuestos))\n",
    "mejor_mes"
   ]
  },
  {
   "cell_type": "code",
   "execution_count": 26,
   "metadata": {},
   "outputs": [
    {
     "data": {
      "text/plain": [
       "[False,\n",
       " False,\n",
       " True,\n",
       " False,\n",
       " False,\n",
       " False,\n",
       " False,\n",
       " False,\n",
       " False,\n",
       " False,\n",
       " False,\n",
       " False]"
      ]
     },
     "execution_count": 26,
     "metadata": {},
     "output_type": "execute_result"
    }
   ],
   "source": [
    "#El Peor Mes es donde la Utilidad Después de Impuestos fue igual al mínimo \n",
    "peor_mes = list()\n",
    "for i in range (0, len(utilidad)):\n",
    "    peor_mes.append(utilidad_despues_de_impuestos[i] == min(utilidad_despues_de_impuestos))\n",
    "peor_mes"
   ]
  },
  {
   "cell_type": "code",
   "execution_count": 56,
   "metadata": {},
   "outputs": [],
   "source": [
    "#Convierte todos los cálculos a unidades de miles de dólares\n",
    "ingresos_1000 = [round(i/1000, 1) for i in ingresos]\n",
    "gastos_1000 = [round(i/1000, 1) for i in gastos]\n",
    "utilidad_1000 = [round(i/1000, 1) for i in utilidad]\n",
    "utilidad_despues_de_impuestos_1000 = [round(i/1000, 0) for i in utilidad_despues_de_impuestos]\n",
    "\n",
    "ingresos_1000 = [int(i) for i in ingresos_1000]\n",
    "gastos_1000 = [int(i) for i in gastos_1000]\n",
    "utilidad_1000 = [int(i) for i in utilidad_1000]\n",
    "utilidad_despues_de_impuestos_1000 = [int(i) for i in utilidad_despues_de_impuestos_1000]"
   ]
  },
  {
   "cell_type": "code",
   "execution_count": 58,
   "metadata": {},
   "outputs": [
    {
     "name": "stdout",
     "output_type": "stream",
     "text": [
      "Ingresos :\n",
      "[14, 7, 8, 9, 8, 8, 11, 9, 10, 14, 10, 15]\n",
      "Gastos :\n",
      "[12, 5, 12, 12, 8, 0, 3, 5, 7, 16, 10, 3]\n",
      "Utilidad :\n",
      "[2, 1, -3, -2, 0, 7, 8, 3, 3, -2, 0, 11]\n",
      "Utilidad Después de Impuestos :\n",
      "[2, 1, -3, -2, 0, 5, 6, 3, 2, -2, 0, 8]\n",
      "Margen de utilidad :\n",
      "[12.12, 17.59, -30.14, -22.23, -5.21, 62.74, 49.99, 28.28, 22.61, -10.9, 4.31, 52.75]\n",
      "Buenos meses :\n",
      "[True, True, False, False, False, True, True, True, True, False, False, True]\n",
      "Meses malos :\n",
      "[False, False, True, True, True, False, False, False, False, True, True, False]\n",
      "Mejor mes :\n",
      "[False, False, False, False, False, False, False, False, False, False, False, True]\n",
      "Peor mes :\n",
      "[False, False, True, False, False, False, False, False, False, False, False, False]\n"
     ]
    }
   ],
   "source": [
    "#Imprime los Resultados\n",
    "print (\"Ingresos :\") \n",
    "print (ingresos_1000)\n",
    "print (\"Gastos :\") \n",
    "print (gastos_1000)\n",
    "print (\"Utilidad :\")\n",
    "print (utilidad_1000)\n",
    "print (\"Utilidad Después de Impuestos :\")\n",
    "print (utilidad_despues_de_impuestos_1000)\n",
    "print (\"Margen de utilidad :\")\n",
    "print (margen_de_utilidad)\n",
    "print (\"Buenos meses :\")\n",
    "print (meses_buenos)\n",
    "print (\"Meses malos :\")\n",
    "print (meses_malos)\n",
    "print (\"Mejor mes :\")\n",
    "print (mejor_mes)\n",
    "print (\"Peor mes :\")\n",
    "print (peor_mes)"
   ]
  }
 ],
 "metadata": {
  "anaconda-cloud": {},
  "kernelspec": {
   "display_name": "Python 3 (ipykernel)",
   "language": "python",
   "name": "python3"
  },
  "language_info": {
   "codemirror_mode": {
    "name": "ipython",
    "version": 3
   },
   "file_extension": ".py",
   "mimetype": "text/x-python",
   "name": "python",
   "nbconvert_exporter": "python",
   "pygments_lexer": "ipython3",
   "version": "3.12.4"
  }
 },
 "nbformat": 4,
 "nbformat_minor": 4
}
