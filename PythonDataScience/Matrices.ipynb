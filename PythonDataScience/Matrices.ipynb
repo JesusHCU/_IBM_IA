{
 "cells": [
  {
   "cell_type": "code",
   "execution_count": 4,
   "id": "e1ad0085-aa73-4756-9ca8-c8f6e7b285ef",
   "metadata": {},
   "outputs": [],
   "source": [
    "#Matriz con datos de ejercicio dado\n",
    "\n",
    "import numpy as np\n",
    "temporadas = [\"2005\",\"2006\",\"2007\",\"2008\",\"2009\",\"2010\",\"2011\",\"2012\",\"2013\",\"2014\"]\n",
    "dic_temp = {\"2005\":0,\"2006\":1,\"2007\":2,\"2008\":3,\"2009\":4,\"2010\":5,\"2011\":6,\"2012\":7,\"2013\":8,\"2014\":9}\n",
    "\n",
    "#Jugadores\n",
    "jugadores = [\"KobeBryant\",\"JoeJohnson\",\"LeBronJames\",\"CarmeloAnthony\",\"DwightHoward\",\"ChrisBosh\",\"ChrisPaul\",\"KevinDurant\",\"DerrickRose\",\"DwayneWade\"]\n",
    "dic_jug = {\"KobeBryant\":0,\"JoeJohnson\":1,\"LeBronJames\":2,\"CarmeloAnthony\":3,\"DwightHoward\":4,\"ChrisBosh\":5,\"ChrisPaul\":6,\"KevinDurant\":7,\"DerrickRose\":8,\"DwayneWade\":9}\n",
    "\n",
    "#Sueldo\n",
    "KobeBryant_sueldo = [15946875,17718750,19490625,21262500,23034375,24806250,25244493,27849149,30453805,23500000]\n",
    "JoeJohnson_sueldo = [12000000,12744189,13488377,14232567,14976754,16324500,18038573,19752645,21466718,23180790]\n",
    "LeBronJames_sueldo = [4621800,5828090,13041250,14410581,15779912,14500000,16022500,17545000,19067500,20644400]\n",
    "CarmeloAnthony_sueldo = [3713640,4694041,13041250,14410581,15779912,17149243,18518574,19450000,22407474,22458000]\n",
    "DwightHoward_sueldo = [4493160,4806720,6061274,13758000,15202590,16647180,18091770,19536360,20513178,21436271]\n",
    "ChrisBosh_sueldo = [3348000,4235220,12455000,14410581,15779912,14500000,16022500,17545000,19067500,20644400]\n",
    "ChrisPaul_sueldo = [3144240,3380160,3615960,4574189,13520500,14940153,16359805,17779458,18668431,20068563]\n",
    "KevinDurant_sueldo = [0,0,4171200,4484040,4796880,6053663,15506632,16669630,17832627,18995624]\n",
    "DerrickRose_sueldo = [0,0,0,4822800,5184480,5546160,6993708,16402500,17632688,18862875]\n",
    "DwayneWade_sueldo = [3031920,3841443,13041250,14410581,15779912,14200000,15691000,17182000,18673000,15000000]\n",
    "#Matriz\n",
    "sueldo = np.array([KobeBryant_sueldo, JoeJohnson_sueldo, LeBronJames_sueldo, CarmeloAnthony_sueldo, DwightHoward_sueldo, ChrisBosh_sueldo, ChrisPaul_sueldo, KevinDurant_sueldo, DerrickRose_sueldo, DwayneWade_sueldo])\n"
   ]
  },
  {
   "cell_type": "code",
   "execution_count": 13,
   "id": "40202fd2-a912-4017-a021-c24630ec3794",
   "metadata": {},
   "outputs": [
    {
     "name": "stdout",
     "output_type": "stream",
     "text": [
      "[[15946875 17718750 19490625 21262500 23034375 24806250 25244493 27849149\n",
      "  30453805 23500000]\n",
      " [12000000 12744189 13488377 14232567 14976754 16324500 18038573 19752645\n",
      "  21466718 23180790]\n",
      " [ 4621800  5828090 13041250 14410581 15779912 14500000 16022500 17545000\n",
      "  19067500 20644400]\n",
      " [ 3713640  4694041 13041250 14410581 15779912 17149243 18518574 19450000\n",
      "  22407474 22458000]\n",
      " [ 4493160  4806720  6061274 13758000 15202590 16647180 18091770 19536360\n",
      "  20513178 21436271]\n",
      " [ 3348000  4235220 12455000 14410581 15779912 14500000 16022500 17545000\n",
      "  19067500 20644400]\n",
      " [ 3144240  3380160  3615960  4574189 13520500 14940153 16359805 17779458\n",
      "  18668431 20068563]\n",
      " [       0        0  4171200  4484040  4796880  6053663 15506632 16669630\n",
      "  17832627 18995624]\n",
      " [       0        0        0  4822800  5184480  5546160  6993708 16402500\n",
      "  17632688 18862875]\n",
      " [ 3031920  3841443 13041250 14410581 15779912 14200000 15691000 17182000\n",
      "  18673000 15000000]]\n"
     ]
    }
   ],
   "source": [
    "print(sueldo)"
   ]
  },
  {
   "cell_type": "code",
   "execution_count": 15,
   "id": "3202e590-c5d9-4c82-a409-dfced703041d",
   "metadata": {},
   "outputs": [
    {
     "data": {
      "text/plain": [
       "15946875"
      ]
     },
     "execution_count": 15,
     "metadata": {},
     "output_type": "execute_result"
    }
   ],
   "source": [
    "sueldo[0,0]"
   ]
  },
  {
   "cell_type": "code",
   "execution_count": 17,
   "id": "efb2992f-dd06-481b-9791-85a34895a9d3",
   "metadata": {},
   "outputs": [
    {
     "data": {
      "text/plain": [
       "array([15946875, 17718750, 19490625, 21262500, 23034375, 24806250,\n",
       "       25244493, 27849149, 30453805, 23500000])"
      ]
     },
     "execution_count": 17,
     "metadata": {},
     "output_type": "execute_result"
    }
   ],
   "source": [
    "sueldo [0,:]"
   ]
  },
  {
   "cell_type": "code",
   "execution_count": 19,
   "id": "9761f3ad-2a35-4298-8916-94cfd65c9887",
   "metadata": {},
   "outputs": [
    {
     "data": {
      "text/plain": [
       "array([15946875, 12000000,  4621800,  3713640,  4493160,  3348000,\n",
       "        3144240,        0,        0,  3031920])"
      ]
     },
     "execution_count": 19,
     "metadata": {},
     "output_type": "execute_result"
    }
   ],
   "source": [
    "sueldo[:,0]"
   ]
  },
  {
   "cell_type": "code",
   "execution_count": 23,
   "id": "1b0a90b6-ff78-4dd8-bc65-bcc98f33d02e",
   "metadata": {},
   "outputs": [
    {
     "name": "stdout",
     "output_type": "stream",
     "text": [
      "[ 0  1  2  3  4  5  6  7  8  9 10 11 12 13 14 15 16 17 18 19]\n"
     ]
    }
   ],
   "source": [
    "misdatos = np.arange(0,20)\n",
    "print(misdatos)"
   ]
  },
  {
   "cell_type": "code",
   "execution_count": 63,
   "id": "34b12b6a-7c42-4db6-90ea-7afd229da044",
   "metadata": {},
   "outputs": [
    {
     "data": {
      "text/plain": [
       "array([[ 0,  1,  2,  3],\n",
       "       [ 4,  5,  6,  7],\n",
       "       [ 8,  9, 10, 11],\n",
       "       [12, 13, 14, 15],\n",
       "       [16, 17, 18, 19]])"
      ]
     },
     "execution_count": 63,
     "metadata": {},
     "output_type": "execute_result"
    }
   ],
   "source": [
    "np.reshape(misdatos, (5,4))#default es opuesto a R"
   ]
  },
  {
   "cell_type": "code",
   "execution_count": 65,
   "id": "946d25da-2317-4cd4-a70e-4119c42bfa8c",
   "metadata": {},
   "outputs": [
    {
     "name": "stdout",
     "output_type": "stream",
     "text": [
      "[[ 0  1  2  3]\n",
      " [ 4  5  6  7]\n",
      " [ 8  9 10 11]\n",
      " [12 13 14 15]\n",
      " [16 17 18 19]]\n"
     ]
    },
    {
     "data": {
      "text/plain": [
       "18"
      ]
     },
     "execution_count": 65,
     "metadata": {},
     "output_type": "execute_result"
    }
   ],
   "source": [
    "matr1=np.reshape(misdatos, (5,4), order=\"C\")\n",
    "print(matr1)\n",
    "matr1[4,2]"
   ]
  },
  {
   "cell_type": "code",
   "execution_count": 75,
   "id": "e3ee0c67-f8c3-4c94-9dc7-902b617af3f9",
   "metadata": {},
   "outputs": [
    {
     "name": "stdout",
     "output_type": "stream",
     "text": [
      "[[ 0  5 10 15]\n",
      " [ 1  6 11 16]\n",
      " [ 2  7 12 17]\n",
      " [ 3  8 13 18]\n",
      " [ 4  9 14 19]]\n",
      "14\n",
      "18\n"
     ]
    }
   ],
   "source": [
    "matr2=np.reshape(misdatos, (5,4), order=\"F\")\n",
    "print(matr2)\n",
    "print(matr2[4,2])\n",
    "print(matr2[3,3])"
   ]
  },
  {
   "cell_type": "code",
   "execution_count": 81,
   "id": "a23e6c7e-b576-4c4e-9b76-d6783852945c",
   "metadata": {},
   "outputs": [
    {
     "data": {
      "text/plain": [
       "numpy.ndarray"
      ]
     },
     "execution_count": 81,
     "metadata": {},
     "output_type": "execute_result"
    }
   ],
   "source": [
    "#Concepto de POO\n",
    "#matr2=np.reshape(misdatos, (5,4), order=\"F\")\n",
    "#print(matr2)\n",
    "type(misdatos)"
   ]
  },
  {
   "cell_type": "code",
   "execution_count": 83,
   "id": "3cb8bf36-cefd-49b3-a53a-a928532f3621",
   "metadata": {},
   "outputs": [
    {
     "data": {
      "text/plain": [
       "array([[ 0,  1,  2,  3],\n",
       "       [ 4,  5,  6,  7],\n",
       "       [ 8,  9, 10, 11],\n",
       "       [12, 13, 14, 15],\n",
       "       [16, 17, 18, 19]])"
      ]
     },
     "execution_count": 83,
     "metadata": {},
     "output_type": "execute_result"
    }
   ],
   "source": [
    "misdatos.reshape(5,4)"
   ]
  },
  {
   "cell_type": "code",
   "execution_count": 89,
   "id": "7187c8ea-33b9-4c05-9e76-01e0bc4058c7",
   "metadata": {},
   "outputs": [],
   "source": [
    "misdatos[0]=100"
   ]
  },
  {
   "cell_type": "code",
   "execution_count": 91,
   "id": "da8aefbb-e898-4755-a8ef-09f21d4945e6",
   "metadata": {},
   "outputs": [
    {
     "data": {
      "text/plain": [
       "array([[100,   1,   2,   3],\n",
       "       [  4,   5,   6,   7],\n",
       "       [  8,   9,  10,  11],\n",
       "       [ 12,  13,  14,  15],\n",
       "       [ 16,  17,  18,  19]])"
      ]
     },
     "execution_count": 91,
     "metadata": {},
     "output_type": "execute_result"
    }
   ],
   "source": [
    "misdatos.reshape(5,4)"
   ]
  },
  {
   "cell_type": "code",
   "execution_count": 93,
   "id": "484b18f8-00b6-45d5-b08c-6deecb11a022",
   "metadata": {},
   "outputs": [
    {
     "data": {
      "text/plain": [
       "[['Soy', 'muy', 'feliz'], ['Que', 'gran', 'dia'], [1, 2, 3]]"
      ]
     },
     "execution_count": 93,
     "metadata": {},
     "output_type": "execute_result"
    }
   ],
   "source": [
    "r1 = [\"Soy\", \"muy\", \"feliz\"]\n",
    "r2 = [\"Que\", \"gran\", \"dia\"]\n",
    "r3 = [1, 2, 3]\n",
    "[r1, r2, r3]"
   ]
  },
  {
   "cell_type": "code",
   "execution_count": 95,
   "id": "faf70de6-1716-4c31-ba2e-4e4644e7aa67",
   "metadata": {},
   "outputs": [
    {
     "data": {
      "text/plain": [
       "array([['Soy', 'muy', 'feliz'],\n",
       "       ['Que', 'gran', 'dia'],\n",
       "       ['1', '2', '3']], dtype='<U11')"
      ]
     },
     "execution_count": 95,
     "metadata": {},
     "output_type": "execute_result"
    }
   ],
   "source": [
    "np.array([r1, r2, r3])"
   ]
  },
  {
   "cell_type": "code",
   "execution_count": 97,
   "id": "905b7593-0bd2-47f4-9a11-d1e7018321b9",
   "metadata": {},
   "outputs": [
    {
     "name": "stdout",
     "output_type": "stream",
     "text": [
      "[['Soy', 'muy', 'feliz'], ['Que', 'gran', 'dia'], [1, 2, 3]]\n"
     ]
    }
   ],
   "source": [
    "print([r1, r2, r3])"
   ]
  },
  {
   "cell_type": "code",
   "execution_count": 99,
   "id": "80fbdfdd-234a-46b5-ac89-9172aab5cfec",
   "metadata": {},
   "outputs": [
    {
     "data": {
      "text/plain": [
       "array([[15946875, 17718750, 19490625, 21262500, 23034375, 24806250,\n",
       "        25244493, 27849149, 30453805, 23500000],\n",
       "       [12000000, 12744189, 13488377, 14232567, 14976754, 16324500,\n",
       "        18038573, 19752645, 21466718, 23180790],\n",
       "       [ 4621800,  5828090, 13041250, 14410581, 15779912, 14500000,\n",
       "        16022500, 17545000, 19067500, 20644400],\n",
       "       [ 3713640,  4694041, 13041250, 14410581, 15779912, 17149243,\n",
       "        18518574, 19450000, 22407474, 22458000],\n",
       "       [ 4493160,  4806720,  6061274, 13758000, 15202590, 16647180,\n",
       "        18091770, 19536360, 20513178, 21436271],\n",
       "       [ 3348000,  4235220, 12455000, 14410581, 15779912, 14500000,\n",
       "        16022500, 17545000, 19067500, 20644400],\n",
       "       [ 3144240,  3380160,  3615960,  4574189, 13520500, 14940153,\n",
       "        16359805, 17779458, 18668431, 20068563],\n",
       "       [       0,        0,  4171200,  4484040,  4796880,  6053663,\n",
       "        15506632, 16669630, 17832627, 18995624],\n",
       "       [       0,        0,        0,  4822800,  5184480,  5546160,\n",
       "         6993708, 16402500, 17632688, 18862875],\n",
       "       [ 3031920,  3841443, 13041250, 14410581, 15779912, 14200000,\n",
       "        15691000, 17182000, 18673000, 15000000]])"
      ]
     },
     "execution_count": 99,
     "metadata": {},
     "output_type": "execute_result"
    }
   ],
   "source": [
    "sueldo"
   ]
  },
  {
   "cell_type": "code",
   "execution_count": 101,
   "id": "8979ee7b-cedc-403f-bb90-da46965a5f6e",
   "metadata": {},
   "outputs": [
    {
     "data": {
      "text/plain": [
       "array([ 4621800,  5828090, 13041250, 14410581, 15779912, 14500000,\n",
       "       16022500, 17545000, 19067500, 20644400])"
      ]
     },
     "execution_count": 101,
     "metadata": {},
     "output_type": "execute_result"
    }
   ],
   "source": [
    "sueldo[2]"
   ]
  },
  {
   "cell_type": "code",
   "execution_count": 107,
   "id": "4cf9e594-7599-42b2-a374-8c225385a470",
   "metadata": {},
   "outputs": [
    {
     "data": {
      "text/plain": [
       "20644400"
      ]
     },
     "execution_count": 107,
     "metadata": {},
     "output_type": "execute_result"
    }
   ],
   "source": [
    "sueldo[2][9]"
   ]
  },
  {
   "cell_type": "code",
   "execution_count": 118,
   "id": "a273b8fe-f465-45ef-a1cb-e900ab98e972",
   "metadata": {},
   "outputs": [
    {
     "data": {
      "text/plain": [
       "20644400"
      ]
     },
     "execution_count": 118,
     "metadata": {},
     "output_type": "execute_result"
    }
   ],
   "source": [
    "sueldo[2][-1]"
   ]
  },
  {
   "cell_type": "code",
   "execution_count": 124,
   "id": "6fde962e-15a7-4558-83fe-8938dddb4128",
   "metadata": {},
   "outputs": [
    {
     "data": {
      "text/plain": [
       "20644400"
      ]
     },
     "execution_count": 124,
     "metadata": {},
     "output_type": "execute_result"
    }
   ],
   "source": [
    "sueldo[2,-1]"
   ]
  },
  {
   "cell_type": "markdown",
   "id": "8bf49bdb-91c1-4f45-a1d3-4cc6b40234a7",
   "metadata": {},
   "source": [
    "---"
   ]
  },
  {
   "cell_type": "code",
   "execution_count": 127,
   "id": "f3e1c5f0-52e7-4afa-85b5-f5744d56d94e",
   "metadata": {},
   "outputs": [],
   "source": [
    "dicc1 = {\"clave1\":\"valor1\", 'clave2':'valor2', \"clave3\":\"valor3\"}"
   ]
  },
  {
   "cell_type": "code",
   "execution_count": 129,
   "id": "ef4ef291-507e-4f84-be01-a912783a3ae9",
   "metadata": {},
   "outputs": [
    {
     "data": {
      "text/plain": [
       "{'clave1': 'valor1', 'clave2': 'valor2', 'clave3': 'valor3'}"
      ]
     },
     "execution_count": 129,
     "metadata": {},
     "output_type": "execute_result"
    }
   ],
   "source": [
    "dicc1"
   ]
  },
  {
   "cell_type": "code",
   "execution_count": 131,
   "id": "9e330e28-c5f1-486a-b2d7-7642835c9c1c",
   "metadata": {},
   "outputs": [
    {
     "data": {
      "text/plain": [
       "'valor1'"
      ]
     },
     "execution_count": 131,
     "metadata": {},
     "output_type": "execute_result"
    }
   ],
   "source": [
    "dicc1[\"clave1\"]"
   ]
  },
  {
   "cell_type": "code",
   "execution_count": 139,
   "id": "eddc4f6f-ccfe-4a2c-900e-168eb478a36f",
   "metadata": {},
   "outputs": [],
   "source": [
    "dicc2 = {\"España\":\"valor de España\", 'ocupacion':True, \"poblacion\":300}"
   ]
  },
  {
   "cell_type": "code",
   "execution_count": 141,
   "id": "ef30419c-a776-4cc8-86df-4a9cebf75141",
   "metadata": {},
   "outputs": [
    {
     "data": {
      "text/plain": [
       "{'España': 'valor de España', 'ocupacion': True, 'poblacion': 300}"
      ]
     },
     "execution_count": 141,
     "metadata": {},
     "output_type": "execute_result"
    }
   ],
   "source": [
    "dicc2"
   ]
  },
  {
   "cell_type": "code",
   "execution_count": 8,
   "id": "43883e78-eb08-43e7-8fb1-7fda4e8936e1",
   "metadata": {},
   "outputs": [
    {
     "name": "stdout",
     "output_type": "stream",
     "text": [
      "[[15946875 17718750 19490625 21262500 23034375 24806250 25244493 27849149\n",
      "  30453805 23500000]\n",
      " [12000000 12744189 13488377 14232567 14976754 16324500 18038573 19752645\n",
      "  21466718 23180790]\n",
      " [ 4621800  5828090 13041250 14410581 15779912 14500000 16022500 17545000\n",
      "  19067500 20644400]\n",
      " [ 3713640  4694041 13041250 14410581 15779912 17149243 18518574 19450000\n",
      "  22407474 22458000]\n",
      " [ 4493160  4806720  6061274 13758000 15202590 16647180 18091770 19536360\n",
      "  20513178 21436271]\n",
      " [ 3348000  4235220 12455000 14410581 15779912 14500000 16022500 17545000\n",
      "  19067500 20644400]\n",
      " [ 3144240  3380160  3615960  4574189 13520500 14940153 16359805 17779458\n",
      "  18668431 20068563]\n",
      " [       0        0  4171200  4484040  4796880  6053663 15506632 16669630\n",
      "  17832627 18995624]\n",
      " [       0        0        0  4822800  5184480  5546160  6993708 16402500\n",
      "  17632688 18862875]\n",
      " [ 3031920  3841443 13041250 14410581 15779912 14200000 15691000 17182000\n",
      "  18673000 15000000]]\n"
     ]
    }
   ],
   "source": [
    "print(sueldo)"
   ]
  },
  {
   "cell_type": "code",
   "execution_count": 10,
   "id": "b77b041e-b0c9-4c0b-92a2-2cd035afaa6d",
   "metadata": {},
   "outputs": [
    {
     "data": {
      "text/plain": [
       "0"
      ]
     },
     "execution_count": 10,
     "metadata": {},
     "output_type": "execute_result"
    }
   ],
   "source": [
    "dic_jug[\"KobeBryant\"]"
   ]
  },
  {
   "cell_type": "code",
   "execution_count": null,
   "id": "354f3ec7-94f7-4ae0-8fcf-411744a6c143",
   "metadata": {},
   "outputs": [],
   "source": []
  }
 ],
 "metadata": {
  "kernelspec": {
   "display_name": "Python 3 (ipykernel)",
   "language": "python",
   "name": "python3"
  },
  "language_info": {
   "codemirror_mode": {
    "name": "ipython",
    "version": 3
   },
   "file_extension": ".py",
   "mimetype": "text/x-python",
   "name": "python",
   "nbconvert_exporter": "python",
   "pygments_lexer": "ipython3",
   "version": "3.12.4"
  }
 },
 "nbformat": 4,
 "nbformat_minor": 5
}
