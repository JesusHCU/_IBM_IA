{
 "cells": [
  {
   "cell_type": "code",
   "execution_count": 1,
   "id": "caa8a093-1cb8-4be3-a891-63313c422884",
   "metadata": {},
   "outputs": [],
   "source": [
    "A = 5"
   ]
  },
  {
   "cell_type": "code",
   "execution_count": 3,
   "id": "7089f3f0-be3e-463d-b70f-66eaa3fe9662",
   "metadata": {},
   "outputs": [],
   "source": [
    "B = 10"
   ]
  },
  {
   "cell_type": "code",
   "execution_count": 5,
   "id": "d0a97195-8b97-4059-8f39-126b6e6d317a",
   "metadata": {},
   "outputs": [],
   "source": [
    "#Aritmetica"
   ]
  },
  {
   "cell_type": "code",
   "execution_count": 7,
   "id": "a7abf9b5-74e9-4506-a466-9cf6bb48411a",
   "metadata": {},
   "outputs": [],
   "source": [
    "C = A+B"
   ]
  },
  {
   "cell_type": "code",
   "execution_count": 9,
   "id": "baa70f84-8156-457a-adc7-b2bb89ca7dab",
   "metadata": {},
   "outputs": [
    {
     "data": {
      "text/plain": [
       "15"
      ]
     },
     "execution_count": 9,
     "metadata": {},
     "output_type": "execute_result"
    }
   ],
   "source": [
    "C"
   ]
  },
  {
   "cell_type": "code",
   "execution_count": 11,
   "id": "d1d04dfd-93c1-41bd-bba6-ea431d4eb8fd",
   "metadata": {},
   "outputs": [
    {
     "name": "stdout",
     "output_type": "stream",
     "text": [
      "15\n"
     ]
    }
   ],
   "source": [
    "print(C)"
   ]
  },
  {
   "cell_type": "code",
   "execution_count": 13,
   "id": "3e648b08-265f-4ef6-ad04-3a1decb3e811",
   "metadata": {},
   "outputs": [],
   "source": [
    "D = A/B"
   ]
  },
  {
   "cell_type": "code",
   "execution_count": 15,
   "id": "6c621406-9060-473d-815e-78e90da6afc1",
   "metadata": {},
   "outputs": [
    {
     "name": "stdout",
     "output_type": "stream",
     "text": [
      "0.5\n"
     ]
    }
   ],
   "source": [
    "print (D)"
   ]
  },
  {
   "cell_type": "code",
   "execution_count": 17,
   "id": "838ad88a-5921-442a-9bb5-b1e7ac71c111",
   "metadata": {},
   "outputs": [
    {
     "data": {
      "text/plain": [
       "0.5"
      ]
     },
     "execution_count": 17,
     "metadata": {},
     "output_type": "execute_result"
    }
   ],
   "source": [
    "#Solo monstrara el ultimo elemento\n",
    "A\n",
    "B\n",
    "C\n",
    "D"
   ]
  },
  {
   "cell_type": "code",
   "execution_count": 19,
   "id": "ed9063c2-d543-4f1f-b435-16dad79d59a8",
   "metadata": {},
   "outputs": [
    {
     "name": "stdout",
     "output_type": "stream",
     "text": [
      "5\n",
      "10\n",
      "15\n",
      "0.5\n"
     ]
    }
   ],
   "source": [
    "print(A)\n",
    "print(B)\n",
    "print(C)\n",
    "print(D)"
   ]
  },
  {
   "cell_type": "code",
   "execution_count": 49,
   "id": "0be2d582-3970-407a-a968-cafef02491e8",
   "metadata": {},
   "outputs": [],
   "source": [
    "#Importamos biblioteca\n",
    "import math"
   ]
  },
  {
   "cell_type": "code",
   "execution_count": 51,
   "id": "a66e7c91-6535-4ec2-854c-3f5f0b4df5f2",
   "metadata": {},
   "outputs": [
    {
     "name": "stdout",
     "output_type": "stream",
     "text": [
      "12.0\n"
     ]
    }
   ],
   "source": [
    "#Raiz Cuadrada math.sqrt\n",
    "E=144\n",
    "F=math.sqrt(E)\n",
    "print(F)"
   ]
  },
  {
   "cell_type": "code",
   "execution_count": 53,
   "id": "2364125c-384f-4754-95f9-301abbd7bb30",
   "metadata": {},
   "outputs": [
    {
     "name": "stdout",
     "output_type": "stream",
     "text": [
      "11.045361017187261\n"
     ]
    }
   ],
   "source": [
    "#Raiz Cuadrada math.sqrt\n",
    "H=122\n",
    "I=math.sqrt(H)\n",
    "print(I)"
   ]
  },
  {
   "cell_type": "code",
   "execution_count": 55,
   "id": "c0eb0b97-1a2b-4860-a98e-1b9635dc91d6",
   "metadata": {},
   "outputs": [
    {
     "name": "stdout",
     "output_type": "stream",
     "text": [
      "10\n"
     ]
    }
   ],
   "source": [
    "#Funcion round\n",
    "J=10.5\n",
    "K=round(J)\n",
    "print(K)"
   ]
  },
  {
   "cell_type": "code",
   "execution_count": 57,
   "id": "224fc3d9-b345-4c19-83b2-45ef05d7df7b",
   "metadata": {},
   "outputs": [
    {
     "name": "stdout",
     "output_type": "stream",
     "text": [
      "11\n",
      "11\n"
     ]
    }
   ],
   "source": [
    "#Funcion de funcion\n",
    "L=round(math.sqrt(H))\n",
    "M=round(I)\n",
    "print(L)\n",
    "print(M)"
   ]
  },
  {
   "cell_type": "code",
   "execution_count": 8,
   "id": "9bac365f-297e-4a6f-a447-03d0a8c58eff",
   "metadata": {},
   "outputs": [
    {
     "name": "stdout",
     "output_type": "stream",
     "text": [
      "Hola Angel\n"
     ]
    }
   ],
   "source": [
    "saludo ='Hola'\n",
    "nombre = \"Angel\"\n",
    "mensaje = saludo + \" \" + nombre\n",
    "print (mensaje)"
   ]
  }
 ],
 "metadata": {
  "kernelspec": {
   "display_name": "Python 3 (ipykernel)",
   "language": "python",
   "name": "python3"
  },
  "language_info": {
   "codemirror_mode": {
    "name": "ipython",
    "version": 3
   },
   "file_extension": ".py",
   "mimetype": "text/x-python",
   "name": "python",
   "nbconvert_exporter": "python",
   "pygments_lexer": "ipython3",
   "version": "3.12.4"
  }
 },
 "nbformat": 4,
 "nbformat_minor": 5
}
